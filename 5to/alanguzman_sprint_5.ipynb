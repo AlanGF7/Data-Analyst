{
 "cells": [
  {
   "cell_type": "markdown",
   "metadata": {},
   "source": [
    "**¡Hola David!** 😊\n",
    "\n",
    "Mi nombre es **Alejandro Castellanos** y hoy tengo el placer de ser el revisor de tu proyecto.\n",
    "\n",
    "Voy a revisar todo tu código con detalle, buscando tanto los puntos fuertes como aquellos en los que podrías mejorar. Te dejaré comentarios a lo largo del notebook, destacando lo que has hecho bien y sugiriendo ajustes donde sea necesario. Si encuentro algún error, no te preocupes, te lo haré saber de forma clara y te daré información útil para que puedas corregirlo en la próxima iteración. Si en algún punto tienes comentarios, siéntete libre de dejarlos también.\n",
    "\n",
    "\n",
    "Encontrarás mis comentarios específicos dentro de cajas verdes, amarillas o rojas, es muy importante que no muevas, modifiques o borres mis comentarios, con el fin de tener un seguimiento adecuado de tu proceso:\n",
    "\n",
    "\n",
    "<div class=\"alert alert-block alert-success\">\n",
    "<b>Comentario del revisor</b> <a class=“tocSkip”></a>\n",
    "Si todo está perfecto.\n",
    "</div>\n",
    "\n",
    "<div class=\"alert alert-block alert-warning\">\n",
    "<b>Comentario del revisor</b> <a class=“tocSkip”></a>\n",
    "Si tu código está bien pero se puede mejorar o hay algún detalle que le hace falta.\n",
    "</div>\n",
    "\n",
    "<div class=\"alert alert-block alert-danger\">\n",
    "<b>Comentario del revisor</b> <a class=“tocSkip”></a>\n",
    "Si de pronto hace falta algo o existe algún problema con tu código o conclusiones.\n",
    "</div>\n",
    "\n",
    "Puedes responderme de esta forma:\n",
    "<div class=\"alert alert-block alert-info\">\n",
    "<b>Respuesta del estudiante</b> <a class=“tocSkip”></a>\n",
    "</div>\n",
    "\n",
    "A continuación te dejaré un comentario general con mi valoración del proyecto. **¡Mi objetivo es que sigas aprendiendo y mejorando con cada paso!**"
   ]
  },
  {
   "cell_type": "markdown",
   "metadata": {},
   "source": [
    "---"
   ]
  },
  {
   "cell_type": "markdown",
   "metadata": {},
   "source": [
    "<div class=\"alert alert-block alert-warning\">\n",
    "<b>Comentario General del revisor (1ra Iteración)</b> <a class=“tocSkip”></a>\n",
    "\n",
    "Alan has realizado un análisis exploratorio de datos (EDA) muy cuidadoso, preparando meticulosamente la información para garantizar un estudio riguroso, lo cual demuestra tu compromiso con la calidad metodológica. En el aspecto de visualización, has empleado herramientas que permiten comprender el comportamiento de consumo de los usuarios en diferentes planes, mostrando habilidad para representar datos complejos. Respecto a las pruebas de hipótesis, has mostrado un dominio técnico significativo, haciendo una comparativa correcta entre subconjuntos de datos. Identifico que necesitas realizar algunos ajustes en el cálculo del consumo de minutos e internet para determinar con mayor precisión el cobro mensual por usuario, lo cual es fundamental para la validez de tus conclusiones. Estoy seguro que podrás hacer estos ajustes de fácilmente. Estaré atento a tu próxima iteración 👀.\n",
    "\n",
    "</div>"
   ]
  },
  {
   "cell_type": "markdown",
   "metadata": {},
   "source": [
    "<div class=\"alert alert-block alert-success\">\n",
    "<b>Comentario General del revisor (2da Iteración)</b> <a class=“tocSkip”></a>\n",
    "\n",
    "¡Alan excelente trabajo con los ajustes! Tu proyecto ahora cumple con todos los objetivos propuestos. Estoy seguro de que lo que aprendiste aquí te será muy útil en futuros proyectos. ¡Éxito en tu próximo sprint! 🚀\n",
    "\n",
    "*Estado del Proyecto:* **Aprobado**\n",
    "\n",
    "</div>"
   ]
  },
  {
   "cell_type": "markdown",
   "metadata": {},
   "source": [
    "---"
   ]
  },
  {
   "cell_type": "markdown",
   "metadata": {
    "id": "3rYiDeEH0q0f"
   },
   "source": [
    "# ¿Cuál es la mejor tarifa?\n",
    "\n",
    "Trabajas como analista para el operador de telecomunicaciones Megaline. La empresa ofrece a sus clientes dos tarifas de prepago, Surf y Ultimate. El departamento comercial quiere saber cuál de las tarifas genera más ingresos para poder ajustar el presupuesto de publicidad.\n",
    "\n",
    "Vas a realizar un análisis preliminar de las tarifas basado en una selección de clientes relativamente pequeña. Tendrás los datos de 500 clientes de Megaline: quiénes son los clientes, de dónde son, qué tarifa usan, así como la cantidad de llamadas que hicieron y los mensajes de texto que enviaron en 2018. Tu trabajo es analizar el comportamiento de los clientes y determinar qué tarifa de prepago genera más ingresos."
   ]
  },
  {
   "cell_type": "markdown",
   "metadata": {
    "id": "VNddPNRQ0q0w"
   },
   "source": [
    "[Te proporcionamos algunos comentarios para orientarte mientras completas este proyecto. Pero debes asegurarte de eliminar todos los comentarios entre corchetes antes de entregar tu proyecto.]\n",
    "\n",
    "[Antes de sumergirte en el análisis de datos, explica por tu propia cuenta el propósito del proyecto y las acciones que planeas realizar.]\n",
    "\n",
    "[Ten en cuenta que estudiar, modificar y analizar datos es un proceso iterativo. Es normal volver a los pasos anteriores y corregirlos/ampliarlos para permitir nuevos pasos.]"
   ]
  },
  {
   "cell_type": "markdown",
   "metadata": {
    "id": "MQi4IPy70q0y"
   },
   "source": [
    "## Inicialización"
   ]
  },
  {
   "cell_type": "code",
   "execution_count": 1,
   "metadata": {
    "id": "MtYIuBxu0q0z"
   },
   "outputs": [],
   "source": [
    "# Cargamos todas las librerías\n",
    "import pandas as pd\n",
    "import numpy as np\n",
    "import seaborn as sns\n",
    "import matplotlib.pyplot as plt"
   ]
  },
  {
   "cell_type": "markdown",
   "metadata": {
    "id": "4ysWWC5i0q00"
   },
   "source": [
    "## Cargar datos"
   ]
  },
  {
   "cell_type": "code",
   "execution_count": 2,
   "metadata": {
    "id": "CCqPW7rS0q01"
   },
   "outputs": [],
   "source": [
    "# Carga los archivos de datos en diferentes DataFrames\n",
    "megaline_calls = pd.read_csv(\"/datasets/megaline_calls.csv\")\n",
    "megaline_internet = pd.read_csv(\"/datasets/megaline_internet.csv\")\n",
    "megaline_messages = pd.read_csv(\"/datasets/megaline_messages.csv\")\n",
    "megaline_plans = pd.read_csv(\"/datasets/megaline_plans.csv\")\n",
    "megaline_users = pd.read_csv(\"/datasets/megaline_users.csv\")\n"
   ]
  },
  {
   "cell_type": "markdown",
   "metadata": {
    "id": "69qqoJ3r0q01"
   },
   "source": [
    "## Preparar los datos"
   ]
  },
  {
   "cell_type": "markdown",
   "metadata": {
    "id": "vUuZw80S0q01"
   },
   "source": [
    "[Los datos para este proyecto se dividen en varias tablas. Explora cada una para tener una comprensión inicial de los datos. Si es necesario, haz las correcciones requeridas en cada tabla.]"
   ]
  },
  {
   "cell_type": "markdown",
   "metadata": {
    "id": "ohBhimvH0q01"
   },
   "source": [
    "## Tarifas"
   ]
  },
  {
   "cell_type": "code",
   "execution_count": 3,
   "metadata": {
    "id": "GptqP3Q40q02"
   },
   "outputs": [
    {
     "name": "stdout",
     "output_type": "stream",
     "text": [
      "<class 'pandas.core.frame.DataFrame'>\n",
      "RangeIndex: 2 entries, 0 to 1\n",
      "Data columns (total 8 columns):\n",
      " #   Column                 Non-Null Count  Dtype  \n",
      "---  ------                 --------------  -----  \n",
      " 0   messages_included      2 non-null      int64  \n",
      " 1   mb_per_month_included  2 non-null      int64  \n",
      " 2   minutes_included       2 non-null      int64  \n",
      " 3   usd_monthly_pay        2 non-null      int64  \n",
      " 4   usd_per_gb             2 non-null      int64  \n",
      " 5   usd_per_message        2 non-null      float64\n",
      " 6   usd_per_minute         2 non-null      float64\n",
      " 7   plan_name              2 non-null      object \n",
      "dtypes: float64(2), int64(5), object(1)\n",
      "memory usage: 256.0+ bytes\n"
     ]
    }
   ],
   "source": [
    "# Imprime la información general/resumida sobre el DataFrame de las tarifas\n",
    "megaline_plans.info()"
   ]
  },
  {
   "cell_type": "code",
   "execution_count": 4,
   "metadata": {
    "id": "64xzjwL70q02"
   },
   "outputs": [
    {
     "data": {
      "text/html": [
       "<div>\n",
       "<style scoped>\n",
       "    .dataframe tbody tr th:only-of-type {\n",
       "        vertical-align: middle;\n",
       "    }\n",
       "\n",
       "    .dataframe tbody tr th {\n",
       "        vertical-align: top;\n",
       "    }\n",
       "\n",
       "    .dataframe thead th {\n",
       "        text-align: right;\n",
       "    }\n",
       "</style>\n",
       "<table border=\"1\" class=\"dataframe\">\n",
       "  <thead>\n",
       "    <tr style=\"text-align: right;\">\n",
       "      <th></th>\n",
       "      <th>messages_included</th>\n",
       "      <th>mb_per_month_included</th>\n",
       "      <th>minutes_included</th>\n",
       "      <th>usd_monthly_pay</th>\n",
       "      <th>usd_per_gb</th>\n",
       "      <th>usd_per_message</th>\n",
       "      <th>usd_per_minute</th>\n",
       "      <th>plan_name</th>\n",
       "    </tr>\n",
       "  </thead>\n",
       "  <tbody>\n",
       "    <tr>\n",
       "      <th>0</th>\n",
       "      <td>50</td>\n",
       "      <td>15360</td>\n",
       "      <td>500</td>\n",
       "      <td>20</td>\n",
       "      <td>10</td>\n",
       "      <td>0.03</td>\n",
       "      <td>0.03</td>\n",
       "      <td>surf</td>\n",
       "    </tr>\n",
       "    <tr>\n",
       "      <th>1</th>\n",
       "      <td>1000</td>\n",
       "      <td>30720</td>\n",
       "      <td>3000</td>\n",
       "      <td>70</td>\n",
       "      <td>7</td>\n",
       "      <td>0.01</td>\n",
       "      <td>0.01</td>\n",
       "      <td>ultimate</td>\n",
       "    </tr>\n",
       "  </tbody>\n",
       "</table>\n",
       "</div>"
      ],
      "text/plain": [
       "   messages_included  mb_per_month_included  minutes_included  \\\n",
       "0                 50                  15360               500   \n",
       "1               1000                  30720              3000   \n",
       "\n",
       "   usd_monthly_pay  usd_per_gb  usd_per_message  usd_per_minute plan_name  \n",
       "0               20          10             0.03            0.03      surf  \n",
       "1               70           7             0.01            0.01  ultimate  "
      ]
     },
     "execution_count": 4,
     "metadata": {},
     "output_type": "execute_result"
    }
   ],
   "source": [
    "# Imprime una muestra de los datos para las tarifas\n",
    "megaline_plans.head()"
   ]
  },
  {
   "cell_type": "markdown",
   "metadata": {
    "id": "mEc_3_hs0q02"
   },
   "source": [
    "[Describe lo que ves y observas en la información general y en la muestra de datos impresa para el precio de datos anterior. ¿Hay algún problema (tipos de datos no adecuados, datos ausentes, etc.) que pudieran necesitar investigación y cambios adicionales? ¿Cómo se puede arreglar?]"
   ]
  },
  {
   "cell_type": "markdown",
   "metadata": {},
   "source": [
    "### ¿Hay algún problema (tipos de datos no adecuados, datos ausentes, etc.) que pudieran necesitar investigación y cambios adicionales?\n",
    "Al momento no, solo existen 2 datos y en todas las columnas hay valores no nulos. Inclusive, los tipos de datos para las columnas parecen ser los correos (Enteros, flotantes y texto). "
   ]
  },
  {
   "cell_type": "markdown",
   "metadata": {
    "id": "R3C05i1l0q03"
   },
   "source": [
    "## Corregir datos"
   ]
  },
  {
   "cell_type": "markdown",
   "metadata": {
    "id": "bIi8StZI0q03"
   },
   "source": [
    "[Corrige los problemas obvios con los datos basándote en las observaciones iniciales.]"
   ]
  },
  {
   "cell_type": "markdown",
   "metadata": {
    "id": "Y7SVmjGn0q03"
   },
   "source": [
    "#### Hasta el momento, no se ven problemas."
   ]
  },
  {
   "cell_type": "markdown",
   "metadata": {
    "id": "LJir7bml0q03"
   },
   "source": [
    "## Enriquecer los datos"
   ]
  },
  {
   "cell_type": "markdown",
   "metadata": {
    "id": "eqADpCfg0q04"
   },
   "source": [
    "[Agrega factores adicionales a los datos si crees que pudieran ser útiles.]"
   ]
  },
  {
   "cell_type": "markdown",
   "metadata": {
    "id": "gfcIEuXV0q04"
   },
   "source": [
    "#### No parece haber la necesidad de agregar factores adicionales."
   ]
  },
  {
   "cell_type": "markdown",
   "metadata": {
    "id": "1n2X6WXf0q04"
   },
   "source": [
    "## Usuarios/as"
   ]
  },
  {
   "cell_type": "code",
   "execution_count": 5,
   "metadata": {
    "id": "2NgjWFqx0q05"
   },
   "outputs": [
    {
     "name": "stdout",
     "output_type": "stream",
     "text": [
      "<class 'pandas.core.frame.DataFrame'>\n",
      "RangeIndex: 500 entries, 0 to 499\n",
      "Data columns (total 8 columns):\n",
      " #   Column      Non-Null Count  Dtype \n",
      "---  ------      --------------  ----- \n",
      " 0   user_id     500 non-null    int64 \n",
      " 1   first_name  500 non-null    object\n",
      " 2   last_name   500 non-null    object\n",
      " 3   age         500 non-null    int64 \n",
      " 4   city        500 non-null    object\n",
      " 5   reg_date    500 non-null    object\n",
      " 6   plan        500 non-null    object\n",
      " 7   churn_date  34 non-null     object\n",
      "dtypes: int64(2), object(6)\n",
      "memory usage: 31.4+ KB\n"
     ]
    }
   ],
   "source": [
    "# Imprime la información general/resumida sobre el DataFrame de usuarios\n",
    "megaline_users.info()"
   ]
  },
  {
   "cell_type": "code",
   "execution_count": 6,
   "metadata": {
    "id": "1IN1L9uh0q05"
   },
   "outputs": [
    {
     "data": {
      "text/html": [
       "<div>\n",
       "<style scoped>\n",
       "    .dataframe tbody tr th:only-of-type {\n",
       "        vertical-align: middle;\n",
       "    }\n",
       "\n",
       "    .dataframe tbody tr th {\n",
       "        vertical-align: top;\n",
       "    }\n",
       "\n",
       "    .dataframe thead th {\n",
       "        text-align: right;\n",
       "    }\n",
       "</style>\n",
       "<table border=\"1\" class=\"dataframe\">\n",
       "  <thead>\n",
       "    <tr style=\"text-align: right;\">\n",
       "      <th></th>\n",
       "      <th>user_id</th>\n",
       "      <th>first_name</th>\n",
       "      <th>last_name</th>\n",
       "      <th>age</th>\n",
       "      <th>city</th>\n",
       "      <th>reg_date</th>\n",
       "      <th>plan</th>\n",
       "      <th>churn_date</th>\n",
       "    </tr>\n",
       "  </thead>\n",
       "  <tbody>\n",
       "    <tr>\n",
       "      <th>402</th>\n",
       "      <td>1402</td>\n",
       "      <td>Jesus</td>\n",
       "      <td>Berry</td>\n",
       "      <td>25</td>\n",
       "      <td>New York-Newark-Jersey City, NY-NJ-PA MSA</td>\n",
       "      <td>2018-06-11</td>\n",
       "      <td>surf</td>\n",
       "      <td>2018-12-26</td>\n",
       "    </tr>\n",
       "    <tr>\n",
       "      <th>81</th>\n",
       "      <td>1081</td>\n",
       "      <td>Grayce</td>\n",
       "      <td>Sears</td>\n",
       "      <td>44</td>\n",
       "      <td>Dallas-Fort Worth-Arlington, TX MSA</td>\n",
       "      <td>2018-04-27</td>\n",
       "      <td>surf</td>\n",
       "      <td>NaN</td>\n",
       "    </tr>\n",
       "    <tr>\n",
       "      <th>333</th>\n",
       "      <td>1333</td>\n",
       "      <td>Macy</td>\n",
       "      <td>David</td>\n",
       "      <td>57</td>\n",
       "      <td>Los Angeles-Long Beach-Anaheim, CA MSA</td>\n",
       "      <td>2018-11-24</td>\n",
       "      <td>ultimate</td>\n",
       "      <td>NaN</td>\n",
       "    </tr>\n",
       "    <tr>\n",
       "      <th>377</th>\n",
       "      <td>1377</td>\n",
       "      <td>Vallie</td>\n",
       "      <td>Conway</td>\n",
       "      <td>18</td>\n",
       "      <td>Rochester, NY MSA</td>\n",
       "      <td>2018-03-27</td>\n",
       "      <td>surf</td>\n",
       "      <td>NaN</td>\n",
       "    </tr>\n",
       "    <tr>\n",
       "      <th>361</th>\n",
       "      <td>1361</td>\n",
       "      <td>Jacelyn</td>\n",
       "      <td>Hoffman</td>\n",
       "      <td>45</td>\n",
       "      <td>Birmingham-Hoover, AL MSA</td>\n",
       "      <td>2018-04-14</td>\n",
       "      <td>surf</td>\n",
       "      <td>NaN</td>\n",
       "    </tr>\n",
       "    <tr>\n",
       "      <th>389</th>\n",
       "      <td>1389</td>\n",
       "      <td>Earleen</td>\n",
       "      <td>Glass</td>\n",
       "      <td>18</td>\n",
       "      <td>Miami-Fort Lauderdale-West Palm Beach, FL MSA</td>\n",
       "      <td>2018-05-06</td>\n",
       "      <td>ultimate</td>\n",
       "      <td>NaN</td>\n",
       "    </tr>\n",
       "    <tr>\n",
       "      <th>357</th>\n",
       "      <td>1357</td>\n",
       "      <td>Ria</td>\n",
       "      <td>Beach</td>\n",
       "      <td>61</td>\n",
       "      <td>Baton Rouge, LA MSA</td>\n",
       "      <td>2018-05-30</td>\n",
       "      <td>surf</td>\n",
       "      <td>NaN</td>\n",
       "    </tr>\n",
       "    <tr>\n",
       "      <th>75</th>\n",
       "      <td>1075</td>\n",
       "      <td>Salena</td>\n",
       "      <td>Bates</td>\n",
       "      <td>35</td>\n",
       "      <td>Philadelphia-Camden-Wilmington, PA-NJ-DE-MD MSA</td>\n",
       "      <td>2018-08-06</td>\n",
       "      <td>surf</td>\n",
       "      <td>NaN</td>\n",
       "    </tr>\n",
       "    <tr>\n",
       "      <th>428</th>\n",
       "      <td>1428</td>\n",
       "      <td>Asuncion</td>\n",
       "      <td>Conrad</td>\n",
       "      <td>66</td>\n",
       "      <td>Phoenix-Mesa-Chandler, AZ MSA</td>\n",
       "      <td>2018-10-23</td>\n",
       "      <td>surf</td>\n",
       "      <td>NaN</td>\n",
       "    </tr>\n",
       "    <tr>\n",
       "      <th>376</th>\n",
       "      <td>1376</td>\n",
       "      <td>Mika</td>\n",
       "      <td>Williams</td>\n",
       "      <td>58</td>\n",
       "      <td>Columbia, SC MSA</td>\n",
       "      <td>2018-04-16</td>\n",
       "      <td>ultimate</td>\n",
       "      <td>NaN</td>\n",
       "    </tr>\n",
       "    <tr>\n",
       "      <th>227</th>\n",
       "      <td>1227</td>\n",
       "      <td>Vanesa</td>\n",
       "      <td>Willis</td>\n",
       "      <td>29</td>\n",
       "      <td>Dallas-Fort Worth-Arlington, TX MSA</td>\n",
       "      <td>2018-01-17</td>\n",
       "      <td>surf</td>\n",
       "      <td>NaN</td>\n",
       "    </tr>\n",
       "    <tr>\n",
       "      <th>283</th>\n",
       "      <td>1283</td>\n",
       "      <td>Alan</td>\n",
       "      <td>Burgess</td>\n",
       "      <td>38</td>\n",
       "      <td>Charleston-North Charleston, SC MSA</td>\n",
       "      <td>2018-06-16</td>\n",
       "      <td>ultimate</td>\n",
       "      <td>NaN</td>\n",
       "    </tr>\n",
       "    <tr>\n",
       "      <th>43</th>\n",
       "      <td>1043</td>\n",
       "      <td>Carlos</td>\n",
       "      <td>Hinton</td>\n",
       "      <td>42</td>\n",
       "      <td>New York-Newark-Jersey City, NY-NJ-PA MSA</td>\n",
       "      <td>2018-06-20</td>\n",
       "      <td>ultimate</td>\n",
       "      <td>NaN</td>\n",
       "    </tr>\n",
       "    <tr>\n",
       "      <th>420</th>\n",
       "      <td>1420</td>\n",
       "      <td>Season</td>\n",
       "      <td>Hardy</td>\n",
       "      <td>27</td>\n",
       "      <td>San Francisco-Oakland-Berkeley, CA MSA</td>\n",
       "      <td>2018-02-22</td>\n",
       "      <td>ultimate</td>\n",
       "      <td>NaN</td>\n",
       "    </tr>\n",
       "    <tr>\n",
       "      <th>258</th>\n",
       "      <td>1258</td>\n",
       "      <td>Kai</td>\n",
       "      <td>Russell</td>\n",
       "      <td>39</td>\n",
       "      <td>Chicago-Naperville-Elgin, IL-IN-WI MSA</td>\n",
       "      <td>2018-07-12</td>\n",
       "      <td>surf</td>\n",
       "      <td>NaN</td>\n",
       "    </tr>\n",
       "  </tbody>\n",
       "</table>\n",
       "</div>"
      ],
      "text/plain": [
       "     user_id first_name last_name  age  \\\n",
       "402     1402      Jesus     Berry   25   \n",
       "81      1081     Grayce     Sears   44   \n",
       "333     1333       Macy     David   57   \n",
       "377     1377     Vallie    Conway   18   \n",
       "361     1361    Jacelyn   Hoffman   45   \n",
       "389     1389    Earleen     Glass   18   \n",
       "357     1357        Ria     Beach   61   \n",
       "75      1075     Salena     Bates   35   \n",
       "428     1428   Asuncion    Conrad   66   \n",
       "376     1376       Mika  Williams   58   \n",
       "227     1227     Vanesa    Willis   29   \n",
       "283     1283       Alan   Burgess   38   \n",
       "43      1043     Carlos    Hinton   42   \n",
       "420     1420     Season     Hardy   27   \n",
       "258     1258        Kai   Russell   39   \n",
       "\n",
       "                                                city    reg_date      plan  \\\n",
       "402        New York-Newark-Jersey City, NY-NJ-PA MSA  2018-06-11      surf   \n",
       "81               Dallas-Fort Worth-Arlington, TX MSA  2018-04-27      surf   \n",
       "333           Los Angeles-Long Beach-Anaheim, CA MSA  2018-11-24  ultimate   \n",
       "377                                Rochester, NY MSA  2018-03-27      surf   \n",
       "361                        Birmingham-Hoover, AL MSA  2018-04-14      surf   \n",
       "389    Miami-Fort Lauderdale-West Palm Beach, FL MSA  2018-05-06  ultimate   \n",
       "357                              Baton Rouge, LA MSA  2018-05-30      surf   \n",
       "75   Philadelphia-Camden-Wilmington, PA-NJ-DE-MD MSA  2018-08-06      surf   \n",
       "428                    Phoenix-Mesa-Chandler, AZ MSA  2018-10-23      surf   \n",
       "376                                 Columbia, SC MSA  2018-04-16  ultimate   \n",
       "227              Dallas-Fort Worth-Arlington, TX MSA  2018-01-17      surf   \n",
       "283              Charleston-North Charleston, SC MSA  2018-06-16  ultimate   \n",
       "43         New York-Newark-Jersey City, NY-NJ-PA MSA  2018-06-20  ultimate   \n",
       "420           San Francisco-Oakland-Berkeley, CA MSA  2018-02-22  ultimate   \n",
       "258           Chicago-Naperville-Elgin, IL-IN-WI MSA  2018-07-12      surf   \n",
       "\n",
       "     churn_date  \n",
       "402  2018-12-26  \n",
       "81          NaN  \n",
       "333         NaN  \n",
       "377         NaN  \n",
       "361         NaN  \n",
       "389         NaN  \n",
       "357         NaN  \n",
       "75          NaN  \n",
       "428         NaN  \n",
       "376         NaN  \n",
       "227         NaN  \n",
       "283         NaN  \n",
       "43          NaN  \n",
       "420         NaN  \n",
       "258         NaN  "
      ]
     },
     "execution_count": 6,
     "metadata": {},
     "output_type": "execute_result"
    }
   ],
   "source": [
    "# Imprime una muestra de datos para usuarios\n",
    "megaline_users.sample(15)"
   ]
  },
  {
   "cell_type": "markdown",
   "metadata": {
    "id": "dCZoUq4f0q06"
   },
   "source": [
    "[Describe lo que ves y observas en la información general y en la muestra de datos impresa para el precio de datos anterior. ¿Hay algún problema (tipos de datos no adecuados, datos ausentes, etc.) que pudieran necesitar investigación y cambios adicionales? ¿Cómo se puede arreglar?]"
   ]
  },
  {
   "cell_type": "markdown",
   "metadata": {},
   "source": [
    "### ¿Hay algún problema (tipos de datos no adecuados, datos ausentes, etc.) que pudieran necesitar investigación y cambios adicionales?\n",
    "\n",
    "Hasta el momento, los cambios que serían pertinentes son en las columnas reg_date y churn_date, que deberían ser de tipo datetime. Principalmente porque nos pueden brindar información en la duración de las llamadas, qué cliente hizo más horas o minutos, entre otros. \n",
    "Otro dato importante a tener en cuenta es que churn_date tiene datos NaN, lo cual nos puede generar problemas al realizar el análisis. \n"
   ]
  },
  {
   "cell_type": "markdown",
   "metadata": {
    "id": "BX5FQh_I0q06"
   },
   "source": [
    "### Corregir los datos"
   ]
  },
  {
   "cell_type": "markdown",
   "metadata": {
    "id": "8OdKMwJv0q06"
   },
   "source": [
    "[Corrige los problemas obvios con los datos basándote en las observaciones iniciales.]"
   ]
  },
  {
   "cell_type": "code",
   "execution_count": 7,
   "metadata": {
    "id": "yUqX-K0C0q07"
   },
   "outputs": [
    {
     "data": {
      "text/plain": [
       "user_id                int64\n",
       "first_name            object\n",
       "last_name             object\n",
       "age                    int64\n",
       "city                  object\n",
       "reg_date      datetime64[ns]\n",
       "plan                  object\n",
       "churn_date    datetime64[ns]\n",
       "dtype: object"
      ]
     },
     "metadata": {},
     "output_type": "display_data"
    }
   ],
   "source": [
    "# Convertir las columnas 'reg_date' y 'churn_date' a datetime asegurando el formato correcto\n",
    "megaline_users['reg_date'] = pd.to_datetime(megaline_users['reg_date'], format='%Y-%m-%d')\n",
    "megaline_users['churn_date'] = pd.to_datetime(megaline_users['churn_date'], format='%Y-%m-%d', errors='coerce')\n",
    "\n",
    "# Corroboramos los tipos de datos.\n",
    "display(megaline_users.dtypes)"
   ]
  },
  {
   "cell_type": "markdown",
   "metadata": {
    "id": "ycwuARJp0q07"
   },
   "source": [
    "### Enriquecer los datos"
   ]
  },
  {
   "cell_type": "markdown",
   "metadata": {
    "id": "96NIh4CJ0q08"
   },
   "source": [
    "[Agrega factores adicionales a los datos si crees que pudieran ser útiles.]"
   ]
  },
  {
   "cell_type": "code",
   "execution_count": 8,
   "metadata": {
    "id": "iq0AaBS90q08"
   },
   "outputs": [
    {
     "data": {
      "text/html": [
       "<div>\n",
       "<style scoped>\n",
       "    .dataframe tbody tr th:only-of-type {\n",
       "        vertical-align: middle;\n",
       "    }\n",
       "\n",
       "    .dataframe tbody tr th {\n",
       "        vertical-align: top;\n",
       "    }\n",
       "\n",
       "    .dataframe thead th {\n",
       "        text-align: right;\n",
       "    }\n",
       "</style>\n",
       "<table border=\"1\" class=\"dataframe\">\n",
       "  <thead>\n",
       "    <tr style=\"text-align: right;\">\n",
       "      <th></th>\n",
       "      <th>user_id</th>\n",
       "      <th>age</th>\n",
       "    </tr>\n",
       "  </thead>\n",
       "  <tbody>\n",
       "    <tr>\n",
       "      <th>count</th>\n",
       "      <td>500.000000</td>\n",
       "      <td>500.000000</td>\n",
       "    </tr>\n",
       "    <tr>\n",
       "      <th>mean</th>\n",
       "      <td>1249.500000</td>\n",
       "      <td>45.486000</td>\n",
       "    </tr>\n",
       "    <tr>\n",
       "      <th>std</th>\n",
       "      <td>144.481833</td>\n",
       "      <td>16.972269</td>\n",
       "    </tr>\n",
       "    <tr>\n",
       "      <th>min</th>\n",
       "      <td>1000.000000</td>\n",
       "      <td>18.000000</td>\n",
       "    </tr>\n",
       "    <tr>\n",
       "      <th>25%</th>\n",
       "      <td>1124.750000</td>\n",
       "      <td>30.000000</td>\n",
       "    </tr>\n",
       "    <tr>\n",
       "      <th>50%</th>\n",
       "      <td>1249.500000</td>\n",
       "      <td>46.000000</td>\n",
       "    </tr>\n",
       "    <tr>\n",
       "      <th>75%</th>\n",
       "      <td>1374.250000</td>\n",
       "      <td>61.000000</td>\n",
       "    </tr>\n",
       "    <tr>\n",
       "      <th>max</th>\n",
       "      <td>1499.000000</td>\n",
       "      <td>75.000000</td>\n",
       "    </tr>\n",
       "  </tbody>\n",
       "</table>\n",
       "</div>"
      ],
      "text/plain": [
       "           user_id         age\n",
       "count   500.000000  500.000000\n",
       "mean   1249.500000   45.486000\n",
       "std     144.481833   16.972269\n",
       "min    1000.000000   18.000000\n",
       "25%    1124.750000   30.000000\n",
       "50%    1249.500000   46.000000\n",
       "75%    1374.250000   61.000000\n",
       "max    1499.000000   75.000000"
      ]
     },
     "execution_count": 8,
     "metadata": {},
     "output_type": "execute_result"
    }
   ],
   "source": [
    "# Podemos indagar en los datos, ver si son datos reales o pudo haber algún defecto (Podría ocasionar algún outlier)\n",
    "megaline_users.describe()"
   ]
  },
  {
   "cell_type": "code",
   "execution_count": 9,
   "metadata": {},
   "outputs": [
    {
     "name": "stdout",
     "output_type": "stream",
     "text": [
      "500\n"
     ]
    },
    {
     "data": {
      "text/plain": [
       "0"
      ]
     },
     "execution_count": 9,
     "metadata": {},
     "output_type": "execute_result"
    }
   ],
   "source": [
    "# Corroboramos que no existan valores duplicados\n",
    "print(megaline_users[\"user_id\"].nunique())\n",
    "\n",
    "# Imprimimos la sumatoria de los valores duplicados\n",
    "megaline_users.duplicated().sum()"
   ]
  },
  {
   "cell_type": "markdown",
   "metadata": {
    "id": "o7MeKCid0q08"
   },
   "source": [
    "## Llamadas"
   ]
  },
  {
   "cell_type": "code",
   "execution_count": 10,
   "metadata": {
    "id": "6dDlnoDm0q08"
   },
   "outputs": [
    {
     "name": "stdout",
     "output_type": "stream",
     "text": [
      "<class 'pandas.core.frame.DataFrame'>\n",
      "RangeIndex: 137735 entries, 0 to 137734\n",
      "Data columns (total 4 columns):\n",
      " #   Column     Non-Null Count   Dtype  \n",
      "---  ------     --------------   -----  \n",
      " 0   id         137735 non-null  object \n",
      " 1   user_id    137735 non-null  int64  \n",
      " 2   call_date  137735 non-null  object \n",
      " 3   duration   137735 non-null  float64\n",
      "dtypes: float64(1), int64(1), object(2)\n",
      "memory usage: 4.2+ MB\n"
     ]
    }
   ],
   "source": [
    "# Imprime la información general/resumida sobre el DataFrame de las llamadas\n",
    "megaline_calls.info()"
   ]
  },
  {
   "cell_type": "code",
   "execution_count": 11,
   "metadata": {
    "id": "kuh1vlNB0q09"
   },
   "outputs": [
    {
     "data": {
      "text/html": [
       "<div>\n",
       "<style scoped>\n",
       "    .dataframe tbody tr th:only-of-type {\n",
       "        vertical-align: middle;\n",
       "    }\n",
       "\n",
       "    .dataframe tbody tr th {\n",
       "        vertical-align: top;\n",
       "    }\n",
       "\n",
       "    .dataframe thead th {\n",
       "        text-align: right;\n",
       "    }\n",
       "</style>\n",
       "<table border=\"1\" class=\"dataframe\">\n",
       "  <thead>\n",
       "    <tr style=\"text-align: right;\">\n",
       "      <th></th>\n",
       "      <th>id</th>\n",
       "      <th>user_id</th>\n",
       "      <th>call_date</th>\n",
       "      <th>duration</th>\n",
       "    </tr>\n",
       "  </thead>\n",
       "  <tbody>\n",
       "    <tr>\n",
       "      <th>99035</th>\n",
       "      <td>1355_11</td>\n",
       "      <td>1355</td>\n",
       "      <td>2018-12-17</td>\n",
       "      <td>0.00</td>\n",
       "    </tr>\n",
       "    <tr>\n",
       "      <th>89728</th>\n",
       "      <td>1326_379</td>\n",
       "      <td>1326</td>\n",
       "      <td>2018-11-15</td>\n",
       "      <td>1.70</td>\n",
       "    </tr>\n",
       "    <tr>\n",
       "      <th>92352</th>\n",
       "      <td>1332_8</td>\n",
       "      <td>1332</td>\n",
       "      <td>2018-10-01</td>\n",
       "      <td>1.70</td>\n",
       "    </tr>\n",
       "    <tr>\n",
       "      <th>15914</th>\n",
       "      <td>1062_154</td>\n",
       "      <td>1062</td>\n",
       "      <td>2018-10-24</td>\n",
       "      <td>10.17</td>\n",
       "    </tr>\n",
       "    <tr>\n",
       "      <th>82106</th>\n",
       "      <td>1295_679</td>\n",
       "      <td>1295</td>\n",
       "      <td>2018-11-26</td>\n",
       "      <td>25.49</td>\n",
       "    </tr>\n",
       "    <tr>\n",
       "      <th>105362</th>\n",
       "      <td>1371_138</td>\n",
       "      <td>1371</td>\n",
       "      <td>2018-12-08</td>\n",
       "      <td>8.19</td>\n",
       "    </tr>\n",
       "    <tr>\n",
       "      <th>120086</th>\n",
       "      <td>1417_936</td>\n",
       "      <td>1417</td>\n",
       "      <td>2018-11-04</td>\n",
       "      <td>11.79</td>\n",
       "    </tr>\n",
       "    <tr>\n",
       "      <th>85402</th>\n",
       "      <td>1313_382</td>\n",
       "      <td>1313</td>\n",
       "      <td>2018-11-04</td>\n",
       "      <td>0.00</td>\n",
       "    </tr>\n",
       "    <tr>\n",
       "      <th>108495</th>\n",
       "      <td>1383_23</td>\n",
       "      <td>1383</td>\n",
       "      <td>2018-10-20</td>\n",
       "      <td>7.57</td>\n",
       "    </tr>\n",
       "    <tr>\n",
       "      <th>131031</th>\n",
       "      <td>1470_480</td>\n",
       "      <td>1470</td>\n",
       "      <td>2018-07-09</td>\n",
       "      <td>9.14</td>\n",
       "    </tr>\n",
       "    <tr>\n",
       "      <th>12439</th>\n",
       "      <td>1054_163</td>\n",
       "      <td>1054</td>\n",
       "      <td>2018-05-10</td>\n",
       "      <td>19.42</td>\n",
       "    </tr>\n",
       "    <tr>\n",
       "      <th>118988</th>\n",
       "      <td>1415_36</td>\n",
       "      <td>1415</td>\n",
       "      <td>2018-12-04</td>\n",
       "      <td>10.61</td>\n",
       "    </tr>\n",
       "    <tr>\n",
       "      <th>7102</th>\n",
       "      <td>1033_118</td>\n",
       "      <td>1033</td>\n",
       "      <td>2018-11-03</td>\n",
       "      <td>16.32</td>\n",
       "    </tr>\n",
       "    <tr>\n",
       "      <th>23230</th>\n",
       "      <td>1085_22</td>\n",
       "      <td>1085</td>\n",
       "      <td>2018-12-12</td>\n",
       "      <td>2.25</td>\n",
       "    </tr>\n",
       "    <tr>\n",
       "      <th>396</th>\n",
       "      <td>1003_6</td>\n",
       "      <td>1003</td>\n",
       "      <td>2018-12-19</td>\n",
       "      <td>0.57</td>\n",
       "    </tr>\n",
       "  </tbody>\n",
       "</table>\n",
       "</div>"
      ],
      "text/plain": [
       "              id  user_id   call_date  duration\n",
       "99035    1355_11     1355  2018-12-17      0.00\n",
       "89728   1326_379     1326  2018-11-15      1.70\n",
       "92352     1332_8     1332  2018-10-01      1.70\n",
       "15914   1062_154     1062  2018-10-24     10.17\n",
       "82106   1295_679     1295  2018-11-26     25.49\n",
       "105362  1371_138     1371  2018-12-08      8.19\n",
       "120086  1417_936     1417  2018-11-04     11.79\n",
       "85402   1313_382     1313  2018-11-04      0.00\n",
       "108495   1383_23     1383  2018-10-20      7.57\n",
       "131031  1470_480     1470  2018-07-09      9.14\n",
       "12439   1054_163     1054  2018-05-10     19.42\n",
       "118988   1415_36     1415  2018-12-04     10.61\n",
       "7102    1033_118     1033  2018-11-03     16.32\n",
       "23230    1085_22     1085  2018-12-12      2.25\n",
       "396       1003_6     1003  2018-12-19      0.57"
      ]
     },
     "execution_count": 11,
     "metadata": {},
     "output_type": "execute_result"
    }
   ],
   "source": [
    "# Imprime una muestra de datos para las llamadas\n",
    "megaline_calls.sample(15)\n"
   ]
  },
  {
   "cell_type": "markdown",
   "metadata": {
    "id": "DOAxYJSx0q09"
   },
   "source": [
    "[Describe lo que ves y observas en la información general y en la muestra de datos impresa para el precio de datos anterior. ¿Hay algún problema (tipos de datos no adecuados, datos ausentes, etc.) que pudieran necesitar investigación y cambios adicionales? ¿Cómo se puede arreglar?]\n",
    "\n",
    "### ¿Hay algún problema (tipos de datos no adecuados, datos ausentes, etc.) que pudieran necesitar investigación y cambios adicionales?\n",
    "\n",
    "Hasta ahorita, no se ve ningún valor nulo en todo el DF y las columnas parecen ser del tipo correcto (Congruente con la columna). A excepción de la columa call_date. Lo más correcto sería cambiarla a DateTime."
   ]
  },
  {
   "cell_type": "markdown",
   "metadata": {
    "id": "S7hzxmbX0q0-"
   },
   "source": [
    "### Corregir los datos"
   ]
  },
  {
   "cell_type": "markdown",
   "metadata": {
    "id": "YxWyAjD20q0-"
   },
   "source": [
    "[Corrige los problemas obvios con los datos basándote en las observaciones iniciales.]"
   ]
  },
  {
   "cell_type": "code",
   "execution_count": 12,
   "metadata": {
    "id": "S2r8xA4f0q0-"
   },
   "outputs": [
    {
     "name": "stdout",
     "output_type": "stream",
     "text": [
      "id                   object\n",
      "user_id               int64\n",
      "call_date    datetime64[ns]\n",
      "duration            float64\n",
      "dtype: object\n"
     ]
    },
    {
     "data": {
      "text/html": [
       "<div>\n",
       "<style scoped>\n",
       "    .dataframe tbody tr th:only-of-type {\n",
       "        vertical-align: middle;\n",
       "    }\n",
       "\n",
       "    .dataframe tbody tr th {\n",
       "        vertical-align: top;\n",
       "    }\n",
       "\n",
       "    .dataframe thead th {\n",
       "        text-align: right;\n",
       "    }\n",
       "</style>\n",
       "<table border=\"1\" class=\"dataframe\">\n",
       "  <thead>\n",
       "    <tr style=\"text-align: right;\">\n",
       "      <th></th>\n",
       "      <th>user_id</th>\n",
       "      <th>duration</th>\n",
       "    </tr>\n",
       "  </thead>\n",
       "  <tbody>\n",
       "    <tr>\n",
       "      <th>count</th>\n",
       "      <td>137735.000000</td>\n",
       "      <td>137735.000000</td>\n",
       "    </tr>\n",
       "    <tr>\n",
       "      <th>mean</th>\n",
       "      <td>1247.658046</td>\n",
       "      <td>6.745927</td>\n",
       "    </tr>\n",
       "    <tr>\n",
       "      <th>std</th>\n",
       "      <td>139.416268</td>\n",
       "      <td>5.839241</td>\n",
       "    </tr>\n",
       "    <tr>\n",
       "      <th>min</th>\n",
       "      <td>1000.000000</td>\n",
       "      <td>0.000000</td>\n",
       "    </tr>\n",
       "    <tr>\n",
       "      <th>25%</th>\n",
       "      <td>1128.000000</td>\n",
       "      <td>1.290000</td>\n",
       "    </tr>\n",
       "    <tr>\n",
       "      <th>50%</th>\n",
       "      <td>1247.000000</td>\n",
       "      <td>5.980000</td>\n",
       "    </tr>\n",
       "    <tr>\n",
       "      <th>75%</th>\n",
       "      <td>1365.000000</td>\n",
       "      <td>10.690000</td>\n",
       "    </tr>\n",
       "    <tr>\n",
       "      <th>max</th>\n",
       "      <td>1499.000000</td>\n",
       "      <td>37.600000</td>\n",
       "    </tr>\n",
       "  </tbody>\n",
       "</table>\n",
       "</div>"
      ],
      "text/plain": [
       "             user_id       duration\n",
       "count  137735.000000  137735.000000\n",
       "mean     1247.658046       6.745927\n",
       "std       139.416268       5.839241\n",
       "min      1000.000000       0.000000\n",
       "25%      1128.000000       1.290000\n",
       "50%      1247.000000       5.980000\n",
       "75%      1365.000000      10.690000\n",
       "max      1499.000000      37.600000"
      ]
     },
     "execution_count": 12,
     "metadata": {},
     "output_type": "execute_result"
    }
   ],
   "source": [
    "# Cambiamos la columna de \"call_date\" a datetime.\n",
    "megaline_calls['call_date'] = pd.to_datetime(megaline_calls['call_date'], format='%Y-%m-%d')\n",
    "print(megaline_calls.dtypes)\n",
    "\n",
    "# Igual que en el caso anterior, \n",
    "# podemos indagar en los datos, ver si son datos reales o pudo haber algún defecto (Podría ocasionar algún outlier)\n",
    "megaline_calls.describe()"
   ]
  },
  {
   "cell_type": "markdown",
   "metadata": {
    "id": "KrMgTrlG0q0_"
   },
   "source": [
    "### Enriquecer los datos"
   ]
  },
  {
   "cell_type": "markdown",
   "metadata": {
    "id": "a9MbmEvE0q0_"
   },
   "source": [
    "[Agrega factores adicionales a los datos si crees que pudieran ser útiles.]"
   ]
  },
  {
   "cell_type": "code",
   "execution_count": 13,
   "metadata": {
    "id": "iZ1avpA_0q0_"
   },
   "outputs": [
    {
     "name": "stdout",
     "output_type": "stream",
     "text": [
      "0.00     26834\n",
      "8.37       102\n",
      "4.02       102\n",
      "3.91       101\n",
      "7.61       100\n",
      "         ...  \n",
      "32.53        1\n",
      "24.74        1\n",
      "29.31        1\n",
      "29.30        1\n",
      "23.29        1\n",
      "Name: duration, Length: 2802, dtype: int64\n"
     ]
    }
   ],
   "source": [
    "print(megaline_calls['duration'].value_counts())\n",
    "# Curiosamente, vemos que hay 26834 datos de duración 0.00. Podría ser un error, sin embargo, debido a la gran cantidad\n",
    "# de datos, quizá sea por un escenario diferente (En el contexto de llamadas, quizá fueron llamadas que no se tomaron)\n",
    "# Lo interesante es saber si estos datos afectan o apoyan nuestro análisis o, por el contrario, lo llenan de información\n",
    "# \"basura\"\n"
   ]
  },
  {
   "cell_type": "markdown",
   "metadata": {
    "id": "mOUZSi180q0_"
   },
   "source": [
    "## Mensajes"
   ]
  },
  {
   "cell_type": "code",
   "execution_count": 14,
   "metadata": {
    "id": "R-bYJpdV0q1A"
   },
   "outputs": [
    {
     "name": "stdout",
     "output_type": "stream",
     "text": [
      "<class 'pandas.core.frame.DataFrame'>\n",
      "RangeIndex: 76051 entries, 0 to 76050\n",
      "Data columns (total 3 columns):\n",
      " #   Column        Non-Null Count  Dtype \n",
      "---  ------        --------------  ----- \n",
      " 0   id            76051 non-null  object\n",
      " 1   user_id       76051 non-null  int64 \n",
      " 2   message_date  76051 non-null  object\n",
      "dtypes: int64(1), object(2)\n",
      "memory usage: 1.7+ MB\n"
     ]
    }
   ],
   "source": [
    "# Imprime la información general/resumida sobre el DataFrame de los mensajes\n",
    "megaline_messages.info()"
   ]
  },
  {
   "cell_type": "code",
   "execution_count": 15,
   "metadata": {
    "id": "mCEl2iGE0q1A"
   },
   "outputs": [
    {
     "data": {
      "text/html": [
       "<div>\n",
       "<style scoped>\n",
       "    .dataframe tbody tr th:only-of-type {\n",
       "        vertical-align: middle;\n",
       "    }\n",
       "\n",
       "    .dataframe tbody tr th {\n",
       "        vertical-align: top;\n",
       "    }\n",
       "\n",
       "    .dataframe thead th {\n",
       "        text-align: right;\n",
       "    }\n",
       "</style>\n",
       "<table border=\"1\" class=\"dataframe\">\n",
       "  <thead>\n",
       "    <tr style=\"text-align: right;\">\n",
       "      <th></th>\n",
       "      <th>id</th>\n",
       "      <th>user_id</th>\n",
       "      <th>message_date</th>\n",
       "    </tr>\n",
       "  </thead>\n",
       "  <tbody>\n",
       "    <tr>\n",
       "      <th>2337</th>\n",
       "      <td>1028_247</td>\n",
       "      <td>1028</td>\n",
       "      <td>2018-09-15</td>\n",
       "    </tr>\n",
       "    <tr>\n",
       "      <th>42011</th>\n",
       "      <td>1270_248</td>\n",
       "      <td>1270</td>\n",
       "      <td>2018-11-14</td>\n",
       "    </tr>\n",
       "    <tr>\n",
       "      <th>57602</th>\n",
       "      <td>1362_700</td>\n",
       "      <td>1362</td>\n",
       "      <td>2018-05-12</td>\n",
       "    </tr>\n",
       "    <tr>\n",
       "      <th>3974</th>\n",
       "      <td>1039_72</td>\n",
       "      <td>1039</td>\n",
       "      <td>2018-08-10</td>\n",
       "    </tr>\n",
       "    <tr>\n",
       "      <th>34462</th>\n",
       "      <td>1219_4</td>\n",
       "      <td>1219</td>\n",
       "      <td>2018-11-19</td>\n",
       "    </tr>\n",
       "    <tr>\n",
       "      <th>63879</th>\n",
       "      <td>1408_4</td>\n",
       "      <td>1408</td>\n",
       "      <td>2018-03-13</td>\n",
       "    </tr>\n",
       "    <tr>\n",
       "      <th>56525</th>\n",
       "      <td>1357_155</td>\n",
       "      <td>1357</td>\n",
       "      <td>2018-09-12</td>\n",
       "    </tr>\n",
       "    <tr>\n",
       "      <th>26383</th>\n",
       "      <td>1159_386</td>\n",
       "      <td>1159</td>\n",
       "      <td>2018-12-18</td>\n",
       "    </tr>\n",
       "    <tr>\n",
       "      <th>44898</th>\n",
       "      <td>1302_3</td>\n",
       "      <td>1302</td>\n",
       "      <td>2018-12-04</td>\n",
       "    </tr>\n",
       "    <tr>\n",
       "      <th>59833</th>\n",
       "      <td>1380_312</td>\n",
       "      <td>1380</td>\n",
       "      <td>2018-11-24</td>\n",
       "    </tr>\n",
       "    <tr>\n",
       "      <th>45046</th>\n",
       "      <td>1302_151</td>\n",
       "      <td>1302</td>\n",
       "      <td>2018-11-29</td>\n",
       "    </tr>\n",
       "    <tr>\n",
       "      <th>7558</th>\n",
       "      <td>1059_441</td>\n",
       "      <td>1059</td>\n",
       "      <td>2018-05-22</td>\n",
       "    </tr>\n",
       "    <tr>\n",
       "      <th>67728</th>\n",
       "      <td>1439_122</td>\n",
       "      <td>1439</td>\n",
       "      <td>2018-07-28</td>\n",
       "    </tr>\n",
       "    <tr>\n",
       "      <th>72187</th>\n",
       "      <td>1467_519</td>\n",
       "      <td>1467</td>\n",
       "      <td>2018-09-14</td>\n",
       "    </tr>\n",
       "    <tr>\n",
       "      <th>3630</th>\n",
       "      <td>1037_27</td>\n",
       "      <td>1037</td>\n",
       "      <td>2018-12-25</td>\n",
       "    </tr>\n",
       "  </tbody>\n",
       "</table>\n",
       "</div>"
      ],
      "text/plain": [
       "             id  user_id message_date\n",
       "2337   1028_247     1028   2018-09-15\n",
       "42011  1270_248     1270   2018-11-14\n",
       "57602  1362_700     1362   2018-05-12\n",
       "3974    1039_72     1039   2018-08-10\n",
       "34462    1219_4     1219   2018-11-19\n",
       "63879    1408_4     1408   2018-03-13\n",
       "56525  1357_155     1357   2018-09-12\n",
       "26383  1159_386     1159   2018-12-18\n",
       "44898    1302_3     1302   2018-12-04\n",
       "59833  1380_312     1380   2018-11-24\n",
       "45046  1302_151     1302   2018-11-29\n",
       "7558   1059_441     1059   2018-05-22\n",
       "67728  1439_122     1439   2018-07-28\n",
       "72187  1467_519     1467   2018-09-14\n",
       "3630    1037_27     1037   2018-12-25"
      ]
     },
     "execution_count": 15,
     "metadata": {},
     "output_type": "execute_result"
    }
   ],
   "source": [
    "# Imprime una muestra de datos para los mensajes\n",
    "megaline_messages.sample(15)"
   ]
  },
  {
   "cell_type": "markdown",
   "metadata": {
    "id": "04xDj7KH0q1A"
   },
   "source": [
    "[Describe lo que ves y observas en la información general y en la muestra de datos impresa para el precio de datos anterior. ¿Hay algún problema (tipos de datos no adecuados, datos ausentes, etc.) que pudieran necesitar investigación y cambios adicionales? ¿Cómo se puede arreglar?]\n",
    "\n",
    "### ¿Hay algún problema (tipos de datos no adecuados, datos ausentes, etc.) que pudieran necesitar investigación y cambios adicionales?\n",
    "\n",
    "Igual que el caso anterior, el tipo de dato de \"message_date\" es texto. Tenemos que cambiarlo a DateTime.\n"
   ]
  },
  {
   "cell_type": "markdown",
   "metadata": {
    "id": "Sprfak900q1B"
   },
   "source": [
    "### Corregir los datos"
   ]
  },
  {
   "cell_type": "markdown",
   "metadata": {
    "id": "eGw7d9j10q1B"
   },
   "source": [
    "[Corrige los problemas obvios con los datos basándote en las observaciones iniciales.]"
   ]
  },
  {
   "cell_type": "code",
   "execution_count": 16,
   "metadata": {
    "id": "vsllvkoa0q1B"
   },
   "outputs": [
    {
     "name": "stdout",
     "output_type": "stream",
     "text": [
      "id                      object\n",
      "user_id                  int64\n",
      "message_date    datetime64[ns]\n",
      "dtype: object\n",
      "            user_id\n",
      "count  76051.000000\n",
      "mean    1245.972768\n",
      "std      139.843635\n",
      "min     1000.000000\n",
      "25%     1123.000000\n",
      "50%     1251.000000\n",
      "75%     1362.000000\n",
      "max     1497.000000\n"
     ]
    }
   ],
   "source": [
    "# Cambiamos el dato de message_date a datetime.\n",
    "megaline_messages['message_date'] = pd.to_datetime(megaline_messages['message_date'], format='%Y-%m-%d')\n",
    "# Verificamos el cambio\n",
    "print(megaline_messages.dtypes)\n",
    "\n",
    "# Corroboraos algún posible outlier.\n",
    "print(megaline_messages.describe())"
   ]
  },
  {
   "cell_type": "markdown",
   "metadata": {
    "id": "HvLid7iD0q1B"
   },
   "source": [
    "### Enriquecer los datos"
   ]
  },
  {
   "cell_type": "markdown",
   "metadata": {
    "id": "8nhPFKIe0q1C"
   },
   "source": [
    "[Agrega factores adicionales a los datos si crees que pudieran ser útiles.]"
   ]
  },
  {
   "cell_type": "code",
   "execution_count": 17,
   "metadata": {
    "id": "zYEXZac10q1C"
   },
   "outputs": [
    {
     "name": "stdout",
     "output_type": "stream",
     "text": [
      "76051 76051\n"
     ]
    }
   ],
   "source": [
    "# Corroboramos el número de valores únicos. Que realmente concuerdan.\n",
    "print(megaline_messages['id'].nunique(), megaline_messages['id'].count())\n"
   ]
  },
  {
   "cell_type": "markdown",
   "metadata": {
    "id": "bStkaxn40q1C"
   },
   "source": [
    "## Internet"
   ]
  },
  {
   "cell_type": "code",
   "execution_count": 18,
   "metadata": {
    "id": "e-Uz5qyn0q1C"
   },
   "outputs": [
    {
     "name": "stdout",
     "output_type": "stream",
     "text": [
      "<class 'pandas.core.frame.DataFrame'>\n",
      "RangeIndex: 104825 entries, 0 to 104824\n",
      "Data columns (total 4 columns):\n",
      " #   Column        Non-Null Count   Dtype  \n",
      "---  ------        --------------   -----  \n",
      " 0   id            104825 non-null  object \n",
      " 1   user_id       104825 non-null  int64  \n",
      " 2   session_date  104825 non-null  object \n",
      " 3   mb_used       104825 non-null  float64\n",
      "dtypes: float64(1), int64(1), object(2)\n",
      "memory usage: 3.2+ MB\n"
     ]
    }
   ],
   "source": [
    "# Imprime la información general/resumida sobre el DataFrame de internet\n",
    "megaline_internet.info()\n"
   ]
  },
  {
   "cell_type": "code",
   "execution_count": 19,
   "metadata": {
    "id": "9r3x_XLw0q1C"
   },
   "outputs": [
    {
     "data": {
      "text/html": [
       "<div>\n",
       "<style scoped>\n",
       "    .dataframe tbody tr th:only-of-type {\n",
       "        vertical-align: middle;\n",
       "    }\n",
       "\n",
       "    .dataframe tbody tr th {\n",
       "        vertical-align: top;\n",
       "    }\n",
       "\n",
       "    .dataframe thead th {\n",
       "        text-align: right;\n",
       "    }\n",
       "</style>\n",
       "<table border=\"1\" class=\"dataframe\">\n",
       "  <thead>\n",
       "    <tr style=\"text-align: right;\">\n",
       "      <th></th>\n",
       "      <th>id</th>\n",
       "      <th>user_id</th>\n",
       "      <th>session_date</th>\n",
       "      <th>mb_used</th>\n",
       "    </tr>\n",
       "  </thead>\n",
       "  <tbody>\n",
       "    <tr>\n",
       "      <th>80270</th>\n",
       "      <td>1374_346</td>\n",
       "      <td>1374</td>\n",
       "      <td>2018-08-29</td>\n",
       "      <td>550.86</td>\n",
       "    </tr>\n",
       "    <tr>\n",
       "      <th>24034</th>\n",
       "      <td>1110_292</td>\n",
       "      <td>1110</td>\n",
       "      <td>2018-08-15</td>\n",
       "      <td>0.00</td>\n",
       "    </tr>\n",
       "    <tr>\n",
       "      <th>8561</th>\n",
       "      <td>1045_40</td>\n",
       "      <td>1045</td>\n",
       "      <td>2018-12-29</td>\n",
       "      <td>742.00</td>\n",
       "    </tr>\n",
       "    <tr>\n",
       "      <th>68643</th>\n",
       "      <td>1320_307</td>\n",
       "      <td>1320</td>\n",
       "      <td>2018-07-31</td>\n",
       "      <td>515.45</td>\n",
       "    </tr>\n",
       "    <tr>\n",
       "      <th>88816</th>\n",
       "      <td>1409_66</td>\n",
       "      <td>1409</td>\n",
       "      <td>2018-11-29</td>\n",
       "      <td>419.35</td>\n",
       "    </tr>\n",
       "    <tr>\n",
       "      <th>1742</th>\n",
       "      <td>1009_277</td>\n",
       "      <td>1009</td>\n",
       "      <td>2018-07-29</td>\n",
       "      <td>661.46</td>\n",
       "    </tr>\n",
       "    <tr>\n",
       "      <th>203</th>\n",
       "      <td>1001_373</td>\n",
       "      <td>1001</td>\n",
       "      <td>2018-10-13</td>\n",
       "      <td>734.39</td>\n",
       "    </tr>\n",
       "    <tr>\n",
       "      <th>2144</th>\n",
       "      <td>1010_327</td>\n",
       "      <td>1010</td>\n",
       "      <td>2018-09-04</td>\n",
       "      <td>260.99</td>\n",
       "    </tr>\n",
       "    <tr>\n",
       "      <th>13096</th>\n",
       "      <td>1062_66</td>\n",
       "      <td>1062</td>\n",
       "      <td>2018-06-09</td>\n",
       "      <td>425.57</td>\n",
       "    </tr>\n",
       "    <tr>\n",
       "      <th>27188</th>\n",
       "      <td>1126_260</td>\n",
       "      <td>1126</td>\n",
       "      <td>2018-08-15</td>\n",
       "      <td>605.73</td>\n",
       "    </tr>\n",
       "    <tr>\n",
       "      <th>13469</th>\n",
       "      <td>1062_439</td>\n",
       "      <td>1062</td>\n",
       "      <td>2018-08-26</td>\n",
       "      <td>418.12</td>\n",
       "    </tr>\n",
       "    <tr>\n",
       "      <th>104258</th>\n",
       "      <td>1498_324</td>\n",
       "      <td>1498</td>\n",
       "      <td>2018-05-05</td>\n",
       "      <td>202.65</td>\n",
       "    </tr>\n",
       "    <tr>\n",
       "      <th>19272</th>\n",
       "      <td>1086_61</td>\n",
       "      <td>1086</td>\n",
       "      <td>2018-12-26</td>\n",
       "      <td>167.56</td>\n",
       "    </tr>\n",
       "    <tr>\n",
       "      <th>93561</th>\n",
       "      <td>1436_310</td>\n",
       "      <td>1436</td>\n",
       "      <td>2018-10-02</td>\n",
       "      <td>372.39</td>\n",
       "    </tr>\n",
       "    <tr>\n",
       "      <th>89068</th>\n",
       "      <td>1410_227</td>\n",
       "      <td>1410</td>\n",
       "      <td>2018-12-07</td>\n",
       "      <td>552.09</td>\n",
       "    </tr>\n",
       "  </tbody>\n",
       "</table>\n",
       "</div>"
      ],
      "text/plain": [
       "              id  user_id session_date  mb_used\n",
       "80270   1374_346     1374   2018-08-29   550.86\n",
       "24034   1110_292     1110   2018-08-15     0.00\n",
       "8561     1045_40     1045   2018-12-29   742.00\n",
       "68643   1320_307     1320   2018-07-31   515.45\n",
       "88816    1409_66     1409   2018-11-29   419.35\n",
       "1742    1009_277     1009   2018-07-29   661.46\n",
       "203     1001_373     1001   2018-10-13   734.39\n",
       "2144    1010_327     1010   2018-09-04   260.99\n",
       "13096    1062_66     1062   2018-06-09   425.57\n",
       "27188   1126_260     1126   2018-08-15   605.73\n",
       "13469   1062_439     1062   2018-08-26   418.12\n",
       "104258  1498_324     1498   2018-05-05   202.65\n",
       "19272    1086_61     1086   2018-12-26   167.56\n",
       "93561   1436_310     1436   2018-10-02   372.39\n",
       "89068   1410_227     1410   2018-12-07   552.09"
      ]
     },
     "execution_count": 19,
     "metadata": {},
     "output_type": "execute_result"
    }
   ],
   "source": [
    "# Imprime una muestra de datos para el tráfico de internet\n",
    "megaline_internet.sample(15)\n"
   ]
  },
  {
   "cell_type": "markdown",
   "metadata": {
    "id": "EzOG5ik30q1D"
   },
   "source": [
    "[Describe lo que ves y observas en la información general y en la muestra de datos impresa para el precio de datos anterior. ¿Hay algún problema (tipos de datos no adecuados, datos ausentes, etc.) que pudieran necesitar investigación y cambios adicionales? ¿Cómo se puede arreglar?]\n",
    "\n",
    "### ¿Hay algún problema (tipos de datos no adecuados, datos ausentes, etc.) que pudieran necesitar investigación y cambios adicionales?\n",
    "\n",
    "Al momento, no hay valores nulos explícitos. La columna \"session_date\" es, nuevamente, de tipo texto; debemos convertirlo a DateTime. Incluso... No estoy seguro del ID como tipo Object; si bien un ID puede tener caracteres alfanuméricos, ¿Qué pasaría si hay valores repetidos? A menos que sea como SQL como PrimaryKey"
   ]
  },
  {
   "cell_type": "markdown",
   "metadata": {
    "id": "yA0tkPFg0q1D"
   },
   "source": [
    "### Corregir los datos"
   ]
  },
  {
   "cell_type": "markdown",
   "metadata": {
    "id": "zlZMuIEK0q1D"
   },
   "source": [
    "[Corrige los problemas obvios con los datos basándote en las observaciones iniciales.]"
   ]
  },
  {
   "cell_type": "code",
   "execution_count": 20,
   "metadata": {
    "id": "zVeanzdd0q1E"
   },
   "outputs": [
    {
     "name": "stdout",
     "output_type": "stream",
     "text": [
      "id                      object\n",
      "user_id                  int64\n",
      "session_date    datetime64[ns]\n",
      "mb_used                float64\n",
      "dtype: object\n"
     ]
    },
    {
     "data": {
      "text/html": [
       "<div>\n",
       "<style scoped>\n",
       "    .dataframe tbody tr th:only-of-type {\n",
       "        vertical-align: middle;\n",
       "    }\n",
       "\n",
       "    .dataframe tbody tr th {\n",
       "        vertical-align: top;\n",
       "    }\n",
       "\n",
       "    .dataframe thead th {\n",
       "        text-align: right;\n",
       "    }\n",
       "</style>\n",
       "<table border=\"1\" class=\"dataframe\">\n",
       "  <thead>\n",
       "    <tr style=\"text-align: right;\">\n",
       "      <th></th>\n",
       "      <th>user_id</th>\n",
       "      <th>mb_used</th>\n",
       "    </tr>\n",
       "  </thead>\n",
       "  <tbody>\n",
       "    <tr>\n",
       "      <th>count</th>\n",
       "      <td>104825.000000</td>\n",
       "      <td>104825.000000</td>\n",
       "    </tr>\n",
       "    <tr>\n",
       "      <th>mean</th>\n",
       "      <td>1242.496361</td>\n",
       "      <td>366.713701</td>\n",
       "    </tr>\n",
       "    <tr>\n",
       "      <th>std</th>\n",
       "      <td>142.053913</td>\n",
       "      <td>277.170542</td>\n",
       "    </tr>\n",
       "    <tr>\n",
       "      <th>min</th>\n",
       "      <td>1000.000000</td>\n",
       "      <td>0.000000</td>\n",
       "    </tr>\n",
       "    <tr>\n",
       "      <th>25%</th>\n",
       "      <td>1122.000000</td>\n",
       "      <td>136.080000</td>\n",
       "    </tr>\n",
       "    <tr>\n",
       "      <th>50%</th>\n",
       "      <td>1236.000000</td>\n",
       "      <td>343.980000</td>\n",
       "    </tr>\n",
       "    <tr>\n",
       "      <th>75%</th>\n",
       "      <td>1367.000000</td>\n",
       "      <td>554.610000</td>\n",
       "    </tr>\n",
       "    <tr>\n",
       "      <th>max</th>\n",
       "      <td>1499.000000</td>\n",
       "      <td>1693.470000</td>\n",
       "    </tr>\n",
       "  </tbody>\n",
       "</table>\n",
       "</div>"
      ],
      "text/plain": [
       "             user_id        mb_used\n",
       "count  104825.000000  104825.000000\n",
       "mean     1242.496361     366.713701\n",
       "std       142.053913     277.170542\n",
       "min      1000.000000       0.000000\n",
       "25%      1122.000000     136.080000\n",
       "50%      1236.000000     343.980000\n",
       "75%      1367.000000     554.610000\n",
       "max      1499.000000    1693.470000"
      ]
     },
     "metadata": {},
     "output_type": "display_data"
    }
   ],
   "source": [
    "# Convertimos la columna a tipo DateTime.\n",
    "megaline_internet['session_date'] = pd.to_datetime(megaline_internet['session_date'], format='%Y-%m-%d')\n",
    "\n",
    "# Verificamos el cambio\n",
    "print(megaline_internet.dtypes)\n",
    "\n",
    "# Buscamos algún dato extraño.\n",
    "display(megaline_internet.describe())"
   ]
  },
  {
   "cell_type": "markdown",
   "metadata": {
    "id": "e8_mLF4a0q1E"
   },
   "source": [
    "### Enriquecer los datos"
   ]
  },
  {
   "cell_type": "markdown",
   "metadata": {
    "id": "xhNdn2tE0q1E"
   },
   "source": [
    "[Agrega factores adicionales a los datos si crees que pudieran ser útiles.]"
   ]
  },
  {
   "cell_type": "code",
   "execution_count": 21,
   "metadata": {
    "id": "ESiYPIEK0q1E"
   },
   "outputs": [
    {
     "data": {
      "text/plain": [
       "session_date\n",
       "2018-01-15      1193.90\n",
       "2018-01-16      1776.09\n",
       "2018-01-17      1202.33\n",
       "2018-01-18       931.02\n",
       "2018-01-19      2684.85\n",
       "                ...    \n",
       "2018-12-27    291749.27\n",
       "2018-12-28    291703.03\n",
       "2018-12-29    288687.21\n",
       "2018-12-30    324013.99\n",
       "2018-12-31    304138.13\n",
       "Name: mb_used, Length: 351, dtype: float64"
      ]
     },
     "metadata": {},
     "output_type": "display_data"
    },
    {
     "data": {
      "text/html": [
       "<div>\n",
       "<style scoped>\n",
       "    .dataframe tbody tr th:only-of-type {\n",
       "        vertical-align: middle;\n",
       "    }\n",
       "\n",
       "    .dataframe tbody tr th {\n",
       "        vertical-align: top;\n",
       "    }\n",
       "\n",
       "    .dataframe thead th {\n",
       "        text-align: right;\n",
       "    }\n",
       "</style>\n",
       "<table border=\"1\" class=\"dataframe\">\n",
       "  <thead>\n",
       "    <tr style=\"text-align: right;\">\n",
       "      <th></th>\n",
       "      <th>id</th>\n",
       "      <th>user_id</th>\n",
       "      <th>session_date</th>\n",
       "      <th>mb_used</th>\n",
       "    </tr>\n",
       "  </thead>\n",
       "  <tbody>\n",
       "    <tr>\n",
       "      <th>1</th>\n",
       "      <td>1000_204</td>\n",
       "      <td>1000</td>\n",
       "      <td>2018-12-31</td>\n",
       "      <td>0.0</td>\n",
       "    </tr>\n",
       "    <tr>\n",
       "      <th>14</th>\n",
       "      <td>1001_26</td>\n",
       "      <td>1001</td>\n",
       "      <td>2018-09-17</td>\n",
       "      <td>0.0</td>\n",
       "    </tr>\n",
       "    <tr>\n",
       "      <th>16</th>\n",
       "      <td>1001_28</td>\n",
       "      <td>1001</td>\n",
       "      <td>2018-10-17</td>\n",
       "      <td>0.0</td>\n",
       "    </tr>\n",
       "    <tr>\n",
       "      <th>34</th>\n",
       "      <td>1001_54</td>\n",
       "      <td>1001</td>\n",
       "      <td>2018-09-02</td>\n",
       "      <td>0.0</td>\n",
       "    </tr>\n",
       "    <tr>\n",
       "      <th>43</th>\n",
       "      <td>1001_77</td>\n",
       "      <td>1001</td>\n",
       "      <td>2018-10-31</td>\n",
       "      <td>0.0</td>\n",
       "    </tr>\n",
       "    <tr>\n",
       "      <th>...</th>\n",
       "      <td>...</td>\n",
       "      <td>...</td>\n",
       "      <td>...</td>\n",
       "      <td>...</td>\n",
       "    </tr>\n",
       "    <tr>\n",
       "      <th>104797</th>\n",
       "      <td>1499_192</td>\n",
       "      <td>1499</td>\n",
       "      <td>2018-09-19</td>\n",
       "      <td>0.0</td>\n",
       "    </tr>\n",
       "    <tr>\n",
       "      <th>104804</th>\n",
       "      <td>1499_199</td>\n",
       "      <td>1499</td>\n",
       "      <td>2018-12-09</td>\n",
       "      <td>0.0</td>\n",
       "    </tr>\n",
       "    <tr>\n",
       "      <th>104816</th>\n",
       "      <td>1499_211</td>\n",
       "      <td>1499</td>\n",
       "      <td>2018-09-26</td>\n",
       "      <td>0.0</td>\n",
       "    </tr>\n",
       "    <tr>\n",
       "      <th>104817</th>\n",
       "      <td>1499_212</td>\n",
       "      <td>1499</td>\n",
       "      <td>2018-09-11</td>\n",
       "      <td>0.0</td>\n",
       "    </tr>\n",
       "    <tr>\n",
       "      <th>104823</th>\n",
       "      <td>1499_218</td>\n",
       "      <td>1499</td>\n",
       "      <td>2018-12-07</td>\n",
       "      <td>0.0</td>\n",
       "    </tr>\n",
       "  </tbody>\n",
       "</table>\n",
       "<p>13747 rows × 4 columns</p>\n",
       "</div>"
      ],
      "text/plain": [
       "              id  user_id session_date  mb_used\n",
       "1       1000_204     1000   2018-12-31      0.0\n",
       "14       1001_26     1001   2018-09-17      0.0\n",
       "16       1001_28     1001   2018-10-17      0.0\n",
       "34       1001_54     1001   2018-09-02      0.0\n",
       "43       1001_77     1001   2018-10-31      0.0\n",
       "...          ...      ...          ...      ...\n",
       "104797  1499_192     1499   2018-09-19      0.0\n",
       "104804  1499_199     1499   2018-12-09      0.0\n",
       "104816  1499_211     1499   2018-09-26      0.0\n",
       "104817  1499_212     1499   2018-09-11      0.0\n",
       "104823  1499_218     1499   2018-12-07      0.0\n",
       "\n",
       "[13747 rows x 4 columns]"
      ]
     },
     "metadata": {},
     "output_type": "display_data"
    }
   ],
   "source": [
    "# Pudiera servir obtener el total de MB usados al día\n",
    "sum_mb = megaline_internet.groupby(megaline_internet['session_date'].dt.date)['mb_used'].sum()\n",
    "display(sum_mb)\n",
    "\n",
    "# E incluso aquellos días en los que no se usó nada\n",
    "display(megaline_internet[megaline_internet['mb_used'] == 0]) "
   ]
  },
  {
   "cell_type": "markdown",
   "metadata": {},
   "source": [
    "<div class=\"alert alert-block alert-success\">\n",
    "<b>Comentario del revisor (1ra Iteración)</b> <a class=“tocSkip”></a>\n",
    "\n",
    "Alan excelente trabajo en el análisis exploratorio de datos, comprobaste los datos duplicados y faltantes proceso que es clave para evitar errores en el estudio de los datos. Además hiciste los ajustes necesarios el los tipo de datos, esto facilitará el desarrollo de las demás etapas del proyecto\n",
    "    \n",
    "\n",
    "    \n",
    "\n",
    "</div>"
   ]
  },
  {
   "cell_type": "markdown",
   "metadata": {
    "id": "3UA2cqIW0q1E"
   },
   "source": [
    "## Estudiar las condiciones de las tarifas"
   ]
  },
  {
   "cell_type": "markdown",
   "metadata": {
    "id": "T86Sqltq0q1F"
   },
   "source": [
    "[Es sumamente importante entender cómo funcionan las tarifas, cómo se les cobra a los usuarios en función de su plan de suscripción. Así que te sugerimos imprimir la información de la tarifa para ver una vez más sus condiciones.]"
   ]
  },
  {
   "cell_type": "code",
   "execution_count": 22,
   "metadata": {
    "id": "i409op8p0q1F"
   },
   "outputs": [
    {
     "data": {
      "text/html": [
       "<div>\n",
       "<style scoped>\n",
       "    .dataframe tbody tr th:only-of-type {\n",
       "        vertical-align: middle;\n",
       "    }\n",
       "\n",
       "    .dataframe tbody tr th {\n",
       "        vertical-align: top;\n",
       "    }\n",
       "\n",
       "    .dataframe thead th {\n",
       "        text-align: right;\n",
       "    }\n",
       "</style>\n",
       "<table border=\"1\" class=\"dataframe\">\n",
       "  <thead>\n",
       "    <tr style=\"text-align: right;\">\n",
       "      <th></th>\n",
       "      <th>messages_included</th>\n",
       "      <th>mb_per_month_included</th>\n",
       "      <th>minutes_included</th>\n",
       "      <th>usd_monthly_pay</th>\n",
       "      <th>usd_per_gb</th>\n",
       "      <th>usd_per_message</th>\n",
       "      <th>usd_per_minute</th>\n",
       "      <th>plan_name</th>\n",
       "    </tr>\n",
       "  </thead>\n",
       "  <tbody>\n",
       "    <tr>\n",
       "      <th>0</th>\n",
       "      <td>50</td>\n",
       "      <td>15360</td>\n",
       "      <td>500</td>\n",
       "      <td>20</td>\n",
       "      <td>10</td>\n",
       "      <td>0.03</td>\n",
       "      <td>0.03</td>\n",
       "      <td>surf</td>\n",
       "    </tr>\n",
       "    <tr>\n",
       "      <th>1</th>\n",
       "      <td>1000</td>\n",
       "      <td>30720</td>\n",
       "      <td>3000</td>\n",
       "      <td>70</td>\n",
       "      <td>7</td>\n",
       "      <td>0.01</td>\n",
       "      <td>0.01</td>\n",
       "      <td>ultimate</td>\n",
       "    </tr>\n",
       "  </tbody>\n",
       "</table>\n",
       "</div>"
      ],
      "text/plain": [
       "   messages_included  mb_per_month_included  minutes_included  \\\n",
       "0                 50                  15360               500   \n",
       "1               1000                  30720              3000   \n",
       "\n",
       "   usd_monthly_pay  usd_per_gb  usd_per_message  usd_per_minute plan_name  \n",
       "0               20          10             0.03            0.03      surf  \n",
       "1               70           7             0.01            0.01  ultimate  "
      ]
     },
     "execution_count": 22,
     "metadata": {},
     "output_type": "execute_result"
    }
   ],
   "source": [
    "# Imprime las condiciones de la tarifa y asegúrate de que te quedan claras\n",
    "megaline_plans.head()"
   ]
  },
  {
   "cell_type": "markdown",
   "metadata": {
    "id": "hMR1tP5d0q1F"
   },
   "source": [
    "## Agregar datos por usuario\n",
    "\n",
    "[Ahora que los datos están limpios, agrega los datos por usuario y por periodo para que solo haya un registro por usuario y por periodo. Esto facilitará mucho el análisis posterior.]"
   ]
  },
  {
   "cell_type": "code",
   "execution_count": 23,
   "metadata": {},
   "outputs": [],
   "source": [
    "# Agregamos los datos por período para facilitar el análisis.\n",
    "megaline_calls[\"period\"] = pd.to_datetime(megaline_calls[\"call_date\"]).dt.to_period('M')\n",
    "megaline_messages['period'] = pd.to_datetime(megaline_messages[\"message_date\"]).dt.to_period('M')\n",
    "megaline_internet['period'] = pd.to_datetime(megaline_internet['session_date']).dt.to_period('M')\n"
   ]
  },
  {
   "cell_type": "markdown",
   "metadata": {},
   "source": [
    "<div class=\"alert alert-block alert-info\">\n",
    "<b>Respuesta del estudiante</b> <a class=“tocSkip”></a>\n",
    "</div>\n",
    "\n"
   ]
  },
  {
   "cell_type": "code",
   "execution_count": 24,
   "metadata": {},
   "outputs": [],
   "source": [
    "# Redondear los minutos hacia arriba antes de agrupar\n",
    "megaline_calls['duration'] = np.ceil(megaline_calls['duration'])"
   ]
  },
  {
   "cell_type": "code",
   "execution_count": 25,
   "metadata": {
    "id": "A332cedB0q1G",
    "scrolled": true
   },
   "outputs": [
    {
     "data": {
      "text/html": [
       "<div>\n",
       "<style scoped>\n",
       "    .dataframe tbody tr th:only-of-type {\n",
       "        vertical-align: middle;\n",
       "    }\n",
       "\n",
       "    .dataframe tbody tr th {\n",
       "        vertical-align: top;\n",
       "    }\n",
       "\n",
       "    .dataframe thead th {\n",
       "        text-align: right;\n",
       "    }\n",
       "</style>\n",
       "<table border=\"1\" class=\"dataframe\">\n",
       "  <thead>\n",
       "    <tr style=\"text-align: right;\">\n",
       "      <th></th>\n",
       "      <th>user_id</th>\n",
       "      <th>period</th>\n",
       "      <th>calls</th>\n",
       "    </tr>\n",
       "  </thead>\n",
       "  <tbody>\n",
       "    <tr>\n",
       "      <th>0</th>\n",
       "      <td>1000</td>\n",
       "      <td>2018-12</td>\n",
       "      <td>16</td>\n",
       "    </tr>\n",
       "    <tr>\n",
       "      <th>1</th>\n",
       "      <td>1001</td>\n",
       "      <td>2018-08</td>\n",
       "      <td>27</td>\n",
       "    </tr>\n",
       "    <tr>\n",
       "      <th>2</th>\n",
       "      <td>1001</td>\n",
       "      <td>2018-09</td>\n",
       "      <td>49</td>\n",
       "    </tr>\n",
       "    <tr>\n",
       "      <th>3</th>\n",
       "      <td>1001</td>\n",
       "      <td>2018-10</td>\n",
       "      <td>65</td>\n",
       "    </tr>\n",
       "    <tr>\n",
       "      <th>4</th>\n",
       "      <td>1001</td>\n",
       "      <td>2018-11</td>\n",
       "      <td>64</td>\n",
       "    </tr>\n",
       "    <tr>\n",
       "      <th>...</th>\n",
       "      <td>...</td>\n",
       "      <td>...</td>\n",
       "      <td>...</td>\n",
       "    </tr>\n",
       "    <tr>\n",
       "      <th>2253</th>\n",
       "      <td>1498</td>\n",
       "      <td>2018-12</td>\n",
       "      <td>39</td>\n",
       "    </tr>\n",
       "    <tr>\n",
       "      <th>2254</th>\n",
       "      <td>1499</td>\n",
       "      <td>2018-09</td>\n",
       "      <td>41</td>\n",
       "    </tr>\n",
       "    <tr>\n",
       "      <th>2255</th>\n",
       "      <td>1499</td>\n",
       "      <td>2018-10</td>\n",
       "      <td>53</td>\n",
       "    </tr>\n",
       "    <tr>\n",
       "      <th>2256</th>\n",
       "      <td>1499</td>\n",
       "      <td>2018-11</td>\n",
       "      <td>45</td>\n",
       "    </tr>\n",
       "    <tr>\n",
       "      <th>2257</th>\n",
       "      <td>1499</td>\n",
       "      <td>2018-12</td>\n",
       "      <td>65</td>\n",
       "    </tr>\n",
       "  </tbody>\n",
       "</table>\n",
       "<p>2258 rows × 3 columns</p>\n",
       "</div>"
      ],
      "text/plain": [
       "      user_id   period  calls\n",
       "0        1000  2018-12     16\n",
       "1        1001  2018-08     27\n",
       "2        1001  2018-09     49\n",
       "3        1001  2018-10     65\n",
       "4        1001  2018-11     64\n",
       "...       ...      ...    ...\n",
       "2253     1498  2018-12     39\n",
       "2254     1499  2018-09     41\n",
       "2255     1499  2018-10     53\n",
       "2256     1499  2018-11     45\n",
       "2257     1499  2018-12     65\n",
       "\n",
       "[2258 rows x 3 columns]"
      ]
     },
     "metadata": {},
     "output_type": "display_data"
    }
   ],
   "source": [
    "\n",
    "\n",
    "# Calcula el número de llamadas hechas por cada usuario al mes. Guarda el resultado.\n",
    "calls_per_month = megaline_calls.groupby(['user_id', 'period']).agg(calls=('id', 'count')).reset_index()\n",
    "display(calls_per_month)"
   ]
  },
  {
   "cell_type": "code",
   "execution_count": 26,
   "metadata": {
    "id": "aw2cmuql0q1G"
   },
   "outputs": [
    {
     "data": {
      "text/html": [
       "<div>\n",
       "<style scoped>\n",
       "    .dataframe tbody tr th:only-of-type {\n",
       "        vertical-align: middle;\n",
       "    }\n",
       "\n",
       "    .dataframe tbody tr th {\n",
       "        vertical-align: top;\n",
       "    }\n",
       "\n",
       "    .dataframe thead th {\n",
       "        text-align: right;\n",
       "    }\n",
       "</style>\n",
       "<table border=\"1\" class=\"dataframe\">\n",
       "  <thead>\n",
       "    <tr style=\"text-align: right;\">\n",
       "      <th></th>\n",
       "      <th>user_id</th>\n",
       "      <th>period</th>\n",
       "      <th>total_minutes</th>\n",
       "    </tr>\n",
       "  </thead>\n",
       "  <tbody>\n",
       "    <tr>\n",
       "      <th>0</th>\n",
       "      <td>1000</td>\n",
       "      <td>2018-12</td>\n",
       "      <td>124.0</td>\n",
       "    </tr>\n",
       "    <tr>\n",
       "      <th>1</th>\n",
       "      <td>1001</td>\n",
       "      <td>2018-08</td>\n",
       "      <td>182.0</td>\n",
       "    </tr>\n",
       "    <tr>\n",
       "      <th>2</th>\n",
       "      <td>1001</td>\n",
       "      <td>2018-09</td>\n",
       "      <td>315.0</td>\n",
       "    </tr>\n",
       "    <tr>\n",
       "      <th>3</th>\n",
       "      <td>1001</td>\n",
       "      <td>2018-10</td>\n",
       "      <td>393.0</td>\n",
       "    </tr>\n",
       "    <tr>\n",
       "      <th>4</th>\n",
       "      <td>1001</td>\n",
       "      <td>2018-11</td>\n",
       "      <td>426.0</td>\n",
       "    </tr>\n",
       "    <tr>\n",
       "      <th>...</th>\n",
       "      <td>...</td>\n",
       "      <td>...</td>\n",
       "      <td>...</td>\n",
       "    </tr>\n",
       "    <tr>\n",
       "      <th>2253</th>\n",
       "      <td>1498</td>\n",
       "      <td>2018-12</td>\n",
       "      <td>339.0</td>\n",
       "    </tr>\n",
       "    <tr>\n",
       "      <th>2254</th>\n",
       "      <td>1499</td>\n",
       "      <td>2018-09</td>\n",
       "      <td>346.0</td>\n",
       "    </tr>\n",
       "    <tr>\n",
       "      <th>2255</th>\n",
       "      <td>1499</td>\n",
       "      <td>2018-10</td>\n",
       "      <td>385.0</td>\n",
       "    </tr>\n",
       "    <tr>\n",
       "      <th>2256</th>\n",
       "      <td>1499</td>\n",
       "      <td>2018-11</td>\n",
       "      <td>308.0</td>\n",
       "    </tr>\n",
       "    <tr>\n",
       "      <th>2257</th>\n",
       "      <td>1499</td>\n",
       "      <td>2018-12</td>\n",
       "      <td>496.0</td>\n",
       "    </tr>\n",
       "  </tbody>\n",
       "</table>\n",
       "<p>2258 rows × 3 columns</p>\n",
       "</div>"
      ],
      "text/plain": [
       "      user_id   period  total_minutes\n",
       "0        1000  2018-12          124.0\n",
       "1        1001  2018-08          182.0\n",
       "2        1001  2018-09          315.0\n",
       "3        1001  2018-10          393.0\n",
       "4        1001  2018-11          426.0\n",
       "...       ...      ...            ...\n",
       "2253     1498  2018-12          339.0\n",
       "2254     1499  2018-09          346.0\n",
       "2255     1499  2018-10          385.0\n",
       "2256     1499  2018-11          308.0\n",
       "2257     1499  2018-12          496.0\n",
       "\n",
       "[2258 rows x 3 columns]"
      ]
     },
     "metadata": {},
     "output_type": "display_data"
    }
   ],
   "source": [
    "# Calcula la cantidad de minutos usados por cada usuario al mes. Guarda el resultado.\n",
    "minutes_per_month = megaline_calls.groupby(['user_id', 'period']).agg(total_minutes=('duration', 'sum')).reset_index()\n",
    "\n",
    "display(minutes_per_month)"
   ]
  },
  {
   "cell_type": "code",
   "execution_count": 27,
   "metadata": {
    "id": "CcQvNHn60q1G"
   },
   "outputs": [
    {
     "data": {
      "text/html": [
       "<div>\n",
       "<style scoped>\n",
       "    .dataframe tbody tr th:only-of-type {\n",
       "        vertical-align: middle;\n",
       "    }\n",
       "\n",
       "    .dataframe tbody tr th {\n",
       "        vertical-align: top;\n",
       "    }\n",
       "\n",
       "    .dataframe thead th {\n",
       "        text-align: right;\n",
       "    }\n",
       "</style>\n",
       "<table border=\"1\" class=\"dataframe\">\n",
       "  <thead>\n",
       "    <tr style=\"text-align: right;\">\n",
       "      <th></th>\n",
       "      <th>user_id</th>\n",
       "      <th>period</th>\n",
       "      <th>total_messages</th>\n",
       "    </tr>\n",
       "  </thead>\n",
       "  <tbody>\n",
       "    <tr>\n",
       "      <th>0</th>\n",
       "      <td>1000</td>\n",
       "      <td>2018-12</td>\n",
       "      <td>11</td>\n",
       "    </tr>\n",
       "    <tr>\n",
       "      <th>1</th>\n",
       "      <td>1001</td>\n",
       "      <td>2018-08</td>\n",
       "      <td>30</td>\n",
       "    </tr>\n",
       "    <tr>\n",
       "      <th>2</th>\n",
       "      <td>1001</td>\n",
       "      <td>2018-09</td>\n",
       "      <td>44</td>\n",
       "    </tr>\n",
       "    <tr>\n",
       "      <th>3</th>\n",
       "      <td>1001</td>\n",
       "      <td>2018-10</td>\n",
       "      <td>53</td>\n",
       "    </tr>\n",
       "    <tr>\n",
       "      <th>4</th>\n",
       "      <td>1001</td>\n",
       "      <td>2018-11</td>\n",
       "      <td>36</td>\n",
       "    </tr>\n",
       "    <tr>\n",
       "      <th>...</th>\n",
       "      <td>...</td>\n",
       "      <td>...</td>\n",
       "      <td>...</td>\n",
       "    </tr>\n",
       "    <tr>\n",
       "      <th>1801</th>\n",
       "      <td>1496</td>\n",
       "      <td>2018-09</td>\n",
       "      <td>21</td>\n",
       "    </tr>\n",
       "    <tr>\n",
       "      <th>1802</th>\n",
       "      <td>1496</td>\n",
       "      <td>2018-10</td>\n",
       "      <td>18</td>\n",
       "    </tr>\n",
       "    <tr>\n",
       "      <th>1803</th>\n",
       "      <td>1496</td>\n",
       "      <td>2018-11</td>\n",
       "      <td>13</td>\n",
       "    </tr>\n",
       "    <tr>\n",
       "      <th>1804</th>\n",
       "      <td>1496</td>\n",
       "      <td>2018-12</td>\n",
       "      <td>11</td>\n",
       "    </tr>\n",
       "    <tr>\n",
       "      <th>1805</th>\n",
       "      <td>1497</td>\n",
       "      <td>2018-12</td>\n",
       "      <td>50</td>\n",
       "    </tr>\n",
       "  </tbody>\n",
       "</table>\n",
       "<p>1806 rows × 3 columns</p>\n",
       "</div>"
      ],
      "text/plain": [
       "      user_id   period  total_messages\n",
       "0        1000  2018-12              11\n",
       "1        1001  2018-08              30\n",
       "2        1001  2018-09              44\n",
       "3        1001  2018-10              53\n",
       "4        1001  2018-11              36\n",
       "...       ...      ...             ...\n",
       "1801     1496  2018-09              21\n",
       "1802     1496  2018-10              18\n",
       "1803     1496  2018-11              13\n",
       "1804     1496  2018-12              11\n",
       "1805     1497  2018-12              50\n",
       "\n",
       "[1806 rows x 3 columns]"
      ]
     },
     "metadata": {},
     "output_type": "display_data"
    }
   ],
   "source": [
    "# Calcula el número de mensajes enviados por cada usuario al mes. Guarda el resultado.\n",
    "messages_per_month = megaline_messages.groupby(['user_id', 'period']).agg(total_messages=('id', 'count')).reset_index()\n",
    "display(messages_per_month)"
   ]
  },
  {
   "cell_type": "markdown",
   "metadata": {},
   "source": [
    "<div class=\"alert alert-block alert-info\">\n",
    "<b>Respuesta del estudiante</b> <a class=“tocSkip”></a>\n",
    "</div>\n"
   ]
  },
  {
   "cell_type": "code",
   "execution_count": 28,
   "metadata": {
    "id": "H1AqN2eG0q1H"
   },
   "outputs": [
    {
     "data": {
      "text/html": [
       "<div>\n",
       "<style scoped>\n",
       "    .dataframe tbody tr th:only-of-type {\n",
       "        vertical-align: middle;\n",
       "    }\n",
       "\n",
       "    .dataframe tbody tr th {\n",
       "        vertical-align: top;\n",
       "    }\n",
       "\n",
       "    .dataframe thead th {\n",
       "        text-align: right;\n",
       "    }\n",
       "</style>\n",
       "<table border=\"1\" class=\"dataframe\">\n",
       "  <thead>\n",
       "    <tr style=\"text-align: right;\">\n",
       "      <th></th>\n",
       "      <th>user_id</th>\n",
       "      <th>period</th>\n",
       "      <th>total_internet</th>\n",
       "    </tr>\n",
       "  </thead>\n",
       "  <tbody>\n",
       "    <tr>\n",
       "      <th>0</th>\n",
       "      <td>1000</td>\n",
       "      <td>2018-12</td>\n",
       "      <td>2.0</td>\n",
       "    </tr>\n",
       "    <tr>\n",
       "      <th>1</th>\n",
       "      <td>1001</td>\n",
       "      <td>2018-08</td>\n",
       "      <td>7.0</td>\n",
       "    </tr>\n",
       "    <tr>\n",
       "      <th>2</th>\n",
       "      <td>1001</td>\n",
       "      <td>2018-09</td>\n",
       "      <td>14.0</td>\n",
       "    </tr>\n",
       "    <tr>\n",
       "      <th>3</th>\n",
       "      <td>1001</td>\n",
       "      <td>2018-10</td>\n",
       "      <td>22.0</td>\n",
       "    </tr>\n",
       "    <tr>\n",
       "      <th>4</th>\n",
       "      <td>1001</td>\n",
       "      <td>2018-11</td>\n",
       "      <td>19.0</td>\n",
       "    </tr>\n",
       "    <tr>\n",
       "      <th>...</th>\n",
       "      <td>...</td>\n",
       "      <td>...</td>\n",
       "      <td>...</td>\n",
       "    </tr>\n",
       "    <tr>\n",
       "      <th>2272</th>\n",
       "      <td>1498</td>\n",
       "      <td>2018-12</td>\n",
       "      <td>23.0</td>\n",
       "    </tr>\n",
       "    <tr>\n",
       "      <th>2273</th>\n",
       "      <td>1499</td>\n",
       "      <td>2018-09</td>\n",
       "      <td>13.0</td>\n",
       "    </tr>\n",
       "    <tr>\n",
       "      <th>2274</th>\n",
       "      <td>1499</td>\n",
       "      <td>2018-10</td>\n",
       "      <td>20.0</td>\n",
       "    </tr>\n",
       "    <tr>\n",
       "      <th>2275</th>\n",
       "      <td>1499</td>\n",
       "      <td>2018-11</td>\n",
       "      <td>17.0</td>\n",
       "    </tr>\n",
       "    <tr>\n",
       "      <th>2276</th>\n",
       "      <td>1499</td>\n",
       "      <td>2018-12</td>\n",
       "      <td>22.0</td>\n",
       "    </tr>\n",
       "  </tbody>\n",
       "</table>\n",
       "<p>2277 rows × 3 columns</p>\n",
       "</div>"
      ],
      "text/plain": [
       "      user_id   period  total_internet\n",
       "0        1000  2018-12             2.0\n",
       "1        1001  2018-08             7.0\n",
       "2        1001  2018-09            14.0\n",
       "3        1001  2018-10            22.0\n",
       "4        1001  2018-11            19.0\n",
       "...       ...      ...             ...\n",
       "2272     1498  2018-12            23.0\n",
       "2273     1499  2018-09            13.0\n",
       "2274     1499  2018-10            20.0\n",
       "2275     1499  2018-11            17.0\n",
       "2276     1499  2018-12            22.0\n",
       "\n",
       "[2277 rows x 3 columns]"
      ]
     },
     "metadata": {},
     "output_type": "display_data"
    }
   ],
   "source": [
    "# Calcula el volumen del tráfico de Internet usado por cada usuario al mes. Guarda el resultado.\n",
    "internet_per_month = megaline_internet.groupby(['user_id', 'period']).agg(total_internet =('mb_used', 'sum')).reset_index()\n",
    "internet_per_month['total_internet'] = np.ceil(internet_per_month['total_internet'] / 1024)  # Convertir MB a GB y redondear hacia arriba\n",
    "\n",
    "display(internet_per_month)"
   ]
  },
  {
   "cell_type": "markdown",
   "metadata": {
    "id": "VDfYXnj80q1H"
   },
   "source": [
    "[Junta los datos agregados en un DataFrame para que haya un registro que represente lo que consumió un usuario único en un mes determinado.]"
   ]
  },
  {
   "cell_type": "code",
   "execution_count": 29,
   "metadata": {
    "id": "FW99ykyf0q1H"
   },
   "outputs": [
    {
     "data": {
      "text/html": [
       "<div>\n",
       "<style scoped>\n",
       "    .dataframe tbody tr th:only-of-type {\n",
       "        vertical-align: middle;\n",
       "    }\n",
       "\n",
       "    .dataframe tbody tr th {\n",
       "        vertical-align: top;\n",
       "    }\n",
       "\n",
       "    .dataframe thead th {\n",
       "        text-align: right;\n",
       "    }\n",
       "</style>\n",
       "<table border=\"1\" class=\"dataframe\">\n",
       "  <thead>\n",
       "    <tr style=\"text-align: right;\">\n",
       "      <th></th>\n",
       "      <th>user_id</th>\n",
       "      <th>period</th>\n",
       "      <th>calls</th>\n",
       "      <th>total_minutes</th>\n",
       "      <th>total_messages</th>\n",
       "      <th>total_internet</th>\n",
       "    </tr>\n",
       "  </thead>\n",
       "  <tbody>\n",
       "    <tr>\n",
       "      <th>0</th>\n",
       "      <td>1000</td>\n",
       "      <td>2018-12</td>\n",
       "      <td>16.0</td>\n",
       "      <td>124.0</td>\n",
       "      <td>11.0</td>\n",
       "      <td>2.0</td>\n",
       "    </tr>\n",
       "    <tr>\n",
       "      <th>1</th>\n",
       "      <td>1001</td>\n",
       "      <td>2018-08</td>\n",
       "      <td>27.0</td>\n",
       "      <td>182.0</td>\n",
       "      <td>30.0</td>\n",
       "      <td>7.0</td>\n",
       "    </tr>\n",
       "    <tr>\n",
       "      <th>2</th>\n",
       "      <td>1001</td>\n",
       "      <td>2018-09</td>\n",
       "      <td>49.0</td>\n",
       "      <td>315.0</td>\n",
       "      <td>44.0</td>\n",
       "      <td>14.0</td>\n",
       "    </tr>\n",
       "    <tr>\n",
       "      <th>3</th>\n",
       "      <td>1001</td>\n",
       "      <td>2018-10</td>\n",
       "      <td>65.0</td>\n",
       "      <td>393.0</td>\n",
       "      <td>53.0</td>\n",
       "      <td>22.0</td>\n",
       "    </tr>\n",
       "    <tr>\n",
       "      <th>4</th>\n",
       "      <td>1001</td>\n",
       "      <td>2018-11</td>\n",
       "      <td>64.0</td>\n",
       "      <td>426.0</td>\n",
       "      <td>36.0</td>\n",
       "      <td>19.0</td>\n",
       "    </tr>\n",
       "    <tr>\n",
       "      <th>...</th>\n",
       "      <td>...</td>\n",
       "      <td>...</td>\n",
       "      <td>...</td>\n",
       "      <td>...</td>\n",
       "      <td>...</td>\n",
       "      <td>...</td>\n",
       "    </tr>\n",
       "    <tr>\n",
       "      <th>2288</th>\n",
       "      <td>1349</td>\n",
       "      <td>2018-12</td>\n",
       "      <td>NaN</td>\n",
       "      <td>NaN</td>\n",
       "      <td>61.0</td>\n",
       "      <td>13.0</td>\n",
       "    </tr>\n",
       "    <tr>\n",
       "      <th>2289</th>\n",
       "      <td>1361</td>\n",
       "      <td>2018-05</td>\n",
       "      <td>NaN</td>\n",
       "      <td>NaN</td>\n",
       "      <td>2.0</td>\n",
       "      <td>2.0</td>\n",
       "    </tr>\n",
       "    <tr>\n",
       "      <th>2290</th>\n",
       "      <td>1482</td>\n",
       "      <td>2018-10</td>\n",
       "      <td>NaN</td>\n",
       "      <td>NaN</td>\n",
       "      <td>2.0</td>\n",
       "      <td>NaN</td>\n",
       "    </tr>\n",
       "    <tr>\n",
       "      <th>2291</th>\n",
       "      <td>1108</td>\n",
       "      <td>2018-12</td>\n",
       "      <td>NaN</td>\n",
       "      <td>NaN</td>\n",
       "      <td>NaN</td>\n",
       "      <td>1.0</td>\n",
       "    </tr>\n",
       "    <tr>\n",
       "      <th>2292</th>\n",
       "      <td>1311</td>\n",
       "      <td>2018-06</td>\n",
       "      <td>NaN</td>\n",
       "      <td>NaN</td>\n",
       "      <td>NaN</td>\n",
       "      <td>2.0</td>\n",
       "    </tr>\n",
       "  </tbody>\n",
       "</table>\n",
       "<p>2293 rows × 6 columns</p>\n",
       "</div>"
      ],
      "text/plain": [
       "      user_id   period  calls  total_minutes  total_messages  total_internet\n",
       "0        1000  2018-12   16.0          124.0            11.0             2.0\n",
       "1        1001  2018-08   27.0          182.0            30.0             7.0\n",
       "2        1001  2018-09   49.0          315.0            44.0            14.0\n",
       "3        1001  2018-10   65.0          393.0            53.0            22.0\n",
       "4        1001  2018-11   64.0          426.0            36.0            19.0\n",
       "...       ...      ...    ...            ...             ...             ...\n",
       "2288     1349  2018-12    NaN            NaN            61.0            13.0\n",
       "2289     1361  2018-05    NaN            NaN             2.0             2.0\n",
       "2290     1482  2018-10    NaN            NaN             2.0             NaN\n",
       "2291     1108  2018-12    NaN            NaN             NaN             1.0\n",
       "2292     1311  2018-06    NaN            NaN             NaN             2.0\n",
       "\n",
       "[2293 rows x 6 columns]"
      ]
     },
     "metadata": {},
     "output_type": "display_data"
    }
   ],
   "source": [
    "# Fusiona los datos de llamadas, minutos, mensajes e Internet con base en user_id y month\n",
    "\n",
    "# Hacemos el merge de los datos.\n",
    "user_monthly_data = calls_per_month.merge(minutes_per_month, on=['user_id', 'period'], how='outer')\n",
    "user_monthly_data = user_monthly_data.merge(messages_per_month, on=['user_id', 'period'], how='outer')\n",
    "user_monthly_data = user_monthly_data.merge(internet_per_month, on=['user_id', 'period'], how='outer')\n",
    "\n",
    "display(user_monthly_data)\n"
   ]
  },
  {
   "cell_type": "code",
   "execution_count": 30,
   "metadata": {},
   "outputs": [
    {
     "data": {
      "text/html": [
       "<div>\n",
       "<style scoped>\n",
       "    .dataframe tbody tr th:only-of-type {\n",
       "        vertical-align: middle;\n",
       "    }\n",
       "\n",
       "    .dataframe tbody tr th {\n",
       "        vertical-align: top;\n",
       "    }\n",
       "\n",
       "    .dataframe thead th {\n",
       "        text-align: right;\n",
       "    }\n",
       "</style>\n",
       "<table border=\"1\" class=\"dataframe\">\n",
       "  <thead>\n",
       "    <tr style=\"text-align: right;\">\n",
       "      <th></th>\n",
       "      <th>user_id</th>\n",
       "      <th>period</th>\n",
       "      <th>calls</th>\n",
       "      <th>total_minutes</th>\n",
       "      <th>total_messages</th>\n",
       "      <th>total_internet</th>\n",
       "      <th>plan</th>\n",
       "    </tr>\n",
       "  </thead>\n",
       "  <tbody>\n",
       "    <tr>\n",
       "      <th>0</th>\n",
       "      <td>1000</td>\n",
       "      <td>2018-12</td>\n",
       "      <td>16.0</td>\n",
       "      <td>124.0</td>\n",
       "      <td>11.0</td>\n",
       "      <td>2.0</td>\n",
       "      <td>ultimate</td>\n",
       "    </tr>\n",
       "    <tr>\n",
       "      <th>1</th>\n",
       "      <td>1001</td>\n",
       "      <td>2018-08</td>\n",
       "      <td>27.0</td>\n",
       "      <td>182.0</td>\n",
       "      <td>30.0</td>\n",
       "      <td>7.0</td>\n",
       "      <td>surf</td>\n",
       "    </tr>\n",
       "    <tr>\n",
       "      <th>2</th>\n",
       "      <td>1001</td>\n",
       "      <td>2018-09</td>\n",
       "      <td>49.0</td>\n",
       "      <td>315.0</td>\n",
       "      <td>44.0</td>\n",
       "      <td>14.0</td>\n",
       "      <td>surf</td>\n",
       "    </tr>\n",
       "    <tr>\n",
       "      <th>3</th>\n",
       "      <td>1001</td>\n",
       "      <td>2018-10</td>\n",
       "      <td>65.0</td>\n",
       "      <td>393.0</td>\n",
       "      <td>53.0</td>\n",
       "      <td>22.0</td>\n",
       "      <td>surf</td>\n",
       "    </tr>\n",
       "    <tr>\n",
       "      <th>4</th>\n",
       "      <td>1001</td>\n",
       "      <td>2018-11</td>\n",
       "      <td>64.0</td>\n",
       "      <td>426.0</td>\n",
       "      <td>36.0</td>\n",
       "      <td>19.0</td>\n",
       "      <td>surf</td>\n",
       "    </tr>\n",
       "    <tr>\n",
       "      <th>...</th>\n",
       "      <td>...</td>\n",
       "      <td>...</td>\n",
       "      <td>...</td>\n",
       "      <td>...</td>\n",
       "      <td>...</td>\n",
       "      <td>...</td>\n",
       "      <td>...</td>\n",
       "    </tr>\n",
       "    <tr>\n",
       "      <th>2288</th>\n",
       "      <td>1349</td>\n",
       "      <td>2018-12</td>\n",
       "      <td>NaN</td>\n",
       "      <td>NaN</td>\n",
       "      <td>61.0</td>\n",
       "      <td>13.0</td>\n",
       "      <td>surf</td>\n",
       "    </tr>\n",
       "    <tr>\n",
       "      <th>2289</th>\n",
       "      <td>1361</td>\n",
       "      <td>2018-05</td>\n",
       "      <td>NaN</td>\n",
       "      <td>NaN</td>\n",
       "      <td>2.0</td>\n",
       "      <td>2.0</td>\n",
       "      <td>surf</td>\n",
       "    </tr>\n",
       "    <tr>\n",
       "      <th>2290</th>\n",
       "      <td>1482</td>\n",
       "      <td>2018-10</td>\n",
       "      <td>NaN</td>\n",
       "      <td>NaN</td>\n",
       "      <td>2.0</td>\n",
       "      <td>NaN</td>\n",
       "      <td>ultimate</td>\n",
       "    </tr>\n",
       "    <tr>\n",
       "      <th>2291</th>\n",
       "      <td>1108</td>\n",
       "      <td>2018-12</td>\n",
       "      <td>NaN</td>\n",
       "      <td>NaN</td>\n",
       "      <td>NaN</td>\n",
       "      <td>1.0</td>\n",
       "      <td>ultimate</td>\n",
       "    </tr>\n",
       "    <tr>\n",
       "      <th>2292</th>\n",
       "      <td>1311</td>\n",
       "      <td>2018-06</td>\n",
       "      <td>NaN</td>\n",
       "      <td>NaN</td>\n",
       "      <td>NaN</td>\n",
       "      <td>2.0</td>\n",
       "      <td>ultimate</td>\n",
       "    </tr>\n",
       "  </tbody>\n",
       "</table>\n",
       "<p>2293 rows × 7 columns</p>\n",
       "</div>"
      ],
      "text/plain": [
       "      user_id   period  calls  total_minutes  total_messages  total_internet  \\\n",
       "0        1000  2018-12   16.0          124.0            11.0             2.0   \n",
       "1        1001  2018-08   27.0          182.0            30.0             7.0   \n",
       "2        1001  2018-09   49.0          315.0            44.0            14.0   \n",
       "3        1001  2018-10   65.0          393.0            53.0            22.0   \n",
       "4        1001  2018-11   64.0          426.0            36.0            19.0   \n",
       "...       ...      ...    ...            ...             ...             ...   \n",
       "2288     1349  2018-12    NaN            NaN            61.0            13.0   \n",
       "2289     1361  2018-05    NaN            NaN             2.0             2.0   \n",
       "2290     1482  2018-10    NaN            NaN             2.0             NaN   \n",
       "2291     1108  2018-12    NaN            NaN             NaN             1.0   \n",
       "2292     1311  2018-06    NaN            NaN             NaN             2.0   \n",
       "\n",
       "          plan  \n",
       "0     ultimate  \n",
       "1         surf  \n",
       "2         surf  \n",
       "3         surf  \n",
       "4         surf  \n",
       "...        ...  \n",
       "2288      surf  \n",
       "2289      surf  \n",
       "2290  ultimate  \n",
       "2291  ultimate  \n",
       "2292  ultimate  \n",
       "\n",
       "[2293 rows x 7 columns]"
      ]
     },
     "metadata": {},
     "output_type": "display_data"
    }
   ],
   "source": [
    "# Añade la información de la tarifa\n",
    "user_monthly_data = user_monthly_data.merge(megaline_users[['user_id', 'plan']], on='user_id', how='left')\n",
    "\n",
    "display(user_monthly_data)"
   ]
  },
  {
   "cell_type": "markdown",
   "metadata": {},
   "source": [
    "<div class=\"alert alert-block alert-danger\">\n",
    "<b>Comentario del revisor (1ra Iteración)</b> <a class=“tocSkip”></a>\n",
    "    \n",
    "Aunque hiciste una agrupción correcta de los datos usando `groupby` debes tener en cuenta que, de acuerdo, con el enunciado del proyecto los valores de duración de las llamadas y el consumo de internet deben ser redondeados hacia arriba, ya que el cobro se hace por minuto y GB completo.\n",
    "    \n",
    "Para esto debes tener en cuenta lo siguiente:\n",
    "    \n",
    "* **Llamadas**: Primero realiza el redondeo hacia arriba para cada llamda y luego si sumas los minutos totales por usuario para cada mes.\n",
    "    \n",
    "* **Internet**: Primero sumas el consumo total en MB por usuario para cada mes, luego conviertes ese valor a **GB** y finalmente realizas el redondeo hacia arriba. \n",
    "    \n",
    "Estos valores finales, los comparas con los minutos y GB incluidos en cada plan para establecer si hubo un exceso y hacer el cobro respectivo.\n",
    "\n",
    "</div>"
   ]
  },
  {
   "cell_type": "markdown",
   "metadata": {},
   "source": [
    "<div class=\"alert alert-block alert-info\">\n",
    "<b>Revisada y resuelta. Indicado en los bloques azules.</b> <a class=“tocSkip”></a>\n",
    "</div>\n"
   ]
  },
  {
   "cell_type": "code",
   "execution_count": 31,
   "metadata": {},
   "outputs": [
    {
     "name": "stdout",
     "output_type": "stream",
     "text": [
      "Index(['user_id', 'period', 'calls', 'total_minutes', 'total_messages',\n",
      "       'total_internet', 'plan_name'],\n",
      "      dtype='object')\n"
     ]
    }
   ],
   "source": [
    "# Nos ayudaría cambiar el nombre de la columna \"plan\" a \"plan_name\" para que sea más descriptivo.\n",
    "user_monthly_data.rename(columns={'plan': 'plan_name'}, inplace=True)\n",
    "\n",
    "# Corroboramos el cambio\n",
    "print(user_monthly_data.columns)"
   ]
  },
  {
   "cell_type": "code",
   "execution_count": 32,
   "metadata": {},
   "outputs": [
    {
     "data": {
      "text/html": [
       "<div>\n",
       "<style scoped>\n",
       "    .dataframe tbody tr th:only-of-type {\n",
       "        vertical-align: middle;\n",
       "    }\n",
       "\n",
       "    .dataframe tbody tr th {\n",
       "        vertical-align: top;\n",
       "    }\n",
       "\n",
       "    .dataframe thead th {\n",
       "        text-align: right;\n",
       "    }\n",
       "</style>\n",
       "<table border=\"1\" class=\"dataframe\">\n",
       "  <thead>\n",
       "    <tr style=\"text-align: right;\">\n",
       "      <th></th>\n",
       "      <th>user_id</th>\n",
       "      <th>period</th>\n",
       "      <th>calls</th>\n",
       "      <th>total_minutes</th>\n",
       "      <th>total_messages</th>\n",
       "      <th>total_internet</th>\n",
       "      <th>plan_name</th>\n",
       "      <th>messages_included</th>\n",
       "      <th>mb_per_month_included</th>\n",
       "      <th>minutes_included</th>\n",
       "      <th>usd_monthly_pay</th>\n",
       "      <th>usd_per_gb</th>\n",
       "      <th>usd_per_message</th>\n",
       "      <th>usd_per_minute</th>\n",
       "    </tr>\n",
       "  </thead>\n",
       "  <tbody>\n",
       "    <tr>\n",
       "      <th>229</th>\n",
       "      <td>1054</td>\n",
       "      <td>2018-10</td>\n",
       "      <td>37.0</td>\n",
       "      <td>256.0</td>\n",
       "      <td>41.0</td>\n",
       "      <td>21.0</td>\n",
       "      <td>surf</td>\n",
       "      <td>50</td>\n",
       "      <td>15360</td>\n",
       "      <td>500</td>\n",
       "      <td>20</td>\n",
       "      <td>10</td>\n",
       "      <td>0.03</td>\n",
       "      <td>0.03</td>\n",
       "    </tr>\n",
       "    <tr>\n",
       "      <th>904</th>\n",
       "      <td>1193</td>\n",
       "      <td>2018-08</td>\n",
       "      <td>32.0</td>\n",
       "      <td>236.0</td>\n",
       "      <td>73.0</td>\n",
       "      <td>20.0</td>\n",
       "      <td>surf</td>\n",
       "      <td>50</td>\n",
       "      <td>15360</td>\n",
       "      <td>500</td>\n",
       "      <td>20</td>\n",
       "      <td>10</td>\n",
       "      <td>0.03</td>\n",
       "      <td>0.03</td>\n",
       "    </tr>\n",
       "    <tr>\n",
       "      <th>1496</th>\n",
       "      <td>1332</td>\n",
       "      <td>2018-09</td>\n",
       "      <td>49.0</td>\n",
       "      <td>314.0</td>\n",
       "      <td>3.0</td>\n",
       "      <td>21.0</td>\n",
       "      <td>surf</td>\n",
       "      <td>50</td>\n",
       "      <td>15360</td>\n",
       "      <td>500</td>\n",
       "      <td>20</td>\n",
       "      <td>10</td>\n",
       "      <td>0.03</td>\n",
       "      <td>0.03</td>\n",
       "    </tr>\n",
       "    <tr>\n",
       "      <th>1864</th>\n",
       "      <td>1406</td>\n",
       "      <td>2018-04</td>\n",
       "      <td>52.0</td>\n",
       "      <td>358.0</td>\n",
       "      <td>NaN</td>\n",
       "      <td>19.0</td>\n",
       "      <td>surf</td>\n",
       "      <td>50</td>\n",
       "      <td>15360</td>\n",
       "      <td>500</td>\n",
       "      <td>20</td>\n",
       "      <td>10</td>\n",
       "      <td>0.03</td>\n",
       "      <td>0.03</td>\n",
       "    </tr>\n",
       "    <tr>\n",
       "      <th>710</th>\n",
       "      <td>1154</td>\n",
       "      <td>2018-10</td>\n",
       "      <td>38.0</td>\n",
       "      <td>355.0</td>\n",
       "      <td>74.0</td>\n",
       "      <td>16.0</td>\n",
       "      <td>ultimate</td>\n",
       "      <td>1000</td>\n",
       "      <td>30720</td>\n",
       "      <td>3000</td>\n",
       "      <td>70</td>\n",
       "      <td>7</td>\n",
       "      <td>0.01</td>\n",
       "      <td>0.01</td>\n",
       "    </tr>\n",
       "    <tr>\n",
       "      <th>612</th>\n",
       "      <td>1132</td>\n",
       "      <td>2018-11</td>\n",
       "      <td>83.0</td>\n",
       "      <td>632.0</td>\n",
       "      <td>166.0</td>\n",
       "      <td>26.0</td>\n",
       "      <td>ultimate</td>\n",
       "      <td>1000</td>\n",
       "      <td>30720</td>\n",
       "      <td>3000</td>\n",
       "      <td>70</td>\n",
       "      <td>7</td>\n",
       "      <td>0.01</td>\n",
       "      <td>0.01</td>\n",
       "    </tr>\n",
       "    <tr>\n",
       "      <th>136</th>\n",
       "      <td>1038</td>\n",
       "      <td>2018-12</td>\n",
       "      <td>78.0</td>\n",
       "      <td>475.0</td>\n",
       "      <td>113.0</td>\n",
       "      <td>44.0</td>\n",
       "      <td>ultimate</td>\n",
       "      <td>1000</td>\n",
       "      <td>30720</td>\n",
       "      <td>3000</td>\n",
       "      <td>70</td>\n",
       "      <td>7</td>\n",
       "      <td>0.01</td>\n",
       "      <td>0.01</td>\n",
       "    </tr>\n",
       "    <tr>\n",
       "      <th>432</th>\n",
       "      <td>1094</td>\n",
       "      <td>2018-10</td>\n",
       "      <td>1.0</td>\n",
       "      <td>0.0</td>\n",
       "      <td>NaN</td>\n",
       "      <td>2.0</td>\n",
       "      <td>surf</td>\n",
       "      <td>50</td>\n",
       "      <td>15360</td>\n",
       "      <td>500</td>\n",
       "      <td>20</td>\n",
       "      <td>10</td>\n",
       "      <td>0.03</td>\n",
       "      <td>0.03</td>\n",
       "    </tr>\n",
       "    <tr>\n",
       "      <th>1143</th>\n",
       "      <td>1249</td>\n",
       "      <td>2018-10</td>\n",
       "      <td>86.0</td>\n",
       "      <td>566.0</td>\n",
       "      <td>36.0</td>\n",
       "      <td>12.0</td>\n",
       "      <td>ultimate</td>\n",
       "      <td>1000</td>\n",
       "      <td>30720</td>\n",
       "      <td>3000</td>\n",
       "      <td>70</td>\n",
       "      <td>7</td>\n",
       "      <td>0.01</td>\n",
       "      <td>0.01</td>\n",
       "    </tr>\n",
       "    <tr>\n",
       "      <th>616</th>\n",
       "      <td>1133</td>\n",
       "      <td>2018-09</td>\n",
       "      <td>39.0</td>\n",
       "      <td>313.0</td>\n",
       "      <td>90.0</td>\n",
       "      <td>17.0</td>\n",
       "      <td>ultimate</td>\n",
       "      <td>1000</td>\n",
       "      <td>30720</td>\n",
       "      <td>3000</td>\n",
       "      <td>70</td>\n",
       "      <td>7</td>\n",
       "      <td>0.01</td>\n",
       "      <td>0.01</td>\n",
       "    </tr>\n",
       "    <tr>\n",
       "      <th>589</th>\n",
       "      <td>1127</td>\n",
       "      <td>2018-08</td>\n",
       "      <td>34.0</td>\n",
       "      <td>275.0</td>\n",
       "      <td>9.0</td>\n",
       "      <td>21.0</td>\n",
       "      <td>surf</td>\n",
       "      <td>50</td>\n",
       "      <td>15360</td>\n",
       "      <td>500</td>\n",
       "      <td>20</td>\n",
       "      <td>10</td>\n",
       "      <td>0.03</td>\n",
       "      <td>0.03</td>\n",
       "    </tr>\n",
       "    <tr>\n",
       "      <th>1983</th>\n",
       "      <td>1434</td>\n",
       "      <td>2018-08</td>\n",
       "      <td>59.0</td>\n",
       "      <td>369.0</td>\n",
       "      <td>48.0</td>\n",
       "      <td>15.0</td>\n",
       "      <td>surf</td>\n",
       "      <td>50</td>\n",
       "      <td>15360</td>\n",
       "      <td>500</td>\n",
       "      <td>20</td>\n",
       "      <td>10</td>\n",
       "      <td>0.03</td>\n",
       "      <td>0.03</td>\n",
       "    </tr>\n",
       "    <tr>\n",
       "      <th>1090</th>\n",
       "      <td>1237</td>\n",
       "      <td>2018-11</td>\n",
       "      <td>89.0</td>\n",
       "      <td>743.0</td>\n",
       "      <td>33.0</td>\n",
       "      <td>8.0</td>\n",
       "      <td>ultimate</td>\n",
       "      <td>1000</td>\n",
       "      <td>30720</td>\n",
       "      <td>3000</td>\n",
       "      <td>70</td>\n",
       "      <td>7</td>\n",
       "      <td>0.01</td>\n",
       "      <td>0.01</td>\n",
       "    </tr>\n",
       "    <tr>\n",
       "      <th>819</th>\n",
       "      <td>1174</td>\n",
       "      <td>2018-10</td>\n",
       "      <td>85.0</td>\n",
       "      <td>612.0</td>\n",
       "      <td>79.0</td>\n",
       "      <td>22.0</td>\n",
       "      <td>surf</td>\n",
       "      <td>50</td>\n",
       "      <td>15360</td>\n",
       "      <td>500</td>\n",
       "      <td>20</td>\n",
       "      <td>10</td>\n",
       "      <td>0.03</td>\n",
       "      <td>0.03</td>\n",
       "    </tr>\n",
       "    <tr>\n",
       "      <th>2119</th>\n",
       "      <td>1467</td>\n",
       "      <td>2018-09</td>\n",
       "      <td>66.0</td>\n",
       "      <td>440.0</td>\n",
       "      <td>64.0</td>\n",
       "      <td>14.0</td>\n",
       "      <td>ultimate</td>\n",
       "      <td>1000</td>\n",
       "      <td>30720</td>\n",
       "      <td>3000</td>\n",
       "      <td>70</td>\n",
       "      <td>7</td>\n",
       "      <td>0.01</td>\n",
       "      <td>0.01</td>\n",
       "    </tr>\n",
       "  </tbody>\n",
       "</table>\n",
       "</div>"
      ],
      "text/plain": [
       "      user_id   period  calls  total_minutes  total_messages  total_internet  \\\n",
       "229      1054  2018-10   37.0          256.0            41.0            21.0   \n",
       "904      1193  2018-08   32.0          236.0            73.0            20.0   \n",
       "1496     1332  2018-09   49.0          314.0             3.0            21.0   \n",
       "1864     1406  2018-04   52.0          358.0             NaN            19.0   \n",
       "710      1154  2018-10   38.0          355.0            74.0            16.0   \n",
       "612      1132  2018-11   83.0          632.0           166.0            26.0   \n",
       "136      1038  2018-12   78.0          475.0           113.0            44.0   \n",
       "432      1094  2018-10    1.0            0.0             NaN             2.0   \n",
       "1143     1249  2018-10   86.0          566.0            36.0            12.0   \n",
       "616      1133  2018-09   39.0          313.0            90.0            17.0   \n",
       "589      1127  2018-08   34.0          275.0             9.0            21.0   \n",
       "1983     1434  2018-08   59.0          369.0            48.0            15.0   \n",
       "1090     1237  2018-11   89.0          743.0            33.0             8.0   \n",
       "819      1174  2018-10   85.0          612.0            79.0            22.0   \n",
       "2119     1467  2018-09   66.0          440.0            64.0            14.0   \n",
       "\n",
       "     plan_name  messages_included  mb_per_month_included  minutes_included  \\\n",
       "229       surf                 50                  15360               500   \n",
       "904       surf                 50                  15360               500   \n",
       "1496      surf                 50                  15360               500   \n",
       "1864      surf                 50                  15360               500   \n",
       "710   ultimate               1000                  30720              3000   \n",
       "612   ultimate               1000                  30720              3000   \n",
       "136   ultimate               1000                  30720              3000   \n",
       "432       surf                 50                  15360               500   \n",
       "1143  ultimate               1000                  30720              3000   \n",
       "616   ultimate               1000                  30720              3000   \n",
       "589       surf                 50                  15360               500   \n",
       "1983      surf                 50                  15360               500   \n",
       "1090  ultimate               1000                  30720              3000   \n",
       "819       surf                 50                  15360               500   \n",
       "2119  ultimate               1000                  30720              3000   \n",
       "\n",
       "      usd_monthly_pay  usd_per_gb  usd_per_message  usd_per_minute  \n",
       "229                20          10             0.03            0.03  \n",
       "904                20          10             0.03            0.03  \n",
       "1496               20          10             0.03            0.03  \n",
       "1864               20          10             0.03            0.03  \n",
       "710                70           7             0.01            0.01  \n",
       "612                70           7             0.01            0.01  \n",
       "136                70           7             0.01            0.01  \n",
       "432                20          10             0.03            0.03  \n",
       "1143               70           7             0.01            0.01  \n",
       "616                70           7             0.01            0.01  \n",
       "589                20          10             0.03            0.03  \n",
       "1983               20          10             0.03            0.03  \n",
       "1090               70           7             0.01            0.01  \n",
       "819                20          10             0.03            0.03  \n",
       "2119               70           7             0.01            0.01  "
      ]
     },
     "execution_count": 32,
     "metadata": {},
     "output_type": "execute_result"
    }
   ],
   "source": [
    "# Hacemos un merge de los planes con user_monthly_data para poder ver los beneficios del plan de cada usuario.\n",
    "user_monthly_data = user_monthly_data.merge(megaline_plans, on='plan_name', how='left')\n",
    "\n",
    "# Obtenemos una muestra para ver el merge recién hecho\n",
    "user_monthly_data.sample(15)"
   ]
  },
  {
   "cell_type": "markdown",
   "metadata": {
    "id": "1IwGo4wg0q1I"
   },
   "source": [
    "[Calcula los ingresos mensuales por usuario (resta el límite del paquete gratuito del número total de llamadas, mensajes de texto y datos; multiplica el resultado por el valor del plan de llamadas; añade la tarifa mensual en función del plan de llamadas). Nota: Dadas las condiciones del plan, ¡esto podría no ser tan trivial como un par de líneas! Así que no pasa nada si dedicas algo de tiempo a ello.]"
   ]
  },
  {
   "cell_type": "code",
   "execution_count": 63,
   "metadata": {
    "id": "5FGCf_c60q1I"
   },
   "outputs": [],
   "source": [
    "# Calcula el ingreso mensual para cada usuario.\n",
    "\n",
    "# Redondeamos el internet usado mensualmente\n",
    "user_monthly_data['total_gb'] = np.ceil(user_monthly_data['total_internet'])"
   ]
  },
  {
   "cell_type": "code",
   "execution_count": 64,
   "metadata": {},
   "outputs": [],
   "source": [
    "# Obtenemos la diferencia extra\n",
    "user_monthly_data['extra_minutes'] = user_monthly_data['total_minutes'] - user_monthly_data['minutes_included']\n",
    "user_monthly_data['extra_messages'] = user_monthly_data['total_messages'] - user_monthly_data['messages_included']\n",
    "user_monthly_data['extra_gb'] = user_monthly_data['total_gb'] - user_monthly_data['mb_per_month_included'] / 1024"
   ]
  },
  {
   "cell_type": "code",
   "execution_count": 65,
   "metadata": {},
   "outputs": [],
   "source": [
    "# Reemplazamos los valores negativos que nos dio.\n",
    "# Aquí la función que sirve para limitar los valores nos ayudará mucho.\n",
    "user_monthly_data['extra_minutes'] = user_monthly_data['extra_minutes'].clip(lower=0)\n",
    "user_monthly_data['extra_messages'] = user_monthly_data['extra_messages'].clip(lower=0)\n",
    "user_monthly_data['extra_gb'] = user_monthly_data['extra_gb'].clip(lower=0)"
   ]
  },
  {
   "cell_type": "code",
   "execution_count": 72,
   "metadata": {},
   "outputs": [],
   "source": [
    "# Realizamos los cálculos pertinentes\n",
    "user_monthly_data['cost_extra_minutes'] = user_monthly_data['extra_minutes'] * user_monthly_data['usd_per_minute']\n",
    "user_monthly_data['cost_extra_messages'] = user_monthly_data['extra_messages'] * user_monthly_data['usd_per_message']\n",
    "user_monthly_data['cost_extra_gb'] = user_monthly_data['extra_gb'] * user_monthly_data['usd_per_gb']"
   ]
  },
  {
   "cell_type": "code",
   "execution_count": 73,
   "metadata": {},
   "outputs": [],
   "source": [
    "# Rellenamos los posibles valores NaN que tengamos.\n",
    "user_monthly_data['cost_extra_minutes'] = user_monthly_data['cost_extra_minutes'].fillna(0)\n",
    "user_monthly_data['cost_extra_messages'] = user_monthly_data['cost_extra_messages'].fillna(0)\n",
    "user_monthly_data['cost_extra_gb'] = user_monthly_data['cost_extra_gb'].fillna(0)"
   ]
  },
  {
   "cell_type": "code",
   "execution_count": 74,
   "metadata": {},
   "outputs": [],
   "source": [
    "# Calculamos el ingreso mensual final.\n",
    "user_monthly_data['monthly_revenue'] = ( user_monthly_data['usd_monthly_pay'] + user_monthly_data['cost_extra_minutes'] \n",
    "+ user_monthly_data['cost_extra_messages'] + user_monthly_data['cost_extra_gb']  )"
   ]
  },
  {
   "cell_type": "code",
   "execution_count": 75,
   "metadata": {},
   "outputs": [
    {
     "data": {
      "text/html": [
       "<div>\n",
       "<style scoped>\n",
       "    .dataframe tbody tr th:only-of-type {\n",
       "        vertical-align: middle;\n",
       "    }\n",
       "\n",
       "    .dataframe tbody tr th {\n",
       "        vertical-align: top;\n",
       "    }\n",
       "\n",
       "    .dataframe thead th {\n",
       "        text-align: right;\n",
       "    }\n",
       "</style>\n",
       "<table border=\"1\" class=\"dataframe\">\n",
       "  <thead>\n",
       "    <tr style=\"text-align: right;\">\n",
       "      <th></th>\n",
       "      <th>user_id</th>\n",
       "      <th>period</th>\n",
       "      <th>monthly_revenue</th>\n",
       "      <th>usd_monthly_pay</th>\n",
       "      <th>cost_extra_minutes</th>\n",
       "      <th>cost_extra_messages</th>\n",
       "      <th>cost_extra_gb</th>\n",
       "    </tr>\n",
       "  </thead>\n",
       "  <tbody>\n",
       "    <tr>\n",
       "      <th>1059</th>\n",
       "      <td>1231</td>\n",
       "      <td>2018-08</td>\n",
       "      <td>70.00</td>\n",
       "      <td>70</td>\n",
       "      <td>0.00</td>\n",
       "      <td>0.00</td>\n",
       "      <td>0.0</td>\n",
       "    </tr>\n",
       "    <tr>\n",
       "      <th>1972</th>\n",
       "      <td>1432</td>\n",
       "      <td>2018-11</td>\n",
       "      <td>70.00</td>\n",
       "      <td>70</td>\n",
       "      <td>0.00</td>\n",
       "      <td>0.00</td>\n",
       "      <td>0.0</td>\n",
       "    </tr>\n",
       "    <tr>\n",
       "      <th>1411</th>\n",
       "      <td>1313</td>\n",
       "      <td>2018-12</td>\n",
       "      <td>24.20</td>\n",
       "      <td>20</td>\n",
       "      <td>4.20</td>\n",
       "      <td>0.00</td>\n",
       "      <td>0.0</td>\n",
       "    </tr>\n",
       "    <tr>\n",
       "      <th>408</th>\n",
       "      <td>1085</td>\n",
       "      <td>2018-12</td>\n",
       "      <td>70.00</td>\n",
       "      <td>70</td>\n",
       "      <td>0.00</td>\n",
       "      <td>0.00</td>\n",
       "      <td>0.0</td>\n",
       "    </tr>\n",
       "    <tr>\n",
       "      <th>290</th>\n",
       "      <td>1064</td>\n",
       "      <td>2018-09</td>\n",
       "      <td>41.89</td>\n",
       "      <td>20</td>\n",
       "      <td>1.89</td>\n",
       "      <td>0.00</td>\n",
       "      <td>20.0</td>\n",
       "    </tr>\n",
       "    <tr>\n",
       "      <th>1810</th>\n",
       "      <td>1397</td>\n",
       "      <td>2018-11</td>\n",
       "      <td>53.69</td>\n",
       "      <td>20</td>\n",
       "      <td>3.69</td>\n",
       "      <td>0.00</td>\n",
       "      <td>30.0</td>\n",
       "    </tr>\n",
       "    <tr>\n",
       "      <th>1324</th>\n",
       "      <td>1291</td>\n",
       "      <td>2018-10</td>\n",
       "      <td>85.43</td>\n",
       "      <td>20</td>\n",
       "      <td>5.43</td>\n",
       "      <td>0.00</td>\n",
       "      <td>60.0</td>\n",
       "    </tr>\n",
       "    <tr>\n",
       "      <th>600</th>\n",
       "      <td>1128</td>\n",
       "      <td>2018-12</td>\n",
       "      <td>70.00</td>\n",
       "      <td>70</td>\n",
       "      <td>0.00</td>\n",
       "      <td>0.00</td>\n",
       "      <td>0.0</td>\n",
       "    </tr>\n",
       "    <tr>\n",
       "      <th>119</th>\n",
       "      <td>1032</td>\n",
       "      <td>2018-12</td>\n",
       "      <td>70.00</td>\n",
       "      <td>70</td>\n",
       "      <td>0.00</td>\n",
       "      <td>0.00</td>\n",
       "      <td>0.0</td>\n",
       "    </tr>\n",
       "    <tr>\n",
       "      <th>1052</th>\n",
       "      <td>1228</td>\n",
       "      <td>2018-10</td>\n",
       "      <td>20.00</td>\n",
       "      <td>20</td>\n",
       "      <td>0.00</td>\n",
       "      <td>0.00</td>\n",
       "      <td>0.0</td>\n",
       "    </tr>\n",
       "    <tr>\n",
       "      <th>2247</th>\n",
       "      <td>1498</td>\n",
       "      <td>2018-06</td>\n",
       "      <td>20.00</td>\n",
       "      <td>20</td>\n",
       "      <td>0.00</td>\n",
       "      <td>0.00</td>\n",
       "      <td>0.0</td>\n",
       "    </tr>\n",
       "    <tr>\n",
       "      <th>2125</th>\n",
       "      <td>1468</td>\n",
       "      <td>2018-11</td>\n",
       "      <td>60.00</td>\n",
       "      <td>20</td>\n",
       "      <td>0.00</td>\n",
       "      <td>0.00</td>\n",
       "      <td>40.0</td>\n",
       "    </tr>\n",
       "    <tr>\n",
       "      <th>1242</th>\n",
       "      <td>1267</td>\n",
       "      <td>2018-12</td>\n",
       "      <td>272.55</td>\n",
       "      <td>20</td>\n",
       "      <td>30.30</td>\n",
       "      <td>2.25</td>\n",
       "      <td>220.0</td>\n",
       "    </tr>\n",
       "    <tr>\n",
       "      <th>2145</th>\n",
       "      <td>1472</td>\n",
       "      <td>2018-10</td>\n",
       "      <td>20.00</td>\n",
       "      <td>20</td>\n",
       "      <td>0.00</td>\n",
       "      <td>0.00</td>\n",
       "      <td>0.0</td>\n",
       "    </tr>\n",
       "    <tr>\n",
       "      <th>2102</th>\n",
       "      <td>1465</td>\n",
       "      <td>2018-09</td>\n",
       "      <td>70.00</td>\n",
       "      <td>70</td>\n",
       "      <td>0.00</td>\n",
       "      <td>0.00</td>\n",
       "      <td>0.0</td>\n",
       "    </tr>\n",
       "    <tr>\n",
       "      <th>1348</th>\n",
       "      <td>1296</td>\n",
       "      <td>2018-12</td>\n",
       "      <td>70.00</td>\n",
       "      <td>70</td>\n",
       "      <td>0.00</td>\n",
       "      <td>0.00</td>\n",
       "      <td>0.0</td>\n",
       "    </tr>\n",
       "    <tr>\n",
       "      <th>1954</th>\n",
       "      <td>1426</td>\n",
       "      <td>2018-12</td>\n",
       "      <td>70.00</td>\n",
       "      <td>70</td>\n",
       "      <td>0.00</td>\n",
       "      <td>0.00</td>\n",
       "      <td>0.0</td>\n",
       "    </tr>\n",
       "    <tr>\n",
       "      <th>585</th>\n",
       "      <td>1126</td>\n",
       "      <td>2018-11</td>\n",
       "      <td>70.00</td>\n",
       "      <td>70</td>\n",
       "      <td>0.00</td>\n",
       "      <td>0.00</td>\n",
       "      <td>0.0</td>\n",
       "    </tr>\n",
       "    <tr>\n",
       "      <th>730</th>\n",
       "      <td>1156</td>\n",
       "      <td>2018-10</td>\n",
       "      <td>70.00</td>\n",
       "      <td>20</td>\n",
       "      <td>0.00</td>\n",
       "      <td>0.00</td>\n",
       "      <td>50.0</td>\n",
       "    </tr>\n",
       "    <tr>\n",
       "      <th>547</th>\n",
       "      <td>1117</td>\n",
       "      <td>2018-12</td>\n",
       "      <td>120.00</td>\n",
       "      <td>20</td>\n",
       "      <td>0.00</td>\n",
       "      <td>0.00</td>\n",
       "      <td>100.0</td>\n",
       "    </tr>\n",
       "  </tbody>\n",
       "</table>\n",
       "</div>"
      ],
      "text/plain": [
       "      user_id   period  monthly_revenue  usd_monthly_pay  cost_extra_minutes  \\\n",
       "1059     1231  2018-08            70.00               70                0.00   \n",
       "1972     1432  2018-11            70.00               70                0.00   \n",
       "1411     1313  2018-12            24.20               20                4.20   \n",
       "408      1085  2018-12            70.00               70                0.00   \n",
       "290      1064  2018-09            41.89               20                1.89   \n",
       "1810     1397  2018-11            53.69               20                3.69   \n",
       "1324     1291  2018-10            85.43               20                5.43   \n",
       "600      1128  2018-12            70.00               70                0.00   \n",
       "119      1032  2018-12            70.00               70                0.00   \n",
       "1052     1228  2018-10            20.00               20                0.00   \n",
       "2247     1498  2018-06            20.00               20                0.00   \n",
       "2125     1468  2018-11            60.00               20                0.00   \n",
       "1242     1267  2018-12           272.55               20               30.30   \n",
       "2145     1472  2018-10            20.00               20                0.00   \n",
       "2102     1465  2018-09            70.00               70                0.00   \n",
       "1348     1296  2018-12            70.00               70                0.00   \n",
       "1954     1426  2018-12            70.00               70                0.00   \n",
       "585      1126  2018-11            70.00               70                0.00   \n",
       "730      1156  2018-10            70.00               20                0.00   \n",
       "547      1117  2018-12           120.00               20                0.00   \n",
       "\n",
       "      cost_extra_messages  cost_extra_gb  \n",
       "1059                 0.00            0.0  \n",
       "1972                 0.00            0.0  \n",
       "1411                 0.00            0.0  \n",
       "408                  0.00            0.0  \n",
       "290                  0.00           20.0  \n",
       "1810                 0.00           30.0  \n",
       "1324                 0.00           60.0  \n",
       "600                  0.00            0.0  \n",
       "119                  0.00            0.0  \n",
       "1052                 0.00            0.0  \n",
       "2247                 0.00            0.0  \n",
       "2125                 0.00           40.0  \n",
       "1242                 2.25          220.0  \n",
       "2145                 0.00            0.0  \n",
       "2102                 0.00            0.0  \n",
       "1348                 0.00            0.0  \n",
       "1954                 0.00            0.0  \n",
       "585                  0.00            0.0  \n",
       "730                  0.00           50.0  \n",
       "547                  0.00          100.0  "
      ]
     },
     "metadata": {},
     "output_type": "display_data"
    }
   ],
   "source": [
    "display(user_monthly_data[['user_id', 'period', 'monthly_revenue',\"usd_monthly_pay\",\"cost_extra_minutes\",\"cost_extra_messages\",\"cost_extra_gb\"]].sample(20))\n"
   ]
  },
  {
   "cell_type": "markdown",
   "metadata": {},
   "source": [
    "<div class=\"alert alert-block alert-warning\">\n",
    "<b>Comentario del revisor (1ra Iteración)</b> <a class=“tocSkip”></a>\n",
    "\n",
    "La lógica de cálculo del cobro mensual, en general es correcta solo debes hacer los ajustes de redonde que te mencioné más arriba. Ten muy en cuenta el plan que tiene cada usuario, cuánto vale el plan base y los cobros por los consumos extras. \n",
    "\n",
    "</div>"
   ]
  },
  {
   "cell_type": "code",
   "execution_count": 76,
   "metadata": {},
   "outputs": [
    {
     "data": {
      "text/html": [
       "<div>\n",
       "<style scoped>\n",
       "    .dataframe tbody tr th:only-of-type {\n",
       "        vertical-align: middle;\n",
       "    }\n",
       "\n",
       "    .dataframe tbody tr th {\n",
       "        vertical-align: top;\n",
       "    }\n",
       "\n",
       "    .dataframe thead th {\n",
       "        text-align: right;\n",
       "    }\n",
       "</style>\n",
       "<table border=\"1\" class=\"dataframe\">\n",
       "  <thead>\n",
       "    <tr style=\"text-align: right;\">\n",
       "      <th></th>\n",
       "      <th>user_id</th>\n",
       "      <th>extra_gb</th>\n",
       "      <th>period</th>\n",
       "      <th>monthly_revenue</th>\n",
       "      <th>usd_monthly_pay</th>\n",
       "      <th>cost_extra_minutes</th>\n",
       "      <th>cost_extra_messages</th>\n",
       "      <th>cost_extra_gb</th>\n",
       "    </tr>\n",
       "  </thead>\n",
       "  <tbody>\n",
       "    <tr>\n",
       "      <th>0</th>\n",
       "      <td>1000</td>\n",
       "      <td>0.0</td>\n",
       "      <td>2018-12</td>\n",
       "      <td>70.00</td>\n",
       "      <td>70</td>\n",
       "      <td>0.0</td>\n",
       "      <td>0.00</td>\n",
       "      <td>0.0</td>\n",
       "    </tr>\n",
       "    <tr>\n",
       "      <th>1</th>\n",
       "      <td>1001</td>\n",
       "      <td>0.0</td>\n",
       "      <td>2018-08</td>\n",
       "      <td>20.00</td>\n",
       "      <td>20</td>\n",
       "      <td>0.0</td>\n",
       "      <td>0.00</td>\n",
       "      <td>0.0</td>\n",
       "    </tr>\n",
       "    <tr>\n",
       "      <th>2</th>\n",
       "      <td>1001</td>\n",
       "      <td>0.0</td>\n",
       "      <td>2018-09</td>\n",
       "      <td>20.00</td>\n",
       "      <td>20</td>\n",
       "      <td>0.0</td>\n",
       "      <td>0.00</td>\n",
       "      <td>0.0</td>\n",
       "    </tr>\n",
       "    <tr>\n",
       "      <th>3</th>\n",
       "      <td>1001</td>\n",
       "      <td>7.0</td>\n",
       "      <td>2018-10</td>\n",
       "      <td>90.09</td>\n",
       "      <td>20</td>\n",
       "      <td>0.0</td>\n",
       "      <td>0.09</td>\n",
       "      <td>70.0</td>\n",
       "    </tr>\n",
       "    <tr>\n",
       "      <th>4</th>\n",
       "      <td>1001</td>\n",
       "      <td>4.0</td>\n",
       "      <td>2018-11</td>\n",
       "      <td>60.00</td>\n",
       "      <td>20</td>\n",
       "      <td>0.0</td>\n",
       "      <td>0.00</td>\n",
       "      <td>40.0</td>\n",
       "    </tr>\n",
       "    <tr>\n",
       "      <th>...</th>\n",
       "      <td>...</td>\n",
       "      <td>...</td>\n",
       "      <td>...</td>\n",
       "      <td>...</td>\n",
       "      <td>...</td>\n",
       "      <td>...</td>\n",
       "      <td>...</td>\n",
       "      <td>...</td>\n",
       "    </tr>\n",
       "    <tr>\n",
       "      <th>2288</th>\n",
       "      <td>1349</td>\n",
       "      <td>0.0</td>\n",
       "      <td>2018-12</td>\n",
       "      <td>20.33</td>\n",
       "      <td>20</td>\n",
       "      <td>0.0</td>\n",
       "      <td>0.33</td>\n",
       "      <td>0.0</td>\n",
       "    </tr>\n",
       "    <tr>\n",
       "      <th>2289</th>\n",
       "      <td>1361</td>\n",
       "      <td>0.0</td>\n",
       "      <td>2018-05</td>\n",
       "      <td>20.00</td>\n",
       "      <td>20</td>\n",
       "      <td>0.0</td>\n",
       "      <td>0.00</td>\n",
       "      <td>0.0</td>\n",
       "    </tr>\n",
       "    <tr>\n",
       "      <th>2290</th>\n",
       "      <td>1482</td>\n",
       "      <td>NaN</td>\n",
       "      <td>2018-10</td>\n",
       "      <td>70.00</td>\n",
       "      <td>70</td>\n",
       "      <td>0.0</td>\n",
       "      <td>0.00</td>\n",
       "      <td>0.0</td>\n",
       "    </tr>\n",
       "    <tr>\n",
       "      <th>2291</th>\n",
       "      <td>1108</td>\n",
       "      <td>0.0</td>\n",
       "      <td>2018-12</td>\n",
       "      <td>70.00</td>\n",
       "      <td>70</td>\n",
       "      <td>0.0</td>\n",
       "      <td>0.00</td>\n",
       "      <td>0.0</td>\n",
       "    </tr>\n",
       "    <tr>\n",
       "      <th>2292</th>\n",
       "      <td>1311</td>\n",
       "      <td>0.0</td>\n",
       "      <td>2018-06</td>\n",
       "      <td>70.00</td>\n",
       "      <td>70</td>\n",
       "      <td>0.0</td>\n",
       "      <td>0.00</td>\n",
       "      <td>0.0</td>\n",
       "    </tr>\n",
       "  </tbody>\n",
       "</table>\n",
       "<p>2293 rows × 8 columns</p>\n",
       "</div>"
      ],
      "text/plain": [
       "      user_id  extra_gb   period  monthly_revenue  usd_monthly_pay  \\\n",
       "0        1000       0.0  2018-12            70.00               70   \n",
       "1        1001       0.0  2018-08            20.00               20   \n",
       "2        1001       0.0  2018-09            20.00               20   \n",
       "3        1001       7.0  2018-10            90.09               20   \n",
       "4        1001       4.0  2018-11            60.00               20   \n",
       "...       ...       ...      ...              ...              ...   \n",
       "2288     1349       0.0  2018-12            20.33               20   \n",
       "2289     1361       0.0  2018-05            20.00               20   \n",
       "2290     1482       NaN  2018-10            70.00               70   \n",
       "2291     1108       0.0  2018-12            70.00               70   \n",
       "2292     1311       0.0  2018-06            70.00               70   \n",
       "\n",
       "      cost_extra_minutes  cost_extra_messages  cost_extra_gb  \n",
       "0                    0.0                 0.00            0.0  \n",
       "1                    0.0                 0.00            0.0  \n",
       "2                    0.0                 0.00            0.0  \n",
       "3                    0.0                 0.09           70.0  \n",
       "4                    0.0                 0.00           40.0  \n",
       "...                  ...                  ...            ...  \n",
       "2288                 0.0                 0.33            0.0  \n",
       "2289                 0.0                 0.00            0.0  \n",
       "2290                 0.0                 0.00            0.0  \n",
       "2291                 0.0                 0.00            0.0  \n",
       "2292                 0.0                 0.00            0.0  \n",
       "\n",
       "[2293 rows x 8 columns]"
      ]
     },
     "execution_count": 76,
     "metadata": {},
     "output_type": "execute_result"
    }
   ],
   "source": [
    "user_monthly_data[['user_id', 'extra_gb', 'period', 'monthly_revenue',\"usd_monthly_pay\",\"cost_extra_minutes\",\"cost_extra_messages\",\"cost_extra_gb\"]]"
   ]
  },
  {
   "cell_type": "markdown",
   "metadata": {},
   "source": [
    "<div class=\"alert alert-block alert-success\">\n",
    "<b>Comentario del revisor (2da Iteración)</b> <a class=“tocSkip”></a>\n",
    "\n",
    "Buen trabajo Alan, has calculado el consumo y cobro mensual de cada usuario\n",
    "\n",
    "</div>"
   ]
  },
  {
   "cell_type": "markdown",
   "metadata": {
    "id": "-jtyHzJb0q1I"
   },
   "source": [
    "## Estudia el comportamiento de usuario"
   ]
  },
  {
   "cell_type": "markdown",
   "metadata": {
    "id": "AxU3Y0N70q1J"
   },
   "source": [
    "[Calcula algunas estadísticas descriptivas para los datos agregados y fusionados que nos sean útiles y que muestren un panorama general captado por los datos. Dibuja gráficos útiles para facilitar la comprensión. Dado que la tarea principal es comparar las tarifas y decidir cuál es más rentable, las estadísticas y gráficas deben calcularse por tarifa.]\n",
    "\n",
    "[En los comentarios hallarás pistas relevantes para las llamadas, pero no las hay para los mensajes e Internet. Sin embargo, el principio del estudio estadístico que se aplica para ellos es el mismo que para las llamadas.]"
   ]
  },
  {
   "cell_type": "markdown",
   "metadata": {
    "id": "vtW4CJEe0q1J"
   },
   "source": [
    "### Llamadas"
   ]
  },
  {
   "cell_type": "code",
   "execution_count": 40,
   "metadata": {
    "id": "Jf5v5--k0q1J"
   },
   "outputs": [
    {
     "data": {
      "image/png": "[encoded data removed]",
      "text/plain": [
       "<Figure size 1600x800 with 1 Axes>"
      ]
     },
     "metadata": {},
     "output_type": "display_data"
    }
   ],
   "source": [
    "# Compara la duración promedio de llamadas por cada plan y por cada mes. Traza un gráfico de barras para visualizarla.\n",
    "\n",
    "avg_call_duration_by_plan = user_monthly_data.groupby(['plan_name', 'period'])['total_minutes'].mean().reset_index()\n",
    "\n",
    "plt.figure(figsize=(16, 8))\n",
    "sns.barplot(data=avg_call_duration_by_plan, x='period', y='total_minutes', palette='viridis',hue='plan_name')\n",
    "plt.title('Duración promedio de llamada por mes y plan')\n",
    "plt.xlabel('Mes')\n",
    "plt.ylabel('Minutos')\n",
    "plt.legend(title='Plan') \n",
    "plt.show()"
   ]
  },
  {
   "cell_type": "code",
   "execution_count": 41,
   "metadata": {
    "id": "QoLqW1S_0q1J"
   },
   "outputs": [
    {
     "data": {
      "image/png": "[encoded data removed]",
      "text/plain": [
       "<Figure size 1600x800 with 1 Axes>"
      ]
     },
     "metadata": {},
     "output_type": "display_data"
    }
   ],
   "source": [
    "# Compara el número de minutos mensuales que necesitan los usuarios de cada plan. Traza un histograma.\n",
    "plt.figure(figsize=(16, 8))\n",
    "sns.histplot(data=user_monthly_data, x='total_minutes', hue='plan_name', kde=True, bins=30, palette='viridis')\n",
    "plt.title('Minutos usados mensualmente por plan')\n",
    "plt.xlabel('Minutos')\n",
    "plt.ylabel('Frecuencia')\n",
    "plt.show()"
   ]
  },
  {
   "cell_type": "markdown",
   "metadata": {
    "id": "bLS9T8OH0q1K"
   },
   "source": [
    "[Calcula la media y la variable de la duración de las llamadas para averiguar si los usuarios de los distintos planes se comportan de forma diferente al realizar sus llamadas.]"
   ]
  },
  {
   "cell_type": "code",
   "execution_count": 42,
   "metadata": {
    "id": "oSndbAnt0q1K"
   },
   "outputs": [
    {
     "data": {
      "text/html": [
       "<div>\n",
       "<style scoped>\n",
       "    .dataframe tbody tr th:only-of-type {\n",
       "        vertical-align: middle;\n",
       "    }\n",
       "\n",
       "    .dataframe tbody tr th {\n",
       "        vertical-align: top;\n",
       "    }\n",
       "\n",
       "    .dataframe thead th {\n",
       "        text-align: right;\n",
       "    }\n",
       "</style>\n",
       "<table border=\"1\" class=\"dataframe\">\n",
       "  <thead>\n",
       "    <tr style=\"text-align: right;\">\n",
       "      <th></th>\n",
       "      <th>plan_name</th>\n",
       "      <th>mean</th>\n",
       "      <th>var</th>\n",
       "    </tr>\n",
       "  </thead>\n",
       "  <tbody>\n",
       "    <tr>\n",
       "      <th>0</th>\n",
       "      <td>surf</td>\n",
       "      <td>436.519741</td>\n",
       "      <td>52571.063243</td>\n",
       "    </tr>\n",
       "    <tr>\n",
       "      <th>1</th>\n",
       "      <td>ultimate</td>\n",
       "      <td>434.676017</td>\n",
       "      <td>56573.632247</td>\n",
       "    </tr>\n",
       "  </tbody>\n",
       "</table>\n",
       "</div>"
      ],
      "text/plain": [
       "  plan_name        mean           var\n",
       "0      surf  436.519741  52571.063243\n",
       "1  ultimate  434.676017  56573.632247"
      ]
     },
     "metadata": {},
     "output_type": "display_data"
    }
   ],
   "source": [
    "# Calcula la media y la varianza de la duración mensual de llamadas.\n",
    "call_stats_by_plan = user_monthly_data.groupby('plan_name')['total_minutes'].agg(['mean', 'var']).reset_index()\n",
    "\n",
    "display(call_stats_by_plan)"
   ]
  },
  {
   "cell_type": "code",
   "execution_count": 43,
   "metadata": {
    "id": "nZzoRUKc0q1K"
   },
   "outputs": [
    {
     "data": {
      "image/png": "[encoded data removed]",
      "text/plain": [
       "<Figure size 1000x600 with 1 Axes>"
      ]
     },
     "metadata": {},
     "output_type": "display_data"
    }
   ],
   "source": [
    "# Traza un diagrama de caja para visualizar la distribución de la duración mensual de llamadas\n",
    "plt.figure(figsize=(10, 6))\n",
    "sns.boxplot(data=user_monthly_data, x='plan_name', y='total_minutes', palette='viridis')\n",
    "plt.title('Duración mensual de llamadas por plan')\n",
    "plt.xlabel('Plan')\n",
    "plt.ylabel('Minutos')\n",
    "plt.show()"
   ]
  },
  {
   "cell_type": "markdown",
   "metadata": {
    "id": "r627zBO50q1K"
   },
   "source": [
    "### [Elabora las conclusiones sobre el comportamiento de los usuarios con respecto a las llamadas. ¿Su comportamiento varía en función del plan?]\n",
    "\n",
    "Ambas medias de duración son muy similares, tanto para \"Surf\" como \"Ultimate\". No existe una diferencia significativa en el comportamiento general de los usuarios de ambos planes.\n",
    "\n",
    "En cambio, la varianza sí tiene una diferencia significativa, 3,509.3. Esto nos puede dar a entender que los usuarios de \"Ultimate\" tienen llamadas más largas, comparándolas con los del plan \"Surf\".\n",
    "\n",
    "Aunque también podríamos suponer que, los usuarios \"Ultimate\" hacen llamadas más largas a comparación de los del plan \"Surf\", que si bien son más los usuarios que exceden estos límites."
   ]
  },
  {
   "cell_type": "markdown",
   "metadata": {
    "id": "8idKy8Wh0q1L"
   },
   "source": [
    "### Mensajes"
   ]
  },
  {
   "cell_type": "code",
   "execution_count": 44,
   "metadata": {
    "id": "NXLxiTit0q1L"
   },
   "outputs": [
    {
     "data": {
      "image/png": "[encoded data removed]",
      "text/plain": [
       "<Figure size 1600x800 with 1 Axes>"
      ]
     },
     "metadata": {},
     "output_type": "display_data"
    }
   ],
   "source": [
    "# Comprara el número de mensajes que tienden a enviar cada mes los usuarios de cada plan\n",
    "\n",
    "# Calculamos el promedio de mensajes enviados por cada mes y cada plan\n",
    "avg_messages_by_month_plan = user_monthly_data.groupby(['period', 'plan_name'])['total_messages'].mean().reset_index()\n",
    "\n",
    "plt.figure(figsize=(16, 8))\n",
    "sns.barplot(data=avg_messages_by_month_plan,x='period', y='total_messages', hue='plan_name', palette='viridis'\n",
    ")\n",
    "\n",
    "plt.title(\"Promedio de mensajes por mes y por plan\", fontsize=20)\n",
    "plt.xlabel(\"Mes\")\n",
    "plt.ylabel(\"Mensajes\", fontsize=14)\n",
    "plt.legend(title=\"Plan\")\n",
    "plt.tight_layout()\n",
    "plt.show()"
   ]
  },
  {
   "cell_type": "markdown",
   "metadata": {},
   "source": [
    "Vemos que ambos planes fueron incrementando el número de mensajes enviados. En todos los meses del 2018 los usuarios del plan \"Ultimate\" enviaban más mensajes a comparación de los usuarios del plan \"Surf\"."
   ]
  },
  {
   "cell_type": "markdown",
   "metadata": {
    "id": "42YSypXz0q1M"
   },
   "source": [
    "### Internet"
   ]
  },
  {
   "cell_type": "code",
   "execution_count": 45,
   "metadata": {},
   "outputs": [
    {
     "data": {
      "image/png": "[encoded data removed]",
      "text/plain": [
       "<Figure size 1600x800 with 1 Axes>"
      ]
     },
     "metadata": {},
     "output_type": "display_data"
    }
   ],
   "source": [
    "avg_internet_by_month_plan = user_monthly_data.groupby(['period', 'plan_name'])['total_internet'].mean().reset_index()\n",
    "\n",
    "plt.figure(figsize=(16, 8))\n",
    "sns.barplot(data=avg_internet_by_month_plan,x='period', y='total_internet', hue='plan_name', palette='viridis')\n",
    "\n",
    "# Personalizar el gráfico\n",
    "plt.title(\"Promedio de consumo de internet por plan y por mes\", fontsize=20)\n",
    "plt.xlabel(\"Mes\", fontsize=12)\n",
    "plt.ylabel(\"Internet\", fontsize=12)\n",
    "plt.legend(title=\"Plan\", fontsize=10)\n",
    "plt.show()"
   ]
  },
  {
   "cell_type": "code",
   "execution_count": 46,
   "metadata": {},
   "outputs": [
    {
     "data": {
      "image/png": "[encoded data removed]",
      "text/plain": [
       "<Figure size 1200x600 with 1 Axes>"
      ]
     },
     "metadata": {},
     "output_type": "display_data"
    }
   ],
   "source": [
    "plt.figure(figsize=(12, 6))\n",
    "sns.boxplot(data=user_monthly_data, x='plan_name', y='total_internet', palette='viridis')\n",
    "plt.title('Consumo mensual de internet por plan')\n",
    "plt.xlabel('Plan')\n",
    "plt.ylabel('Consumo Mensual de Internet (GB)')\n",
    "plt.show()"
   ]
  },
  {
   "cell_type": "markdown",
   "metadata": {
    "id": "UN9zwuMP0q1N"
   },
   "source": [
    "[Elabora las conclusiones sobre cómo los usuarios tienden a consumir el tráfico de Internet. ¿Su comportamiento varía en función del plan?]"
   ]
  },
  {
   "cell_type": "markdown",
   "metadata": {},
   "source": [
    "Ambos planes aumentaron el uso promedio de internet en todo el año. Aunque el plan \"Surf\" tiene un consumo más elevado a comparación del plan \"Surf\". Esto podría significar que los usuarios del plan \"Surf\" necesitan más uso de internet y/o datos móviles (Lo cual podría indicar que un plan \"Ultimate\" sería mejor para ellos)."
   ]
  },
  {
   "cell_type": "markdown",
   "metadata": {
    "id": "tCijq3260q1N"
   },
   "source": [
    "## Ingreso"
   ]
  },
  {
   "cell_type": "markdown",
   "metadata": {
    "id": "9nq5IAcy0q1O"
   },
   "source": [
    "[Del mismo modo que has estudiado el comportamiento de los usuarios, describe estadísticamente los ingresos de los planes.]"
   ]
  },
  {
   "cell_type": "code",
   "execution_count": 47,
   "metadata": {
    "id": "tz-dq_V00q1O"
   },
   "outputs": [
    {
     "data": {
      "image/png": "[encoded data removed]",
      "text/plain": [
       "<Figure size 1600x800 with 1 Axes>"
      ]
     },
     "metadata": {},
     "output_type": "display_data"
    }
   ],
   "source": [
    "avg_monthly_revenue_by_plan = user_monthly_data.groupby(['period', 'plan_name'])['monthly_revenue'].mean().reset_index()\n",
    "\n",
    "plt.figure(figsize=(16, 8))\n",
    "sns.barplot(data=avg_monthly_revenue_by_plan,x='period', y='monthly_revenue', hue='plan_name', palette='viridis')\n",
    "\n",
    "plt.title(\"Promedio de las Ganancias por mes y plan\", fontsize=16)\n",
    "plt.xlabel(\"Mes\", fontsize=12)\n",
    "plt.ylabel(\"Ganancias\", fontsize=12)\n",
    "plt.legend(title=\"Plan\", fontsize=10)\n",
    "plt.show()"
   ]
  },
  {
   "cell_type": "code",
   "execution_count": 48,
   "metadata": {
    "id": "0Y1v8ZUz0q1P"
   },
   "outputs": [
    {
     "data": {
      "text/html": [
       "<div>\n",
       "<style scoped>\n",
       "    .dataframe tbody tr th:only-of-type {\n",
       "        vertical-align: middle;\n",
       "    }\n",
       "\n",
       "    .dataframe tbody tr th {\n",
       "        vertical-align: top;\n",
       "    }\n",
       "\n",
       "    .dataframe thead th {\n",
       "        text-align: right;\n",
       "    }\n",
       "</style>\n",
       "<table border=\"1\" class=\"dataframe\">\n",
       "  <thead>\n",
       "    <tr style=\"text-align: right;\">\n",
       "      <th></th>\n",
       "      <th>plan_name</th>\n",
       "      <th>monthly_revenue</th>\n",
       "    </tr>\n",
       "  </thead>\n",
       "  <tbody>\n",
       "    <tr>\n",
       "      <th>0</th>\n",
       "      <td>surf</td>\n",
       "      <td>31.958792</td>\n",
       "    </tr>\n",
       "    <tr>\n",
       "      <th>1</th>\n",
       "      <td>ultimate</td>\n",
       "      <td>76.990278</td>\n",
       "    </tr>\n",
       "  </tbody>\n",
       "</table>\n",
       "</div>"
      ],
      "text/plain": [
       "  plan_name  monthly_revenue\n",
       "0      surf        31.958792\n",
       "1  ultimate        76.990278"
      ]
     },
     "metadata": {},
     "output_type": "display_data"
    }
   ],
   "source": [
    "avg_monthly_revenue_by_plan = user_monthly_data.groupby(['plan_name'])['monthly_revenue'].mean().reset_index()\n",
    "display(avg_monthly_revenue_by_plan)\n",
    "\n"
   ]
  },
  {
   "cell_type": "code",
   "execution_count": 49,
   "metadata": {
    "id": "bYmwxyVh0q1P"
   },
   "outputs": [
    {
     "data": {
      "image/png": "[encoded data removed]",
      "text/plain": [
       "<Figure size 1000x600 with 1 Axes>"
      ]
     },
     "metadata": {},
     "output_type": "display_data"
    }
   ],
   "source": [
    "plt.figure(figsize=(10, 6))\n",
    "sns.boxplot(data=user_monthly_data, x='plan_name', y='monthly_revenue', palette='viridis')\n",
    "plt.title('Consumo mensual de internet por plan')\n",
    "plt.xlabel('Plan')\n",
    "plt.ylabel('Consumo de internet (Mensual en GB)')\n",
    "plt.show()"
   ]
  },
  {
   "cell_type": "markdown",
   "metadata": {
    "id": "KAFidcXZ0q1P"
   },
   "source": [
    "[Elabora las conclusiones sobre cómo difiere el ingreso entre los planes.]"
   ]
  },
  {
   "cell_type": "markdown",
   "metadata": {},
   "source": [
    "De igual manera que en los casos anteriores, ambos planes fueron aumentando las ganancias promedio a lo largo del año. Siendo el plan \"Ultimate\" el que más ganancias generó. \n",
    "\n",
    "Quizá por mayor demanda de recursos generan más ingresos (Necesitan más internet u otros servicios). "
   ]
  },
  {
   "cell_type": "markdown",
   "metadata": {},
   "source": [
    "<div class=\"alert alert-block alert-success\">\n",
    "<b>Comentario del revisor (1ra Iteración)</b> <a class=“tocSkip”></a>\n",
    "\n",
    "Excelente selección de los tipos de gráficos para mostrar los datos. Adicionalmente, calculaste la información estadística de los datos. Esto te permitió realizar análisis detallados y claros sobre la información de consumo de los usuarios.\n",
    "    \n",
    "<div class=\"alert alert-block alert-warning\">\n",
    "<b>Comentario del revisor (1ra Iteración)</b> <a class=“tocSkip”></a>\n",
    "\n",
    "   \n",
    "Con respecto a la información de **Ingresos**  debes tener en cuenta que los valores cambiaran con base en los cambios en el cálculo de cobro mensual que te sugería más arriba.\n",
    "\n",
    "</div>\n",
    "\n",
    "\n",
    "</div>"
   ]
  },
  {
   "cell_type": "markdown",
   "metadata": {
    "id": "ajJ7VKeI0q1Q"
   },
   "source": [
    "## Prueba las hipótesis estadísticas"
   ]
  },
  {
   "cell_type": "markdown",
   "metadata": {
    "id": "AdXAZ-yL0q1Q"
   },
   "source": [
    "[Prueba la hipótesis de que son diferentes los ingresos promedio procedentes de los usuarios de los planes de llamada Ultimate y Surf.]"
   ]
  },
  {
   "cell_type": "markdown",
   "metadata": {
    "id": "IQwa_hsh0q1Q"
   },
   "source": [
    "[Elabora las hipótesis nula y alternativa, escoge la prueba estadística, determina el valor alfa.]"
   ]
  },
  {
   "cell_type": "markdown",
   "metadata": {},
   "source": [
    "Hipótesis nula (Ho): Los ingresos promedio de los planes Ultimate y Surf son iguales.\n",
    "\n",
    "Hipótesis alternativa (Ha): Los ingresos promedio de los planes Ultimate y Surf son diferentes.\n",
    "\n",
    "Prueba estadística: Usamos una prueba t de Student para muestras dependientes. Estamos comparando promedios de dos grupos independientes.  \n",
    "\n",
    "Nivel de significancia: alpha = 0.05"
   ]
  },
  {
   "cell_type": "code",
   "execution_count": 50,
   "metadata": {
    "id": "nFoPNlPq0q1R"
   },
   "outputs": [
    {
     "name": "stdout",
     "output_type": "stream",
     "text": [
      "Estadístico t: 436.7340\n",
      "Valor p: 0.0000\n",
      "Rechazamos la hipótesis nula: Los ingresos promedio entre los planes son significativamente diferentes.\n"
     ]
    }
   ],
   "source": [
    "# Importamos la librería necesaria para la prueba de hipótesis.\n",
    "from scipy.stats import ttest_ind\n",
    "\n",
    "# Filtramos los datos por plan.\n",
    "ultimate_revenue = user_monthly_data[user_monthly_data['plan_name'] == 'ultimate']['monthly_revenue']\n",
    "surf_revenue = user_monthly_data[user_monthly_data['plan_name'] == 'surf']['monthly_revenue']\n",
    "\n",
    "\n",
    "# Eliminamos los valores NaN\n",
    "ultimate_revenue = ultimate_revenue.dropna()\n",
    "surf_revenue = surf_revenue.dropna()\n",
    "alpha = 0.05\n",
    "\n",
    "# Hacemos la prueba.\n",
    "t_stat, p_value = ttest_ind(ultimate_revenue, surf_revenue, equal_var=False)\n",
    "\n",
    "print(f\"Estadístico t: {t_stat:.4f}\")\n",
    "print(f\"Valor p: {p_value:.4f}\")\n",
    "\n",
    "# Realizamos la prueba de hipótesis\n",
    "if p_value < alpha:\n",
    "    print(\"Rechazamos la hipótesis nula: Los ingresos promedio entre los planes son significativamente diferentes.\")\n",
    "else:\n",
    "    print(\"No podemos rechazar la hipótesis nula: No podemos afirmar si los ingresos promedio entre ambos planes son diferentes.\")"
   ]
  },
  {
   "cell_type": "markdown",
   "metadata": {},
   "source": [
    "Conclusiones: \n",
    "- El estadístico t (0.9782) indica una diferencia leve entre las medias de los ingresos promedio de los planes Ultimate y Surf.\n",
    "- El valor p (0.3281) es considerablemente mayor al nivel de significancia típico ( \\alpha = 0.05 ), lo que significa que no hay suficiente evidencia estadística para rechazar la hipótesis nula.\n",
    "- Como no se puede rechazar la hipótesis nula, concluimos que no hay diferencias estadísticamente significativas en los ingresos promedio entre los dos planes.\n",
    "- Los usuarios de ambos planes tienen patrones de consumo que resultan en ingresos medios comparables."
   ]
  },
  {
   "cell_type": "markdown",
   "metadata": {
    "id": "tCcAruM60q1R"
   },
   "source": [
    "[Prueba la hipótesis de que el ingreso promedio de los usuarios del área NY-NJ es diferente al de los usuarios de otras regiones.]"
   ]
  },
  {
   "cell_type": "markdown",
   "metadata": {
    "id": "LsBgitqj0q1R"
   },
   "source": [
    "[Elabora las hipótesis nula y alternativa, escoge la prueba estadística, determina el valor alfa.]\n",
    "- Hipótesis nula (Ho): El ingreso promedio de los usuarios de la región NY-NJ es igual al ingreso promedio de los usuarios de otras regiones.\n",
    "- Hipótesis alternativa (Ha): El ingreso promedio de los usuarios de la región NY-NJ es diferente al ingreso promedio de los usuarios de otras regiones.\n",
    "-Prueba estadística: Utilizaremos una prueba t de Student para muestras independientes, ya que estamos comparando los promedios de dos grupos independientes (usuarios de dos planes diferentes).\n",
    "- Nivel de significancia: Elegimos un \\alpha = 0.05."
   ]
  },
  {
   "cell_type": "code",
   "execution_count": 51,
   "metadata": {},
   "outputs": [
    {
     "name": "stdout",
     "output_type": "stream",
     "text": [
      "                                                city           region\n",
      "464                    Providence-Warwick, RI-MA MSA        RI-MA MSA\n",
      "356                       Milwaukee-Waukesha, WI MSA           WI MSA\n",
      "309           San Diego-Chula Vista-Carlsbad, CA MSA           CA MSA\n",
      "479         Riverside-San Bernardino-Ontario, CA MSA           CA MSA\n",
      "266        New York-Newark-Jersey City, NY-NJ-PA MSA     NY-NJ-PA MSA\n",
      "40   Philadelphia-Camden-Wilmington, PA-NJ-DE-MD MSA  PA-NJ-DE-MD MSA\n",
      "430        New York-Newark-Jersey City, NY-NJ-PA MSA     NY-NJ-PA MSA\n",
      "185           Louisville/Jefferson County, KY-IN MSA        KY-IN MSA\n",
      "107        New York-Newark-Jersey City, NY-NJ-PA MSA     NY-NJ-PA MSA\n",
      "414                           Urban Honolulu, HI MSA           HI MSA\n"
     ]
    }
   ],
   "source": [
    "# Extraemos la parte final, incluyendo casos con múltiples códigos de estado separados por guiones\n",
    "megaline_users['region'] = megaline_users['city'].str.extract(r', ([A-Z-]+ MSA)$')\n",
    "\n",
    "# Verificar con registros aleatorios para confirmar\n",
    "print(megaline_users[['city', 'region']].sample(10))"
   ]
  },
  {
   "cell_type": "code",
   "execution_count": 52,
   "metadata": {},
   "outputs": [
    {
     "data": {
      "text/html": [
       "<div>\n",
       "<style scoped>\n",
       "    .dataframe tbody tr th:only-of-type {\n",
       "        vertical-align: middle;\n",
       "    }\n",
       "\n",
       "    .dataframe tbody tr th {\n",
       "        vertical-align: top;\n",
       "    }\n",
       "\n",
       "    .dataframe thead th {\n",
       "        text-align: right;\n",
       "    }\n",
       "</style>\n",
       "<table border=\"1\" class=\"dataframe\">\n",
       "  <thead>\n",
       "    <tr style=\"text-align: right;\">\n",
       "      <th></th>\n",
       "      <th>user_id</th>\n",
       "      <th>period</th>\n",
       "      <th>calls</th>\n",
       "      <th>total_minutes</th>\n",
       "      <th>total_messages</th>\n",
       "      <th>total_internet</th>\n",
       "      <th>plan_name</th>\n",
       "      <th>messages_included</th>\n",
       "      <th>mb_per_month_included</th>\n",
       "      <th>minutes_included</th>\n",
       "      <th>...</th>\n",
       "      <th>usd_per_minute</th>\n",
       "      <th>total_gb</th>\n",
       "      <th>extra_minutes</th>\n",
       "      <th>extra_messages</th>\n",
       "      <th>extra_gb</th>\n",
       "      <th>cost_extra_minutes</th>\n",
       "      <th>cost_extra_messages</th>\n",
       "      <th>cost_extra_gb</th>\n",
       "      <th>monthly_revenue</th>\n",
       "      <th>region</th>\n",
       "    </tr>\n",
       "  </thead>\n",
       "  <tbody>\n",
       "    <tr>\n",
       "      <th>1378</th>\n",
       "      <td>1305</td>\n",
       "      <td>2018-08</td>\n",
       "      <td>62.0</td>\n",
       "      <td>521.0</td>\n",
       "      <td>4.0</td>\n",
       "      <td>14.0</td>\n",
       "      <td>surf</td>\n",
       "      <td>50</td>\n",
       "      <td>15360</td>\n",
       "      <td>500</td>\n",
       "      <td>...</td>\n",
       "      <td>0.03</td>\n",
       "      <td>1.0</td>\n",
       "      <td>21.0</td>\n",
       "      <td>0.0</td>\n",
       "      <td>0.0</td>\n",
       "      <td>0.63</td>\n",
       "      <td>0.0</td>\n",
       "      <td>10.0</td>\n",
       "      <td>30.63</td>\n",
       "      <td>CA MSA</td>\n",
       "    </tr>\n",
       "    <tr>\n",
       "      <th>1207</th>\n",
       "      <td>1260</td>\n",
       "      <td>2018-12</td>\n",
       "      <td>60.0</td>\n",
       "      <td>504.0</td>\n",
       "      <td>80.0</td>\n",
       "      <td>20.0</td>\n",
       "      <td>surf</td>\n",
       "      <td>50</td>\n",
       "      <td>15360</td>\n",
       "      <td>500</td>\n",
       "      <td>...</td>\n",
       "      <td>0.03</td>\n",
       "      <td>1.0</td>\n",
       "      <td>4.0</td>\n",
       "      <td>30.0</td>\n",
       "      <td>0.0</td>\n",
       "      <td>0.12</td>\n",
       "      <td>0.9</td>\n",
       "      <td>10.0</td>\n",
       "      <td>31.02</td>\n",
       "      <td>CA MSA</td>\n",
       "    </tr>\n",
       "    <tr>\n",
       "      <th>1057</th>\n",
       "      <td>1231</td>\n",
       "      <td>2018-06</td>\n",
       "      <td>57.0</td>\n",
       "      <td>400.0</td>\n",
       "      <td>2.0</td>\n",
       "      <td>15.0</td>\n",
       "      <td>ultimate</td>\n",
       "      <td>1000</td>\n",
       "      <td>30720</td>\n",
       "      <td>3000</td>\n",
       "      <td>...</td>\n",
       "      <td>0.01</td>\n",
       "      <td>1.0</td>\n",
       "      <td>0.0</td>\n",
       "      <td>0.0</td>\n",
       "      <td>0.0</td>\n",
       "      <td>0.00</td>\n",
       "      <td>0.0</td>\n",
       "      <td>7.0</td>\n",
       "      <td>77.00</td>\n",
       "      <td>CA MSA</td>\n",
       "    </tr>\n",
       "    <tr>\n",
       "      <th>79</th>\n",
       "      <td>1022</td>\n",
       "      <td>2018-09</td>\n",
       "      <td>66.0</td>\n",
       "      <td>510.0</td>\n",
       "      <td>NaN</td>\n",
       "      <td>14.0</td>\n",
       "      <td>surf</td>\n",
       "      <td>50</td>\n",
       "      <td>15360</td>\n",
       "      <td>500</td>\n",
       "      <td>...</td>\n",
       "      <td>0.03</td>\n",
       "      <td>1.0</td>\n",
       "      <td>10.0</td>\n",
       "      <td>NaN</td>\n",
       "      <td>0.0</td>\n",
       "      <td>0.30</td>\n",
       "      <td>0.0</td>\n",
       "      <td>10.0</td>\n",
       "      <td>30.30</td>\n",
       "      <td>NY-NJ-PA MSA</td>\n",
       "    </tr>\n",
       "    <tr>\n",
       "      <th>505</th>\n",
       "      <td>1109</td>\n",
       "      <td>2018-09</td>\n",
       "      <td>53.0</td>\n",
       "      <td>407.0</td>\n",
       "      <td>NaN</td>\n",
       "      <td>12.0</td>\n",
       "      <td>surf</td>\n",
       "      <td>50</td>\n",
       "      <td>15360</td>\n",
       "      <td>500</td>\n",
       "      <td>...</td>\n",
       "      <td>0.03</td>\n",
       "      <td>1.0</td>\n",
       "      <td>0.0</td>\n",
       "      <td>NaN</td>\n",
       "      <td>0.0</td>\n",
       "      <td>0.00</td>\n",
       "      <td>0.0</td>\n",
       "      <td>10.0</td>\n",
       "      <td>30.00</td>\n",
       "      <td>NY-NJ-PA MSA</td>\n",
       "    </tr>\n",
       "    <tr>\n",
       "      <th>2087</th>\n",
       "      <td>1460</td>\n",
       "      <td>2018-10</td>\n",
       "      <td>53.0</td>\n",
       "      <td>410.0</td>\n",
       "      <td>40.0</td>\n",
       "      <td>30.0</td>\n",
       "      <td>ultimate</td>\n",
       "      <td>1000</td>\n",
       "      <td>30720</td>\n",
       "      <td>3000</td>\n",
       "      <td>...</td>\n",
       "      <td>0.01</td>\n",
       "      <td>1.0</td>\n",
       "      <td>0.0</td>\n",
       "      <td>0.0</td>\n",
       "      <td>0.0</td>\n",
       "      <td>0.00</td>\n",
       "      <td>0.0</td>\n",
       "      <td>7.0</td>\n",
       "      <td>77.00</td>\n",
       "      <td>CA MSA</td>\n",
       "    </tr>\n",
       "    <tr>\n",
       "      <th>1154</th>\n",
       "      <td>1251</td>\n",
       "      <td>2018-10</td>\n",
       "      <td>87.0</td>\n",
       "      <td>652.0</td>\n",
       "      <td>33.0</td>\n",
       "      <td>29.0</td>\n",
       "      <td>surf</td>\n",
       "      <td>50</td>\n",
       "      <td>15360</td>\n",
       "      <td>500</td>\n",
       "      <td>...</td>\n",
       "      <td>0.03</td>\n",
       "      <td>1.0</td>\n",
       "      <td>152.0</td>\n",
       "      <td>0.0</td>\n",
       "      <td>0.0</td>\n",
       "      <td>4.56</td>\n",
       "      <td>0.0</td>\n",
       "      <td>10.0</td>\n",
       "      <td>34.56</td>\n",
       "      <td>NY-NJ-PA MSA</td>\n",
       "    </tr>\n",
       "    <tr>\n",
       "      <th>1091</th>\n",
       "      <td>1237</td>\n",
       "      <td>2018-12</td>\n",
       "      <td>105.0</td>\n",
       "      <td>738.0</td>\n",
       "      <td>41.0</td>\n",
       "      <td>16.0</td>\n",
       "      <td>ultimate</td>\n",
       "      <td>1000</td>\n",
       "      <td>30720</td>\n",
       "      <td>3000</td>\n",
       "      <td>...</td>\n",
       "      <td>0.01</td>\n",
       "      <td>1.0</td>\n",
       "      <td>0.0</td>\n",
       "      <td>0.0</td>\n",
       "      <td>0.0</td>\n",
       "      <td>0.00</td>\n",
       "      <td>0.0</td>\n",
       "      <td>7.0</td>\n",
       "      <td>77.00</td>\n",
       "      <td>NY-NJ-PA MSA</td>\n",
       "    </tr>\n",
       "    <tr>\n",
       "      <th>1794</th>\n",
       "      <td>1393</td>\n",
       "      <td>2018-11</td>\n",
       "      <td>110.0</td>\n",
       "      <td>860.0</td>\n",
       "      <td>32.0</td>\n",
       "      <td>10.0</td>\n",
       "      <td>surf</td>\n",
       "      <td>50</td>\n",
       "      <td>15360</td>\n",
       "      <td>500</td>\n",
       "      <td>...</td>\n",
       "      <td>0.03</td>\n",
       "      <td>1.0</td>\n",
       "      <td>360.0</td>\n",
       "      <td>0.0</td>\n",
       "      <td>0.0</td>\n",
       "      <td>10.80</td>\n",
       "      <td>0.0</td>\n",
       "      <td>10.0</td>\n",
       "      <td>40.80</td>\n",
       "      <td>TN MSA</td>\n",
       "    </tr>\n",
       "    <tr>\n",
       "      <th>1318</th>\n",
       "      <td>1291</td>\n",
       "      <td>2018-04</td>\n",
       "      <td>12.0</td>\n",
       "      <td>79.0</td>\n",
       "      <td>2.0</td>\n",
       "      <td>4.0</td>\n",
       "      <td>surf</td>\n",
       "      <td>50</td>\n",
       "      <td>15360</td>\n",
       "      <td>500</td>\n",
       "      <td>...</td>\n",
       "      <td>0.03</td>\n",
       "      <td>1.0</td>\n",
       "      <td>0.0</td>\n",
       "      <td>0.0</td>\n",
       "      <td>0.0</td>\n",
       "      <td>0.00</td>\n",
       "      <td>0.0</td>\n",
       "      <td>10.0</td>\n",
       "      <td>30.00</td>\n",
       "      <td>IN MSA</td>\n",
       "    </tr>\n",
       "    <tr>\n",
       "      <th>1756</th>\n",
       "      <td>1385</td>\n",
       "      <td>2018-11</td>\n",
       "      <td>53.0</td>\n",
       "      <td>347.0</td>\n",
       "      <td>38.0</td>\n",
       "      <td>21.0</td>\n",
       "      <td>surf</td>\n",
       "      <td>50</td>\n",
       "      <td>15360</td>\n",
       "      <td>500</td>\n",
       "      <td>...</td>\n",
       "      <td>0.03</td>\n",
       "      <td>1.0</td>\n",
       "      <td>0.0</td>\n",
       "      <td>0.0</td>\n",
       "      <td>0.0</td>\n",
       "      <td>0.00</td>\n",
       "      <td>0.0</td>\n",
       "      <td>10.0</td>\n",
       "      <td>30.00</td>\n",
       "      <td>NY-NJ-PA MSA</td>\n",
       "    </tr>\n",
       "    <tr>\n",
       "      <th>1102</th>\n",
       "      <td>1240</td>\n",
       "      <td>2018-11</td>\n",
       "      <td>155.0</td>\n",
       "      <td>1019.0</td>\n",
       "      <td>11.0</td>\n",
       "      <td>33.0</td>\n",
       "      <td>surf</td>\n",
       "      <td>50</td>\n",
       "      <td>15360</td>\n",
       "      <td>500</td>\n",
       "      <td>...</td>\n",
       "      <td>0.03</td>\n",
       "      <td>1.0</td>\n",
       "      <td>519.0</td>\n",
       "      <td>0.0</td>\n",
       "      <td>0.0</td>\n",
       "      <td>15.57</td>\n",
       "      <td>0.0</td>\n",
       "      <td>10.0</td>\n",
       "      <td>45.57</td>\n",
       "      <td>LA MSA</td>\n",
       "    </tr>\n",
       "    <tr>\n",
       "      <th>2207</th>\n",
       "      <td>1490</td>\n",
       "      <td>2018-11</td>\n",
       "      <td>55.0</td>\n",
       "      <td>448.0</td>\n",
       "      <td>NaN</td>\n",
       "      <td>26.0</td>\n",
       "      <td>ultimate</td>\n",
       "      <td>1000</td>\n",
       "      <td>30720</td>\n",
       "      <td>3000</td>\n",
       "      <td>...</td>\n",
       "      <td>0.01</td>\n",
       "      <td>1.0</td>\n",
       "      <td>0.0</td>\n",
       "      <td>NaN</td>\n",
       "      <td>0.0</td>\n",
       "      <td>0.00</td>\n",
       "      <td>0.0</td>\n",
       "      <td>7.0</td>\n",
       "      <td>77.00</td>\n",
       "      <td>CA MSA</td>\n",
       "    </tr>\n",
       "    <tr>\n",
       "      <th>1320</th>\n",
       "      <td>1291</td>\n",
       "      <td>2018-06</td>\n",
       "      <td>78.0</td>\n",
       "      <td>671.0</td>\n",
       "      <td>5.0</td>\n",
       "      <td>16.0</td>\n",
       "      <td>surf</td>\n",
       "      <td>50</td>\n",
       "      <td>15360</td>\n",
       "      <td>500</td>\n",
       "      <td>...</td>\n",
       "      <td>0.03</td>\n",
       "      <td>1.0</td>\n",
       "      <td>171.0</td>\n",
       "      <td>0.0</td>\n",
       "      <td>0.0</td>\n",
       "      <td>5.13</td>\n",
       "      <td>0.0</td>\n",
       "      <td>10.0</td>\n",
       "      <td>35.13</td>\n",
       "      <td>IN MSA</td>\n",
       "    </tr>\n",
       "    <tr>\n",
       "      <th>2112</th>\n",
       "      <td>1466</td>\n",
       "      <td>2018-11</td>\n",
       "      <td>28.0</td>\n",
       "      <td>202.0</td>\n",
       "      <td>38.0</td>\n",
       "      <td>13.0</td>\n",
       "      <td>surf</td>\n",
       "      <td>50</td>\n",
       "      <td>15360</td>\n",
       "      <td>500</td>\n",
       "      <td>...</td>\n",
       "      <td>0.03</td>\n",
       "      <td>1.0</td>\n",
       "      <td>0.0</td>\n",
       "      <td>0.0</td>\n",
       "      <td>0.0</td>\n",
       "      <td>0.00</td>\n",
       "      <td>0.0</td>\n",
       "      <td>10.0</td>\n",
       "      <td>30.00</td>\n",
       "      <td>CA MSA</td>\n",
       "    </tr>\n",
       "  </tbody>\n",
       "</table>\n",
       "<p>15 rows × 23 columns</p>\n",
       "</div>"
      ],
      "text/plain": [
       "      user_id   period  calls  total_minutes  total_messages  total_internet  \\\n",
       "1378     1305  2018-08   62.0          521.0             4.0            14.0   \n",
       "1207     1260  2018-12   60.0          504.0            80.0            20.0   \n",
       "1057     1231  2018-06   57.0          400.0             2.0            15.0   \n",
       "79       1022  2018-09   66.0          510.0             NaN            14.0   \n",
       "505      1109  2018-09   53.0          407.0             NaN            12.0   \n",
       "2087     1460  2018-10   53.0          410.0            40.0            30.0   \n",
       "1154     1251  2018-10   87.0          652.0            33.0            29.0   \n",
       "1091     1237  2018-12  105.0          738.0            41.0            16.0   \n",
       "1794     1393  2018-11  110.0          860.0            32.0            10.0   \n",
       "1318     1291  2018-04   12.0           79.0             2.0             4.0   \n",
       "1756     1385  2018-11   53.0          347.0            38.0            21.0   \n",
       "1102     1240  2018-11  155.0         1019.0            11.0            33.0   \n",
       "2207     1490  2018-11   55.0          448.0             NaN            26.0   \n",
       "1320     1291  2018-06   78.0          671.0             5.0            16.0   \n",
       "2112     1466  2018-11   28.0          202.0            38.0            13.0   \n",
       "\n",
       "     plan_name  messages_included  mb_per_month_included  minutes_included  \\\n",
       "1378      surf                 50                  15360               500   \n",
       "1207      surf                 50                  15360               500   \n",
       "1057  ultimate               1000                  30720              3000   \n",
       "79        surf                 50                  15360               500   \n",
       "505       surf                 50                  15360               500   \n",
       "2087  ultimate               1000                  30720              3000   \n",
       "1154      surf                 50                  15360               500   \n",
       "1091  ultimate               1000                  30720              3000   \n",
       "1794      surf                 50                  15360               500   \n",
       "1318      surf                 50                  15360               500   \n",
       "1756      surf                 50                  15360               500   \n",
       "1102      surf                 50                  15360               500   \n",
       "2207  ultimate               1000                  30720              3000   \n",
       "1320      surf                 50                  15360               500   \n",
       "2112      surf                 50                  15360               500   \n",
       "\n",
       "      ...  usd_per_minute  total_gb  extra_minutes  extra_messages  extra_gb  \\\n",
       "1378  ...            0.03       1.0           21.0             0.0       0.0   \n",
       "1207  ...            0.03       1.0            4.0            30.0       0.0   \n",
       "1057  ...            0.01       1.0            0.0             0.0       0.0   \n",
       "79    ...            0.03       1.0           10.0             NaN       0.0   \n",
       "505   ...            0.03       1.0            0.0             NaN       0.0   \n",
       "2087  ...            0.01       1.0            0.0             0.0       0.0   \n",
       "1154  ...            0.03       1.0          152.0             0.0       0.0   \n",
       "1091  ...            0.01       1.0            0.0             0.0       0.0   \n",
       "1794  ...            0.03       1.0          360.0             0.0       0.0   \n",
       "1318  ...            0.03       1.0            0.0             0.0       0.0   \n",
       "1756  ...            0.03       1.0            0.0             0.0       0.0   \n",
       "1102  ...            0.03       1.0          519.0             0.0       0.0   \n",
       "2207  ...            0.01       1.0            0.0             NaN       0.0   \n",
       "1320  ...            0.03       1.0          171.0             0.0       0.0   \n",
       "2112  ...            0.03       1.0            0.0             0.0       0.0   \n",
       "\n",
       "      cost_extra_minutes  cost_extra_messages  cost_extra_gb  monthly_revenue  \\\n",
       "1378                0.63                  0.0           10.0            30.63   \n",
       "1207                0.12                  0.9           10.0            31.02   \n",
       "1057                0.00                  0.0            7.0            77.00   \n",
       "79                  0.30                  0.0           10.0            30.30   \n",
       "505                 0.00                  0.0           10.0            30.00   \n",
       "2087                0.00                  0.0            7.0            77.00   \n",
       "1154                4.56                  0.0           10.0            34.56   \n",
       "1091                0.00                  0.0            7.0            77.00   \n",
       "1794               10.80                  0.0           10.0            40.80   \n",
       "1318                0.00                  0.0           10.0            30.00   \n",
       "1756                0.00                  0.0           10.0            30.00   \n",
       "1102               15.57                  0.0           10.0            45.57   \n",
       "2207                0.00                  0.0            7.0            77.00   \n",
       "1320                5.13                  0.0           10.0            35.13   \n",
       "2112                0.00                  0.0           10.0            30.00   \n",
       "\n",
       "            region  \n",
       "1378        CA MSA  \n",
       "1207        CA MSA  \n",
       "1057        CA MSA  \n",
       "79    NY-NJ-PA MSA  \n",
       "505   NY-NJ-PA MSA  \n",
       "2087        CA MSA  \n",
       "1154  NY-NJ-PA MSA  \n",
       "1091  NY-NJ-PA MSA  \n",
       "1794        TN MSA  \n",
       "1318        IN MSA  \n",
       "1756  NY-NJ-PA MSA  \n",
       "1102        LA MSA  \n",
       "2207        CA MSA  \n",
       "1320        IN MSA  \n",
       "2112        CA MSA  \n",
       "\n",
       "[15 rows x 23 columns]"
      ]
     },
     "execution_count": 52,
     "metadata": {},
     "output_type": "execute_result"
    }
   ],
   "source": [
    "# Extraer región del DataFrame megaline_users \n",
    "user_monthly_data = user_monthly_data.merge(megaline_users[['user_id', 'region']],on='user_id',how='left')\n",
    "user_monthly_data.sample(15)"
   ]
  },
  {
   "cell_type": "code",
   "execution_count": 53,
   "metadata": {},
   "outputs": [
    {
     "name": "stdout",
     "output_type": "stream",
     "text": [
      "Estadístico t: -7.723631552375595\n",
      "Valor p: 4.469098924340557e-14\n",
      "Rechazamos la hipótesis nula: El ingreso promedio de los usuarios de NewYork-NewJersey es diferente al de otras regiones.\n"
     ]
    }
   ],
   "source": [
    "from scipy.stats import ttest_ind\n",
    "\n",
    "# Filtrar usuarios por región\n",
    "ny_nj_users = user_monthly_data[user_monthly_data['region'] == 'NY-NJ-PA MSA']['monthly_revenue']\n",
    "other_users = user_monthly_data[user_monthly_data['region'] != 'NY-NJ-PA MSA']['monthly_revenue']\n",
    "\n",
    "# Realizar la prueba t de dos muestras independientes\n",
    "stat, p_value = ttest_ind(ny_nj_users.dropna(), other_users.dropna(), equal_var=False)\n",
    "\n",
    "# Mostrar resultados\n",
    "alpha = 0.05\n",
    "print(\"Estadístico t:\", stat)\n",
    "print(\"Valor p:\", p_value)\n",
    "\n",
    "if p_value < alpha:\n",
    "    print(\"Rechazamos la hipótesis nula: El ingreso promedio de los usuarios de NewYork-NewJersey es diferente al de otras regiones.\")\n",
    "else:\n",
    "    print(\"No podemos rechazar la hipótesis nula: No hay evidencia suficiente para afirmar que los ingresos promedio son diferentes.\")"
   ]
  },
  {
   "cell_type": "markdown",
   "metadata": {},
   "source": [
    "<div class=\"alert alert-block alert-success\">\n",
    "<b>Comentario General del revisor (1ra Iteración)</b> <a class=“tocSkip”></a>\n",
    "    \n",
    "Alan excelente trabajo implementando las pruebas de hipótesis. Has logrado hacer comparaciones entre subconjuntos de datos con fundamentos estadísticos\n",
    "\n",
    "</div>"
   ]
  },
  {
   "cell_type": "markdown",
   "metadata": {},
   "source": [
    "### Conclusiones del análisis\n",
    "\n",
    "La variable T obtenida es cercano a 0, o sea, las medias de los ingresos entre los usuarios de ambas regiones (New York y New Jersey) y los de otras regiones son muy similares. No tenemos tampoco suficiente evidencia estadística para rechazar la hipótesis nula. \n",
    "Tampoco existe evidencia fuerte para respaldar que la ubicación geográfica influya de alguna manera con los ingresos promedio."
   ]
  },
  {
   "cell_type": "markdown",
   "metadata": {
    "id": "bbTR8UQO0q1T"
   },
   "source": [
    "## Conclusión general\n",
    "\n",
    "[En esta sección final, enumera tus conclusiones importantes. Asegúrate de que estas abarquen todas las decisiones (suposiciones) importantes que adoptaste y que determinaron la forma elegida para procesar y analizar los datos.]"
   ]
  },
  {
   "cell_type": "markdown",
   "metadata": {},
   "source": [
    "### Plan\n",
    "\n",
    "Respecto a los diferentes planes, tanto los usuarios del plan \"Surf\" como \"Ultimate\" tienen una duración promedio mensual muy parecido de llamadas. Ambos planes parecen ser usados de manera similar. Sin embargo, se ha visto una gran diferencia con el plan Surf y Ultimate. Teniendo el plan Surf más variaciones que el Ultimate (Seguramente está involucrado el diferente uso que tiene cada plan. Siendo el Plan Surf más accesible al usuario final )\n",
    "\n",
    "Ahora, respecto a los ingresos, estos sí tienen un cambio significativo en las gráficas. "
   ]
  },
  {
   "cell_type": "markdown",
   "metadata": {},
   "source": [
    "<div class=\"alert alert-block alert-warning\">\n",
    "<b>Comentario del revisor (1ra Iteración)</b> <a class=“tocSkip”></a>\n",
    "\n",
    "Tus conclusiones reflejan un análisis bien estructurado. Aunque estas pueden cambiar un poco con base en los ajustes que te he indicado\n",
    "\n",
    "</div>"
   ]
  }
 ],
 "metadata": {
  "ExecuteTimeLog": [
   {
    "duration": 828,
    "start_time": "2021-11-16T09:21:11.304Z"
   },
   {
    "duration": 893,
    "start_time": "2021-11-16T09:21:17.728Z"
   },
   {
    "duration": 1150,
    "start_time": "2021-11-16T09:21:29.568Z"
   },
   {
    "duration": 3,
    "start_time": "2021-11-16T09:24:14.495Z"
   },
   {
    "duration": 120,
    "start_time": "2021-11-16T09:24:46.630Z"
   },
   {
    "duration": 3,
    "start_time": "2021-11-16T09:28:27.882Z"
   },
   {
    "duration": 4,
    "start_time": "2021-11-16T09:29:54.281Z"
   },
   {
    "duration": 3,
    "start_time": "2021-11-16T09:30:45.936Z"
   },
   {
    "duration": 4,
    "start_time": "2021-11-16T09:31:06.300Z"
   },
   {
    "duration": 113,
    "start_time": "2021-11-16T09:31:37.208Z"
   },
   {
    "duration": 143,
    "start_time": "2021-11-16T09:31:48.656Z"
   },
   {
    "duration": 98,
    "start_time": "2021-11-16T09:31:55.678Z"
   },
   {
    "duration": 3,
    "start_time": "2021-11-16T09:32:08.535Z"
   },
   {
    "duration": 111,
    "start_time": "2021-11-16T09:32:10.120Z"
   },
   {
    "duration": 3,
    "start_time": "2021-11-16T09:32:15.732Z"
   },
   {
    "duration": 4,
    "start_time": "2021-11-16T09:32:29.423Z"
   },
   {
    "duration": 3,
    "start_time": "2021-11-16T10:03:03.074Z"
   },
   {
    "duration": 3,
    "start_time": "2021-11-16T10:10:01.288Z"
   },
   {
    "duration": 3,
    "start_time": "2021-11-16T10:10:46.923Z"
   },
   {
    "duration": 121,
    "start_time": "2021-11-16T10:37:46.494Z"
   },
   {
    "duration": 125,
    "start_time": "2021-11-16T10:38:20.632Z"
   },
   {
    "duration": 112,
    "start_time": "2021-11-16T10:46:53.001Z"
   },
   {
    "duration": 110,
    "start_time": "2021-11-16T10:48:25.775Z"
   },
   {
    "duration": 3,
    "start_time": "2021-11-16T10:50:18.720Z"
   },
   {
    "duration": 4,
    "start_time": "2021-11-16T10:50:37.649Z"
   },
   {
    "duration": 2,
    "start_time": "2021-11-16T10:50:51.884Z"
   },
   {
    "duration": 3,
    "start_time": "2021-11-16T10:51:56.237Z"
   },
   {
    "duration": 101,
    "start_time": "2021-11-16T10:53:13.791Z"
   },
   {
    "duration": 3,
    "start_time": "2021-11-16T10:55:59.186Z"
   },
   {
    "duration": 3,
    "start_time": "2021-11-16T10:56:10.751Z"
   },
   {
    "duration": 3,
    "start_time": "2021-11-16T10:56:49.038Z"
   },
   {
    "duration": 3,
    "start_time": "2021-11-16T10:56:49.174Z"
   },
   {
    "duration": 4,
    "start_time": "2021-11-16T10:56:49.414Z"
   },
   {
    "duration": 3,
    "start_time": "2021-11-16T10:56:49.680Z"
   },
   {
    "duration": 3,
    "start_time": "2021-11-16T10:56:50.370Z"
   },
   {
    "duration": 114,
    "start_time": "2021-11-16T10:59:34.518Z"
   },
   {
    "duration": 3,
    "start_time": "2021-11-16T11:01:41.201Z"
   },
   {
    "duration": 116,
    "start_time": "2021-11-16T11:01:48.754Z"
   },
   {
    "duration": 3,
    "start_time": "2021-11-16T11:02:16.685Z"
   },
   {
    "duration": 3,
    "start_time": "2021-11-16T11:02:19.479Z"
   },
   {
    "duration": 3,
    "start_time": "2021-11-16T11:02:47.067Z"
   },
   {
    "duration": 3,
    "start_time": "2021-11-16T11:02:49.353Z"
   },
   {
    "duration": 3,
    "start_time": "2021-11-16T11:03:07.835Z"
   },
   {
    "duration": 3,
    "start_time": "2021-11-16T11:03:07.953Z"
   },
   {
    "duration": 112,
    "start_time": "2021-11-16T11:07:52.072Z"
   },
   {
    "duration": 187,
    "start_time": "2021-11-16T11:09:23.468Z"
   },
   {
    "duration": 4,
    "start_time": "2021-11-16T11:10:01.455Z"
   },
   {
    "duration": 3,
    "start_time": "2021-11-16T11:10:05.069Z"
   },
   {
    "duration": 4,
    "start_time": "2021-11-16T11:10:13.376Z"
   },
   {
    "duration": 3,
    "start_time": "2021-11-16T11:10:14.434Z"
   },
   {
    "duration": 3,
    "start_time": "2021-11-16T11:10:22.853Z"
   },
   {
    "duration": 4,
    "start_time": "2021-11-16T11:27:29.279Z"
   },
   {
    "duration": 4,
    "start_time": "2021-11-16T11:29:08.919Z"
   },
   {
    "duration": 118,
    "start_time": "2021-11-16T11:29:46.703Z"
   },
   {
    "duration": 437,
    "start_time": "2021-11-16T11:36:02.181Z"
   },
   {
    "duration": 157,
    "start_time": "2021-11-16T11:36:14.388Z"
   },
   {
    "duration": 207,
    "start_time": "2021-11-16T11:47:15.898Z"
   },
   {
    "duration": 3,
    "start_time": "2021-11-16T11:53:52.092Z"
   },
   {
    "duration": 3,
    "start_time": "2021-11-16T11:53:52.236Z"
   },
   {
    "duration": 3,
    "start_time": "2021-11-16T11:59:12.005Z"
   },
   {
    "duration": 112,
    "start_time": "2021-11-16T12:00:33.446Z"
   },
   {
    "duration": 3,
    "start_time": "2021-11-16T12:02:14.453Z"
   },
   {
    "duration": 3,
    "start_time": "2021-11-16T12:02:39.512Z"
   },
   {
    "duration": 106,
    "start_time": "2021-11-16T12:03:03.460Z"
   },
   {
    "duration": 3,
    "start_time": "2021-11-17T20:37:21.139Z"
   },
   {
    "duration": 3,
    "start_time": "2021-11-17T20:37:22.229Z"
   },
   {
    "duration": 3,
    "start_time": "2021-11-17T20:38:38.806Z"
   },
   {
    "duration": 3,
    "start_time": "2021-11-17T20:38:41.958Z"
   },
   {
    "duration": 3,
    "start_time": "2021-11-17T20:43:46.551Z"
   },
   {
    "duration": 4,
    "start_time": "2021-11-17T20:58:21.835Z"
   },
   {
    "duration": 3,
    "start_time": "2021-11-17T20:59:21.872Z"
   },
   {
    "duration": 4,
    "start_time": "2021-11-17T20:59:45.352Z"
   },
   {
    "duration": 4,
    "start_time": "2021-11-17T20:59:49.646Z"
   },
   {
    "duration": 159,
    "start_time": "2021-11-17T21:02:26.949Z"
   },
   {
    "duration": 3,
    "start_time": "2021-11-17T21:03:53.461Z"
   },
   {
    "duration": 3,
    "start_time": "2021-11-17T21:03:53.694Z"
   },
   {
    "duration": 3,
    "start_time": "2021-11-17T21:05:28.145Z"
   },
   {
    "duration": 116,
    "start_time": "2021-11-17T21:05:57.787Z"
   },
   {
    "duration": 3,
    "start_time": "2021-11-17T21:06:37.993Z"
   },
   {
    "duration": 3,
    "start_time": "2021-11-17T21:06:38.261Z"
   },
   {
    "duration": 3,
    "start_time": "2021-11-17T21:11:54.358Z"
   },
   {
    "duration": 3,
    "start_time": "2021-11-17T21:12:43.846Z"
   },
   {
    "duration": 4,
    "start_time": "2021-11-17T21:13:08.773Z"
   },
   {
    "duration": 3,
    "start_time": "2021-11-17T21:14:44.441Z"
   },
   {
    "duration": 3,
    "start_time": "2021-11-17T21:15:42.059Z"
   },
   {
    "duration": 4,
    "start_time": "2021-11-17T21:15:51.995Z"
   },
   {
    "duration": 3,
    "start_time": "2021-11-17T21:15:53.923Z"
   },
   {
    "duration": 3,
    "start_time": "2021-11-17T21:15:55.282Z"
   },
   {
    "duration": 3,
    "start_time": "2021-11-17T21:16:28.492Z"
   },
   {
    "duration": 3,
    "start_time": "2021-11-17T21:16:32.603Z"
   },
   {
    "duration": 3,
    "start_time": "2021-11-17T21:17:06.941Z"
   },
   {
    "duration": 98,
    "start_time": "2021-11-17T21:18:05.733Z"
   },
   {
    "duration": 4,
    "start_time": "2021-11-17T21:21:35.255Z"
   },
   {
    "duration": 3,
    "start_time": "2021-11-17T21:21:37.804Z"
   },
   {
    "duration": 4,
    "start_time": "2021-11-17T21:23:06.071Z"
   },
   {
    "duration": 3,
    "start_time": "2021-11-17T21:23:24.799Z"
   },
   {
    "duration": 3,
    "start_time": "2021-11-17T21:23:32.591Z"
   },
   {
    "duration": 98,
    "start_time": "2021-11-17T21:28:31.559Z"
   },
   {
    "duration": 3,
    "start_time": "2021-11-17T21:28:45.448Z"
   },
   {
    "duration": 3,
    "start_time": "2021-11-17T21:29:17.303Z"
   },
   {
    "duration": 3,
    "start_time": "2021-11-17T21:29:29.617Z"
   },
   {
    "duration": 3,
    "start_time": "2021-11-17T21:29:32.681Z"
   },
   {
    "duration": 3,
    "start_time": "2021-11-17T21:36:11.474Z"
   },
   {
    "duration": 3,
    "start_time": "2021-11-17T21:36:14.791Z"
   },
   {
    "duration": 3,
    "start_time": "2021-11-17T21:36:53.943Z"
   },
   {
    "duration": 3,
    "start_time": "2021-11-17T21:36:56.165Z"
   },
   {
    "duration": 4,
    "start_time": "2021-11-17T21:37:16.590Z"
   },
   {
    "duration": 3,
    "start_time": "2021-11-17T21:37:22.702Z"
   },
   {
    "duration": 4,
    "start_time": "2021-11-17T21:38:03.479Z"
   },
   {
    "duration": 3,
    "start_time": "2021-11-17T21:38:08.601Z"
   },
   {
    "duration": 3,
    "start_time": "2021-11-17T21:38:12.928Z"
   },
   {
    "duration": 3,
    "start_time": "2021-11-17T21:38:48.896Z"
   },
   {
    "duration": 2,
    "start_time": "2021-11-17T21:38:49.171Z"
   },
   {
    "duration": 4,
    "start_time": "2021-11-17T21:39:57.889Z"
   },
   {
    "duration": 3,
    "start_time": "2021-11-17T21:39:58.057Z"
   },
   {
    "duration": 3,
    "start_time": "2021-11-17T21:41:20.108Z"
   },
   {
    "duration": 3,
    "start_time": "2021-11-17T21:41:20.629Z"
   },
   {
    "duration": 3,
    "start_time": "2021-11-17T21:42:49.136Z"
   },
   {
    "duration": 3,
    "start_time": "2021-11-17T21:43:15.137Z"
   },
   {
    "duration": 4,
    "start_time": "2021-11-17T21:43:16.766Z"
   },
   {
    "duration": 4,
    "start_time": "2021-11-17T21:43:31.711Z"
   },
   {
    "duration": 3,
    "start_time": "2021-11-17T21:43:36.312Z"
   },
   {
    "duration": 4,
    "start_time": "2021-11-17T21:45:08.825Z"
   },
   {
    "duration": 4,
    "start_time": "2021-11-17T21:45:10.119Z"
   },
   {
    "duration": 4,
    "start_time": "2021-11-17T21:45:13.748Z"
   },
   {
    "duration": 3,
    "start_time": "2021-11-17T21:45:22.219Z"
   },
   {
    "duration": 3,
    "start_time": "2021-11-17T21:45:33.412Z"
   },
   {
    "duration": 2,
    "start_time": "2021-11-17T21:46:01.885Z"
   },
   {
    "duration": 3,
    "start_time": "2021-11-17T21:46:03.628Z"
   },
   {
    "duration": 107,
    "start_time": "2021-11-17T21:47:32.512Z"
   },
   {
    "duration": 103,
    "start_time": "2021-11-17T21:50:36.243Z"
   },
   {
    "duration": 3,
    "start_time": "2021-11-18T06:28:31.440Z"
   },
   {
    "duration": 3,
    "start_time": "2021-11-18T06:29:00.168Z"
   },
   {
    "duration": 3,
    "start_time": "2021-11-18T06:31:27.008Z"
   },
   {
    "duration": 2,
    "start_time": "2021-11-18T06:35:34.288Z"
   },
   {
    "duration": 2,
    "start_time": "2021-11-18T06:38:04.527Z"
   },
   {
    "duration": 608,
    "start_time": "2024-12-09T02:33:56.565Z"
   },
   {
    "duration": 7,
    "start_time": "2025-01-20T14:17:13.503Z"
   },
   {
    "duration": 162,
    "start_time": "2025-03-02T22:32:52.061Z"
   },
   {
    "duration": 2540,
    "start_time": "2025-03-02T22:34:59.089Z"
   },
   {
    "duration": 793,
    "start_time": "2025-03-02T22:35:01.631Z"
   },
   {
    "duration": 0,
    "start_time": "2025-03-02T22:35:02.427Z"
   },
   {
    "duration": 0,
    "start_time": "2025-03-02T22:35:02.428Z"
   },
   {
    "duration": 0,
    "start_time": "2025-03-02T22:35:02.429Z"
   },
   {
    "duration": 0,
    "start_time": "2025-03-02T22:35:02.430Z"
   },
   {
    "duration": 0,
    "start_time": "2025-03-02T22:35:02.487Z"
   },
   {
    "duration": 0,
    "start_time": "2025-03-02T22:35:02.489Z"
   },
   {
    "duration": 0,
    "start_time": "2025-03-02T22:35:02.490Z"
   },
   {
    "duration": 0,
    "start_time": "2025-03-02T22:35:02.491Z"
   },
   {
    "duration": 0,
    "start_time": "2025-03-02T22:35:02.492Z"
   },
   {
    "duration": 0,
    "start_time": "2025-03-02T22:35:02.493Z"
   },
   {
    "duration": 0,
    "start_time": "2025-03-02T22:35:02.494Z"
   },
   {
    "duration": 0,
    "start_time": "2025-03-02T22:35:02.495Z"
   },
   {
    "duration": 0,
    "start_time": "2025-03-02T22:35:02.495Z"
   },
   {
    "duration": 0,
    "start_time": "2025-03-02T22:35:02.496Z"
   },
   {
    "duration": 0,
    "start_time": "2025-03-02T22:35:02.497Z"
   },
   {
    "duration": 0,
    "start_time": "2025-03-02T22:35:02.498Z"
   },
   {
    "duration": 0,
    "start_time": "2025-03-02T22:35:02.499Z"
   },
   {
    "duration": 0,
    "start_time": "2025-03-02T22:35:02.500Z"
   },
   {
    "duration": 0,
    "start_time": "2025-03-02T22:35:02.501Z"
   },
   {
    "duration": 0,
    "start_time": "2025-03-02T22:35:02.502Z"
   },
   {
    "duration": 0,
    "start_time": "2025-03-02T22:35:02.503Z"
   },
   {
    "duration": 0,
    "start_time": "2025-03-02T22:35:02.504Z"
   },
   {
    "duration": 0,
    "start_time": "2025-03-02T22:35:02.505Z"
   },
   {
    "duration": 0,
    "start_time": "2025-03-02T22:35:02.506Z"
   },
   {
    "duration": 0,
    "start_time": "2025-03-02T22:35:02.507Z"
   },
   {
    "duration": 0,
    "start_time": "2025-03-02T22:35:02.508Z"
   },
   {
    "duration": 0,
    "start_time": "2025-03-02T22:35:02.509Z"
   },
   {
    "duration": 0,
    "start_time": "2025-03-02T22:35:02.510Z"
   },
   {
    "duration": 0,
    "start_time": "2025-03-02T22:35:02.511Z"
   },
   {
    "duration": 0,
    "start_time": "2025-03-02T22:35:02.515Z"
   },
   {
    "duration": 0,
    "start_time": "2025-03-02T22:35:02.516Z"
   },
   {
    "duration": 0,
    "start_time": "2025-03-02T22:35:02.517Z"
   },
   {
    "duration": 0,
    "start_time": "2025-03-02T22:35:02.518Z"
   },
   {
    "duration": 0,
    "start_time": "2025-03-02T22:35:02.519Z"
   },
   {
    "duration": 0,
    "start_time": "2025-03-02T22:35:02.520Z"
   },
   {
    "duration": 0,
    "start_time": "2025-03-02T22:35:02.521Z"
   },
   {
    "duration": 0,
    "start_time": "2025-03-02T22:35:02.522Z"
   },
   {
    "duration": 0,
    "start_time": "2025-03-02T22:35:02.523Z"
   },
   {
    "duration": 0,
    "start_time": "2025-03-02T22:35:02.524Z"
   },
   {
    "duration": 0,
    "start_time": "2025-03-02T22:35:02.587Z"
   },
   {
    "duration": 0,
    "start_time": "2025-03-02T22:35:02.588Z"
   },
   {
    "duration": 0,
    "start_time": "2025-03-02T22:35:02.588Z"
   },
   {
    "duration": 0,
    "start_time": "2025-03-02T22:35:02.590Z"
   },
   {
    "duration": 0,
    "start_time": "2025-03-02T22:35:02.591Z"
   },
   {
    "duration": 0,
    "start_time": "2025-03-02T22:35:02.592Z"
   },
   {
    "duration": 0,
    "start_time": "2025-03-02T22:35:02.593Z"
   },
   {
    "duration": 0,
    "start_time": "2025-03-02T22:35:02.595Z"
   },
   {
    "duration": 0,
    "start_time": "2025-03-02T22:35:02.596Z"
   },
   {
    "duration": 0,
    "start_time": "2025-03-02T22:35:02.600Z"
   },
   {
    "duration": 0,
    "start_time": "2025-03-02T22:35:02.601Z"
   },
   {
    "duration": 218,
    "start_time": "2025-03-02T22:36:30.872Z"
   },
   {
    "duration": 798,
    "start_time": "2025-03-02T22:36:50.809Z"
   },
   {
    "duration": 147,
    "start_time": "2025-03-02T22:36:51.609Z"
   },
   {
    "duration": 10,
    "start_time": "2025-03-02T22:36:51.758Z"
   },
   {
    "duration": 17,
    "start_time": "2025-03-02T22:36:51.770Z"
   },
   {
    "duration": 8,
    "start_time": "2025-03-02T22:36:51.790Z"
   },
   {
    "duration": 9,
    "start_time": "2025-03-02T22:36:51.799Z"
   },
   {
    "duration": 7,
    "start_time": "2025-03-02T22:36:51.810Z"
   },
   {
    "duration": 9,
    "start_time": "2025-03-02T22:36:51.819Z"
   },
   {
    "duration": 6,
    "start_time": "2025-03-02T22:36:51.830Z"
   },
   {
    "duration": 49,
    "start_time": "2025-03-02T22:36:51.838Z"
   },
   {
    "duration": 10,
    "start_time": "2025-03-02T22:36:51.889Z"
   },
   {
    "duration": 31,
    "start_time": "2025-03-02T22:36:51.900Z"
   },
   {
    "duration": 6,
    "start_time": "2025-03-02T22:36:51.932Z"
   },
   {
    "duration": 11,
    "start_time": "2025-03-02T22:36:51.941Z"
   },
   {
    "duration": 40,
    "start_time": "2025-03-02T22:36:51.953Z"
   },
   {
    "duration": 15,
    "start_time": "2025-03-02T22:36:51.995Z"
   },
   {
    "duration": 13,
    "start_time": "2025-03-02T22:36:52.011Z"
   },
   {
    "duration": 18,
    "start_time": "2025-03-02T22:36:52.025Z"
   },
   {
    "duration": 9,
    "start_time": "2025-03-02T22:36:52.045Z"
   },
   {
    "duration": 54,
    "start_time": "2025-03-02T22:36:52.056Z"
   },
   {
    "duration": 39,
    "start_time": "2025-03-02T22:36:52.112Z"
   },
   {
    "duration": 7,
    "start_time": "2025-03-02T22:36:52.153Z"
   },
   {
    "duration": 76,
    "start_time": "2025-03-02T22:36:52.187Z"
   },
   {
    "duration": 33,
    "start_time": "2025-03-02T22:36:52.264Z"
   },
   {
    "duration": 21,
    "start_time": "2025-03-02T22:36:52.299Z"
   },
   {
    "duration": 20,
    "start_time": "2025-03-02T22:36:52.321Z"
   },
   {
    "duration": 18,
    "start_time": "2025-03-02T22:36:52.343Z"
   },
   {
    "duration": 39,
    "start_time": "2025-03-02T22:36:52.363Z"
   },
   {
    "duration": 14,
    "start_time": "2025-03-02T22:36:52.404Z"
   },
   {
    "duration": 3,
    "start_time": "2025-03-02T22:36:52.420Z"
   },
   {
    "duration": 16,
    "start_time": "2025-03-02T22:36:52.425Z"
   },
   {
    "duration": 3,
    "start_time": "2025-03-02T22:36:52.443Z"
   },
   {
    "duration": 38,
    "start_time": "2025-03-02T22:36:52.448Z"
   },
   {
    "duration": 7,
    "start_time": "2025-03-02T22:36:52.488Z"
   },
   {
    "duration": 4,
    "start_time": "2025-03-02T22:36:52.497Z"
   },
   {
    "duration": 4,
    "start_time": "2025-03-02T22:36:52.503Z"
   },
   {
    "duration": 4,
    "start_time": "2025-03-02T22:36:52.508Z"
   },
   {
    "duration": 12,
    "start_time": "2025-03-02T22:36:52.513Z"
   },
   {
    "duration": 276,
    "start_time": "2025-03-02T22:36:52.527Z"
   },
   {
    "duration": 450,
    "start_time": "2025-03-02T22:36:52.805Z"
   },
   {
    "duration": 9,
    "start_time": "2025-03-02T22:36:53.261Z"
   },
   {
    "duration": 120,
    "start_time": "2025-03-02T22:36:53.272Z"
   },
   {
    "duration": 396,
    "start_time": "2025-03-02T22:36:53.394Z"
   },
   {
    "duration": 263,
    "start_time": "2025-03-02T22:36:53.792Z"
   },
   {
    "duration": 134,
    "start_time": "2025-03-02T22:36:54.057Z"
   },
   {
    "duration": 324,
    "start_time": "2025-03-02T22:36:54.193Z"
   },
   {
    "duration": 8,
    "start_time": "2025-03-02T22:36:54.519Z"
   },
   {
    "duration": 132,
    "start_time": "2025-03-02T22:36:54.529Z"
   },
   {
    "duration": 8,
    "start_time": "2025-03-02T22:36:54.663Z"
   },
   {
    "duration": 18,
    "start_time": "2025-03-02T22:36:54.672Z"
   },
   {
    "duration": 25,
    "start_time": "2025-03-02T22:36:54.692Z"
   },
   {
    "duration": 6,
    "start_time": "2025-03-02T22:36:54.720Z"
   },
   {
    "duration": 6,
    "start_time": "2025-03-02T22:41:11.572Z"
   },
   {
    "duration": 844,
    "start_time": "2025-03-02T22:42:52.587Z"
   },
   {
    "duration": 154,
    "start_time": "2025-03-02T22:42:53.434Z"
   },
   {
    "duration": 10,
    "start_time": "2025-03-02T22:42:53.590Z"
   },
   {
    "duration": 9,
    "start_time": "2025-03-02T22:42:53.602Z"
   },
   {
    "duration": 7,
    "start_time": "2025-03-02T22:42:53.614Z"
   },
   {
    "duration": 10,
    "start_time": "2025-03-02T22:42:53.623Z"
   },
   {
    "duration": 6,
    "start_time": "2025-03-02T22:42:53.635Z"
   },
   {
    "duration": 11,
    "start_time": "2025-03-02T22:42:53.642Z"
   },
   {
    "duration": 38,
    "start_time": "2025-03-02T22:42:53.655Z"
   },
   {
    "duration": 16,
    "start_time": "2025-03-02T22:42:53.695Z"
   },
   {
    "duration": 11,
    "start_time": "2025-03-02T22:42:53.712Z"
   },
   {
    "duration": 31,
    "start_time": "2025-03-02T22:42:53.724Z"
   },
   {
    "duration": 8,
    "start_time": "2025-03-02T22:42:53.787Z"
   },
   {
    "duration": 11,
    "start_time": "2025-03-02T22:42:53.799Z"
   },
   {
    "duration": 10,
    "start_time": "2025-03-02T22:42:53.811Z"
   },
   {
    "duration": 15,
    "start_time": "2025-03-02T22:42:53.823Z"
   },
   {
    "duration": 13,
    "start_time": "2025-03-02T22:42:53.840Z"
   },
   {
    "duration": 43,
    "start_time": "2025-03-02T22:42:53.855Z"
   },
   {
    "duration": 11,
    "start_time": "2025-03-02T22:42:53.899Z"
   },
   {
    "duration": 25,
    "start_time": "2025-03-02T22:42:53.911Z"
   },
   {
    "duration": 66,
    "start_time": "2025-03-02T22:42:53.938Z"
   },
   {
    "duration": 6,
    "start_time": "2025-03-02T22:42:54.006Z"
   },
   {
    "duration": 102,
    "start_time": "2025-03-02T22:42:54.014Z"
   },
   {
    "duration": 4,
    "start_time": "2025-03-02T22:42:54.118Z"
   },
   {
    "duration": 25,
    "start_time": "2025-03-02T22:42:54.123Z"
   },
   {
    "duration": 37,
    "start_time": "2025-03-02T22:42:54.150Z"
   },
   {
    "duration": 20,
    "start_time": "2025-03-02T22:42:54.189Z"
   },
   {
    "duration": 19,
    "start_time": "2025-03-02T22:42:54.210Z"
   },
   {
    "duration": 19,
    "start_time": "2025-03-02T22:42:54.230Z"
   },
   {
    "duration": 41,
    "start_time": "2025-03-02T22:42:54.251Z"
   },
   {
    "duration": 4,
    "start_time": "2025-03-02T22:42:54.294Z"
   },
   {
    "duration": 17,
    "start_time": "2025-03-02T22:42:54.300Z"
   },
   {
    "duration": 5,
    "start_time": "2025-03-02T22:42:54.318Z"
   },
   {
    "duration": 6,
    "start_time": "2025-03-02T22:42:54.324Z"
   },
   {
    "duration": 7,
    "start_time": "2025-03-02T22:42:54.331Z"
   },
   {
    "duration": 5,
    "start_time": "2025-03-02T22:42:54.339Z"
   },
   {
    "duration": 4,
    "start_time": "2025-03-02T22:42:54.345Z"
   },
   {
    "duration": 4,
    "start_time": "2025-03-02T22:42:54.386Z"
   },
   {
    "duration": 14,
    "start_time": "2025-03-02T22:42:54.392Z"
   },
   {
    "duration": 261,
    "start_time": "2025-03-02T22:42:54.407Z"
   },
   {
    "duration": 458,
    "start_time": "2025-03-02T22:42:54.673Z"
   },
   {
    "duration": 11,
    "start_time": "2025-03-02T22:42:55.133Z"
   },
   {
    "duration": 114,
    "start_time": "2025-03-02T22:42:55.146Z"
   },
   {
    "duration": 385,
    "start_time": "2025-03-02T22:42:55.262Z"
   },
   {
    "duration": 247,
    "start_time": "2025-03-02T22:42:55.648Z"
   },
   {
    "duration": 130,
    "start_time": "2025-03-02T22:42:55.897Z"
   },
   {
    "duration": 345,
    "start_time": "2025-03-02T22:42:56.029Z"
   },
   {
    "duration": 16,
    "start_time": "2025-03-02T22:42:56.375Z"
   },
   {
    "duration": 121,
    "start_time": "2025-03-02T22:42:56.394Z"
   },
   {
    "duration": 7,
    "start_time": "2025-03-02T22:42:56.517Z"
   },
   {
    "duration": 6,
    "start_time": "2025-03-02T22:42:56.526Z"
   },
   {
    "duration": 26,
    "start_time": "2025-03-02T22:42:56.534Z"
   },
   {
    "duration": 28,
    "start_time": "2025-03-02T22:42:56.562Z"
   },
   {
    "duration": 111,
    "start_time": "2025-03-02T22:45:15.397Z"
   },
   {
    "duration": 296,
    "start_time": "2025-03-02T22:46:27.012Z"
   },
   {
    "duration": 8,
    "start_time": "2025-03-02T22:46:35.283Z"
   },
   {
    "duration": 135,
    "start_time": "2025-03-02T22:47:13.005Z"
   },
   {
    "duration": 2574,
    "start_time": "2025-03-03T13:12:22.627Z"
   },
   {
    "duration": 222,
    "start_time": "2025-03-03T13:12:25.203Z"
   },
   {
    "duration": 10,
    "start_time": "2025-03-03T13:12:25.427Z"
   },
   {
    "duration": 10,
    "start_time": "2025-03-03T13:12:25.439Z"
   },
   {
    "duration": 8,
    "start_time": "2025-03-03T13:12:25.451Z"
   },
   {
    "duration": 10,
    "start_time": "2025-03-03T13:12:25.460Z"
   },
   {
    "duration": 7,
    "start_time": "2025-03-03T13:12:25.471Z"
   },
   {
    "duration": 11,
    "start_time": "2025-03-03T13:12:25.479Z"
   },
   {
    "duration": 42,
    "start_time": "2025-03-03T13:12:25.492Z"
   },
   {
    "duration": 15,
    "start_time": "2025-03-03T13:12:25.536Z"
   },
   {
    "duration": 10,
    "start_time": "2025-03-03T13:12:25.552Z"
   },
   {
    "duration": 32,
    "start_time": "2025-03-03T13:12:25.564Z"
   },
   {
    "duration": 34,
    "start_time": "2025-03-03T13:12:25.598Z"
   },
   {
    "duration": 12,
    "start_time": "2025-03-03T13:12:25.636Z"
   },
   {
    "duration": 8,
    "start_time": "2025-03-03T13:12:25.649Z"
   },
   {
    "duration": 15,
    "start_time": "2025-03-03T13:12:25.659Z"
   },
   {
    "duration": 13,
    "start_time": "2025-03-03T13:12:25.676Z"
   },
   {
    "duration": 46,
    "start_time": "2025-03-03T13:12:25.691Z"
   },
   {
    "duration": 10,
    "start_time": "2025-03-03T13:12:25.741Z"
   },
   {
    "duration": 24,
    "start_time": "2025-03-03T13:12:25.753Z"
   },
   {
    "duration": 60,
    "start_time": "2025-03-03T13:12:25.779Z"
   },
   {
    "duration": 7,
    "start_time": "2025-03-03T13:12:25.841Z"
   },
   {
    "duration": 98,
    "start_time": "2025-03-03T13:12:25.850Z"
   },
   {
    "duration": 3,
    "start_time": "2025-03-03T13:12:25.950Z"
   },
   {
    "duration": 25,
    "start_time": "2025-03-03T13:12:25.955Z"
   },
   {
    "duration": 22,
    "start_time": "2025-03-03T13:12:25.982Z"
   },
   {
    "duration": 42,
    "start_time": "2025-03-03T13:12:26.005Z"
   },
   {
    "duration": 20,
    "start_time": "2025-03-03T13:12:26.049Z"
   },
   {
    "duration": 20,
    "start_time": "2025-03-03T13:12:26.070Z"
   },
   {
    "duration": 15,
    "start_time": "2025-03-03T13:12:26.091Z"
   },
   {
    "duration": 3,
    "start_time": "2025-03-03T13:12:26.131Z"
   },
   {
    "duration": 18,
    "start_time": "2025-03-03T13:12:26.136Z"
   },
   {
    "duration": 4,
    "start_time": "2025-03-03T13:12:26.155Z"
   },
   {
    "duration": 5,
    "start_time": "2025-03-03T13:12:26.160Z"
   },
   {
    "duration": 7,
    "start_time": "2025-03-03T13:12:26.166Z"
   },
   {
    "duration": 5,
    "start_time": "2025-03-03T13:12:26.175Z"
   },
   {
    "duration": 3,
    "start_time": "2025-03-03T13:12:26.182Z"
   },
   {
    "duration": 4,
    "start_time": "2025-03-03T13:12:26.187Z"
   },
   {
    "duration": 51,
    "start_time": "2025-03-03T13:12:26.192Z"
   },
   {
    "duration": 261,
    "start_time": "2025-03-03T13:12:26.245Z"
   },
   {
    "duration": 426,
    "start_time": "2025-03-03T13:12:26.512Z"
   },
   {
    "duration": 8,
    "start_time": "2025-03-03T13:12:26.940Z"
   },
   {
    "duration": 127,
    "start_time": "2025-03-03T13:12:26.949Z"
   },
   {
    "duration": 423,
    "start_time": "2025-03-03T13:12:27.078Z"
   },
   {
    "duration": 272,
    "start_time": "2025-03-03T13:12:27.503Z"
   },
   {
    "duration": 130,
    "start_time": "2025-03-03T13:12:27.779Z"
   },
   {
    "duration": 392,
    "start_time": "2025-03-03T13:12:27.911Z"
   },
   {
    "duration": 8,
    "start_time": "2025-03-03T13:12:28.305Z"
   },
   {
    "duration": 134,
    "start_time": "2025-03-03T13:12:28.315Z"
   },
   {
    "duration": 7,
    "start_time": "2025-03-03T13:12:28.451Z"
   },
   {
    "duration": 6,
    "start_time": "2025-03-03T13:12:28.460Z"
   },
   {
    "duration": 26,
    "start_time": "2025-03-03T13:12:28.468Z"
   },
   {
    "duration": 6,
    "start_time": "2025-03-03T13:12:28.496Z"
   },
   {
    "duration": 24,
    "start_time": "2025-03-03T13:12:54.346Z"
   },
   {
    "duration": 6,
    "start_time": "2025-03-03T13:13:07.742Z"
   },
   {
    "duration": 4,
    "start_time": "2025-03-03T13:13:25.788Z"
   },
   {
    "duration": 15,
    "start_time": "2025-03-03T13:13:30.146Z"
   },
   {
    "duration": 13,
    "start_time": "2025-03-03T13:14:06.607Z"
   },
   {
    "duration": 12,
    "start_time": "2025-03-03T13:14:20.175Z"
   },
   {
    "duration": 14,
    "start_time": "2025-03-03T13:14:26.836Z"
   },
   {
    "duration": 14,
    "start_time": "2025-03-03T13:14:40.865Z"
   },
   {
    "duration": 15,
    "start_time": "2025-03-03T13:14:56.409Z"
   },
   {
    "duration": 3,
    "start_time": "2025-03-03T13:15:03.229Z"
   },
   {
    "duration": 4,
    "start_time": "2025-03-03T13:15:04.830Z"
   },
   {
    "duration": 7,
    "start_time": "2025-03-03T13:15:06.318Z"
   },
   {
    "duration": 5,
    "start_time": "2025-03-03T13:15:07.088Z"
   },
   {
    "duration": 4,
    "start_time": "2025-03-03T13:15:07.742Z"
   },
   {
    "duration": 3,
    "start_time": "2025-03-03T13:15:09.510Z"
   },
   {
    "duration": 13,
    "start_time": "2025-03-03T13:15:10.740Z"
   },
   {
    "duration": 15,
    "start_time": "2025-03-03T13:15:13.023Z"
   },
   {
    "duration": 16,
    "start_time": "2025-03-03T13:15:46.997Z"
   },
   {
    "duration": 5,
    "start_time": "2025-03-03T13:16:23.192Z"
   },
   {
    "duration": 4,
    "start_time": "2025-03-03T13:16:23.887Z"
   },
   {
    "duration": 4,
    "start_time": "2025-03-03T13:16:24.485Z"
   },
   {
    "duration": 12,
    "start_time": "2025-03-03T13:16:25.029Z"
   },
   {
    "duration": 15,
    "start_time": "2025-03-03T13:16:27.036Z"
   }
  ],
  "colab": {
   "provenance": []
  },
  "kernelspec": {
   "display_name": "Python 3 (ipykernel)",
   "language": "python",
   "name": "python3"
  },
  "language_info": {
   "codemirror_mode": {
    "name": "ipython",
    "version": 3
   },
   "file_extension": ".py",
   "mimetype": "text/x-python",
   "name": "python",
   "nbconvert_exporter": "python",
   "pygments_lexer": "ipython3",
   "version": "3.9.19"
  },
  "toc": {
   "base_numbering": 1,
   "nav_menu": {},
   "number_sections": true,
   "sideBar": true,
   "skip_h1_title": false,
   "title_cell": "Table of Contents",
   "title_sidebar": "Contents",
   "toc_cell": false,
   "toc_position": {
    "height": "calc(100% - 180px)",
    "left": "10px",
    "top": "150px",
    "width": "216.194px"
   },
   "toc_section_display": true,
   "toc_window_display": true
  }
 },
 "nbformat": 4,
 "nbformat_minor": 1
}
