{
 "cells": [
  {
   "cell_type": "markdown",
   "id": "d8c3b95d",
   "metadata": {},
   "source": [
    "Hola **Alan**!\n",
    "\n",
    "Soy **Patricio Requena** 👋. Es un placer ser el revisor de tu proyecto el día de hoy!\n",
    "\n",
    "Revisaré tu proyecto detenidamente con el objetivo de ayudarte a mejorar y perfeccionar tus habilidades. Durante mi revisión, identificaré áreas donde puedas hacer mejoras en tu código, señalando específicamente qué y cómo podrías ajustar para optimizar el rendimiento y la claridad de tu proyecto. Además, es importante para mí destacar los aspectos que has manejado excepcionalmente bien. Reconocer tus fortalezas te ayudará a entender qué técnicas y métodos están funcionando a tu favor y cómo puedes aplicarlos en futuras tareas. \n",
    "\n",
    "_**Recuerda que al final de este notebook encontrarás un comentario general de mi parte**_, empecemos!\n",
    "\n",
    "Encontrarás mis comentarios dentro de cajas verdes, amarillas o rojas, ⚠️ **por favor, no muevas, modifiques o borres mis comentarios** ⚠️:\n",
    "\n",
    "\n",
    "<div class=\"alert alert-block alert-success\">\n",
    "<b>Comentario del revisor</b> <a class=“tocSkip”></a>\n",
    "Si todo está perfecto.\n",
    "</div>\n",
    "\n",
    "<div class=\"alert alert-block alert-warning\">\n",
    "<b>Comentario del revisor</b> <a class=“tocSkip”></a>\n",
    "Si tu código está bien pero se puede mejorar o hay algún detalle que le hace falta.\n",
    "</div>\n",
    "\n",
    "<div class=\"alert alert-block alert-danger\">\n",
    "<b>Comentario del revisor</b> <a class=“tocSkip”></a>\n",
    "Si de pronto hace falta algo o existe algún problema con tu código o conclusiones.\n",
    "</div>\n",
    "\n",
    "Puedes responderme de esta forma:\n",
    "<div class=\"alert alert-block alert-info\">\n",
    "<b>Respuesta del estudiante</b> <a class=“tocSkip”></a>\n",
    "</div>"
   ]
  },
  {
   "cell_type": "markdown",
   "id": "3Xg_RQfnafXz",
   "metadata": {
    "id": "3Xg_RQfnafXz"
   },
   "source": [
    "# ¡Llena ese carrito!"
   ]
  },
  {
   "cell_type": "markdown",
   "id": "mhIvmmkW414q",
   "metadata": {
    "id": "mhIvmmkW414q"
   },
   "source": [
    "# Introducción\n",
    "\n",
    "Instacart es una plataforma de entregas de comestibles donde la clientela puede registrar un pedido y hacer que se lo entreguen, similar a Uber Eats y Door Dash.\n",
    "El conjunto de datos que te hemos proporcionado tiene modificaciones del original. Redujimos el tamaño del conjunto para que tus cálculos se hicieran más rápido e introdujimos valores ausentes y duplicados. Tuvimos cuidado de conservar las distribuciones de los datos originales cuando hicimos los cambios.\n",
    "\n",
    "Debes completar tres pasos. Para cada uno de ellos, escribe una breve introducción que refleje con claridad cómo pretendes resolver cada paso, y escribe párrafos explicatorios que justifiquen tus decisiones al tiempo que avanzas en tu solución.  También escribe una conclusión que resuma tus hallazgos y elecciones.\n"
   ]
  },
  {
   "cell_type": "markdown",
   "id": "3MbyzpOQZ5Or",
   "metadata": {
    "id": "3MbyzpOQZ5Or"
   },
   "source": [
    "## Diccionario de datos\n",
    "\n",
    "Hay cinco tablas en el conjunto de datos, y tendrás que usarlas todas para hacer el preprocesamiento de datos y el análisis exploratorio de datos. A continuación se muestra un diccionario de datos que enumera las columnas de cada tabla y describe los datos que contienen.\n",
    "\n",
    "- `instacart_orders.csv`: cada fila corresponde a un pedido en la aplicación Instacart.\n",
    "    - `'order_id'`: número de ID que identifica de manera única cada pedido.\n",
    "    - `'user_id'`: número de ID que identifica de manera única la cuenta de cada cliente.\n",
    "    - `'order_number'`: el número de veces que este cliente ha hecho un pedido.\n",
    "    - `'order_dow'`: día de la semana en que se hizo el pedido (0 si es domingo).\n",
    "    - `'order_hour_of_day'`: hora del día en que se hizo el pedido.\n",
    "    - `'days_since_prior_order'`: número de días transcurridos desde que este cliente hizo su pedido anterior.\n",
    "- `products.csv`: cada fila corresponde a un producto único que pueden comprar los clientes.\n",
    "    - `'product_id'`: número ID que identifica de manera única cada producto.\n",
    "    - `'product_name'`: nombre del producto.\n",
    "    - `'aisle_id'`: número ID que identifica de manera única cada categoría de pasillo de víveres.\n",
    "    - `'department_id'`: número ID que identifica de manera única cada departamento de víveres.\n",
    "- `order_products.csv`: cada fila corresponde a un artículo pedido en un pedido.\n",
    "    - `'order_id'`: número de ID que identifica de manera única cada pedido.\n",
    "    - `'product_id'`: número ID que identifica de manera única cada producto.\n",
    "    - `'add_to_cart_order'`: el orden secuencial en el que se añadió cada artículo en el carrito.\n",
    "    - `'reordered'`: 0 si el cliente nunca ha pedido este producto antes, 1 si lo ha pedido.\n",
    "- `aisles.csv`\n",
    "    - `'aisle_id'`: número ID que identifica de manera única cada categoría de pasillo de víveres.\n",
    "    - `'aisle'`: nombre del pasillo.\n",
    "- `departments.csv`\n",
    "    - `'department_id'`: número ID que identifica de manera única cada departamento de víveres.\n",
    "    - `'department'`: nombre del departamento."
   ]
  },
  {
   "cell_type": "markdown",
   "id": "n3Ha_cNSZ8lK",
   "metadata": {
    "id": "n3Ha_cNSZ8lK"
   },
   "source": [
    "# Paso 1. Descripción de los datos\n",
    "\n",
    "Lee los archivos de datos (`/datasets/instacart_orders.csv`, `/datasets/products.csv`, `/datasets/aisles.csv`, `/datasets/departments.csv` y `/datasets/order_products.csv`) con `pd.read_csv()` usando los parámetros adecuados para leer los datos correctamente. Verifica la información para cada DataFrame creado.\n"
   ]
  },
  {
   "cell_type": "markdown",
   "id": "OmlQPLlyaAfR",
   "metadata": {
    "id": "OmlQPLlyaAfR"
   },
   "source": [
    "## Plan de solución\n",
    "\n",
    "Escribe aquí tu plan de solución para el Paso 1. Descripción de los datos."
   ]
  },
  {
   "cell_type": "code",
   "execution_count": 1,
   "id": "fbf1adab",
   "metadata": {
    "id": "fbf1adab"
   },
   "outputs": [],
   "source": [
    "# importar librerías\n",
    "import pandas as pd\n",
    "import matplotlib.pyplot as plt"
   ]
  },
  {
   "cell_type": "code",
   "execution_count": 2,
   "id": "ad36396d",
   "metadata": {
    "id": "ad36396d"
   },
   "outputs": [],
   "source": [
    "# leer conjuntos de datos en los DataFrames\n",
    "instacart_df = pd.read_csv('/datasets/instacart_orders.csv', sep=';')\n",
    "products_df = pd.read_csv('/datasets/products.csv', sep=';')\n",
    "aisles_df = pd.read_csv('/datasets/aisles.csv', sep=';')\n",
    "departments_df = pd.read_csv('/datasets/departments.csv', sep=';')\n",
    "order_products_df = pd.read_csv('/datasets/order_products.csv', sep=';')"
   ]
  },
  {
   "cell_type": "markdown",
   "id": "5e6c8972",
   "metadata": {},
   "source": [
    "<div class=\"alert alert-block alert-success\">\n",
    "<b>Comentario del revisor (1ra Iteracion)</b> <a class=“tocSkip”></a>\n",
    "\n",
    "Buen trabajo importando las librerías y cargando tus datos en celdas diferentes.\n",
    "</div>"
   ]
  },
  {
   "cell_type": "code",
   "execution_count": 3,
   "id": "ad6a1efa",
   "metadata": {
    "id": "ad6a1efa"
   },
   "outputs": [
    {
     "name": "stdout",
     "output_type": "stream",
     "text": [
      "<class 'pandas.core.frame.DataFrame'>\n",
      "RangeIndex: 478967 entries, 0 to 478966\n",
      "Data columns (total 6 columns):\n",
      " #   Column                  Non-Null Count   Dtype  \n",
      "---  ------                  --------------   -----  \n",
      " 0   order_id                478967 non-null  int64  \n",
      " 1   user_id                 478967 non-null  int64  \n",
      " 2   order_number            478967 non-null  int64  \n",
      " 3   order_dow               478967 non-null  int64  \n",
      " 4   order_hour_of_day       478967 non-null  int64  \n",
      " 5   days_since_prior_order  450148 non-null  float64\n",
      "dtypes: float64(1), int64(5)\n",
      "memory usage: 21.9 MB\n"
     ]
    }
   ],
   "source": [
    "# mostrar información del DataFrame\n",
    "instacart_df.info() "
   ]
  },
  {
   "cell_type": "code",
   "execution_count": 4,
   "id": "5130e05e",
   "metadata": {
    "id": "5130e05e"
   },
   "outputs": [
    {
     "name": "stdout",
     "output_type": "stream",
     "text": [
      "<class 'pandas.core.frame.DataFrame'>\n",
      "RangeIndex: 49694 entries, 0 to 49693\n",
      "Data columns (total 4 columns):\n",
      " #   Column         Non-Null Count  Dtype \n",
      "---  ------         --------------  ----- \n",
      " 0   product_id     49694 non-null  int64 \n",
      " 1   product_name   48436 non-null  object\n",
      " 2   aisle_id       49694 non-null  int64 \n",
      " 3   department_id  49694 non-null  int64 \n",
      "dtypes: int64(3), object(1)\n",
      "memory usage: 1.5+ MB\n"
     ]
    }
   ],
   "source": [
    "# mostrar información del DataFrame\n",
    "products_df.info()"
   ]
  },
  {
   "cell_type": "code",
   "execution_count": 5,
   "id": "d8370c05",
   "metadata": {
    "id": "d8370c05"
   },
   "outputs": [
    {
     "name": "stdout",
     "output_type": "stream",
     "text": [
      "<class 'pandas.core.frame.DataFrame'>\n",
      "RangeIndex: 134 entries, 0 to 133\n",
      "Data columns (total 2 columns):\n",
      " #   Column    Non-Null Count  Dtype \n",
      "---  ------    --------------  ----- \n",
      " 0   aisle_id  134 non-null    int64 \n",
      " 1   aisle     134 non-null    object\n",
      "dtypes: int64(1), object(1)\n",
      "memory usage: 2.2+ KB\n"
     ]
    }
   ],
   "source": [
    "# mostrar información del DataFrame\n",
    "aisles_df.info()"
   ]
  },
  {
   "cell_type": "code",
   "execution_count": 6,
   "id": "59e2090f",
   "metadata": {
    "id": "59e2090f"
   },
   "outputs": [
    {
     "name": "stdout",
     "output_type": "stream",
     "text": [
      "<class 'pandas.core.frame.DataFrame'>\n",
      "RangeIndex: 21 entries, 0 to 20\n",
      "Data columns (total 2 columns):\n",
      " #   Column         Non-Null Count  Dtype \n",
      "---  ------         --------------  ----- \n",
      " 0   department_id  21 non-null     int64 \n",
      " 1   department     21 non-null     object\n",
      "dtypes: int64(1), object(1)\n",
      "memory usage: 464.0+ bytes\n"
     ]
    }
   ],
   "source": [
    "# mostrar información del DataFrame\n",
    "departments_df.info()"
   ]
  },
  {
   "cell_type": "code",
   "execution_count": 7,
   "id": "6fc81694",
   "metadata": {
    "id": "6fc81694"
   },
   "outputs": [
    {
     "name": "stdout",
     "output_type": "stream",
     "text": [
      "<class 'pandas.core.frame.DataFrame'>\n",
      "RangeIndex: 4545007 entries, 0 to 4545006\n",
      "Data columns (total 4 columns):\n",
      " #   Column             Non-Null Count    Dtype  \n",
      "---  ------             --------------    -----  \n",
      " 0   order_id           4545007 non-null  int64  \n",
      " 1   product_id         4545007 non-null  int64  \n",
      " 2   add_to_cart_order  4544171 non-null  float64\n",
      " 3   reordered          4545007 non-null  int64  \n",
      "dtypes: float64(1), int64(3)\n",
      "memory usage: 138.7 MB\n"
     ]
    }
   ],
   "source": [
    "# mostrar información del DataFrame\n",
    "order_products_df.info(show_counts=True)"
   ]
  },
  {
   "cell_type": "markdown",
   "id": "t75BD19oaR5f",
   "metadata": {
    "id": "t75BD19oaR5f"
   },
   "source": [
    "## Conclusiones\n",
    "\n",
    "Escribe aquí tus conclusiones intermedias sobre el Paso 1. Descripción de los datos.\n"
   ]
  },
  {
   "cell_type": "code",
   "execution_count": 8,
   "id": "a9030b25",
   "metadata": {},
   "outputs": [
    {
     "data": {
      "text/plain": [
       "'\\nExisten valores nulos en algunos dataframes, analizando el DF de instacart_df me genera duda que la columna \\ndays_since_prior_order sea un Float. Aunque técnicamente puede pasar día y medio desde que se hizo la última orden.\\nA simple vista products_df, instacart_df y order_products_df contienen valores nulos.\\n\\n'"
      ]
     },
     "execution_count": 8,
     "metadata": {},
     "output_type": "execute_result"
    }
   ],
   "source": [
    "'''\n",
    "Existen valores nulos en algunos dataframes, analizando el DF de instacart_df me genera duda que la columna \n",
    "days_since_prior_order sea un Float. Aunque técnicamente puede pasar día y medio desde que se hizo la última orden.\n",
    "A simple vista products_df, instacart_df y order_products_df contienen valores nulos.\n",
    "\n",
    "'''"
   ]
  },
  {
   "cell_type": "markdown",
   "id": "8RJHqxVmaVsF",
   "metadata": {
    "id": "8RJHqxVmaVsF"
   },
   "source": [
    "# Paso 2. Preprocesamiento de los datos\n",
    "\n",
    "Preprocesa los datos de la siguiente manera:\n",
    "\n",
    "- Verifica y corrige los tipos de datos (por ejemplo, asegúrate de que las columnas de ID sean números enteros).\n",
    "- Identifica y completa los valores ausentes.\n",
    "- Identifica y elimina los valores duplicados.\n",
    "\n",
    "Asegúrate de explicar qué tipos de valores ausentes y duplicados encontraste, cómo los completaste o eliminaste y por qué usaste esos métodos. ¿Por qué crees que estos valores ausentes y duplicados pueden haber estado presentes en el conjunto de datos?"
   ]
  },
  {
   "cell_type": "markdown",
   "id": "p6poABZQaZYb",
   "metadata": {
    "id": "p6poABZQaZYb"
   },
   "source": [
    "## Plan de solución\n",
    "\n",
    "Escribe aquí tu plan para el Paso 2. Preprocesamiento de los datos."
   ]
  },
  {
   "cell_type": "code",
   "execution_count": 9,
   "id": "83226f05",
   "metadata": {},
   "outputs": [
    {
     "data": {
      "text/plain": [
       "'\\nPrimero, confirmo que los tipos de datos correspondan a las columnas. Hasta ahora, todos los ID son tipo Int. \\nSe puede cambiar la columna days_since_prior_order a tipo Int, para redondear los días transcurridos. De igual manera\\nconfirmar los valores nulos que hay en esta.\\nPara products_df los tipos de datos se ven bien, solo debo revisar por qué en \"product_name\" hay valores nulos.\\nHacer lo mismo para order_products_df en sus datos nulos. \\n\\nDespués de revisar los nulos, debo verificar que no existan duplicados (Sí, algunos DF no tienen nulos pero no sé \\nexactamente la calidad de los datos.)\\n\\n'"
      ]
     },
     "execution_count": 9,
     "metadata": {},
     "output_type": "execute_result"
    }
   ],
   "source": [
    "'''\n",
    "Primero, confirmo que los tipos de datos correspondan a las columnas. Hasta ahora, todos los ID son tipo Int. \n",
    "Se puede cambiar la columna days_since_prior_order a tipo Int, para redondear los días transcurridos. De igual manera\n",
    "confirmar los valores nulos que hay en esta.\n",
    "Para products_df los tipos de datos se ven bien, solo debo revisar por qué en \"product_name\" hay valores nulos.\n",
    "Hacer lo mismo para order_products_df en sus datos nulos. \n",
    "\n",
    "Después de revisar los nulos, debo verificar que no existan duplicados (Sí, algunos DF no tienen nulos pero no sé \n",
    "exactamente la calidad de los datos.)\n",
    "\n",
    "'''"
   ]
  },
  {
   "cell_type": "code",
   "execution_count": 8,
   "id": "5edfa2f7",
   "metadata": {},
   "outputs": [
    {
     "name": "stdout",
     "output_type": "stream",
     "text": [
      "88895     14.0\n",
      "117800     9.0\n",
      "185966     2.0\n",
      "339673     7.0\n",
      "428049     5.0\n",
      "160408    10.0\n",
      "1097      16.0\n",
      "293687     8.0\n",
      "141621     9.0\n",
      "473822    30.0\n",
      "195614     4.0\n",
      "32824      3.0\n",
      "231613     7.0\n",
      "206948    30.0\n",
      "107597    30.0\n",
      "239316     4.0\n",
      "412341     9.0\n",
      "288806    30.0\n",
      "430264     3.0\n",
      "201359     6.0\n",
      "429290    12.0\n",
      "355631     5.0\n",
      "229038    12.0\n",
      "176394     3.0\n",
      "93692      7.0\n",
      "139664    30.0\n",
      "30646     28.0\n",
      "385832     5.0\n",
      "431493     2.0\n",
      "392446     4.0\n",
      "290973     5.0\n",
      "166526     8.0\n",
      "285876    26.0\n",
      "309522     2.0\n",
      "290024    21.0\n",
      "150518    30.0\n",
      "320785    30.0\n",
      "82991      4.0\n",
      "63986      8.0\n",
      "79279      7.0\n",
      "165114     7.0\n",
      "422021    30.0\n",
      "425169    30.0\n",
      "373409     7.0\n",
      "140132    30.0\n",
      "165337     8.0\n",
      "439819    29.0\n",
      "250774     6.0\n",
      "357553     5.0\n",
      "316061     4.0\n",
      "Name: days_since_prior_order, dtype: float64\n",
      "3988713     4.0\n",
      "3197541    33.0\n",
      "2613584     9.0\n",
      "1818028     3.0\n",
      "781431      6.0\n",
      "3623307    12.0\n",
      "1261283     2.0\n",
      "2913821     6.0\n",
      "650867      2.0\n",
      "2497378     3.0\n",
      "1242690    10.0\n",
      "4489507     4.0\n",
      "3076998     3.0\n",
      "1471419    10.0\n",
      "681976     11.0\n",
      "3585718     4.0\n",
      "2679990     3.0\n",
      "2610868     7.0\n",
      "2251488     8.0\n",
      "4229390    17.0\n",
      "4440958     4.0\n",
      "1325443     2.0\n",
      "780278      1.0\n",
      "2867877     7.0\n",
      "1204422     8.0\n",
      "2130199    16.0\n",
      "2999437     1.0\n",
      "2102338    25.0\n",
      "293722     11.0\n",
      "2929437    24.0\n",
      "499981      1.0\n",
      "374973     10.0\n",
      "3298029     4.0\n",
      "4468816     6.0\n",
      "590070      3.0\n",
      "4239957     3.0\n",
      "4290823     5.0\n",
      "2455045     3.0\n",
      "488378      5.0\n",
      "3270831    15.0\n",
      "4284374     8.0\n",
      "2597390     5.0\n",
      "813267     26.0\n",
      "2352603     3.0\n",
      "2038124     4.0\n",
      "1579868    44.0\n",
      "4489131     7.0\n",
      "4468100    19.0\n",
      "3072523     4.0\n",
      "2246638     1.0\n",
      "Name: add_to_cart_order, dtype: float64\n"
     ]
    }
   ],
   "source": [
    "#Confirmo primero si hay pérdida de datos decimales al convertir de float a int\n",
    "print(instacart_df.loc[:,'days_since_prior_order'].sample(50))\n",
    "#Al parecer solo hay .0, y valores Nulos, nada relevante en pérdida de datos. Puedo proceder a cambiar su tipo de dato\n",
    "\n",
    "#Confirmo primero si hay pérdida de datos decimales al convertir de float a int\n",
    "print(order_products_df.loc[:,'add_to_cart_order'].sample(50))\n",
    "#Al parecer solo hay .0, y valores Nulos, nada relevante en pérdida de datos. Puedo proceder a cambiar su tipo de dato"
   ]
  },
  {
   "cell_type": "code",
   "execution_count": 9,
   "id": "6704ba7d",
   "metadata": {},
   "outputs": [
    {
     "name": "stdout",
     "output_type": "stream",
     "text": [
      "order_id                  0\n",
      "user_id                   0\n",
      "order_number              0\n",
      "order_dow                 0\n",
      "order_hour_of_day         0\n",
      "days_since_prior_order    0\n",
      "dtype: int64\n",
      "order_id             0\n",
      "product_id           0\n",
      "add_to_cart_order    0\n",
      "reordered            0\n",
      "dtype: int64\n"
     ]
    }
   ],
   "source": [
    "#Sin embargo, hay valores nulos. Esto me va a dar un error al intentar convertir de float a int, entonces rellenamos primero:\n",
    "instacart_df.fillna(0,inplace=True)\n",
    "print(instacart_df.isna().sum())\n",
    "\n",
    "#Lo mismo para el DF de Order_Products\n",
    "order_products_df.fillna(0,inplace=True)\n",
    "print(order_products_df.isna().sum())"
   ]
  },
  {
   "cell_type": "code",
   "execution_count": 10,
   "id": "babd4647",
   "metadata": {},
   "outputs": [
    {
     "name": "stdout",
     "output_type": "stream",
     "text": [
      "<class 'pandas.core.frame.DataFrame'>\n",
      "RangeIndex: 478967 entries, 0 to 478966\n",
      "Data columns (total 6 columns):\n",
      " #   Column                  Non-Null Count   Dtype\n",
      "---  ------                  --------------   -----\n",
      " 0   order_id                478967 non-null  int64\n",
      " 1   user_id                 478967 non-null  int64\n",
      " 2   order_number            478967 non-null  int64\n",
      " 3   order_dow               478967 non-null  int64\n",
      " 4   order_hour_of_day       478967 non-null  int64\n",
      " 5   days_since_prior_order  478967 non-null  int64\n",
      "dtypes: int64(6)\n",
      "memory usage: 21.9 MB\n",
      "None\n",
      "<class 'pandas.core.frame.DataFrame'>\n",
      "RangeIndex: 4545007 entries, 0 to 4545006\n",
      "Data columns (total 4 columns):\n",
      " #   Column             Dtype\n",
      "---  ------             -----\n",
      " 0   order_id           int64\n",
      " 1   product_id         int64\n",
      " 2   add_to_cart_order  int64\n",
      " 3   reordered          int64\n",
      "dtypes: int64(4)\n",
      "memory usage: 138.7 MB\n",
      "None\n"
     ]
    }
   ],
   "source": [
    "#Hecho esto, ya puedo convertirlo a int\n",
    "instacart_df['days_since_prior_order'] = instacart_df['days_since_prior_order'].astype('int')\n",
    "print(instacart_df.info())\n",
    "#Listo, la columna ya es de tipo Int64.\n",
    "\n",
    "#Hecho esto, ya puedo convertirlo a int\n",
    "order_products_df['add_to_cart_order'] = order_products_df['add_to_cart_order'].astype('int')\n",
    "print(order_products_df.info())"
   ]
  },
  {
   "cell_type": "markdown",
   "id": "07357848-dc64-4156-9cc3-01ff4365226d",
   "metadata": {
    "id": "07357848-dc64-4156-9cc3-01ff4365226d"
   },
   "source": [
    "## Encuentra y elimina los valores duplicados (y describe cómo tomaste tus decisiones)."
   ]
  },
  {
   "cell_type": "markdown",
   "id": "f179f0a9",
   "metadata": {
    "id": "f179f0a9"
   },
   "source": [
    "### `instacart_orders` data frame"
   ]
  },
  {
   "cell_type": "code",
   "execution_count": 38,
   "id": "b99297a5-405a-463d-8535-9adc3da4ad74",
   "metadata": {
    "id": "b99297a5-405a-463d-8535-9adc3da4ad74"
   },
   "outputs": [
    {
     "name": "stdout",
     "output_type": "stream",
     "text": [
      "<class 'pandas.core.frame.DataFrame'>\n",
      "RangeIndex: 478967 entries, 0 to 478966\n",
      "Data columns (total 6 columns):\n",
      " #   Column                  Non-Null Count   Dtype\n",
      "---  ------                  --------------   -----\n",
      " 0   order_id                478967 non-null  int64\n",
      " 1   user_id                 478967 non-null  int64\n",
      " 2   order_number            478967 non-null  int64\n",
      " 3   order_dow               478967 non-null  int64\n",
      " 4   order_hour_of_day       478967 non-null  int64\n",
      " 5   days_since_prior_order  478967 non-null  int64\n",
      "dtypes: int64(6)\n",
      "memory usage: 21.9 MB\n",
      "None\n",
      "\n",
      "True\n",
      "15\n"
     ]
    },
    {
     "data": {
      "text/html": [
       "<div>\n",
       "<style scoped>\n",
       "    .dataframe tbody tr th:only-of-type {\n",
       "        vertical-align: middle;\n",
       "    }\n",
       "\n",
       "    .dataframe tbody tr th {\n",
       "        vertical-align: top;\n",
       "    }\n",
       "\n",
       "    .dataframe thead th {\n",
       "        text-align: right;\n",
       "    }\n",
       "</style>\n",
       "<table border=\"1\" class=\"dataframe\">\n",
       "  <thead>\n",
       "    <tr style=\"text-align: right;\">\n",
       "      <th></th>\n",
       "      <th>order_id</th>\n",
       "      <th>user_id</th>\n",
       "      <th>order_number</th>\n",
       "      <th>order_dow</th>\n",
       "      <th>order_hour_of_day</th>\n",
       "      <th>days_since_prior_order</th>\n",
       "    </tr>\n",
       "  </thead>\n",
       "  <tbody>\n",
       "    <tr>\n",
       "      <th>354993</th>\n",
       "      <td>391768</td>\n",
       "      <td>57671</td>\n",
       "      <td>19</td>\n",
       "      <td>3</td>\n",
       "      <td>2</td>\n",
       "      <td>10</td>\n",
       "    </tr>\n",
       "    <tr>\n",
       "      <th>371905</th>\n",
       "      <td>391768</td>\n",
       "      <td>57671</td>\n",
       "      <td>19</td>\n",
       "      <td>3</td>\n",
       "      <td>2</td>\n",
       "      <td>10</td>\n",
       "    </tr>\n",
       "    <tr>\n",
       "      <th>119251</th>\n",
       "      <td>408114</td>\n",
       "      <td>68324</td>\n",
       "      <td>4</td>\n",
       "      <td>3</td>\n",
       "      <td>2</td>\n",
       "      <td>18</td>\n",
       "    </tr>\n",
       "    <tr>\n",
       "      <th>321100</th>\n",
       "      <td>408114</td>\n",
       "      <td>68324</td>\n",
       "      <td>4</td>\n",
       "      <td>3</td>\n",
       "      <td>2</td>\n",
       "      <td>18</td>\n",
       "    </tr>\n",
       "    <tr>\n",
       "      <th>394347</th>\n",
       "      <td>467134</td>\n",
       "      <td>63189</td>\n",
       "      <td>21</td>\n",
       "      <td>3</td>\n",
       "      <td>2</td>\n",
       "      <td>2</td>\n",
       "    </tr>\n",
       "    <tr>\n",
       "      <th>250626</th>\n",
       "      <td>467134</td>\n",
       "      <td>63189</td>\n",
       "      <td>21</td>\n",
       "      <td>3</td>\n",
       "      <td>2</td>\n",
       "      <td>2</td>\n",
       "    </tr>\n",
       "    <tr>\n",
       "      <th>99462</th>\n",
       "      <td>794638</td>\n",
       "      <td>50898</td>\n",
       "      <td>24</td>\n",
       "      <td>3</td>\n",
       "      <td>2</td>\n",
       "      <td>2</td>\n",
       "    </tr>\n",
       "    <tr>\n",
       "      <th>145574</th>\n",
       "      <td>794638</td>\n",
       "      <td>50898</td>\n",
       "      <td>24</td>\n",
       "      <td>3</td>\n",
       "      <td>2</td>\n",
       "      <td>2</td>\n",
       "    </tr>\n",
       "    <tr>\n",
       "      <th>311713</th>\n",
       "      <td>1021560</td>\n",
       "      <td>53767</td>\n",
       "      <td>3</td>\n",
       "      <td>3</td>\n",
       "      <td>2</td>\n",
       "      <td>9</td>\n",
       "    </tr>\n",
       "    <tr>\n",
       "      <th>242618</th>\n",
       "      <td>1021560</td>\n",
       "      <td>53767</td>\n",
       "      <td>3</td>\n",
       "      <td>3</td>\n",
       "      <td>2</td>\n",
       "      <td>9</td>\n",
       "    </tr>\n",
       "    <tr>\n",
       "      <th>164581</th>\n",
       "      <td>1112182</td>\n",
       "      <td>202304</td>\n",
       "      <td>84</td>\n",
       "      <td>3</td>\n",
       "      <td>2</td>\n",
       "      <td>6</td>\n",
       "    </tr>\n",
       "    <tr>\n",
       "      <th>273805</th>\n",
       "      <td>1112182</td>\n",
       "      <td>202304</td>\n",
       "      <td>84</td>\n",
       "      <td>3</td>\n",
       "      <td>2</td>\n",
       "      <td>6</td>\n",
       "    </tr>\n",
       "    <tr>\n",
       "      <th>314427</th>\n",
       "      <td>1286742</td>\n",
       "      <td>183220</td>\n",
       "      <td>48</td>\n",
       "      <td>3</td>\n",
       "      <td>2</td>\n",
       "      <td>4</td>\n",
       "    </tr>\n",
       "    <tr>\n",
       "      <th>411408</th>\n",
       "      <td>1286742</td>\n",
       "      <td>183220</td>\n",
       "      <td>48</td>\n",
       "      <td>3</td>\n",
       "      <td>2</td>\n",
       "      <td>4</td>\n",
       "    </tr>\n",
       "    <tr>\n",
       "      <th>266232</th>\n",
       "      <td>1782114</td>\n",
       "      <td>106752</td>\n",
       "      <td>1</td>\n",
       "      <td>3</td>\n",
       "      <td>2</td>\n",
       "      <td>0</td>\n",
       "    </tr>\n",
       "    <tr>\n",
       "      <th>200059</th>\n",
       "      <td>1782114</td>\n",
       "      <td>106752</td>\n",
       "      <td>1</td>\n",
       "      <td>3</td>\n",
       "      <td>2</td>\n",
       "      <td>0</td>\n",
       "    </tr>\n",
       "    <tr>\n",
       "      <th>230807</th>\n",
       "      <td>1918001</td>\n",
       "      <td>188546</td>\n",
       "      <td>14</td>\n",
       "      <td>3</td>\n",
       "      <td>2</td>\n",
       "      <td>16</td>\n",
       "    </tr>\n",
       "    <tr>\n",
       "      <th>30371</th>\n",
       "      <td>1918001</td>\n",
       "      <td>188546</td>\n",
       "      <td>14</td>\n",
       "      <td>3</td>\n",
       "      <td>2</td>\n",
       "      <td>16</td>\n",
       "    </tr>\n",
       "    <tr>\n",
       "      <th>257934</th>\n",
       "      <td>1919531</td>\n",
       "      <td>191501</td>\n",
       "      <td>32</td>\n",
       "      <td>3</td>\n",
       "      <td>2</td>\n",
       "      <td>7</td>\n",
       "    </tr>\n",
       "    <tr>\n",
       "      <th>323900</th>\n",
       "      <td>1919531</td>\n",
       "      <td>191501</td>\n",
       "      <td>32</td>\n",
       "      <td>3</td>\n",
       "      <td>2</td>\n",
       "      <td>7</td>\n",
       "    </tr>\n",
       "    <tr>\n",
       "      <th>441599</th>\n",
       "      <td>2125197</td>\n",
       "      <td>14050</td>\n",
       "      <td>48</td>\n",
       "      <td>3</td>\n",
       "      <td>2</td>\n",
       "      <td>3</td>\n",
       "    </tr>\n",
       "    <tr>\n",
       "      <th>204042</th>\n",
       "      <td>2125197</td>\n",
       "      <td>14050</td>\n",
       "      <td>48</td>\n",
       "      <td>3</td>\n",
       "      <td>2</td>\n",
       "      <td>3</td>\n",
       "    </tr>\n",
       "    <tr>\n",
       "      <th>223105</th>\n",
       "      <td>2160484</td>\n",
       "      <td>107525</td>\n",
       "      <td>16</td>\n",
       "      <td>3</td>\n",
       "      <td>2</td>\n",
       "      <td>30</td>\n",
       "    </tr>\n",
       "    <tr>\n",
       "      <th>215294</th>\n",
       "      <td>2160484</td>\n",
       "      <td>107525</td>\n",
       "      <td>16</td>\n",
       "      <td>3</td>\n",
       "      <td>2</td>\n",
       "      <td>30</td>\n",
       "    </tr>\n",
       "    <tr>\n",
       "      <th>324868</th>\n",
       "      <td>2232988</td>\n",
       "      <td>82565</td>\n",
       "      <td>1</td>\n",
       "      <td>3</td>\n",
       "      <td>2</td>\n",
       "      <td>0</td>\n",
       "    </tr>\n",
       "    <tr>\n",
       "      <th>345917</th>\n",
       "      <td>2232988</td>\n",
       "      <td>82565</td>\n",
       "      <td>1</td>\n",
       "      <td>3</td>\n",
       "      <td>2</td>\n",
       "      <td>0</td>\n",
       "    </tr>\n",
       "    <tr>\n",
       "      <th>415163</th>\n",
       "      <td>2282673</td>\n",
       "      <td>86751</td>\n",
       "      <td>49</td>\n",
       "      <td>3</td>\n",
       "      <td>2</td>\n",
       "      <td>2</td>\n",
       "    </tr>\n",
       "    <tr>\n",
       "      <th>259636</th>\n",
       "      <td>2282673</td>\n",
       "      <td>86751</td>\n",
       "      <td>49</td>\n",
       "      <td>3</td>\n",
       "      <td>2</td>\n",
       "      <td>2</td>\n",
       "    </tr>\n",
       "    <tr>\n",
       "      <th>142258</th>\n",
       "      <td>2845099</td>\n",
       "      <td>31189</td>\n",
       "      <td>11</td>\n",
       "      <td>3</td>\n",
       "      <td>2</td>\n",
       "      <td>7</td>\n",
       "    </tr>\n",
       "    <tr>\n",
       "      <th>284038</th>\n",
       "      <td>2845099</td>\n",
       "      <td>31189</td>\n",
       "      <td>11</td>\n",
       "      <td>3</td>\n",
       "      <td>2</td>\n",
       "      <td>7</td>\n",
       "    </tr>\n",
       "  </tbody>\n",
       "</table>\n",
       "</div>"
      ],
      "text/plain": [
       "        order_id  user_id  order_number  order_dow  order_hour_of_day  \\\n",
       "354993    391768    57671            19          3                  2   \n",
       "371905    391768    57671            19          3                  2   \n",
       "119251    408114    68324             4          3                  2   \n",
       "321100    408114    68324             4          3                  2   \n",
       "394347    467134    63189            21          3                  2   \n",
       "250626    467134    63189            21          3                  2   \n",
       "99462     794638    50898            24          3                  2   \n",
       "145574    794638    50898            24          3                  2   \n",
       "311713   1021560    53767             3          3                  2   \n",
       "242618   1021560    53767             3          3                  2   \n",
       "164581   1112182   202304            84          3                  2   \n",
       "273805   1112182   202304            84          3                  2   \n",
       "314427   1286742   183220            48          3                  2   \n",
       "411408   1286742   183220            48          3                  2   \n",
       "266232   1782114   106752             1          3                  2   \n",
       "200059   1782114   106752             1          3                  2   \n",
       "230807   1918001   188546            14          3                  2   \n",
       "30371    1918001   188546            14          3                  2   \n",
       "257934   1919531   191501            32          3                  2   \n",
       "323900   1919531   191501            32          3                  2   \n",
       "441599   2125197    14050            48          3                  2   \n",
       "204042   2125197    14050            48          3                  2   \n",
       "223105   2160484   107525            16          3                  2   \n",
       "215294   2160484   107525            16          3                  2   \n",
       "324868   2232988    82565             1          3                  2   \n",
       "345917   2232988    82565             1          3                  2   \n",
       "415163   2282673    86751            49          3                  2   \n",
       "259636   2282673    86751            49          3                  2   \n",
       "142258   2845099    31189            11          3                  2   \n",
       "284038   2845099    31189            11          3                  2   \n",
       "\n",
       "        days_since_prior_order  \n",
       "354993                      10  \n",
       "371905                      10  \n",
       "119251                      18  \n",
       "321100                      18  \n",
       "394347                       2  \n",
       "250626                       2  \n",
       "99462                        2  \n",
       "145574                       2  \n",
       "311713                       9  \n",
       "242618                       9  \n",
       "164581                       6  \n",
       "273805                       6  \n",
       "314427                       4  \n",
       "411408                       4  \n",
       "266232                       0  \n",
       "200059                       0  \n",
       "230807                      16  \n",
       "30371                       16  \n",
       "257934                       7  \n",
       "323900                       7  \n",
       "441599                       3  \n",
       "204042                       3  \n",
       "223105                      30  \n",
       "215294                      30  \n",
       "324868                       0  \n",
       "345917                       0  \n",
       "415163                       2  \n",
       "259636                       2  \n",
       "142258                       7  \n",
       "284038                       7  "
      ]
     },
     "metadata": {},
     "output_type": "display_data"
    }
   ],
   "source": [
    "# Revisa si hay pedidos duplicados\n",
    "print(instacart_df.info())\n",
    "print()\n",
    "print(instacart_df.duplicated().any()) #Sí hay valores duplicados\n",
    "print(instacart_df.duplicated().sum()) #15 valores duplicados\n",
    "display(instacart_df.loc[instacart_df.duplicated(keep=False)].sort_values(by='order_id')) #Imprimimos los valores duplicados\n",
    "#y los ordenamos por ID para leerlos más fácilmente."
   ]
  },
  {
   "cell_type": "markdown",
   "id": "PEkwUX_gvt5A",
   "metadata": {
    "id": "PEkwUX_gvt5A"
   },
   "source": [
    "¿Tienes líneas duplicadas? Si sí, ¿qué tienen en común?"
   ]
  },
  {
   "cell_type": "code",
   "execution_count": 14,
   "id": "b4138e5a",
   "metadata": {},
   "outputs": [
    {
     "data": {
      "text/plain": [
       "'\\nTodos los valores duplicados fueron del día Miércoles a las 2:00\\n\\n'"
      ]
     },
     "execution_count": 14,
     "metadata": {},
     "output_type": "execute_result"
    }
   ],
   "source": [
    "'''\n",
    "Todos los valores duplicados fueron del día Miércoles a las 2:00\n",
    "\n",
    "'''"
   ]
  },
  {
   "cell_type": "code",
   "execution_count": 13,
   "id": "0d44de5d",
   "metadata": {
    "id": "0d44de5d"
   },
   "outputs": [
    {
     "data": {
      "text/html": [
       "<div>\n",
       "<style scoped>\n",
       "    .dataframe tbody tr th:only-of-type {\n",
       "        vertical-align: middle;\n",
       "    }\n",
       "\n",
       "    .dataframe tbody tr th {\n",
       "        vertical-align: top;\n",
       "    }\n",
       "\n",
       "    .dataframe thead th {\n",
       "        text-align: right;\n",
       "    }\n",
       "</style>\n",
       "<table border=\"1\" class=\"dataframe\">\n",
       "  <thead>\n",
       "    <tr style=\"text-align: right;\">\n",
       "      <th></th>\n",
       "      <th>order_id</th>\n",
       "      <th>user_id</th>\n",
       "      <th>order_number</th>\n",
       "      <th>order_dow</th>\n",
       "      <th>order_hour_of_day</th>\n",
       "      <th>days_since_prior_order</th>\n",
       "    </tr>\n",
       "  </thead>\n",
       "  <tbody>\n",
       "    <tr>\n",
       "      <th>4838</th>\n",
       "      <td>2766110</td>\n",
       "      <td>162084</td>\n",
       "      <td>41</td>\n",
       "      <td>3</td>\n",
       "      <td>2</td>\n",
       "      <td>16</td>\n",
       "    </tr>\n",
       "    <tr>\n",
       "      <th>5156</th>\n",
       "      <td>2190225</td>\n",
       "      <td>138285</td>\n",
       "      <td>18</td>\n",
       "      <td>3</td>\n",
       "      <td>2</td>\n",
       "      <td>11</td>\n",
       "    </tr>\n",
       "    <tr>\n",
       "      <th>15506</th>\n",
       "      <td>553049</td>\n",
       "      <td>58599</td>\n",
       "      <td>13</td>\n",
       "      <td>3</td>\n",
       "      <td>2</td>\n",
       "      <td>7</td>\n",
       "    </tr>\n",
       "    <tr>\n",
       "      <th>18420</th>\n",
       "      <td>382357</td>\n",
       "      <td>120200</td>\n",
       "      <td>19</td>\n",
       "      <td>3</td>\n",
       "      <td>2</td>\n",
       "      <td>11</td>\n",
       "    </tr>\n",
       "    <tr>\n",
       "      <th>24691</th>\n",
       "      <td>690242</td>\n",
       "      <td>77357</td>\n",
       "      <td>2</td>\n",
       "      <td>3</td>\n",
       "      <td>2</td>\n",
       "      <td>9</td>\n",
       "    </tr>\n",
       "    <tr>\n",
       "      <th>...</th>\n",
       "      <td>...</td>\n",
       "      <td>...</td>\n",
       "      <td>...</td>\n",
       "      <td>...</td>\n",
       "      <td>...</td>\n",
       "      <td>...</td>\n",
       "    </tr>\n",
       "    <tr>\n",
       "      <th>457013</th>\n",
       "      <td>3384021</td>\n",
       "      <td>14881</td>\n",
       "      <td>6</td>\n",
       "      <td>3</td>\n",
       "      <td>2</td>\n",
       "      <td>30</td>\n",
       "    </tr>\n",
       "    <tr>\n",
       "      <th>458816</th>\n",
       "      <td>910166</td>\n",
       "      <td>164782</td>\n",
       "      <td>18</td>\n",
       "      <td>3</td>\n",
       "      <td>2</td>\n",
       "      <td>4</td>\n",
       "    </tr>\n",
       "    <tr>\n",
       "      <th>459635</th>\n",
       "      <td>1680532</td>\n",
       "      <td>106435</td>\n",
       "      <td>6</td>\n",
       "      <td>3</td>\n",
       "      <td>2</td>\n",
       "      <td>21</td>\n",
       "    </tr>\n",
       "    <tr>\n",
       "      <th>468324</th>\n",
       "      <td>222962</td>\n",
       "      <td>54979</td>\n",
       "      <td>59</td>\n",
       "      <td>3</td>\n",
       "      <td>2</td>\n",
       "      <td>3</td>\n",
       "    </tr>\n",
       "    <tr>\n",
       "      <th>477526</th>\n",
       "      <td>2592344</td>\n",
       "      <td>46860</td>\n",
       "      <td>38</td>\n",
       "      <td>3</td>\n",
       "      <td>2</td>\n",
       "      <td>3</td>\n",
       "    </tr>\n",
       "  </tbody>\n",
       "</table>\n",
       "<p>121 rows × 6 columns</p>\n",
       "</div>"
      ],
      "text/plain": [
       "        order_id  user_id  order_number  order_dow  order_hour_of_day  \\\n",
       "4838     2766110   162084            41          3                  2   \n",
       "5156     2190225   138285            18          3                  2   \n",
       "15506     553049    58599            13          3                  2   \n",
       "18420     382357   120200            19          3                  2   \n",
       "24691     690242    77357             2          3                  2   \n",
       "...          ...      ...           ...        ...                ...   \n",
       "457013   3384021    14881             6          3                  2   \n",
       "458816    910166   164782            18          3                  2   \n",
       "459635   1680532   106435             6          3                  2   \n",
       "468324    222962    54979            59          3                  2   \n",
       "477526   2592344    46860            38          3                  2   \n",
       "\n",
       "        days_since_prior_order  \n",
       "4838                        16  \n",
       "5156                        11  \n",
       "15506                        7  \n",
       "18420                       11  \n",
       "24691                        9  \n",
       "...                        ...  \n",
       "457013                      30  \n",
       "458816                       4  \n",
       "459635                      21  \n",
       "468324                       3  \n",
       "477526                       3  \n",
       "\n",
       "[121 rows x 6 columns]"
      ]
     },
     "metadata": {},
     "output_type": "display_data"
    }
   ],
   "source": [
    "# Basándote en tus hallazgos,\n",
    "# Verifica todos los pedidos que se hicieron el miércoles a las 2:00 a.m.\n",
    "display(instacart_df.loc[(instacart_df['order_dow']==3) & (instacart_df['order_hour_of_day'] == 2)])\n"
   ]
  },
  {
   "cell_type": "markdown",
   "id": "ae9894aa",
   "metadata": {},
   "source": [
    "<div class=\"alert alert-block alert-warning\">\n",
    "<b>Comentario del revisor (1ra Iteracion)</b> <a class=“tocSkip”></a>\n",
    "\n",
    "Buen trabajo con el filtro aplicado y la revisión de duplicados! Te recomiendo no usar `print()` para mostrar resultados de DataFrame ya que como puedes observar se muestran como strings, en su lugar puedes usar `display()` y esto mostrará los resultados en formato de tabla. Te pediría ese ajuste para el resto de casos donde usas print para los dataframes\n",
    "</div>"
   ]
  },
  {
   "cell_type": "markdown",
   "id": "vu2OWyoqwOx5",
   "metadata": {
    "id": "vu2OWyoqwOx5"
   },
   "source": [
    "¿Qué sugiere este resultado?"
   ]
  },
  {
   "cell_type": "code",
   "execution_count": 16,
   "id": "480563c7",
   "metadata": {
    "id": "480563c7"
   },
   "outputs": [],
   "source": [
    "# Elimina los pedidos duplicados\n",
    "instacart_df.drop_duplicates(inplace=True)"
   ]
  },
  {
   "cell_type": "code",
   "execution_count": 17,
   "id": "0b2396a2",
   "metadata": {
    "id": "0b2396a2"
   },
   "outputs": [
    {
     "name": "stdout",
     "output_type": "stream",
     "text": [
      "False\n",
      "0\n"
     ]
    }
   ],
   "source": [
    "# Vuelve a verificar si hay filas duplicadas\n",
    "print(instacart_df.duplicated().any()) #No hay valores duplicados\n",
    "print(instacart_df.duplicated().sum()) #0"
   ]
  },
  {
   "cell_type": "code",
   "execution_count": 18,
   "id": "f6113ef1",
   "metadata": {
    "id": "f6113ef1"
   },
   "outputs": [
    {
     "name": "stdout",
     "output_type": "stream",
     "text": [
      "False\n"
     ]
    }
   ],
   "source": [
    "# Vuelve a verificar si hay IDs duplicados de pedidos\n",
    "print(instacart_df['order_id'].duplicated().any())"
   ]
  },
  {
   "cell_type": "markdown",
   "id": "5e8905ae",
   "metadata": {
    "id": "5e8905ae"
   },
   "source": [
    "Describe brevemente tus hallazgos y lo que hiciste con ellos"
   ]
  },
  {
   "cell_type": "code",
   "execution_count": 19,
   "id": "1961f8ad",
   "metadata": {},
   "outputs": [
    {
     "data": {
      "text/plain": [
       "\"\\nPrimero confirmé que hubieran duplicados con duplicated().any(). Al regresar un True, quiere decir que sí hubo.\\nPosterior, quise saber cuántos datos estaban duplicados con duplicated().sum().\\nQuise revisar visualmente qué valores estaban duplicados con \\nprint(instacart_df.loc[instacart_df.duplicated(keep=False)].sort_values(by='order_id')).\\nEsto me permitió ver que los valores duplicados eran del día Miércoles a las 2:00. \\nConfirmando esto, ahora sí procedimos a eliminar los duplicados y re-confirmar que ya no estuvieran.\\n\""
      ]
     },
     "execution_count": 19,
     "metadata": {},
     "output_type": "execute_result"
    }
   ],
   "source": [
    "'''\n",
    "Primero confirmé que hubieran duplicados con duplicated().any(). Al regresar un True, quiere decir que sí hubo.\n",
    "Posterior, quise saber cuántos datos estaban duplicados con duplicated().sum().\n",
    "Quise revisar visualmente qué valores estaban duplicados con \n",
    "print(instacart_df.loc[instacart_df.duplicated(keep=False)].sort_values(by='order_id')).\n",
    "Esto me permitió ver que los valores duplicados eran del día Miércoles a las 2:00. \n",
    "Confirmando esto, ahora sí procedimos a eliminar los duplicados y re-confirmar que ya no estuvieran.\n",
    "'''"
   ]
  },
  {
   "cell_type": "markdown",
   "id": "45e6bc46",
   "metadata": {
    "id": "45e6bc46"
   },
   "source": [
    "### `products` data frame"
   ]
  },
  {
   "cell_type": "code",
   "execution_count": 20,
   "id": "5f526b5b-8175-46fa-a0fd-441767d50e64",
   "metadata": {
    "id": "5f526b5b-8175-46fa-a0fd-441767d50e64"
   },
   "outputs": [
    {
     "name": "stdout",
     "output_type": "stream",
     "text": [
      "<class 'pandas.core.frame.DataFrame'>\n",
      "RangeIndex: 49694 entries, 0 to 49693\n",
      "Data columns (total 4 columns):\n",
      " #   Column         Non-Null Count  Dtype \n",
      "---  ------         --------------  ----- \n",
      " 0   product_id     49694 non-null  int64 \n",
      " 1   product_name   48436 non-null  object\n",
      " 2   aisle_id       49694 non-null  int64 \n",
      " 3   department_id  49694 non-null  int64 \n",
      "dtypes: int64(3), object(1)\n",
      "memory usage: 1.5+ MB\n",
      "None\n",
      "\n",
      "False\n",
      "0\n"
     ]
    }
   ],
   "source": [
    "# Verifica si hay filas totalmente duplicadas\n",
    "print(products_df.info())\n",
    "print()\n",
    "print(products_df.duplicated().any()) #A simple vista no hay valores duplicados\n",
    "print(products_df.duplicated().sum()) #0"
   ]
  },
  {
   "cell_type": "code",
   "execution_count": 21,
   "id": "88daa4f4",
   "metadata": {
    "id": "88daa4f4"
   },
   "outputs": [
    {
     "name": "stdout",
     "output_type": "stream",
     "text": [
      "False\n",
      "0\n"
     ]
    }
   ],
   "source": [
    "# Verifica si hay IDs duplicadas de productos\n",
    "print(products_df['product_id'].duplicated().any()) #A simple vista no hay valores duplicados\n",
    "print(products_df['product_id'].duplicated().sum()) #0"
   ]
  },
  {
   "cell_type": "code",
   "execution_count": 14,
   "id": "c773f0bf",
   "metadata": {
    "id": "c773f0bf"
   },
   "outputs": [
    {
     "name": "stdout",
     "output_type": "stream",
     "text": [
      "True\n",
      "1361\n"
     ]
    },
    {
     "data": {
      "text/html": [
       "<div>\n",
       "<style scoped>\n",
       "    .dataframe tbody tr th:only-of-type {\n",
       "        vertical-align: middle;\n",
       "    }\n",
       "\n",
       "    .dataframe tbody tr th {\n",
       "        vertical-align: top;\n",
       "    }\n",
       "\n",
       "    .dataframe thead th {\n",
       "        text-align: right;\n",
       "    }\n",
       "</style>\n",
       "<table border=\"1\" class=\"dataframe\">\n",
       "  <thead>\n",
       "    <tr style=\"text-align: right;\">\n",
       "      <th></th>\n",
       "      <th>product_id</th>\n",
       "      <th>product_name</th>\n",
       "      <th>aisle_id</th>\n",
       "      <th>department_id</th>\n",
       "    </tr>\n",
       "  </thead>\n",
       "  <tbody>\n",
       "    <tr>\n",
       "      <th>37</th>\n",
       "      <td>38</td>\n",
       "      <td>NaN</td>\n",
       "      <td>100</td>\n",
       "      <td>21</td>\n",
       "    </tr>\n",
       "    <tr>\n",
       "      <th>41</th>\n",
       "      <td>42</td>\n",
       "      <td>BIOTIN 1000 MCG</td>\n",
       "      <td>47</td>\n",
       "      <td>11</td>\n",
       "    </tr>\n",
       "    <tr>\n",
       "      <th>71</th>\n",
       "      <td>72</td>\n",
       "      <td>NaN</td>\n",
       "      <td>100</td>\n",
       "      <td>21</td>\n",
       "    </tr>\n",
       "    <tr>\n",
       "      <th>109</th>\n",
       "      <td>110</td>\n",
       "      <td>NaN</td>\n",
       "      <td>100</td>\n",
       "      <td>21</td>\n",
       "    </tr>\n",
       "    <tr>\n",
       "      <th>185</th>\n",
       "      <td>186</td>\n",
       "      <td>FRESH SCENT DISHWASHER DETERGENT WITH DAWN</td>\n",
       "      <td>74</td>\n",
       "      <td>17</td>\n",
       "    </tr>\n",
       "    <tr>\n",
       "      <th>...</th>\n",
       "      <td>...</td>\n",
       "      <td>...</td>\n",
       "      <td>...</td>\n",
       "      <td>...</td>\n",
       "    </tr>\n",
       "    <tr>\n",
       "      <th>49689</th>\n",
       "      <td>49690</td>\n",
       "      <td>HIGH PERFORMANCE ENERGY DRINK</td>\n",
       "      <td>64</td>\n",
       "      <td>7</td>\n",
       "    </tr>\n",
       "    <tr>\n",
       "      <th>49690</th>\n",
       "      <td>49691</td>\n",
       "      <td>ORIGINAL PANCAKE &amp; WAFFLE MIX</td>\n",
       "      <td>130</td>\n",
       "      <td>14</td>\n",
       "    </tr>\n",
       "    <tr>\n",
       "      <th>49691</th>\n",
       "      <td>49692</td>\n",
       "      <td>ORGANIC INSTANT OATMEAL LIGHT MAPLE BROWN SUGAR</td>\n",
       "      <td>130</td>\n",
       "      <td>14</td>\n",
       "    </tr>\n",
       "    <tr>\n",
       "      <th>49692</th>\n",
       "      <td>49693</td>\n",
       "      <td>SPRING WATER BODY WASH</td>\n",
       "      <td>127</td>\n",
       "      <td>11</td>\n",
       "    </tr>\n",
       "    <tr>\n",
       "      <th>49693</th>\n",
       "      <td>49694</td>\n",
       "      <td>BURRITO- STEAK &amp; CHEESE</td>\n",
       "      <td>38</td>\n",
       "      <td>1</td>\n",
       "    </tr>\n",
       "  </tbody>\n",
       "</table>\n",
       "<p>1465 rows × 4 columns</p>\n",
       "</div>"
      ],
      "text/plain": [
       "       product_id                                     product_name  aisle_id  \\\n",
       "37             38                                              NaN       100   \n",
       "41             42                                  BIOTIN 1000 MCG        47   \n",
       "71             72                                              NaN       100   \n",
       "109           110                                              NaN       100   \n",
       "185           186       FRESH SCENT DISHWASHER DETERGENT WITH DAWN        74   \n",
       "...           ...                                              ...       ...   \n",
       "49689       49690                    HIGH PERFORMANCE ENERGY DRINK        64   \n",
       "49690       49691                    ORIGINAL PANCAKE & WAFFLE MIX       130   \n",
       "49691       49692  ORGANIC INSTANT OATMEAL LIGHT MAPLE BROWN SUGAR       130   \n",
       "49692       49693                           SPRING WATER BODY WASH       127   \n",
       "49693       49694                          BURRITO- STEAK & CHEESE        38   \n",
       "\n",
       "       department_id  \n",
       "37                21  \n",
       "41                11  \n",
       "71                21  \n",
       "109               21  \n",
       "185               17  \n",
       "...              ...  \n",
       "49689              7  \n",
       "49690             14  \n",
       "49691             14  \n",
       "49692             11  \n",
       "49693              1  \n",
       "\n",
       "[1465 rows x 4 columns]"
      ]
     },
     "metadata": {},
     "output_type": "display_data"
    }
   ],
   "source": [
    "# Revisa si hay nombres duplicados de productos (convierte los nombres a letras mayúsculas para compararlos mejor)\n",
    "products_df['product_name'] = products_df['product_name'].str.upper()\n",
    "print(products_df['product_name'].str.upper().duplicated().any()) #Sí hay valores duplicados\n",
    "print(products_df['product_name'].str.upper().duplicated().sum()) #1361 valores duplicados\n",
    "display(products_df.loc[products_df['product_name'].duplicated(keep=False)].sort_values(by='product_id'))"
   ]
  },
  {
   "cell_type": "markdown",
   "id": "375c77f3",
   "metadata": {},
   "source": [
    "<div class=\"alert alert-block alert-danger\">\n",
    "<b>Comentario del revisor (1ra Iteracion)</b> <a class=“tocSkip”></a>\n",
    "\n",
    "La transformación a mayúsculas de los nombres debe ser guardada sobre la misma columna, de otra forma más adelante puedes llegar a tener problemas con las métricas debido a casos donde un producto tenga una letra mayúscula y en otro no.\n",
    "</div>"
   ]
  },
  {
   "cell_type": "markdown",
   "id": "d4a87020",
   "metadata": {},
   "source": [
    "<div class=\"alert alert-block alert-success\">\n",
    "<b>Comentario del revisor (2da Iteracion)</b> <a class=“tocSkip”></a>\n",
    "\n",
    "Correcto, de esta forma se guarda la transformación en la variable para poder ser utilizada!\n",
    "</div>"
   ]
  },
  {
   "cell_type": "code",
   "execution_count": 17,
   "id": "01efd02e",
   "metadata": {
    "id": "01efd02e"
   },
   "outputs": [
    {
     "data": {
      "text/html": [
       "<div>\n",
       "<style scoped>\n",
       "    .dataframe tbody tr th:only-of-type {\n",
       "        vertical-align: middle;\n",
       "    }\n",
       "\n",
       "    .dataframe tbody tr th {\n",
       "        vertical-align: top;\n",
       "    }\n",
       "\n",
       "    .dataframe thead th {\n",
       "        text-align: right;\n",
       "    }\n",
       "</style>\n",
       "<table border=\"1\" class=\"dataframe\">\n",
       "  <thead>\n",
       "    <tr style=\"text-align: right;\">\n",
       "      <th></th>\n",
       "      <th>product_id</th>\n",
       "      <th>product_name</th>\n",
       "      <th>aisle_id</th>\n",
       "      <th>department_id</th>\n",
       "    </tr>\n",
       "  </thead>\n",
       "  <tbody>\n",
       "    <tr>\n",
       "      <th>41</th>\n",
       "      <td>42</td>\n",
       "      <td>BIOTIN 1000 MCG</td>\n",
       "      <td>47</td>\n",
       "      <td>11</td>\n",
       "    </tr>\n",
       "    <tr>\n",
       "      <th>185</th>\n",
       "      <td>186</td>\n",
       "      <td>FRESH SCENT DISHWASHER DETERGENT WITH DAWN</td>\n",
       "      <td>74</td>\n",
       "      <td>17</td>\n",
       "    </tr>\n",
       "    <tr>\n",
       "      <th>515</th>\n",
       "      <td>516</td>\n",
       "      <td>AMERICAN CHEESE SLICES</td>\n",
       "      <td>21</td>\n",
       "      <td>16</td>\n",
       "    </tr>\n",
       "    <tr>\n",
       "      <th>1538</th>\n",
       "      <td>1539</td>\n",
       "      <td>CAULIFLOWER HEAD</td>\n",
       "      <td>83</td>\n",
       "      <td>4</td>\n",
       "    </tr>\n",
       "    <tr>\n",
       "      <th>1783</th>\n",
       "      <td>1784</td>\n",
       "      <td>NUTRITION PROTEIN MIX BLUEBERRY NUT</td>\n",
       "      <td>117</td>\n",
       "      <td>19</td>\n",
       "    </tr>\n",
       "    <tr>\n",
       "      <th>...</th>\n",
       "      <td>...</td>\n",
       "      <td>...</td>\n",
       "      <td>...</td>\n",
       "      <td>...</td>\n",
       "    </tr>\n",
       "    <tr>\n",
       "      <th>49689</th>\n",
       "      <td>49690</td>\n",
       "      <td>HIGH PERFORMANCE ENERGY DRINK</td>\n",
       "      <td>64</td>\n",
       "      <td>7</td>\n",
       "    </tr>\n",
       "    <tr>\n",
       "      <th>49690</th>\n",
       "      <td>49691</td>\n",
       "      <td>ORIGINAL PANCAKE &amp; WAFFLE MIX</td>\n",
       "      <td>130</td>\n",
       "      <td>14</td>\n",
       "    </tr>\n",
       "    <tr>\n",
       "      <th>49691</th>\n",
       "      <td>49692</td>\n",
       "      <td>ORGANIC INSTANT OATMEAL LIGHT MAPLE BROWN SUGAR</td>\n",
       "      <td>130</td>\n",
       "      <td>14</td>\n",
       "    </tr>\n",
       "    <tr>\n",
       "      <th>49692</th>\n",
       "      <td>49693</td>\n",
       "      <td>SPRING WATER BODY WASH</td>\n",
       "      <td>127</td>\n",
       "      <td>11</td>\n",
       "    </tr>\n",
       "    <tr>\n",
       "      <th>49693</th>\n",
       "      <td>49694</td>\n",
       "      <td>BURRITO- STEAK &amp; CHEESE</td>\n",
       "      <td>38</td>\n",
       "      <td>1</td>\n",
       "    </tr>\n",
       "  </tbody>\n",
       "</table>\n",
       "<p>207 rows × 4 columns</p>\n",
       "</div>"
      ],
      "text/plain": [
       "       product_id                                     product_name  aisle_id  \\\n",
       "41             42                                  BIOTIN 1000 MCG        47   \n",
       "185           186       FRESH SCENT DISHWASHER DETERGENT WITH DAWN        74   \n",
       "515           516                           AMERICAN CHEESE SLICES        21   \n",
       "1538         1539                                 CAULIFLOWER HEAD        83   \n",
       "1783         1784              NUTRITION PROTEIN MIX BLUEBERRY NUT       117   \n",
       "...           ...                                              ...       ...   \n",
       "49689       49690                    HIGH PERFORMANCE ENERGY DRINK        64   \n",
       "49690       49691                    ORIGINAL PANCAKE & WAFFLE MIX       130   \n",
       "49691       49692  ORGANIC INSTANT OATMEAL LIGHT MAPLE BROWN SUGAR       130   \n",
       "49692       49693                           SPRING WATER BODY WASH       127   \n",
       "49693       49694                          BURRITO- STEAK & CHEESE        38   \n",
       "\n",
       "       department_id  \n",
       "41                11  \n",
       "185               17  \n",
       "515               16  \n",
       "1538               4  \n",
       "1783              19  \n",
       "...              ...  \n",
       "49689              7  \n",
       "49690             14  \n",
       "49691             14  \n",
       "49692             11  \n",
       "49693              1  \n",
       "\n",
       "[207 rows x 4 columns]"
      ]
     },
     "metadata": {},
     "output_type": "display_data"
    }
   ],
   "source": [
    "# Revisa si hay nombres duplicados de productos no faltantes\n",
    "duplicados_no_faltantes = products_df[products_df['product_name'].notna() & products_df['product_name'].duplicated(keep=False)]\n",
    "display(duplicados_no_faltantes)"
   ]
  },
  {
   "cell_type": "markdown",
   "id": "9da8d293",
   "metadata": {
    "id": "9da8d293"
   },
   "source": [
    "Describe brevemente tus hallazgos y lo que hiciste con ellos."
   ]
  },
  {
   "cell_type": "code",
   "execution_count": 24,
   "id": "f2125ba8",
   "metadata": {},
   "outputs": [
    {
     "data": {
      "text/plain": [
       "'\\nNo hay productos duplicados como tal, sin embargo, aún quedan los valores ausentes.\\n\\n'"
      ]
     },
     "execution_count": 24,
     "metadata": {},
     "output_type": "execute_result"
    }
   ],
   "source": [
    "'''\n",
    "No hay productos duplicados como tal, sin embargo, aún quedan los valores ausentes.\n",
    "\n",
    "'''"
   ]
  },
  {
   "cell_type": "markdown",
   "id": "60f30db1",
   "metadata": {
    "id": "60f30db1"
   },
   "source": [
    "### `departments` data frame"
   ]
  },
  {
   "cell_type": "code",
   "execution_count": 25,
   "id": "fb410ad4-0fbf-4b80-bb09-23fdea79afe3",
   "metadata": {
    "id": "fb410ad4-0fbf-4b80-bb09-23fdea79afe3"
   },
   "outputs": [
    {
     "name": "stdout",
     "output_type": "stream",
     "text": [
      "<class 'pandas.core.frame.DataFrame'>\n",
      "RangeIndex: 21 entries, 0 to 20\n",
      "Data columns (total 2 columns):\n",
      " #   Column         Non-Null Count  Dtype \n",
      "---  ------         --------------  ----- \n",
      " 0   department_id  21 non-null     int64 \n",
      " 1   department     21 non-null     object\n",
      "dtypes: int64(1), object(1)\n",
      "memory usage: 464.0+ bytes\n",
      "None\n",
      "False\n",
      "0\n"
     ]
    }
   ],
   "source": [
    "# Revisa si hay filas totalmente duplicadas\n",
    "print(departments_df.info())\n",
    "print(departments_df.duplicated().any()) #A simple vista no hay valores duplicados\n",
    "print(departments_df.duplicated().sum()) #0"
   ]
  },
  {
   "cell_type": "code",
   "execution_count": 16,
   "id": "332b12bb",
   "metadata": {
    "id": "332b12bb"
   },
   "outputs": [
    {
     "data": {
      "text/html": [
       "<div>\n",
       "<style scoped>\n",
       "    .dataframe tbody tr th:only-of-type {\n",
       "        vertical-align: middle;\n",
       "    }\n",
       "\n",
       "    .dataframe tbody tr th {\n",
       "        vertical-align: top;\n",
       "    }\n",
       "\n",
       "    .dataframe thead th {\n",
       "        text-align: right;\n",
       "    }\n",
       "</style>\n",
       "<table border=\"1\" class=\"dataframe\">\n",
       "  <thead>\n",
       "    <tr style=\"text-align: right;\">\n",
       "      <th></th>\n",
       "      <th>department_id</th>\n",
       "      <th>department</th>\n",
       "    </tr>\n",
       "  </thead>\n",
       "  <tbody>\n",
       "    <tr>\n",
       "      <th>0</th>\n",
       "      <td>1</td>\n",
       "      <td>frozen</td>\n",
       "    </tr>\n",
       "    <tr>\n",
       "      <th>1</th>\n",
       "      <td>2</td>\n",
       "      <td>other</td>\n",
       "    </tr>\n",
       "    <tr>\n",
       "      <th>2</th>\n",
       "      <td>3</td>\n",
       "      <td>bakery</td>\n",
       "    </tr>\n",
       "    <tr>\n",
       "      <th>3</th>\n",
       "      <td>4</td>\n",
       "      <td>produce</td>\n",
       "    </tr>\n",
       "    <tr>\n",
       "      <th>4</th>\n",
       "      <td>5</td>\n",
       "      <td>alcohol</td>\n",
       "    </tr>\n",
       "    <tr>\n",
       "      <th>5</th>\n",
       "      <td>6</td>\n",
       "      <td>international</td>\n",
       "    </tr>\n",
       "    <tr>\n",
       "      <th>6</th>\n",
       "      <td>7</td>\n",
       "      <td>beverages</td>\n",
       "    </tr>\n",
       "    <tr>\n",
       "      <th>7</th>\n",
       "      <td>8</td>\n",
       "      <td>pets</td>\n",
       "    </tr>\n",
       "    <tr>\n",
       "      <th>8</th>\n",
       "      <td>9</td>\n",
       "      <td>dry goods pasta</td>\n",
       "    </tr>\n",
       "    <tr>\n",
       "      <th>9</th>\n",
       "      <td>10</td>\n",
       "      <td>bulk</td>\n",
       "    </tr>\n",
       "    <tr>\n",
       "      <th>10</th>\n",
       "      <td>11</td>\n",
       "      <td>personal care</td>\n",
       "    </tr>\n",
       "    <tr>\n",
       "      <th>11</th>\n",
       "      <td>12</td>\n",
       "      <td>meat seafood</td>\n",
       "    </tr>\n",
       "    <tr>\n",
       "      <th>12</th>\n",
       "      <td>13</td>\n",
       "      <td>pantry</td>\n",
       "    </tr>\n",
       "    <tr>\n",
       "      <th>13</th>\n",
       "      <td>14</td>\n",
       "      <td>breakfast</td>\n",
       "    </tr>\n",
       "    <tr>\n",
       "      <th>14</th>\n",
       "      <td>15</td>\n",
       "      <td>canned goods</td>\n",
       "    </tr>\n",
       "    <tr>\n",
       "      <th>15</th>\n",
       "      <td>16</td>\n",
       "      <td>dairy eggs</td>\n",
       "    </tr>\n",
       "    <tr>\n",
       "      <th>16</th>\n",
       "      <td>17</td>\n",
       "      <td>household</td>\n",
       "    </tr>\n",
       "    <tr>\n",
       "      <th>17</th>\n",
       "      <td>18</td>\n",
       "      <td>babies</td>\n",
       "    </tr>\n",
       "    <tr>\n",
       "      <th>18</th>\n",
       "      <td>19</td>\n",
       "      <td>snacks</td>\n",
       "    </tr>\n",
       "    <tr>\n",
       "      <th>19</th>\n",
       "      <td>20</td>\n",
       "      <td>deli</td>\n",
       "    </tr>\n",
       "    <tr>\n",
       "      <th>20</th>\n",
       "      <td>21</td>\n",
       "      <td>missing</td>\n",
       "    </tr>\n",
       "  </tbody>\n",
       "</table>\n",
       "</div>"
      ],
      "text/plain": [
       "    department_id       department\n",
       "0               1           frozen\n",
       "1               2            other\n",
       "2               3           bakery\n",
       "3               4          produce\n",
       "4               5          alcohol\n",
       "5               6    international\n",
       "6               7        beverages\n",
       "7               8             pets\n",
       "8               9  dry goods pasta\n",
       "9              10             bulk\n",
       "10             11    personal care\n",
       "11             12     meat seafood\n",
       "12             13           pantry\n",
       "13             14        breakfast\n",
       "14             15     canned goods\n",
       "15             16       dairy eggs\n",
       "16             17        household\n",
       "17             18           babies\n",
       "18             19           snacks\n",
       "19             20             deli\n",
       "20             21          missing"
      ]
     },
     "metadata": {},
     "output_type": "display_data"
    }
   ],
   "source": [
    "# Revisa si hay IDs duplicadas de productos\n",
    "display(departments_df) #No hay ningún dato duplicado de departamentos."
   ]
  },
  {
   "cell_type": "markdown",
   "id": "bd30d78e",
   "metadata": {
    "id": "bd30d78e"
   },
   "source": [
    "Describe brevemente tus hallazgos y lo que hiciste con ellos."
   ]
  },
  {
   "cell_type": "code",
   "execution_count": 27,
   "id": "f64c2b2f",
   "metadata": {},
   "outputs": [
    {
     "data": {
      "text/plain": [
       "'\\nTodos los datos se ven correctos, no hay ningún duplicado.\\n\\n'"
      ]
     },
     "execution_count": 27,
     "metadata": {},
     "output_type": "execute_result"
    }
   ],
   "source": [
    "'''\n",
    "Todos los datos se ven correctos, no hay ningún duplicado.\n",
    "\n",
    "'''"
   ]
  },
  {
   "cell_type": "markdown",
   "id": "889349c1",
   "metadata": {
    "id": "889349c1"
   },
   "source": [
    "### `aisles` data frame"
   ]
  },
  {
   "cell_type": "code",
   "execution_count": 28,
   "id": "9da89fb9-4679-40f5-ad0d-c34df753a3f8",
   "metadata": {
    "id": "9da89fb9-4679-40f5-ad0d-c34df753a3f8"
   },
   "outputs": [
    {
     "name": "stdout",
     "output_type": "stream",
     "text": [
      "<class 'pandas.core.frame.DataFrame'>\n",
      "RangeIndex: 134 entries, 0 to 133\n",
      "Data columns (total 2 columns):\n",
      " #   Column    Non-Null Count  Dtype \n",
      "---  ------    --------------  ----- \n",
      " 0   aisle_id  134 non-null    int64 \n",
      " 1   aisle     134 non-null    object\n",
      "dtypes: int64(1), object(1)\n",
      "memory usage: 2.2+ KB\n",
      "None\n",
      "False\n",
      "0\n"
     ]
    }
   ],
   "source": [
    "# Revisa si hay filas totalmente duplicadas\n",
    "print(aisles_df.info())\n",
    "print(aisles_df.duplicated().any()) #A simple vista no hay valores duplicados\n",
    "print(aisles_df.duplicated().sum()) #0"
   ]
  },
  {
   "cell_type": "code",
   "execution_count": 29,
   "id": "da7c2822",
   "metadata": {
    "id": "da7c2822"
   },
   "outputs": [
    {
     "name": "stdout",
     "output_type": "stream",
     "text": [
      "False\n",
      "0\n",
      "False\n",
      "0\n"
     ]
    }
   ],
   "source": [
    "# Revisa si hay IDs duplicadas de productos\n",
    "print(aisles_df['aisle_id'].duplicated().any()) \n",
    "print(aisles_df['aisle_id'].duplicated().sum()) \n",
    "\n",
    "print(aisles_df['aisle'].str.upper().duplicated().any()) \n",
    "print(aisles_df['aisle'].str.upper().duplicated().sum()) "
   ]
  },
  {
   "cell_type": "markdown",
   "id": "ac63826f",
   "metadata": {
    "id": "ac63826f"
   },
   "source": [
    "Describe brevemente tus hallazgos y lo que hiciste con ellos."
   ]
  },
  {
   "cell_type": "code",
   "execution_count": 30,
   "id": "cb106017",
   "metadata": {},
   "outputs": [
    {
     "data": {
      "text/plain": [
       "'\\nNuevamente no hay datos duplicados ni faltantes\\n'"
      ]
     },
     "execution_count": 30,
     "metadata": {},
     "output_type": "execute_result"
    }
   ],
   "source": [
    "'''\n",
    "Nuevamente no hay datos duplicados ni faltantes\n",
    "'''"
   ]
  },
  {
   "cell_type": "markdown",
   "id": "274cd06a",
   "metadata": {
    "id": "274cd06a"
   },
   "source": [
    "### `order_products` data frame"
   ]
  },
  {
   "cell_type": "code",
   "execution_count": 31,
   "id": "52326689-84a8-4b8f-a881-7c68780f62c9",
   "metadata": {
    "id": "52326689-84a8-4b8f-a881-7c68780f62c9"
   },
   "outputs": [
    {
     "name": "stdout",
     "output_type": "stream",
     "text": [
      "<class 'pandas.core.frame.DataFrame'>\n",
      "RangeIndex: 4545007 entries, 0 to 4545006\n",
      "Data columns (total 4 columns):\n",
      " #   Column             Non-Null Count    Dtype\n",
      "---  ------             --------------    -----\n",
      " 0   order_id           4545007 non-null  int64\n",
      " 1   product_id         4545007 non-null  int64\n",
      " 2   add_to_cart_order  4545007 non-null  int64\n",
      " 3   reordered          4545007 non-null  int64\n",
      "dtypes: int64(4)\n",
      "memory usage: 138.7 MB\n",
      "None\n",
      "False\n",
      "0\n"
     ]
    }
   ],
   "source": [
    "# Revisa si hay filas totalmente duplicadas\n",
    "print(order_products_df.info(show_counts=True))\n",
    "print(order_products_df.duplicated().any()) #A simple vista no hay valores duplicados\n",
    "print(order_products_df.duplicated().sum()) #0"
   ]
  },
  {
   "cell_type": "code",
   "execution_count": 18,
   "id": "7b861391",
   "metadata": {
    "id": "7b861391"
   },
   "outputs": [
    {
     "name": "stdout",
     "output_type": "stream",
     "text": [
      "True\n",
      "4094961\n"
     ]
    },
    {
     "data": {
      "text/html": [
       "<div>\n",
       "<style scoped>\n",
       "    .dataframe tbody tr th:only-of-type {\n",
       "        vertical-align: middle;\n",
       "    }\n",
       "\n",
       "    .dataframe tbody tr th {\n",
       "        vertical-align: top;\n",
       "    }\n",
       "\n",
       "    .dataframe thead th {\n",
       "        text-align: right;\n",
       "    }\n",
       "</style>\n",
       "<table border=\"1\" class=\"dataframe\">\n",
       "  <thead>\n",
       "    <tr style=\"text-align: right;\">\n",
       "      <th></th>\n",
       "      <th>order_id</th>\n",
       "      <th>product_id</th>\n",
       "      <th>add_to_cart_order</th>\n",
       "      <th>reordered</th>\n",
       "    </tr>\n",
       "  </thead>\n",
       "  <tbody>\n",
       "    <tr>\n",
       "      <th>2502556</th>\n",
       "      <td>4</td>\n",
       "      <td>41276</td>\n",
       "      <td>13</td>\n",
       "      <td>1</td>\n",
       "    </tr>\n",
       "    <tr>\n",
       "      <th>3189411</th>\n",
       "      <td>4</td>\n",
       "      <td>25146</td>\n",
       "      <td>11</td>\n",
       "      <td>1</td>\n",
       "    </tr>\n",
       "    <tr>\n",
       "      <th>3977678</th>\n",
       "      <td>4</td>\n",
       "      <td>21351</td>\n",
       "      <td>6</td>\n",
       "      <td>1</td>\n",
       "    </tr>\n",
       "    <tr>\n",
       "      <th>311805</th>\n",
       "      <td>4</td>\n",
       "      <td>46842</td>\n",
       "      <td>1</td>\n",
       "      <td>0</td>\n",
       "    </tr>\n",
       "    <tr>\n",
       "      <th>1169276</th>\n",
       "      <td>4</td>\n",
       "      <td>27761</td>\n",
       "      <td>4</td>\n",
       "      <td>1</td>\n",
       "    </tr>\n",
       "    <tr>\n",
       "      <th>...</th>\n",
       "      <td>...</td>\n",
       "      <td>...</td>\n",
       "      <td>...</td>\n",
       "      <td>...</td>\n",
       "    </tr>\n",
       "    <tr>\n",
       "      <th>455750</th>\n",
       "      <td>3421071</td>\n",
       "      <td>35921</td>\n",
       "      <td>3</td>\n",
       "      <td>0</td>\n",
       "    </tr>\n",
       "    <tr>\n",
       "      <th>1505667</th>\n",
       "      <td>3421077</td>\n",
       "      <td>27966</td>\n",
       "      <td>1</td>\n",
       "      <td>0</td>\n",
       "    </tr>\n",
       "    <tr>\n",
       "      <th>719972</th>\n",
       "      <td>3421077</td>\n",
       "      <td>26940</td>\n",
       "      <td>3</td>\n",
       "      <td>0</td>\n",
       "    </tr>\n",
       "    <tr>\n",
       "      <th>4000108</th>\n",
       "      <td>3421077</td>\n",
       "      <td>27845</td>\n",
       "      <td>4</td>\n",
       "      <td>0</td>\n",
       "    </tr>\n",
       "    <tr>\n",
       "      <th>4417991</th>\n",
       "      <td>3421077</td>\n",
       "      <td>45007</td>\n",
       "      <td>2</td>\n",
       "      <td>0</td>\n",
       "    </tr>\n",
       "  </tbody>\n",
       "</table>\n",
       "<p>4523160 rows × 4 columns</p>\n",
       "</div>"
      ],
      "text/plain": [
       "         order_id  product_id  add_to_cart_order  reordered\n",
       "2502556         4       41276                 13          1\n",
       "3189411         4       25146                 11          1\n",
       "3977678         4       21351                  6          1\n",
       "311805          4       46842                  1          0\n",
       "1169276         4       27761                  4          1\n",
       "...           ...         ...                ...        ...\n",
       "455750    3421071       35921                  3          0\n",
       "1505667   3421077       27966                  1          0\n",
       "719972    3421077       26940                  3          0\n",
       "4000108   3421077       27845                  4          0\n",
       "4417991   3421077       45007                  2          0\n",
       "\n",
       "[4523160 rows x 4 columns]"
      ]
     },
     "metadata": {},
     "output_type": "display_data"
    },
    {
     "name": "stdout",
     "output_type": "stream",
     "text": [
      "True\n",
      "4499434\n",
      "True\n",
      "4545005\n"
     ]
    }
   ],
   "source": [
    "# Vuelve a verificar si hay cualquier otro duplicado engañoso\n",
    "print(order_products_df['order_id'].duplicated().any())\n",
    "print(order_products_df['order_id'].duplicated().sum()) \n",
    "display(order_products_df.loc[order_products_df['order_id'].duplicated(keep=False)].sort_values(by='order_id')) \n",
    "#No es duplicado.\n",
    "#Una Orden puede tener múltiples productos y reordenamiento\n",
    "\n",
    "print(order_products_df['product_id'].duplicated().any()) \n",
    "print(order_products_df['product_id'].duplicated().sum()) \n",
    "\n",
    "print(order_products_df['reordered'].duplicated().any()) \n",
    "print(order_products_df['reordered'].duplicated().sum()) "
   ]
  },
  {
   "cell_type": "markdown",
   "id": "0b890492",
   "metadata": {
    "id": "0b890492"
   },
   "source": [
    "Describe brevemente tus hallazgos y lo que hiciste con ellos."
   ]
  },
  {
   "cell_type": "code",
   "execution_count": null,
   "id": "e74d8b96",
   "metadata": {},
   "outputs": [],
   "source": [
    "'''\n",
    "Revisando nuevamente el código y la lógica, no existe algún otro duplicado engañoso. \n",
    "Sí sería engañoso ya que el order_id se repite, pero es lógico. Una orden puede tener múltiples productos.\n",
    "\n",
    "'''"
   ]
  },
  {
   "cell_type": "markdown",
   "id": "b9395615",
   "metadata": {},
   "source": [
    "<div class=\"alert alert-block alert-danger\">\n",
    "<b>Comentario del revisor (1ra Iteracion)</b> <a class=“tocSkip”></a>\n",
    "\n",
    "Buen trabajo con la revisión de estos últimos datasets. No olvides redactar los hallazgos encontrados cómo se solicita a lo largo del notebook\n",
    "</div>"
   ]
  },
  {
   "cell_type": "markdown",
   "id": "e9ac93f3",
   "metadata": {},
   "source": [
    "<div class=\"alert alert-block alert-success\">\n",
    "<b>Comentario del revisor (2da Iteracion)</b> <a class=“tocSkip”></a>\n",
    "\n",
    "Muy buen observación!\n",
    "</div>"
   ]
  },
  {
   "cell_type": "markdown",
   "id": "1e46de76",
   "metadata": {
    "id": "1e46de76"
   },
   "source": [
    "## Encuentra y elimina los valores ausentes\n",
    "\n",
    "Al trabajar con valores duplicados, pudimos observar que también nos falta investigar valores ausentes:\n",
    "\n",
    "* La columna `'product_name'` de la tabla products.\n",
    "* La columna `'days_since_prior_order'` de la tabla orders.\n",
    "* La columna `'add_to_cart_order'` de la tabla order_productos."
   ]
  },
  {
   "cell_type": "markdown",
   "id": "c0aebd78",
   "metadata": {
    "id": "c0aebd78"
   },
   "source": [
    "### `products` data frame"
   ]
  },
  {
   "cell_type": "code",
   "execution_count": 19,
   "id": "fe4a8b0f",
   "metadata": {
    "id": "fe4a8b0f"
   },
   "outputs": [
    {
     "name": "stdout",
     "output_type": "stream",
     "text": [
      "True\n",
      "1361\n"
     ]
    },
    {
     "data": {
      "text/html": [
       "<div>\n",
       "<style scoped>\n",
       "    .dataframe tbody tr th:only-of-type {\n",
       "        vertical-align: middle;\n",
       "    }\n",
       "\n",
       "    .dataframe tbody tr th {\n",
       "        vertical-align: top;\n",
       "    }\n",
       "\n",
       "    .dataframe thead th {\n",
       "        text-align: right;\n",
       "    }\n",
       "</style>\n",
       "<table border=\"1\" class=\"dataframe\">\n",
       "  <thead>\n",
       "    <tr style=\"text-align: right;\">\n",
       "      <th></th>\n",
       "      <th>product_id</th>\n",
       "      <th>product_name</th>\n",
       "      <th>aisle_id</th>\n",
       "      <th>department_id</th>\n",
       "    </tr>\n",
       "  </thead>\n",
       "  <tbody>\n",
       "    <tr>\n",
       "      <th>23339</th>\n",
       "      <td>23340</td>\n",
       "      <td>18-IN-1 HEMP PEPPERMINT PURE-CASTILE SOAP</td>\n",
       "      <td>25</td>\n",
       "      <td>11</td>\n",
       "    </tr>\n",
       "    <tr>\n",
       "      <th>31844</th>\n",
       "      <td>31845</td>\n",
       "      <td>18-IN-1 HEMP PEPPERMINT PURE-CASTILE SOAP</td>\n",
       "      <td>25</td>\n",
       "      <td>11</td>\n",
       "    </tr>\n",
       "    <tr>\n",
       "      <th>19941</th>\n",
       "      <td>19942</td>\n",
       "      <td>AGED BALSAMIC VINEGAR OF MODENA</td>\n",
       "      <td>19</td>\n",
       "      <td>13</td>\n",
       "    </tr>\n",
       "    <tr>\n",
       "      <th>13152</th>\n",
       "      <td>13153</td>\n",
       "      <td>AGED BALSAMIC VINEGAR OF MODENA</td>\n",
       "      <td>19</td>\n",
       "      <td>13</td>\n",
       "    </tr>\n",
       "    <tr>\n",
       "      <th>24830</th>\n",
       "      <td>24831</td>\n",
       "      <td>ALBACORE SOLID WHITE TUNA IN WATER</td>\n",
       "      <td>95</td>\n",
       "      <td>15</td>\n",
       "    </tr>\n",
       "    <tr>\n",
       "      <th>...</th>\n",
       "      <td>...</td>\n",
       "      <td>...</td>\n",
       "      <td>...</td>\n",
       "      <td>...</td>\n",
       "    </tr>\n",
       "    <tr>\n",
       "      <th>49552</th>\n",
       "      <td>49553</td>\n",
       "      <td>NaN</td>\n",
       "      <td>100</td>\n",
       "      <td>21</td>\n",
       "    </tr>\n",
       "    <tr>\n",
       "      <th>49574</th>\n",
       "      <td>49575</td>\n",
       "      <td>NaN</td>\n",
       "      <td>100</td>\n",
       "      <td>21</td>\n",
       "    </tr>\n",
       "    <tr>\n",
       "      <th>49640</th>\n",
       "      <td>49641</td>\n",
       "      <td>NaN</td>\n",
       "      <td>100</td>\n",
       "      <td>21</td>\n",
       "    </tr>\n",
       "    <tr>\n",
       "      <th>49663</th>\n",
       "      <td>49664</td>\n",
       "      <td>NaN</td>\n",
       "      <td>100</td>\n",
       "      <td>21</td>\n",
       "    </tr>\n",
       "    <tr>\n",
       "      <th>49668</th>\n",
       "      <td>49669</td>\n",
       "      <td>NaN</td>\n",
       "      <td>100</td>\n",
       "      <td>21</td>\n",
       "    </tr>\n",
       "  </tbody>\n",
       "</table>\n",
       "<p>1465 rows × 4 columns</p>\n",
       "</div>"
      ],
      "text/plain": [
       "       product_id                               product_name  aisle_id  \\\n",
       "23339       23340  18-IN-1 HEMP PEPPERMINT PURE-CASTILE SOAP        25   \n",
       "31844       31845  18-IN-1 HEMP PEPPERMINT PURE-CASTILE SOAP        25   \n",
       "19941       19942            AGED BALSAMIC VINEGAR OF MODENA        19   \n",
       "13152       13153            AGED BALSAMIC VINEGAR OF MODENA        19   \n",
       "24830       24831         ALBACORE SOLID WHITE TUNA IN WATER        95   \n",
       "...           ...                                        ...       ...   \n",
       "49552       49553                                        NaN       100   \n",
       "49574       49575                                        NaN       100   \n",
       "49640       49641                                        NaN       100   \n",
       "49663       49664                                        NaN       100   \n",
       "49668       49669                                        NaN       100   \n",
       "\n",
       "       department_id  \n",
       "23339             11  \n",
       "31844             11  \n",
       "19941             13  \n",
       "13152             13  \n",
       "24830             15  \n",
       "...              ...  \n",
       "49552             21  \n",
       "49574             21  \n",
       "49640             21  \n",
       "49663             21  \n",
       "49668             21  \n",
       "\n",
       "[1465 rows x 4 columns]"
      ]
     },
     "metadata": {},
     "output_type": "display_data"
    }
   ],
   "source": [
    "# Encuentra los valores ausentes en la columna 'product_name'\n",
    "print(products_df['product_name'].duplicated().any())\n",
    "print(products_df['product_name'].duplicated().sum()) \n",
    "display(products_df.loc[products_df['product_name'].duplicated(keep=False)].sort_values(by='product_name'))"
   ]
  },
  {
   "cell_type": "markdown",
   "id": "-A6x1AbJhjkp",
   "metadata": {
    "id": "-A6x1AbJhjkp"
   },
   "source": [
    "Describe brevemente cuáles son tus hallazgos."
   ]
  },
  {
   "cell_type": "code",
   "execution_count": 34,
   "id": "34b34e59",
   "metadata": {
    "scrolled": true
   },
   "outputs": [
    {
     "data": {
      "text/plain": [
       "'\\nA simple vista, los productos \"duplicados\" son aquellos que no tienen product_name. Aunque, curiosamente, se ubican en el\\naisle número 100 del departamento 21, o sea \"Missing\"\\n\\n'"
      ]
     },
     "execution_count": 34,
     "metadata": {},
     "output_type": "execute_result"
    }
   ],
   "source": [
    "'''\n",
    "A simple vista, los productos \"duplicados\" son aquellos que no tienen product_name. Aunque, curiosamente, se ubican en el\n",
    "aisle número 100 del departamento 21, o sea \"Missing\"\n",
    "\n",
    "'''"
   ]
  },
  {
   "cell_type": "code",
   "execution_count": 20,
   "id": "e96167bc",
   "metadata": {
    "id": "e96167bc"
   },
   "outputs": [
    {
     "data": {
      "text/html": [
       "<div>\n",
       "<style scoped>\n",
       "    .dataframe tbody tr th:only-of-type {\n",
       "        vertical-align: middle;\n",
       "    }\n",
       "\n",
       "    .dataframe tbody tr th {\n",
       "        vertical-align: top;\n",
       "    }\n",
       "\n",
       "    .dataframe thead th {\n",
       "        text-align: right;\n",
       "    }\n",
       "</style>\n",
       "<table border=\"1\" class=\"dataframe\">\n",
       "  <thead>\n",
       "    <tr style=\"text-align: right;\">\n",
       "      <th></th>\n",
       "      <th>product_id</th>\n",
       "      <th>product_name</th>\n",
       "      <th>aisle_id</th>\n",
       "      <th>department_id</th>\n",
       "    </tr>\n",
       "  </thead>\n",
       "  <tbody>\n",
       "    <tr>\n",
       "      <th>37</th>\n",
       "      <td>38</td>\n",
       "      <td>NaN</td>\n",
       "      <td>100</td>\n",
       "      <td>21</td>\n",
       "    </tr>\n",
       "    <tr>\n",
       "      <th>71</th>\n",
       "      <td>72</td>\n",
       "      <td>NaN</td>\n",
       "      <td>100</td>\n",
       "      <td>21</td>\n",
       "    </tr>\n",
       "    <tr>\n",
       "      <th>109</th>\n",
       "      <td>110</td>\n",
       "      <td>NaN</td>\n",
       "      <td>100</td>\n",
       "      <td>21</td>\n",
       "    </tr>\n",
       "    <tr>\n",
       "      <th>296</th>\n",
       "      <td>297</td>\n",
       "      <td>NaN</td>\n",
       "      <td>100</td>\n",
       "      <td>21</td>\n",
       "    </tr>\n",
       "    <tr>\n",
       "      <th>416</th>\n",
       "      <td>417</td>\n",
       "      <td>NaN</td>\n",
       "      <td>100</td>\n",
       "      <td>21</td>\n",
       "    </tr>\n",
       "    <tr>\n",
       "      <th>...</th>\n",
       "      <td>...</td>\n",
       "      <td>...</td>\n",
       "      <td>...</td>\n",
       "      <td>...</td>\n",
       "    </tr>\n",
       "    <tr>\n",
       "      <th>49552</th>\n",
       "      <td>49553</td>\n",
       "      <td>NaN</td>\n",
       "      <td>100</td>\n",
       "      <td>21</td>\n",
       "    </tr>\n",
       "    <tr>\n",
       "      <th>49574</th>\n",
       "      <td>49575</td>\n",
       "      <td>NaN</td>\n",
       "      <td>100</td>\n",
       "      <td>21</td>\n",
       "    </tr>\n",
       "    <tr>\n",
       "      <th>49640</th>\n",
       "      <td>49641</td>\n",
       "      <td>NaN</td>\n",
       "      <td>100</td>\n",
       "      <td>21</td>\n",
       "    </tr>\n",
       "    <tr>\n",
       "      <th>49663</th>\n",
       "      <td>49664</td>\n",
       "      <td>NaN</td>\n",
       "      <td>100</td>\n",
       "      <td>21</td>\n",
       "    </tr>\n",
       "    <tr>\n",
       "      <th>49668</th>\n",
       "      <td>49669</td>\n",
       "      <td>NaN</td>\n",
       "      <td>100</td>\n",
       "      <td>21</td>\n",
       "    </tr>\n",
       "  </tbody>\n",
       "</table>\n",
       "<p>1258 rows × 4 columns</p>\n",
       "</div>"
      ],
      "text/plain": [
       "       product_id product_name  aisle_id  department_id\n",
       "37             38          NaN       100             21\n",
       "71             72          NaN       100             21\n",
       "109           110          NaN       100             21\n",
       "296           297          NaN       100             21\n",
       "416           417          NaN       100             21\n",
       "...           ...          ...       ...            ...\n",
       "49552       49553          NaN       100             21\n",
       "49574       49575          NaN       100             21\n",
       "49640       49641          NaN       100             21\n",
       "49663       49664          NaN       100             21\n",
       "49668       49669          NaN       100             21\n",
       "\n",
       "[1258 rows x 4 columns]"
      ]
     },
     "metadata": {},
     "output_type": "display_data"
    }
   ],
   "source": [
    "#  ¿Todos los nombres de productos ausentes están relacionados con el pasillo con ID 100?\n",
    "display(products_df.query(\"aisle_id == 100\"))"
   ]
  },
  {
   "cell_type": "markdown",
   "id": "WRpIfXRphpSL",
   "metadata": {
    "id": "WRpIfXRphpSL"
   },
   "source": [
    "Describe brevemente cuáles son tus hallazgos."
   ]
  },
  {
   "cell_type": "code",
   "execution_count": 36,
   "id": "2a1bf241",
   "metadata": {},
   "outputs": [
    {
     "data": {
      "text/plain": [
       "'\\nEs correcto, todos se encuentran en el pasillo 100\\n\\n'"
      ]
     },
     "execution_count": 36,
     "metadata": {},
     "output_type": "execute_result"
    }
   ],
   "source": [
    "'''\n",
    "Es correcto, todos se encuentran en el pasillo 100\n",
    "\n",
    "'''"
   ]
  },
  {
   "cell_type": "code",
   "execution_count": 21,
   "id": "8fd0a541",
   "metadata": {
    "id": "8fd0a541"
   },
   "outputs": [
    {
     "data": {
      "text/html": [
       "<div>\n",
       "<style scoped>\n",
       "    .dataframe tbody tr th:only-of-type {\n",
       "        vertical-align: middle;\n",
       "    }\n",
       "\n",
       "    .dataframe tbody tr th {\n",
       "        vertical-align: top;\n",
       "    }\n",
       "\n",
       "    .dataframe thead th {\n",
       "        text-align: right;\n",
       "    }\n",
       "</style>\n",
       "<table border=\"1\" class=\"dataframe\">\n",
       "  <thead>\n",
       "    <tr style=\"text-align: right;\">\n",
       "      <th></th>\n",
       "      <th>product_id</th>\n",
       "      <th>product_name</th>\n",
       "      <th>aisle_id</th>\n",
       "      <th>department_id</th>\n",
       "    </tr>\n",
       "  </thead>\n",
       "  <tbody>\n",
       "    <tr>\n",
       "      <th>37</th>\n",
       "      <td>38</td>\n",
       "      <td>NaN</td>\n",
       "      <td>100</td>\n",
       "      <td>21</td>\n",
       "    </tr>\n",
       "    <tr>\n",
       "      <th>71</th>\n",
       "      <td>72</td>\n",
       "      <td>NaN</td>\n",
       "      <td>100</td>\n",
       "      <td>21</td>\n",
       "    </tr>\n",
       "    <tr>\n",
       "      <th>109</th>\n",
       "      <td>110</td>\n",
       "      <td>NaN</td>\n",
       "      <td>100</td>\n",
       "      <td>21</td>\n",
       "    </tr>\n",
       "    <tr>\n",
       "      <th>296</th>\n",
       "      <td>297</td>\n",
       "      <td>NaN</td>\n",
       "      <td>100</td>\n",
       "      <td>21</td>\n",
       "    </tr>\n",
       "    <tr>\n",
       "      <th>416</th>\n",
       "      <td>417</td>\n",
       "      <td>NaN</td>\n",
       "      <td>100</td>\n",
       "      <td>21</td>\n",
       "    </tr>\n",
       "    <tr>\n",
       "      <th>...</th>\n",
       "      <td>...</td>\n",
       "      <td>...</td>\n",
       "      <td>...</td>\n",
       "      <td>...</td>\n",
       "    </tr>\n",
       "    <tr>\n",
       "      <th>49552</th>\n",
       "      <td>49553</td>\n",
       "      <td>NaN</td>\n",
       "      <td>100</td>\n",
       "      <td>21</td>\n",
       "    </tr>\n",
       "    <tr>\n",
       "      <th>49574</th>\n",
       "      <td>49575</td>\n",
       "      <td>NaN</td>\n",
       "      <td>100</td>\n",
       "      <td>21</td>\n",
       "    </tr>\n",
       "    <tr>\n",
       "      <th>49640</th>\n",
       "      <td>49641</td>\n",
       "      <td>NaN</td>\n",
       "      <td>100</td>\n",
       "      <td>21</td>\n",
       "    </tr>\n",
       "    <tr>\n",
       "      <th>49663</th>\n",
       "      <td>49664</td>\n",
       "      <td>NaN</td>\n",
       "      <td>100</td>\n",
       "      <td>21</td>\n",
       "    </tr>\n",
       "    <tr>\n",
       "      <th>49668</th>\n",
       "      <td>49669</td>\n",
       "      <td>NaN</td>\n",
       "      <td>100</td>\n",
       "      <td>21</td>\n",
       "    </tr>\n",
       "  </tbody>\n",
       "</table>\n",
       "<p>1258 rows × 4 columns</p>\n",
       "</div>"
      ],
      "text/plain": [
       "       product_id product_name  aisle_id  department_id\n",
       "37             38          NaN       100             21\n",
       "71             72          NaN       100             21\n",
       "109           110          NaN       100             21\n",
       "296           297          NaN       100             21\n",
       "416           417          NaN       100             21\n",
       "...           ...          ...       ...            ...\n",
       "49552       49553          NaN       100             21\n",
       "49574       49575          NaN       100             21\n",
       "49640       49641          NaN       100             21\n",
       "49663       49664          NaN       100             21\n",
       "49668       49669          NaN       100             21\n",
       "\n",
       "[1258 rows x 4 columns]"
      ]
     },
     "metadata": {},
     "output_type": "display_data"
    }
   ],
   "source": [
    "# ¿Todos los nombres de productos ausentes están relacionados con el departamento con ID 21?\n",
    "display(products_df.query(\"department_id == 21\"))"
   ]
  },
  {
   "cell_type": "markdown",
   "id": "qDpdYn1Fht_I",
   "metadata": {
    "id": "qDpdYn1Fht_I"
   },
   "source": [
    "Describe brevemente cuáles son tus hallazgos."
   ]
  },
  {
   "cell_type": "code",
   "execution_count": 38,
   "id": "e09f6fd4",
   "metadata": {},
   "outputs": [
    {
     "data": {
      "text/plain": [
       "'\\nTambién es correcto, lo cual haría sentido ya que ese departamento es el \"Missing\"\\n\\n'"
      ]
     },
     "execution_count": 38,
     "metadata": {},
     "output_type": "execute_result"
    }
   ],
   "source": [
    "'''\n",
    "También es correcto, lo cual haría sentido ya que ese departamento es el \"Missing\"\n",
    "\n",
    "'''"
   ]
  },
  {
   "cell_type": "code",
   "execution_count": 22,
   "id": "325c3464",
   "metadata": {
    "id": "325c3464"
   },
   "outputs": [
    {
     "data": {
      "text/html": [
       "<div>\n",
       "<style scoped>\n",
       "    .dataframe tbody tr th:only-of-type {\n",
       "        vertical-align: middle;\n",
       "    }\n",
       "\n",
       "    .dataframe tbody tr th {\n",
       "        vertical-align: top;\n",
       "    }\n",
       "\n",
       "    .dataframe thead th {\n",
       "        text-align: right;\n",
       "    }\n",
       "</style>\n",
       "<table border=\"1\" class=\"dataframe\">\n",
       "  <thead>\n",
       "    <tr style=\"text-align: right;\">\n",
       "      <th></th>\n",
       "      <th>department_id</th>\n",
       "      <th>department</th>\n",
       "    </tr>\n",
       "  </thead>\n",
       "  <tbody>\n",
       "    <tr>\n",
       "      <th>20</th>\n",
       "      <td>21</td>\n",
       "      <td>missing</td>\n",
       "    </tr>\n",
       "  </tbody>\n",
       "</table>\n",
       "</div>"
      ],
      "text/plain": [
       "    department_id department\n",
       "20             21    missing"
      ]
     },
     "metadata": {},
     "output_type": "display_data"
    },
    {
     "name": "stdout",
     "output_type": "stream",
     "text": [
      "\n"
     ]
    },
    {
     "data": {
      "text/html": [
       "<div>\n",
       "<style scoped>\n",
       "    .dataframe tbody tr th:only-of-type {\n",
       "        vertical-align: middle;\n",
       "    }\n",
       "\n",
       "    .dataframe tbody tr th {\n",
       "        vertical-align: top;\n",
       "    }\n",
       "\n",
       "    .dataframe thead th {\n",
       "        text-align: right;\n",
       "    }\n",
       "</style>\n",
       "<table border=\"1\" class=\"dataframe\">\n",
       "  <thead>\n",
       "    <tr style=\"text-align: right;\">\n",
       "      <th></th>\n",
       "      <th>aisle_id</th>\n",
       "      <th>aisle</th>\n",
       "    </tr>\n",
       "  </thead>\n",
       "  <tbody>\n",
       "    <tr>\n",
       "      <th>99</th>\n",
       "      <td>100</td>\n",
       "      <td>missing</td>\n",
       "    </tr>\n",
       "  </tbody>\n",
       "</table>\n",
       "</div>"
      ],
      "text/plain": [
       "    aisle_id    aisle\n",
       "99       100  missing"
      ]
     },
     "metadata": {},
     "output_type": "display_data"
    }
   ],
   "source": [
    "# Usa las tablas department y aisle para revisar los datos del pasillo con ID 100 y el departamento con ID 21.\n",
    "display(departments_df.loc[departments_df.loc[:,'department_id'] == 21])\n",
    "print()\n",
    "display(aisles_df.loc[aisles_df.loc[:,'aisle_id'] == 100])"
   ]
  },
  {
   "cell_type": "markdown",
   "id": "4a2a9b28",
   "metadata": {},
   "source": [
    "<div class=\"alert alert-block alert-success\">\n",
    "<b>Comentario del revisor (1ra Iteracion)</b> <a class=“tocSkip”></a>\n",
    "\n",
    "Bien hecho! Aplicaste los filtros sobre los datasets correctos para obtener el resultado\n",
    "</div>"
   ]
  },
  {
   "cell_type": "markdown",
   "id": "nqhSTUPhhvEJ",
   "metadata": {
    "id": "nqhSTUPhhvEJ"
   },
   "source": [
    "Describe brevemente cuáles son tus hallazgos."
   ]
  },
  {
   "cell_type": "code",
   "execution_count": 40,
   "id": "54a8e61e",
   "metadata": {},
   "outputs": [
    {
     "data": {
      "text/plain": [
       "'\\nConfirmamos que, sí, el departamento es el de \"Missing\" de igual manera que el pasillo corresponde a \"Missing\"\\n'"
      ]
     },
     "execution_count": 40,
     "metadata": {},
     "output_type": "execute_result"
    }
   ],
   "source": [
    "'''\n",
    "Confirmamos que, sí, el departamento es el de \"Missing\" de igual manera que el pasillo corresponde a \"Missing\"\n",
    "'''"
   ]
  },
  {
   "cell_type": "code",
   "execution_count": 23,
   "id": "6b295120",
   "metadata": {
    "id": "6b295120"
   },
   "outputs": [
    {
     "data": {
      "text/html": [
       "<div>\n",
       "<style scoped>\n",
       "    .dataframe tbody tr th:only-of-type {\n",
       "        vertical-align: middle;\n",
       "    }\n",
       "\n",
       "    .dataframe tbody tr th {\n",
       "        vertical-align: top;\n",
       "    }\n",
       "\n",
       "    .dataframe thead th {\n",
       "        text-align: right;\n",
       "    }\n",
       "</style>\n",
       "<table border=\"1\" class=\"dataframe\">\n",
       "  <thead>\n",
       "    <tr style=\"text-align: right;\">\n",
       "      <th></th>\n",
       "      <th>product_id</th>\n",
       "      <th>product_name</th>\n",
       "      <th>aisle_id</th>\n",
       "      <th>department_id</th>\n",
       "    </tr>\n",
       "  </thead>\n",
       "  <tbody>\n",
       "    <tr>\n",
       "      <th>37</th>\n",
       "      <td>38</td>\n",
       "      <td>Unknown</td>\n",
       "      <td>100</td>\n",
       "      <td>21</td>\n",
       "    </tr>\n",
       "    <tr>\n",
       "      <th>71</th>\n",
       "      <td>72</td>\n",
       "      <td>Unknown</td>\n",
       "      <td>100</td>\n",
       "      <td>21</td>\n",
       "    </tr>\n",
       "    <tr>\n",
       "      <th>109</th>\n",
       "      <td>110</td>\n",
       "      <td>Unknown</td>\n",
       "      <td>100</td>\n",
       "      <td>21</td>\n",
       "    </tr>\n",
       "    <tr>\n",
       "      <th>296</th>\n",
       "      <td>297</td>\n",
       "      <td>Unknown</td>\n",
       "      <td>100</td>\n",
       "      <td>21</td>\n",
       "    </tr>\n",
       "    <tr>\n",
       "      <th>416</th>\n",
       "      <td>417</td>\n",
       "      <td>Unknown</td>\n",
       "      <td>100</td>\n",
       "      <td>21</td>\n",
       "    </tr>\n",
       "    <tr>\n",
       "      <th>...</th>\n",
       "      <td>...</td>\n",
       "      <td>...</td>\n",
       "      <td>...</td>\n",
       "      <td>...</td>\n",
       "    </tr>\n",
       "    <tr>\n",
       "      <th>49552</th>\n",
       "      <td>49553</td>\n",
       "      <td>Unknown</td>\n",
       "      <td>100</td>\n",
       "      <td>21</td>\n",
       "    </tr>\n",
       "    <tr>\n",
       "      <th>49574</th>\n",
       "      <td>49575</td>\n",
       "      <td>Unknown</td>\n",
       "      <td>100</td>\n",
       "      <td>21</td>\n",
       "    </tr>\n",
       "    <tr>\n",
       "      <th>49640</th>\n",
       "      <td>49641</td>\n",
       "      <td>Unknown</td>\n",
       "      <td>100</td>\n",
       "      <td>21</td>\n",
       "    </tr>\n",
       "    <tr>\n",
       "      <th>49663</th>\n",
       "      <td>49664</td>\n",
       "      <td>Unknown</td>\n",
       "      <td>100</td>\n",
       "      <td>21</td>\n",
       "    </tr>\n",
       "    <tr>\n",
       "      <th>49668</th>\n",
       "      <td>49669</td>\n",
       "      <td>Unknown</td>\n",
       "      <td>100</td>\n",
       "      <td>21</td>\n",
       "    </tr>\n",
       "  </tbody>\n",
       "</table>\n",
       "<p>1258 rows × 4 columns</p>\n",
       "</div>"
      ],
      "text/plain": [
       "       product_id product_name  aisle_id  department_id\n",
       "37             38      Unknown       100             21\n",
       "71             72      Unknown       100             21\n",
       "109           110      Unknown       100             21\n",
       "296           297      Unknown       100             21\n",
       "416           417      Unknown       100             21\n",
       "...           ...          ...       ...            ...\n",
       "49552       49553      Unknown       100             21\n",
       "49574       49575      Unknown       100             21\n",
       "49640       49641      Unknown       100             21\n",
       "49663       49664      Unknown       100             21\n",
       "49668       49669      Unknown       100             21\n",
       "\n",
       "[1258 rows x 4 columns]"
      ]
     },
     "metadata": {},
     "output_type": "display_data"
    }
   ],
   "source": [
    "# Completa los nombres de productos ausentes con 'Unknown'\n",
    "products_df.fillna('Unknown', inplace=True)\n",
    "display(products_df.loc[products_df['department_id'] == 21])"
   ]
  },
  {
   "cell_type": "markdown",
   "id": "fc70e5ad",
   "metadata": {
    "id": "fc70e5ad"
   },
   "source": [
    "Describe brevemente tus hallazgos y lo que hiciste con ellos."
   ]
  },
  {
   "cell_type": "code",
   "execution_count": 42,
   "id": "ae06577d",
   "metadata": {},
   "outputs": [
    {
     "data": {
      "text/plain": [
       "'\\nLos valores nulos han sido sustituidos por Unknown. Esto nos ayudará al procesamiento de datos.\\nDe todas maneras, tenemos de antecedente que tanto el pasillo como el departamento son de \"Missing\"\\n\\n'"
      ]
     },
     "execution_count": 42,
     "metadata": {},
     "output_type": "execute_result"
    }
   ],
   "source": [
    "'''\n",
    "Los valores nulos han sido sustituidos por Unknown. Esto nos ayudará al procesamiento de datos.\n",
    "De todas maneras, tenemos de antecedente que tanto el pasillo como el departamento son de \"Missing\"\n",
    "\n",
    "'''"
   ]
  },
  {
   "cell_type": "markdown",
   "id": "7eb45c86",
   "metadata": {
    "id": "7eb45c86"
   },
   "source": [
    "### `orders` data frame"
   ]
  },
  {
   "cell_type": "code",
   "execution_count": 24,
   "id": "93e41d96",
   "metadata": {
    "id": "93e41d96",
    "scrolled": true
   },
   "outputs": [
    {
     "name": "stdout",
     "output_type": "stream",
     "text": [
      "order_id                  0\n",
      "user_id                   0\n",
      "order_number              0\n",
      "order_dow                 0\n",
      "order_hour_of_day         0\n",
      "days_since_prior_order    0\n",
      "dtype: int64\n"
     ]
    },
    {
     "data": {
      "text/html": [
       "<div>\n",
       "<style scoped>\n",
       "    .dataframe tbody tr th:only-of-type {\n",
       "        vertical-align: middle;\n",
       "    }\n",
       "\n",
       "    .dataframe tbody tr th {\n",
       "        vertical-align: top;\n",
       "    }\n",
       "\n",
       "    .dataframe thead th {\n",
       "        text-align: right;\n",
       "    }\n",
       "</style>\n",
       "<table border=\"1\" class=\"dataframe\">\n",
       "  <thead>\n",
       "    <tr style=\"text-align: right;\">\n",
       "      <th></th>\n",
       "      <th>order_id</th>\n",
       "      <th>user_id</th>\n",
       "      <th>order_number</th>\n",
       "      <th>order_dow</th>\n",
       "      <th>order_hour_of_day</th>\n",
       "      <th>days_since_prior_order</th>\n",
       "    </tr>\n",
       "  </thead>\n",
       "  <tbody>\n",
       "    <tr>\n",
       "      <th>260006</th>\n",
       "      <td>2608071</td>\n",
       "      <td>165658</td>\n",
       "      <td>3</td>\n",
       "      <td>6</td>\n",
       "      <td>16</td>\n",
       "      <td>7</td>\n",
       "    </tr>\n",
       "    <tr>\n",
       "      <th>92664</th>\n",
       "      <td>3377174</td>\n",
       "      <td>89824</td>\n",
       "      <td>7</td>\n",
       "      <td>1</td>\n",
       "      <td>15</td>\n",
       "      <td>19</td>\n",
       "    </tr>\n",
       "    <tr>\n",
       "      <th>356388</th>\n",
       "      <td>714376</td>\n",
       "      <td>40525</td>\n",
       "      <td>7</td>\n",
       "      <td>6</td>\n",
       "      <td>18</td>\n",
       "      <td>30</td>\n",
       "    </tr>\n",
       "    <tr>\n",
       "      <th>143140</th>\n",
       "      <td>3011919</td>\n",
       "      <td>59819</td>\n",
       "      <td>23</td>\n",
       "      <td>2</td>\n",
       "      <td>11</td>\n",
       "      <td>4</td>\n",
       "    </tr>\n",
       "    <tr>\n",
       "      <th>67363</th>\n",
       "      <td>2513017</td>\n",
       "      <td>78321</td>\n",
       "      <td>35</td>\n",
       "      <td>0</td>\n",
       "      <td>16</td>\n",
       "      <td>3</td>\n",
       "    </tr>\n",
       "    <tr>\n",
       "      <th>128952</th>\n",
       "      <td>829873</td>\n",
       "      <td>16047</td>\n",
       "      <td>26</td>\n",
       "      <td>3</td>\n",
       "      <td>18</td>\n",
       "      <td>2</td>\n",
       "    </tr>\n",
       "    <tr>\n",
       "      <th>204640</th>\n",
       "      <td>1181236</td>\n",
       "      <td>60396</td>\n",
       "      <td>54</td>\n",
       "      <td>3</td>\n",
       "      <td>11</td>\n",
       "      <td>5</td>\n",
       "    </tr>\n",
       "    <tr>\n",
       "      <th>6433</th>\n",
       "      <td>2537005</td>\n",
       "      <td>183945</td>\n",
       "      <td>40</td>\n",
       "      <td>5</td>\n",
       "      <td>10</td>\n",
       "      <td>2</td>\n",
       "    </tr>\n",
       "    <tr>\n",
       "      <th>476304</th>\n",
       "      <td>3082376</td>\n",
       "      <td>120463</td>\n",
       "      <td>57</td>\n",
       "      <td>5</td>\n",
       "      <td>17</td>\n",
       "      <td>5</td>\n",
       "    </tr>\n",
       "    <tr>\n",
       "      <th>241507</th>\n",
       "      <td>3113760</td>\n",
       "      <td>139177</td>\n",
       "      <td>1</td>\n",
       "      <td>5</td>\n",
       "      <td>17</td>\n",
       "      <td>0</td>\n",
       "    </tr>\n",
       "    <tr>\n",
       "      <th>313087</th>\n",
       "      <td>705614</td>\n",
       "      <td>142794</td>\n",
       "      <td>17</td>\n",
       "      <td>2</td>\n",
       "      <td>18</td>\n",
       "      <td>3</td>\n",
       "    </tr>\n",
       "    <tr>\n",
       "      <th>329526</th>\n",
       "      <td>2643198</td>\n",
       "      <td>144592</td>\n",
       "      <td>11</td>\n",
       "      <td>2</td>\n",
       "      <td>12</td>\n",
       "      <td>30</td>\n",
       "    </tr>\n",
       "    <tr>\n",
       "      <th>142098</th>\n",
       "      <td>1870764</td>\n",
       "      <td>66478</td>\n",
       "      <td>22</td>\n",
       "      <td>0</td>\n",
       "      <td>19</td>\n",
       "      <td>2</td>\n",
       "    </tr>\n",
       "    <tr>\n",
       "      <th>81003</th>\n",
       "      <td>2891042</td>\n",
       "      <td>127087</td>\n",
       "      <td>20</td>\n",
       "      <td>5</td>\n",
       "      <td>13</td>\n",
       "      <td>17</td>\n",
       "    </tr>\n",
       "    <tr>\n",
       "      <th>477882</th>\n",
       "      <td>2780960</td>\n",
       "      <td>131074</td>\n",
       "      <td>1</td>\n",
       "      <td>2</td>\n",
       "      <td>11</td>\n",
       "      <td>0</td>\n",
       "    </tr>\n",
       "    <tr>\n",
       "      <th>151763</th>\n",
       "      <td>804647</td>\n",
       "      <td>94006</td>\n",
       "      <td>3</td>\n",
       "      <td>0</td>\n",
       "      <td>16</td>\n",
       "      <td>7</td>\n",
       "    </tr>\n",
       "    <tr>\n",
       "      <th>32764</th>\n",
       "      <td>2645950</td>\n",
       "      <td>121208</td>\n",
       "      <td>12</td>\n",
       "      <td>0</td>\n",
       "      <td>9</td>\n",
       "      <td>23</td>\n",
       "    </tr>\n",
       "    <tr>\n",
       "      <th>257282</th>\n",
       "      <td>3315505</td>\n",
       "      <td>196212</td>\n",
       "      <td>4</td>\n",
       "      <td>5</td>\n",
       "      <td>14</td>\n",
       "      <td>7</td>\n",
       "    </tr>\n",
       "    <tr>\n",
       "      <th>30185</th>\n",
       "      <td>111607</td>\n",
       "      <td>124823</td>\n",
       "      <td>81</td>\n",
       "      <td>2</td>\n",
       "      <td>16</td>\n",
       "      <td>1</td>\n",
       "    </tr>\n",
       "    <tr>\n",
       "      <th>166621</th>\n",
       "      <td>1295405</td>\n",
       "      <td>117174</td>\n",
       "      <td>6</td>\n",
       "      <td>0</td>\n",
       "      <td>14</td>\n",
       "      <td>0</td>\n",
       "    </tr>\n",
       "  </tbody>\n",
       "</table>\n",
       "</div>"
      ],
      "text/plain": [
       "        order_id  user_id  order_number  order_dow  order_hour_of_day  \\\n",
       "260006   2608071   165658             3          6                 16   \n",
       "92664    3377174    89824             7          1                 15   \n",
       "356388    714376    40525             7          6                 18   \n",
       "143140   3011919    59819            23          2                 11   \n",
       "67363    2513017    78321            35          0                 16   \n",
       "128952    829873    16047            26          3                 18   \n",
       "204640   1181236    60396            54          3                 11   \n",
       "6433     2537005   183945            40          5                 10   \n",
       "476304   3082376   120463            57          5                 17   \n",
       "241507   3113760   139177             1          5                 17   \n",
       "313087    705614   142794            17          2                 18   \n",
       "329526   2643198   144592            11          2                 12   \n",
       "142098   1870764    66478            22          0                 19   \n",
       "81003    2891042   127087            20          5                 13   \n",
       "477882   2780960   131074             1          2                 11   \n",
       "151763    804647    94006             3          0                 16   \n",
       "32764    2645950   121208            12          0                  9   \n",
       "257282   3315505   196212             4          5                 14   \n",
       "30185     111607   124823            81          2                 16   \n",
       "166621   1295405   117174             6          0                 14   \n",
       "\n",
       "        days_since_prior_order  \n",
       "260006                       7  \n",
       "92664                       19  \n",
       "356388                      30  \n",
       "143140                       4  \n",
       "67363                        3  \n",
       "128952                       2  \n",
       "204640                       5  \n",
       "6433                         2  \n",
       "476304                       5  \n",
       "241507                       0  \n",
       "313087                       3  \n",
       "329526                      30  \n",
       "142098                       2  \n",
       "81003                       17  \n",
       "477882                       0  \n",
       "151763                       7  \n",
       "32764                       23  \n",
       "257282                       7  \n",
       "30185                        1  \n",
       "166621                       0  "
      ]
     },
     "metadata": {},
     "output_type": "display_data"
    }
   ],
   "source": [
    "# Encuentra los valores ausentes\n",
    "print(instacart_df.isna().sum())\n",
    "display(instacart_df.sample(20))"
   ]
  },
  {
   "cell_type": "code",
   "execution_count": 44,
   "id": "166e5a86",
   "metadata": {
    "id": "166e5a86"
   },
   "outputs": [
    {
     "data": {
      "text/plain": [
       "'\\nNo, de hecho no hay ningún valor ausente en el DF\\n'"
      ]
     },
     "execution_count": 44,
     "metadata": {},
     "output_type": "execute_result"
    }
   ],
   "source": [
    "# ¿Hay algún valor ausente que no sea el primer pedido del cliente?\n",
    "'''\n",
    "No, de hecho no hay ningún valor ausente en el DF\n",
    "'''"
   ]
  },
  {
   "cell_type": "markdown",
   "id": "4e23d089",
   "metadata": {
    "id": "4e23d089"
   },
   "source": [
    "Describe brevemente tus hallazgos y lo que hiciste con ellos."
   ]
  },
  {
   "cell_type": "markdown",
   "id": "69dc9ca4",
   "metadata": {
    "id": "69dc9ca4"
   },
   "source": [
    "### `order_products` data frame"
   ]
  },
  {
   "cell_type": "code",
   "execution_count": 25,
   "id": "b8240253",
   "metadata": {
    "id": "b8240253",
    "scrolled": true
   },
   "outputs": [
    {
     "name": "stdout",
     "output_type": "stream",
     "text": [
      "order_id             0\n",
      "product_id           0\n",
      "add_to_cart_order    0\n",
      "reordered            0\n",
      "dtype: int64\n"
     ]
    },
    {
     "data": {
      "text/html": [
       "<div>\n",
       "<style scoped>\n",
       "    .dataframe tbody tr th:only-of-type {\n",
       "        vertical-align: middle;\n",
       "    }\n",
       "\n",
       "    .dataframe tbody tr th {\n",
       "        vertical-align: top;\n",
       "    }\n",
       "\n",
       "    .dataframe thead th {\n",
       "        text-align: right;\n",
       "    }\n",
       "</style>\n",
       "<table border=\"1\" class=\"dataframe\">\n",
       "  <thead>\n",
       "    <tr style=\"text-align: right;\">\n",
       "      <th></th>\n",
       "      <th>order_id</th>\n",
       "      <th>product_id</th>\n",
       "      <th>add_to_cart_order</th>\n",
       "      <th>reordered</th>\n",
       "    </tr>\n",
       "  </thead>\n",
       "  <tbody>\n",
       "    <tr>\n",
       "      <th>1588197</th>\n",
       "      <td>873887</td>\n",
       "      <td>8436</td>\n",
       "      <td>3</td>\n",
       "      <td>1</td>\n",
       "    </tr>\n",
       "    <tr>\n",
       "      <th>2093050</th>\n",
       "      <td>1746449</td>\n",
       "      <td>47766</td>\n",
       "      <td>6</td>\n",
       "      <td>1</td>\n",
       "    </tr>\n",
       "    <tr>\n",
       "      <th>1629436</th>\n",
       "      <td>3191134</td>\n",
       "      <td>1511</td>\n",
       "      <td>1</td>\n",
       "      <td>1</td>\n",
       "    </tr>\n",
       "    <tr>\n",
       "      <th>340021</th>\n",
       "      <td>3333609</td>\n",
       "      <td>11790</td>\n",
       "      <td>1</td>\n",
       "      <td>0</td>\n",
       "    </tr>\n",
       "    <tr>\n",
       "      <th>3688321</th>\n",
       "      <td>3106218</td>\n",
       "      <td>48205</td>\n",
       "      <td>11</td>\n",
       "      <td>0</td>\n",
       "    </tr>\n",
       "    <tr>\n",
       "      <th>1762574</th>\n",
       "      <td>1120910</td>\n",
       "      <td>24535</td>\n",
       "      <td>1</td>\n",
       "      <td>0</td>\n",
       "    </tr>\n",
       "    <tr>\n",
       "      <th>217501</th>\n",
       "      <td>2711216</td>\n",
       "      <td>22556</td>\n",
       "      <td>7</td>\n",
       "      <td>1</td>\n",
       "    </tr>\n",
       "    <tr>\n",
       "      <th>2106474</th>\n",
       "      <td>3188169</td>\n",
       "      <td>260</td>\n",
       "      <td>13</td>\n",
       "      <td>1</td>\n",
       "    </tr>\n",
       "    <tr>\n",
       "      <th>709597</th>\n",
       "      <td>2077937</td>\n",
       "      <td>8197</td>\n",
       "      <td>8</td>\n",
       "      <td>0</td>\n",
       "    </tr>\n",
       "    <tr>\n",
       "      <th>820537</th>\n",
       "      <td>2461716</td>\n",
       "      <td>16797</td>\n",
       "      <td>4</td>\n",
       "      <td>1</td>\n",
       "    </tr>\n",
       "    <tr>\n",
       "      <th>3335794</th>\n",
       "      <td>272189</td>\n",
       "      <td>28985</td>\n",
       "      <td>17</td>\n",
       "      <td>1</td>\n",
       "    </tr>\n",
       "    <tr>\n",
       "      <th>3739594</th>\n",
       "      <td>1781265</td>\n",
       "      <td>29987</td>\n",
       "      <td>2</td>\n",
       "      <td>0</td>\n",
       "    </tr>\n",
       "    <tr>\n",
       "      <th>3463867</th>\n",
       "      <td>2501872</td>\n",
       "      <td>31553</td>\n",
       "      <td>14</td>\n",
       "      <td>0</td>\n",
       "    </tr>\n",
       "    <tr>\n",
       "      <th>71790</th>\n",
       "      <td>440744</td>\n",
       "      <td>28928</td>\n",
       "      <td>4</td>\n",
       "      <td>0</td>\n",
       "    </tr>\n",
       "    <tr>\n",
       "      <th>844285</th>\n",
       "      <td>203909</td>\n",
       "      <td>46906</td>\n",
       "      <td>9</td>\n",
       "      <td>1</td>\n",
       "    </tr>\n",
       "    <tr>\n",
       "      <th>1856120</th>\n",
       "      <td>618156</td>\n",
       "      <td>47717</td>\n",
       "      <td>5</td>\n",
       "      <td>0</td>\n",
       "    </tr>\n",
       "    <tr>\n",
       "      <th>1145840</th>\n",
       "      <td>2599867</td>\n",
       "      <td>36316</td>\n",
       "      <td>34</td>\n",
       "      <td>1</td>\n",
       "    </tr>\n",
       "    <tr>\n",
       "      <th>4515227</th>\n",
       "      <td>3338432</td>\n",
       "      <td>19508</td>\n",
       "      <td>15</td>\n",
       "      <td>0</td>\n",
       "    </tr>\n",
       "    <tr>\n",
       "      <th>1580477</th>\n",
       "      <td>3042353</td>\n",
       "      <td>21137</td>\n",
       "      <td>2</td>\n",
       "      <td>1</td>\n",
       "    </tr>\n",
       "    <tr>\n",
       "      <th>4368552</th>\n",
       "      <td>1768175</td>\n",
       "      <td>20574</td>\n",
       "      <td>7</td>\n",
       "      <td>1</td>\n",
       "    </tr>\n",
       "  </tbody>\n",
       "</table>\n",
       "</div>"
      ],
      "text/plain": [
       "         order_id  product_id  add_to_cart_order  reordered\n",
       "1588197    873887        8436                  3          1\n",
       "2093050   1746449       47766                  6          1\n",
       "1629436   3191134        1511                  1          1\n",
       "340021    3333609       11790                  1          0\n",
       "3688321   3106218       48205                 11          0\n",
       "1762574   1120910       24535                  1          0\n",
       "217501    2711216       22556                  7          1\n",
       "2106474   3188169         260                 13          1\n",
       "709597    2077937        8197                  8          0\n",
       "820537    2461716       16797                  4          1\n",
       "3335794    272189       28985                 17          1\n",
       "3739594   1781265       29987                  2          0\n",
       "3463867   2501872       31553                 14          0\n",
       "71790      440744       28928                  4          0\n",
       "844285     203909       46906                  9          1\n",
       "1856120    618156       47717                  5          0\n",
       "1145840   2599867       36316                 34          1\n",
       "4515227   3338432       19508                 15          0\n",
       "1580477   3042353       21137                  2          1\n",
       "4368552   1768175       20574                  7          1"
      ]
     },
     "metadata": {},
     "output_type": "display_data"
    }
   ],
   "source": [
    "# Encuentra los valores ausentes\n",
    "print(order_products_df.isna().sum())\n",
    "display(order_products_df.sample(20))"
   ]
  },
  {
   "cell_type": "code",
   "execution_count": 46,
   "id": "9a78e5ee",
   "metadata": {
    "id": "9a78e5ee"
   },
   "outputs": [
    {
     "name": "stdout",
     "output_type": "stream",
     "text": [
      "0\n",
      "64\n"
     ]
    }
   ],
   "source": [
    "# ¿Cuáles son los valores mínimos y máximos en esta columna? ###¿En qué columna......?\n",
    "print(min(order_products_df['add_to_cart_order']))\n",
    "print(max(order_products_df['add_to_cart_order']))\n"
   ]
  },
  {
   "cell_type": "markdown",
   "id": "4478f60c",
   "metadata": {},
   "source": [
    "<div class=\"alert alert-block alert-success\">\n",
    "<b>Comentario del revisor (1ra Iteracion)</b> <a class=“tocSkip”></a>\n",
    "\n",
    "Buen trabajo buscando los valores máximos y mínimos!\n",
    "</div>"
   ]
  },
  {
   "cell_type": "markdown",
   "id": "-Z2Ja215jW78",
   "metadata": {
    "id": "-Z2Ja215jW78"
   },
   "source": [
    "Describe brevemente cuáles son tus hallazgos."
   ]
  },
  {
   "cell_type": "code",
   "execution_count": 47,
   "id": "50879bca",
   "metadata": {},
   "outputs": [
    {
     "data": {
      "text/plain": [
       "'\\nPuesto que no tiene caso saber el mínimo y el máximo de order_id, product_id y reordered (Ya que es booleano), asumo\\nque necesitamos saber el min y max de add_to_cart_order.\\nSiendo 0 el mínimo, es decir, que no han sido agregado al carrito\\nY 64 el máximo, que ha sido el producto num. 64 en ser agregado al carrito\\n'"
      ]
     },
     "execution_count": 47,
     "metadata": {},
     "output_type": "execute_result"
    }
   ],
   "source": [
    "'''\n",
    "Puesto que no tiene caso saber el mínimo y el máximo de order_id, product_id y reordered (Ya que es booleano), asumo\n",
    "que necesitamos saber el min y max de add_to_cart_order.\n",
    "Siendo 0 el mínimo, es decir, que no han sido agregado al carrito\n",
    "Y 64 el máximo, que ha sido el producto num. 64 en ser agregado al carrito\n",
    "'''"
   ]
  },
  {
   "cell_type": "code",
   "execution_count": 26,
   "id": "ab9d0c2b",
   "metadata": {
    "id": "ab9d0c2b"
   },
   "outputs": [
    {
     "data": {
      "text/html": [
       "<div>\n",
       "<style scoped>\n",
       "    .dataframe tbody tr th:only-of-type {\n",
       "        vertical-align: middle;\n",
       "    }\n",
       "\n",
       "    .dataframe tbody tr th {\n",
       "        vertical-align: top;\n",
       "    }\n",
       "\n",
       "    .dataframe thead th {\n",
       "        text-align: right;\n",
       "    }\n",
       "</style>\n",
       "<table border=\"1\" class=\"dataframe\">\n",
       "  <thead>\n",
       "    <tr style=\"text-align: right;\">\n",
       "      <th></th>\n",
       "      <th>order_id</th>\n",
       "      <th>product_id</th>\n",
       "      <th>add_to_cart_order</th>\n",
       "      <th>reordered</th>\n",
       "    </tr>\n",
       "  </thead>\n",
       "  <tbody>\n",
       "    <tr>\n",
       "      <th>737</th>\n",
       "      <td>2449164</td>\n",
       "      <td>5068</td>\n",
       "      <td>0</td>\n",
       "      <td>0</td>\n",
       "    </tr>\n",
       "    <tr>\n",
       "      <th>9926</th>\n",
       "      <td>1968313</td>\n",
       "      <td>43867</td>\n",
       "      <td>0</td>\n",
       "      <td>0</td>\n",
       "    </tr>\n",
       "    <tr>\n",
       "      <th>14394</th>\n",
       "      <td>2926893</td>\n",
       "      <td>11688</td>\n",
       "      <td>0</td>\n",
       "      <td>0</td>\n",
       "    </tr>\n",
       "    <tr>\n",
       "      <th>16418</th>\n",
       "      <td>1717990</td>\n",
       "      <td>4142</td>\n",
       "      <td>0</td>\n",
       "      <td>0</td>\n",
       "    </tr>\n",
       "    <tr>\n",
       "      <th>30114</th>\n",
       "      <td>1959075</td>\n",
       "      <td>42828</td>\n",
       "      <td>0</td>\n",
       "      <td>1</td>\n",
       "    </tr>\n",
       "    <tr>\n",
       "      <th>...</th>\n",
       "      <td>...</td>\n",
       "      <td>...</td>\n",
       "      <td>...</td>\n",
       "      <td>...</td>\n",
       "    </tr>\n",
       "    <tr>\n",
       "      <th>4505662</th>\n",
       "      <td>1800005</td>\n",
       "      <td>7411</td>\n",
       "      <td>0</td>\n",
       "      <td>0</td>\n",
       "    </tr>\n",
       "    <tr>\n",
       "      <th>4511400</th>\n",
       "      <td>1633337</td>\n",
       "      <td>260</td>\n",
       "      <td>0</td>\n",
       "      <td>0</td>\n",
       "    </tr>\n",
       "    <tr>\n",
       "      <th>4517562</th>\n",
       "      <td>404157</td>\n",
       "      <td>9517</td>\n",
       "      <td>0</td>\n",
       "      <td>0</td>\n",
       "    </tr>\n",
       "    <tr>\n",
       "      <th>4534112</th>\n",
       "      <td>1673227</td>\n",
       "      <td>17835</td>\n",
       "      <td>0</td>\n",
       "      <td>0</td>\n",
       "    </tr>\n",
       "    <tr>\n",
       "      <th>4535739</th>\n",
       "      <td>1832957</td>\n",
       "      <td>17949</td>\n",
       "      <td>0</td>\n",
       "      <td>1</td>\n",
       "    </tr>\n",
       "  </tbody>\n",
       "</table>\n",
       "<p>836 rows × 4 columns</p>\n",
       "</div>"
      ],
      "text/plain": [
       "         order_id  product_id  add_to_cart_order  reordered\n",
       "737       2449164        5068                  0          0\n",
       "9926      1968313       43867                  0          0\n",
       "14394     2926893       11688                  0          0\n",
       "16418     1717990        4142                  0          0\n",
       "30114     1959075       42828                  0          1\n",
       "...           ...         ...                ...        ...\n",
       "4505662   1800005        7411                  0          0\n",
       "4511400   1633337         260                  0          0\n",
       "4517562    404157        9517                  0          0\n",
       "4534112   1673227       17835                  0          0\n",
       "4535739   1832957       17949                  0          1\n",
       "\n",
       "[836 rows x 4 columns]"
      ]
     },
     "metadata": {},
     "output_type": "display_data"
    }
   ],
   "source": [
    "# Guarda todas las IDs de pedidos que tengan un valor ausente en 'add_to_cart_order'\n",
    "null_add_to_cart_ids = order_products_df.loc[order_products_df['add_to_cart_order']==0]\n",
    "display(null_add_to_cart_ids)"
   ]
  },
  {
   "cell_type": "code",
   "execution_count": 30,
   "id": "54c31695",
   "metadata": {
    "id": "54c31695"
   },
   "outputs": [
    {
     "name": "stdout",
     "output_type": "stream",
     "text": [
      "True\n"
     ]
    }
   ],
   "source": [
    "# ¿Todos los pedidos con valores ausentes tienen más de 64 productos?\n",
    "\n",
    "null_add_to_carts = order_products_df[order_products_df['add_to_cart_order'].isna()]['order_id'].unique()\n",
    "filtered_orders = order_products_df[order_products_df['order_id'].isin(null_add_to_carts)]\n",
    "product_counts = filtered_orders.groupby('order_id').size()\n",
    "\n",
    "all_above_64 = (product_counts > 64).all() #Método que evalúa columna por columna y devuelve un Serie. \n",
    "\n",
    "print(all_above_64) #Si es True, quiere decir que los pedidos con valores ausentes tienen más de 64 productos\n",
    "#Caso contrario, no hay pedidos que tengan 64 o menos productos con valores ausentes.\n"
   ]
  },
  {
   "cell_type": "markdown",
   "id": "ae26d044",
   "metadata": {},
   "source": [
    "<div class=\"alert alert-block alert-danger\">\n",
    "<b>Comentario del revisor (1ra Iteracion)</b> <a class=“tocSkip”></a>\n",
    "\n",
    "Para revisar si los pedidos con valores ausentes tienen o no más de 64 pedidos primero deberías buscar los valores NaN sobre la columna add_to_cart_order y luego deberías usar las order_id que que tienes en la variable `null_add_to_carts` suponiendo que sea donde guardas el resultado anterior (Solo toma los valores de la columna order_id) y filtrar en el dataset original utilizando `isin()` y luego si agrupar por order_id y contar en product_id, ya que de la forma en que lo estás haciendo solo cuenta cuantos valores ausentes hay por órden pero puede que tengas órdenes que tiene valores ausentes y también valores que no lo son y lo que interesa es contar todos estos datos.\n",
    "</div>"
   ]
  },
  {
   "cell_type": "markdown",
   "id": "2fa28a61",
   "metadata": {},
   "source": [
    "<div class=\"alert alert-block alert-success\">\n",
    "<b>Comentario del revisor (2da Iteracion)</b> <a class=“tocSkip”></a>\n",
    "\n",
    "Excelente! Ahora se aplicó el filtro correcto antes de hacer el conteo, siempre hay que revisar con cuidado el cómo se hace los filtros para obtener las métricas adecuadas\n",
    "</div>"
   ]
  },
  {
   "cell_type": "markdown",
   "id": "p9V6pddtjglj",
   "metadata": {
    "id": "p9V6pddtjglj"
   },
   "source": [
    "Describe brevemente cuáles son tus hallazgos."
   ]
  },
  {
   "cell_type": "code",
   "execution_count": 50,
   "id": "24c1a2d0",
   "metadata": {},
   "outputs": [
    {
     "data": {
      "text/plain": [
       "'\\nEl valor mínimo del conteo es 1, quiere decir que solo hubo 1 producto para ese pedido. \\nY el máximo fue 63. Quiere decir que la orden tuvo 63 productos añadidos, aunque esto me causa conflicto, pues,\\n¿Cómo puede tener add_to_cart_order en 0 si fueron 63 productos? \\n'"
      ]
     },
     "execution_count": 50,
     "metadata": {},
     "output_type": "execute_result"
    }
   ],
   "source": [
    "'''\n",
    "Sí, todos los pedidos con valores ausentes tienen más de 64 productos.\n",
    "'''"
   ]
  },
  {
   "cell_type": "code",
   "execution_count": 51,
   "id": "7a987d08",
   "metadata": {
    "id": "7a987d08"
   },
   "outputs": [
    {
     "name": "stdout",
     "output_type": "stream",
     "text": [
      "<class 'pandas.core.frame.DataFrame'>\n",
      "RangeIndex: 4545007 entries, 0 to 4545006\n",
      "Data columns (total 4 columns):\n",
      " #   Column             Dtype\n",
      "---  ------             -----\n",
      " 0   order_id           int64\n",
      " 1   product_id         int64\n",
      " 2   add_to_cart_order  int64\n",
      " 3   reordered          int64\n",
      "dtypes: int64(4)\n",
      "memory usage: 138.7 MB\n",
      "         order_id  product_id  add_to_cart_order  reordered\n",
      "737       2449164        5068                999        999\n",
      "9926      1968313       43867                999        999\n",
      "14394     2926893       11688                999        999\n",
      "16418     1717990        4142                999        999\n",
      "30114     1959075       42828                999          1\n",
      "...           ...         ...                ...        ...\n",
      "4505662   1800005        7411                999        999\n",
      "4511400   1633337         260                999        999\n",
      "4517562    404157        9517                999        999\n",
      "4534112   1673227       17835                999        999\n",
      "4535739   1832957       17949                999          1\n",
      "\n",
      "[836 rows x 4 columns]\n"
     ]
    }
   ],
   "source": [
    "# Remplaza los valores ausentes en la columna 'add_to_cart? con 999 y convierte la columna al tipo entero.\n",
    "order_products_df.info() #Ya las había cambiado a entero jeje\n",
    "order_products_df.replace(0,999,inplace=True)\n",
    "print(order_products_df.loc[order_products_df['add_to_cart_order']==999])"
   ]
  },
  {
   "cell_type": "markdown",
   "id": "fea4bcc7",
   "metadata": {
    "id": "fea4bcc7"
   },
   "source": [
    "Describe brevemente tus hallazgos y lo que hiciste con ellos."
   ]
  },
  {
   "cell_type": "code",
   "execution_count": 52,
   "id": "9d93ca84",
   "metadata": {},
   "outputs": [
    {
     "data": {
      "text/plain": [
       "'\\nSimplemente cambiamos los datos de 0 a 999\\nAunque sigo con la duda de cómo pudo ser posible ese escenario de add_to_cart_order = 0\\n'"
      ]
     },
     "execution_count": 52,
     "metadata": {},
     "output_type": "execute_result"
    }
   ],
   "source": [
    "'''\n",
    "Simplemente cambiamos los datos de 0 a 999\n",
    "Aunque sigo con la duda de cómo pudo ser posible ese escenario de add_to_cart_order = 0\n",
    "'''"
   ]
  },
  {
   "cell_type": "markdown",
   "id": "RnplPFY1gSrb",
   "metadata": {
    "id": "RnplPFY1gSrb"
   },
   "source": [
    "## Conclusiones\n",
    "\n",
    "Escribe aquí tus conclusiones intermedias sobre el Paso 2. Preprocesamiento de los datos\n"
   ]
  },
  {
   "cell_type": "code",
   "execution_count": 53,
   "id": "09df10eb",
   "metadata": {},
   "outputs": [
    {
     "data": {
      "text/plain": [
       "'\\nSirvió revisar a detalle las órdenes, ya que como algunos productos no tenían nombre (Aunque sí tienen su product_id), \\nnos podría causar ruido al analizar la información. \\nAdemás de encontrar aquellos pedidos en los que no se tiene algún orden en la columna \"add_to_cart_order\"\\n\\n'"
      ]
     },
     "execution_count": 53,
     "metadata": {},
     "output_type": "execute_result"
    }
   ],
   "source": [
    "'''\n",
    "Sirvió revisar a detalle las órdenes, ya que como algunos productos no tenían nombre (Aunque sí tienen su product_id), \n",
    "nos podría causar ruido al analizar la información. \n",
    "Además de encontrar aquellos pedidos en los que no se tiene algún orden en la columna \"add_to_cart_order\"\n",
    "\n",
    "'''"
   ]
  },
  {
   "cell_type": "markdown",
   "id": "UjrOIwTcz3ri",
   "metadata": {
    "id": "UjrOIwTcz3ri"
   },
   "source": [
    "# Paso 3. Análisis de los datos\n",
    "\n",
    "Una vez los datos estén procesados y listos, haz el siguiente análisis:"
   ]
  },
  {
   "cell_type": "markdown",
   "id": "turkish-kidney",
   "metadata": {
    "id": "turkish-kidney"
   },
   "source": [
    "# [A] Fácil (deben completarse todos para aprobar)\n",
    "\n",
    "1. Verifica que los valores en las columnas `'order_hour_of_day'` y `'order_dow'` en la tabla orders sean razonables (es decir, `'order_hour_of_day'` oscile entre 0 y 23 y `'order_dow'` oscile entre 0 y 6).\n",
    "2. Crea un gráfico que muestre el número de personas que hacen pedidos dependiendo de la hora del día.\n",
    "3. Crea un gráfico que muestre qué día de la semana la gente hace sus compras.\n",
    "4. Crea un gráfico que muestre el tiempo que la gente espera hasta hacer su siguiente pedido, y comenta sobre los valores mínimos y máximos."
   ]
  },
  {
   "cell_type": "markdown",
   "id": "short-capability",
   "metadata": {
    "id": "short-capability"
   },
   "source": [
    "### [A1] Verifica que los valores sean sensibles"
   ]
  },
  {
   "cell_type": "code",
   "execution_count": 54,
   "id": "growing-fruit",
   "metadata": {
    "id": "growing-fruit"
   },
   "outputs": [
    {
     "name": "stdout",
     "output_type": "stream",
     "text": [
      "[ 0  1  2  3  4  5  6  7  8  9 10 11 12 13 14 15 16 17 18 19 20 21 22 23]\n"
     ]
    }
   ],
   "source": [
    "aux_sort_instacart_hod = instacart_df.sort_values(by='order_hour_of_day')\n",
    "print(aux_sort_instacart_hod['order_hour_of_day'].unique())"
   ]
  },
  {
   "cell_type": "code",
   "execution_count": 55,
   "id": "accessory-malaysia",
   "metadata": {
    "id": "accessory-malaysia"
   },
   "outputs": [
    {
     "name": "stdout",
     "output_type": "stream",
     "text": [
      "[0 1 2 3 4 5 6]\n"
     ]
    }
   ],
   "source": [
    "aux_sort_instacart_dow = instacart_df.sort_values(by='order_dow')\n",
    "print(aux_sort_instacart_dow['order_dow'].unique())"
   ]
  },
  {
   "cell_type": "markdown",
   "id": "hmR2GNQ6lCsX",
   "metadata": {
    "id": "hmR2GNQ6lCsX"
   },
   "source": [
    "Escribe aquí tus conclusiones"
   ]
  },
  {
   "cell_type": "markdown",
   "id": "3cae2858",
   "metadata": {},
   "source": [
    "<div class=\"alert alert-block alert-success\">\n",
    "<b>Comentario del revisor (1ra Iteracion)</b> <a class=“tocSkip”></a>\n",
    "\n",
    "Perfecto! Buen trabajo con la revisión aplicando el método correcto sobre la columna\n",
    "</div>"
   ]
  },
  {
   "cell_type": "code",
   "execution_count": 56,
   "id": "43a045c1",
   "metadata": {},
   "outputs": [
    {
     "data": {
      "text/plain": [
       "'\\nAmbas columnas son congruentes.\\n'"
      ]
     },
     "execution_count": 56,
     "metadata": {},
     "output_type": "execute_result"
    }
   ],
   "source": [
    "'''\n",
    "Ambas columnas son congruentes.\n",
    "'''"
   ]
  },
  {
   "cell_type": "markdown",
   "id": "a6743a70",
   "metadata": {
    "id": "a6743a70"
   },
   "source": [
    "### [A2] Para cada hora del día, ¿cuántas personas hacen órdenes?"
   ]
  },
  {
   "cell_type": "code",
   "execution_count": 57,
   "id": "a36cca27",
   "metadata": {
    "id": "a36cca27"
   },
   "outputs": [
    {
     "name": "stdout",
     "output_type": "stream",
     "text": [
      "order_hour_of_day\n",
      "0      2991\n",
      "1      1671\n",
      "2       958\n",
      "3       744\n",
      "4       735\n",
      "5      1281\n",
      "6      3757\n",
      "7     10993\n",
      "8     20268\n",
      "9     28112\n",
      "10    32195\n",
      "11    32660\n",
      "12    31754\n",
      "13    32433\n",
      "14    32797\n",
      "15    32894\n",
      "16    31579\n",
      "17    26825\n",
      "18    21795\n",
      "19    17026\n",
      "20    12891\n",
      "21     9806\n",
      "22     7670\n",
      "23     5167\n",
      "Name: user_id, dtype: int64\n"
     ]
    },
    {
     "data": {
      "image/png": "[encoded data removed]",
      "text/plain": [
       "<Figure size 1200x600 with 1 Axes>"
      ]
     },
     "metadata": {},
     "output_type": "display_data"
    }
   ],
   "source": [
    "aux_group_hour = instacart_df.groupby(by='order_hour_of_day')['user_id'].nunique()\n",
    "print(aux_group_hour)\n",
    "aux_group_hour.plot(\n",
    "    kind='bar',\n",
    "    figsize=(12, 6),\n",
    "    color='purple',\n",
    "    title='Número de personas que hacen pedidos por hora del día',\n",
    "    xlabel='Hora del día',\n",
    "    ylabel='Número de personas',\n",
    "    grid=True\n",
    ")\n",
    "\n",
    "plt.show()"
   ]
  },
  {
   "cell_type": "markdown",
   "id": "11270eed",
   "metadata": {
    "id": "11270eed"
   },
   "source": [
    "Escribe aquí tus conclusiones"
   ]
  },
  {
   "cell_type": "code",
   "execution_count": 58,
   "id": "0cbfbda0",
   "metadata": {},
   "outputs": [
    {
     "data": {
      "text/plain": [
       "'\\nSe puede concluir que entre las 10 y las 16 horas son aquellas con más pedidos.\\n'"
      ]
     },
     "execution_count": 58,
     "metadata": {},
     "output_type": "execute_result"
    }
   ],
   "source": [
    "'''\n",
    "Se puede concluir que entre las 10 y las 16 horas son aquellas con más pedidos.\n",
    "'''"
   ]
  },
  {
   "cell_type": "markdown",
   "id": "documented-command",
   "metadata": {
    "id": "documented-command"
   },
   "source": [
    "### [A3] ¿Qué día de la semana compran víveres las personas?"
   ]
  },
  {
   "cell_type": "code",
   "execution_count": 59,
   "id": "chief-digit",
   "metadata": {
    "id": "chief-digit"
   },
   "outputs": [
    {
     "name": "stdout",
     "output_type": "stream",
     "text": [
      "order_dow\n",
      "0    57661\n",
      "1    56479\n",
      "2    48587\n",
      "3    45331\n",
      "4    44281\n",
      "5    46127\n",
      "6    45604\n",
      "Name: user_id, dtype: int64\n"
     ]
    },
    {
     "data": {
      "image/png": "[encoded data removed]",
      "text/plain": [
       "<Figure size 1000x600 with 1 Axes>"
      ]
     },
     "metadata": {},
     "output_type": "display_data"
    }
   ],
   "source": [
    "aux_group_dow = instacart_df.groupby(by='order_dow')['user_id'].nunique()\n",
    "print(aux_group_dow)\n",
    "aux_group_dow.plot(\n",
    "    kind='bar',\n",
    "    figsize=(10, 6),\n",
    "    color='purple',\n",
    "    title='Número de personas que hacen pedidos por día de la semana',\n",
    "    xlabel='Día de la semana',\n",
    "    ylabel='Número de personas',\n",
    "    grid=True\n",
    ")\n",
    "\n",
    "plt.show()"
   ]
  },
  {
   "cell_type": "markdown",
   "id": "dominant-lightning",
   "metadata": {
    "id": "dominant-lightning"
   },
   "source": [
    "Escribe aquí tus conclusiones"
   ]
  },
  {
   "cell_type": "code",
   "execution_count": 60,
   "id": "e22d7218",
   "metadata": {},
   "outputs": [
    {
     "data": {
      "text/plain": [
       "'\\nTodos los días se realizan pedidos, siendo el Domingo el día con más pedidos.\\n'"
      ]
     },
     "execution_count": 60,
     "metadata": {},
     "output_type": "execute_result"
    }
   ],
   "source": [
    "'''\n",
    "Todos los días se realizan pedidos, siendo el Domingo el día con más pedidos.\n",
    "'''"
   ]
  },
  {
   "cell_type": "markdown",
   "id": "cutting-concert",
   "metadata": {
    "id": "cutting-concert"
   },
   "source": [
    "### [A4] ¿Cuánto tiempo esperan las personas hasta hacer otro pedido? Comenta sobre los valores mínimos y máximos."
   ]
  },
  {
   "cell_type": "code",
   "execution_count": 61,
   "id": "c231f523",
   "metadata": {
    "id": "c231f523"
   },
   "outputs": [
    {
     "name": "stdout",
     "output_type": "stream",
     "text": [
      "count    478952.000000\n",
      "mean         10.433853\n",
      "std           9.292153\n",
      "min           0.000000\n",
      "25%           4.000000\n",
      "50%           7.000000\n",
      "75%          15.000000\n",
      "max          30.000000\n",
      "Name: days_since_prior_order, dtype: float64\n"
     ]
    },
    {
     "data": {
      "image/png": "[encoded data removed]",
      "text/plain": [
       "<Figure size 1000x600 with 1 Axes>"
      ]
     },
     "metadata": {},
     "output_type": "display_data"
    }
   ],
   "source": [
    "aux_sort_instacart_waiting_days = instacart_df.sort_values(by='days_since_prior_order')\n",
    "#print(aux_sort_instacart_waiting_days['days_since_prior_order'].unique())\n",
    "\n",
    "print(instacart_df['days_since_prior_order'].describe()) #Esto nos muestra directamente el mínimo que es 0 y el máximo que es 30\n",
    "\n",
    "aux_sort_instacart_waiting_days['days_since_prior_order'].plot(\n",
    "    xlabel='Días desde el último pedido',\n",
    "    ylabel='Frecuencia',\n",
    "    kind='hist',\n",
    "    bins=30,                    \n",
    "    figsize=(10,6),\n",
    "    color='orange',\n",
    "    edgecolor='black',\n",
    "    title='Distribución de días entre pedidos consecutivos',\n",
    "    grid=True\n",
    ")\n",
    "\n",
    "plt.show()\n",
    "#print(min(aux_sort_instacart_waiting_days['days_since_prior_order']))\n",
    "#print(max(aux_sort_instacart_waiting_days['days_since_prior_order']))\n",
    "\n",
    "#A simple vista, tenemos que el valor mínimo es 0 y el máximo es 30"
   ]
  },
  {
   "cell_type": "markdown",
   "id": "discrete-vertex",
   "metadata": {
    "id": "discrete-vertex"
   },
   "source": [
    "Escribe aquí tus conclusiones"
   ]
  },
  {
   "cell_type": "code",
   "execution_count": 62,
   "id": "893d16cd",
   "metadata": {},
   "outputs": [
    {
     "data": {
      "text/plain": [
       "'\\nEl valor mínimo es 0, quiere decir que el cliente no espera al día siguiente para hacer otra compra.\\nEn comparación, el valor máximo es 30, entonces el cliente ha esperado hasta 30 días para hacer otro pedido.\\n\\nDe hecho, este es el valor más alto, arriba de 50,000+ pedidos.\\n'"
      ]
     },
     "execution_count": 62,
     "metadata": {},
     "output_type": "execute_result"
    }
   ],
   "source": [
    "'''\n",
    "El valor mínimo es 0, quiere decir que el cliente no espera al día siguiente para hacer otra compra.\n",
    "En comparación, el valor máximo es 30, entonces el cliente ha esperado hasta 30 días para hacer otro pedido.\n",
    "\n",
    "De hecho, este es el valor más alto, arriba de 50,000+ pedidos.\n",
    "'''"
   ]
  },
  {
   "cell_type": "markdown",
   "id": "ffd4a0d8",
   "metadata": {},
   "source": [
    "<div class=\"alert alert-block alert-success\">\n",
    "<b>Comentario del revisor (1ra Iteracion)</b> <a class=“tocSkip”></a>\n",
    "\n",
    "Buen trabajo con estas visualizaciones y conclusiones\n",
    "</div>"
   ]
  },
  {
   "cell_type": "markdown",
   "id": "tight-staff",
   "metadata": {
    "id": "tight-staff"
   },
   "source": [
    "# [B] Intermedio (deben completarse todos para aprobar)\n",
    "\n",
    "1. ¿Existe alguna diferencia entre las distribuciones `'order_hour_of_day'` de los miércoles y los sábados? Traza gráficos de barra de `'order_hour_of_day'` para ambos días en la misma figura y describe las diferencias que observes.\n",
    "2. Grafica la distribución para el número de órdenes que hacen los clientes (es decir, cuántos clientes hicieron solo 1 pedido, cuántos hicieron 2, cuántos 3, y así sucesivamente...).\n",
    "3. ¿Cuáles son los 20 principales productos que se piden con más frecuencia (muestra su identificación y nombre)?"
   ]
  },
  {
   "cell_type": "markdown",
   "id": "packed-classic",
   "metadata": {
    "id": "packed-classic"
   },
   "source": [
    "### [B1] Diferencia entre miércoles y sábados para  `'order_hour_of_day'`. Traza gráficos de barra para los dos días y describe las diferencias que veas."
   ]
  },
  {
   "cell_type": "code",
   "execution_count": 42,
   "id": "d89b8403",
   "metadata": {
    "id": "d89b8403"
   },
   "outputs": [
    {
     "data": {
      "text/html": [
       "<div>\n",
       "<style scoped>\n",
       "    .dataframe tbody tr th:only-of-type {\n",
       "        vertical-align: middle;\n",
       "    }\n",
       "\n",
       "    .dataframe tbody tr th {\n",
       "        vertical-align: top;\n",
       "    }\n",
       "\n",
       "    .dataframe thead th {\n",
       "        text-align: right;\n",
       "    }\n",
       "</style>\n",
       "<table border=\"1\" class=\"dataframe\">\n",
       "  <thead>\n",
       "    <tr style=\"text-align: right;\">\n",
       "      <th></th>\n",
       "      <th>order_id</th>\n",
       "      <th>user_id</th>\n",
       "      <th>order_number</th>\n",
       "      <th>order_dow</th>\n",
       "      <th>order_hour_of_day</th>\n",
       "      <th>days_since_prior_order</th>\n",
       "    </tr>\n",
       "  </thead>\n",
       "  <tbody>\n",
       "    <tr>\n",
       "      <th>6</th>\n",
       "      <td>2511640</td>\n",
       "      <td>148233</td>\n",
       "      <td>40</td>\n",
       "      <td>3</td>\n",
       "      <td>8</td>\n",
       "      <td>2</td>\n",
       "    </tr>\n",
       "    <tr>\n",
       "      <th>16</th>\n",
       "      <td>3109465</td>\n",
       "      <td>55090</td>\n",
       "      <td>19</td>\n",
       "      <td>3</td>\n",
       "      <td>15</td>\n",
       "      <td>9</td>\n",
       "    </tr>\n",
       "    <tr>\n",
       "      <th>28</th>\n",
       "      <td>133707</td>\n",
       "      <td>182261</td>\n",
       "      <td>1</td>\n",
       "      <td>3</td>\n",
       "      <td>10</td>\n",
       "      <td>0</td>\n",
       "    </tr>\n",
       "    <tr>\n",
       "      <th>30</th>\n",
       "      <td>1890318</td>\n",
       "      <td>193501</td>\n",
       "      <td>3</td>\n",
       "      <td>3</td>\n",
       "      <td>15</td>\n",
       "      <td>30</td>\n",
       "    </tr>\n",
       "    <tr>\n",
       "      <th>35</th>\n",
       "      <td>125325</td>\n",
       "      <td>106853</td>\n",
       "      <td>6</td>\n",
       "      <td>3</td>\n",
       "      <td>19</td>\n",
       "      <td>30</td>\n",
       "    </tr>\n",
       "    <tr>\n",
       "      <th>...</th>\n",
       "      <td>...</td>\n",
       "      <td>...</td>\n",
       "      <td>...</td>\n",
       "      <td>...</td>\n",
       "      <td>...</td>\n",
       "      <td>...</td>\n",
       "    </tr>\n",
       "    <tr>\n",
       "      <th>478917</th>\n",
       "      <td>972799</td>\n",
       "      <td>89702</td>\n",
       "      <td>4</td>\n",
       "      <td>3</td>\n",
       "      <td>7</td>\n",
       "      <td>10</td>\n",
       "    </tr>\n",
       "    <tr>\n",
       "      <th>478946</th>\n",
       "      <td>2406747</td>\n",
       "      <td>63101</td>\n",
       "      <td>11</td>\n",
       "      <td>3</td>\n",
       "      <td>8</td>\n",
       "      <td>5</td>\n",
       "    </tr>\n",
       "    <tr>\n",
       "      <th>478956</th>\n",
       "      <td>640934</td>\n",
       "      <td>27104</td>\n",
       "      <td>9</td>\n",
       "      <td>3</td>\n",
       "      <td>10</td>\n",
       "      <td>6</td>\n",
       "    </tr>\n",
       "    <tr>\n",
       "      <th>478963</th>\n",
       "      <td>3270802</td>\n",
       "      <td>112087</td>\n",
       "      <td>2</td>\n",
       "      <td>3</td>\n",
       "      <td>13</td>\n",
       "      <td>6</td>\n",
       "    </tr>\n",
       "    <tr>\n",
       "      <th>478965</th>\n",
       "      <td>216274</td>\n",
       "      <td>4391</td>\n",
       "      <td>3</td>\n",
       "      <td>3</td>\n",
       "      <td>8</td>\n",
       "      <td>8</td>\n",
       "    </tr>\n",
       "  </tbody>\n",
       "</table>\n",
       "<p>60912 rows × 6 columns</p>\n",
       "</div>"
      ],
      "text/plain": [
       "        order_id  user_id  order_number  order_dow  order_hour_of_day  \\\n",
       "6        2511640   148233            40          3                  8   \n",
       "16       3109465    55090            19          3                 15   \n",
       "28        133707   182261             1          3                 10   \n",
       "30       1890318   193501             3          3                 15   \n",
       "35        125325   106853             6          3                 19   \n",
       "...          ...      ...           ...        ...                ...   \n",
       "478917    972799    89702             4          3                  7   \n",
       "478946   2406747    63101            11          3                  8   \n",
       "478956    640934    27104             9          3                 10   \n",
       "478963   3270802   112087             2          3                 13   \n",
       "478965    216274     4391             3          3                  8   \n",
       "\n",
       "        days_since_prior_order  \n",
       "6                            2  \n",
       "16                           9  \n",
       "28                           0  \n",
       "30                          30  \n",
       "35                          30  \n",
       "...                        ...  \n",
       "478917                      10  \n",
       "478946                       5  \n",
       "478956                       6  \n",
       "478963                       6  \n",
       "478965                       8  \n",
       "\n",
       "[60912 rows x 6 columns]"
      ]
     },
     "metadata": {},
     "output_type": "display_data"
    },
    {
     "data": {
      "text/html": [
       "<div>\n",
       "<style scoped>\n",
       "    .dataframe tbody tr th:only-of-type {\n",
       "        vertical-align: middle;\n",
       "    }\n",
       "\n",
       "    .dataframe tbody tr th {\n",
       "        vertical-align: top;\n",
       "    }\n",
       "\n",
       "    .dataframe thead th {\n",
       "        text-align: right;\n",
       "    }\n",
       "</style>\n",
       "<table border=\"1\" class=\"dataframe\">\n",
       "  <thead>\n",
       "    <tr style=\"text-align: right;\">\n",
       "      <th></th>\n",
       "      <th>order_id</th>\n",
       "      <th>user_id</th>\n",
       "      <th>order_number</th>\n",
       "      <th>order_dow</th>\n",
       "      <th>order_hour_of_day</th>\n",
       "      <th>days_since_prior_order</th>\n",
       "    </tr>\n",
       "  </thead>\n",
       "  <tbody>\n",
       "    <tr>\n",
       "      <th>0</th>\n",
       "      <td>1515936</td>\n",
       "      <td>183418</td>\n",
       "      <td>11</td>\n",
       "      <td>6</td>\n",
       "      <td>13</td>\n",
       "      <td>30</td>\n",
       "    </tr>\n",
       "    <tr>\n",
       "      <th>11</th>\n",
       "      <td>102585</td>\n",
       "      <td>191558</td>\n",
       "      <td>18</td>\n",
       "      <td>6</td>\n",
       "      <td>16</td>\n",
       "      <td>8</td>\n",
       "    </tr>\n",
       "    <tr>\n",
       "      <th>14</th>\n",
       "      <td>2843219</td>\n",
       "      <td>74699</td>\n",
       "      <td>4</td>\n",
       "      <td>6</td>\n",
       "      <td>11</td>\n",
       "      <td>30</td>\n",
       "    </tr>\n",
       "    <tr>\n",
       "      <th>20</th>\n",
       "      <td>50934</td>\n",
       "      <td>178510</td>\n",
       "      <td>9</td>\n",
       "      <td>6</td>\n",
       "      <td>9</td>\n",
       "      <td>5</td>\n",
       "    </tr>\n",
       "    <tr>\n",
       "      <th>26</th>\n",
       "      <td>1844247</td>\n",
       "      <td>122558</td>\n",
       "      <td>4</td>\n",
       "      <td>6</td>\n",
       "      <td>18</td>\n",
       "      <td>30</td>\n",
       "    </tr>\n",
       "    <tr>\n",
       "      <th>...</th>\n",
       "      <td>...</td>\n",
       "      <td>...</td>\n",
       "      <td>...</td>\n",
       "      <td>...</td>\n",
       "      <td>...</td>\n",
       "      <td>...</td>\n",
       "    </tr>\n",
       "    <tr>\n",
       "      <th>478924</th>\n",
       "      <td>3274344</td>\n",
       "      <td>145367</td>\n",
       "      <td>13</td>\n",
       "      <td>6</td>\n",
       "      <td>10</td>\n",
       "      <td>13</td>\n",
       "    </tr>\n",
       "    <tr>\n",
       "      <th>478930</th>\n",
       "      <td>489820</td>\n",
       "      <td>7287</td>\n",
       "      <td>14</td>\n",
       "      <td>6</td>\n",
       "      <td>19</td>\n",
       "      <td>2</td>\n",
       "    </tr>\n",
       "    <tr>\n",
       "      <th>478943</th>\n",
       "      <td>548902</td>\n",
       "      <td>6829</td>\n",
       "      <td>3</td>\n",
       "      <td>6</td>\n",
       "      <td>10</td>\n",
       "      <td>30</td>\n",
       "    </tr>\n",
       "    <tr>\n",
       "      <th>478954</th>\n",
       "      <td>984024</td>\n",
       "      <td>47076</td>\n",
       "      <td>2</td>\n",
       "      <td>6</td>\n",
       "      <td>21</td>\n",
       "      <td>6</td>\n",
       "    </tr>\n",
       "    <tr>\n",
       "      <th>478961</th>\n",
       "      <td>3006133</td>\n",
       "      <td>34561</td>\n",
       "      <td>7</td>\n",
       "      <td>6</td>\n",
       "      <td>10</td>\n",
       "      <td>30</td>\n",
       "    </tr>\n",
       "  </tbody>\n",
       "</table>\n",
       "<p>62649 rows × 6 columns</p>\n",
       "</div>"
      ],
      "text/plain": [
       "        order_id  user_id  order_number  order_dow  order_hour_of_day  \\\n",
       "0        1515936   183418            11          6                 13   \n",
       "11        102585   191558            18          6                 16   \n",
       "14       2843219    74699             4          6                 11   \n",
       "20         50934   178510             9          6                  9   \n",
       "26       1844247   122558             4          6                 18   \n",
       "...          ...      ...           ...        ...                ...   \n",
       "478924   3274344   145367            13          6                 10   \n",
       "478930    489820     7287            14          6                 19   \n",
       "478943    548902     6829             3          6                 10   \n",
       "478954    984024    47076             2          6                 21   \n",
       "478961   3006133    34561             7          6                 10   \n",
       "\n",
       "        days_since_prior_order  \n",
       "0                           30  \n",
       "11                           8  \n",
       "14                          30  \n",
       "20                           5  \n",
       "26                          30  \n",
       "...                        ...  \n",
       "478924                      13  \n",
       "478930                       2  \n",
       "478943                      30  \n",
       "478954                       6  \n",
       "478961                      30  \n",
       "\n",
       "[62649 rows x 6 columns]"
      ]
     },
     "metadata": {},
     "output_type": "display_data"
    }
   ],
   "source": [
    "wednesday_data = instacart_df[instacart_df['order_dow'] == 3]\n",
    "saturday_data = instacart_df[instacart_df['order_dow'] == 6]\n",
    "display(wednesday_data)\n",
    "display(saturday_data)"
   ]
  },
  {
   "cell_type": "code",
   "execution_count": 45,
   "id": "94e54e8a",
   "metadata": {
    "id": "94e54e8a"
   },
   "outputs": [
    {
     "name": "stdout",
     "output_type": "stream",
     "text": [
      "0      373\n",
      "1      215\n",
      "2      121\n",
      "3      101\n",
      "4      108\n",
      "5      170\n",
      "6      643\n",
      "7     1732\n",
      "8     3125\n",
      "9     4490\n",
      "10    5026\n",
      "11    5004\n",
      "12    4688\n",
      "13    4674\n",
      "14    4774\n",
      "15    5163\n",
      "16    4976\n",
      "17    4175\n",
      "18    3463\n",
      "19    2652\n",
      "20    1917\n",
      "21    1450\n",
      "22    1154\n",
      "23     718\n",
      "Name: order_hour_of_day, dtype: int64\n",
      "0      464\n",
      "1      254\n",
      "2      177\n",
      "3      125\n",
      "4      118\n",
      "5      161\n",
      "6      451\n",
      "7     1619\n",
      "8     3246\n",
      "9     4311\n",
      "10    4919\n",
      "11    5116\n",
      "12    5132\n",
      "13    5323\n",
      "14    5375\n",
      "15    5188\n",
      "16    5029\n",
      "17    4295\n",
      "18    3338\n",
      "19    2610\n",
      "20    1847\n",
      "21    1473\n",
      "22    1185\n",
      "23     893\n",
      "Name: order_hour_of_day, dtype: int64\n"
     ]
    }
   ],
   "source": [
    "wednesday_counts = wednesday_data['order_hour_of_day'].value_counts().sort_index()\n",
    "saturday_counts = saturday_data['order_hour_of_day'].value_counts().sort_index()\n",
    "print(wednesday_counts)\n",
    "print(saturday_counts)"
   ]
  },
  {
   "cell_type": "code",
   "execution_count": 65,
   "id": "797c90a8",
   "metadata": {
    "id": "797c90a8"
   },
   "outputs": [
    {
     "data": {
      "image/png": "[encoded data removed]",
      "text/plain": [
       "<Figure size 1200x600 with 1 Axes>"
      ]
     },
     "metadata": {},
     "output_type": "display_data"
    }
   ],
   "source": [
    "# Si ya tenemos los datos separados, podemos unirlos en un solo DF para que el gráfico sea más fácil de crear\n",
    "wend_sat_df = pd.DataFrame({\n",
    "    'Miércoles': wednesday_counts,\n",
    "    'Sábado': saturday_counts\n",
    "})\n",
    "\n",
    "wend_sat_df.plot(\n",
    "    kind='bar',\n",
    "    xlabel='Hora del día',\n",
    "    ylabel='Cantidad de pedidos',\n",
    "    figsize=(12, 6),\n",
    "    color=['skyblue', 'orange'],\n",
    "    title='Distribución de pedidos por hora: Miércoles vs Sábado',\n",
    "    grid=True\n",
    ")\n",
    "\n",
    "plt.show()"
   ]
  },
  {
   "cell_type": "code",
   "execution_count": 66,
   "id": "35bcea30",
   "metadata": {
    "id": "35bcea30"
   },
   "outputs": [
    {
     "data": {
      "text/plain": [
       "'\\nPodemos observar que para ambos días, el rango de horas con más pedidos es entre las 9 a.m. y las 5 p.m.\\nHay una diferencia significativa con el Sábado, ya que tiene más pedidos a comparación del Miércoles.\\n'"
      ]
     },
     "execution_count": 66,
     "metadata": {},
     "output_type": "execute_result"
    }
   ],
   "source": [
    "'''\n",
    "Podemos observar que para ambos días, el rango de horas con más pedidos es entre las 9 a.m. y las 5 p.m.\n",
    "Hay una diferencia significativa con el Sábado, ya que tiene más pedidos a comparación del Miércoles.\n",
    "'''"
   ]
  },
  {
   "cell_type": "markdown",
   "id": "charitable-congo",
   "metadata": {
    "id": "charitable-congo"
   },
   "source": [
    "Escribe aquí tus conclusiones"
   ]
  },
  {
   "cell_type": "markdown",
   "id": "e5f0cee6",
   "metadata": {},
   "source": [
    "<div class=\"alert alert-block alert-success\">\n",
    "<b>Comentario del revisor (1ra Iteracion)</b> <a class=“tocSkip”></a>\n",
    "\n",
    "Muy buen trabajo con la gráfica! Es muy intuitivo hacer la comparación de esa forma\n",
    "</div>"
   ]
  },
  {
   "cell_type": "markdown",
   "id": "e3891143",
   "metadata": {
    "id": "e3891143"
   },
   "source": [
    "### [B2] ¿Cuál es la distribución para el número de pedidos por cliente?"
   ]
  },
  {
   "cell_type": "code",
   "execution_count": 67,
   "id": "d8c26c23",
   "metadata": {
    "id": "d8c26c23"
   },
   "outputs": [
    {
     "data": {
      "image/png": "[encoded data removed]",
      "text/plain": [
       "<Figure size 1500x1000 with 1 Axes>"
      ]
     },
     "metadata": {},
     "output_type": "display_data"
    }
   ],
   "source": [
    "orders_per_customer = instacart_df.groupby('user_id')['order_number'].max() #Puesto que queremos saber el número de pedidos\n",
    "#total de cada cliente, pongo la función max() \n",
    "\n",
    "order_distribution = orders_per_customer.value_counts().sort_index()\n",
    "\n",
    "order_distribution.plot(\n",
    "    kind='bar',\n",
    "    figsize=(15, 10),\n",
    "    color='orange',\n",
    "    edgecolor='black',\n",
    "    xlabel='Número de pedidos',\n",
    "    ylabel='Cantidad de clientes',\n",
    "    title='Distribución del número de pedidos por cliente',\n",
    "    grid=True\n",
    ")\n",
    "\n",
    "plt.show()"
   ]
  },
  {
   "cell_type": "markdown",
   "id": "d2eff7d5",
   "metadata": {
    "id": "d2eff7d5"
   },
   "source": [
    "Escribe aquí tus conclusiones"
   ]
  },
  {
   "cell_type": "code",
   "execution_count": 68,
   "id": "00e69a66",
   "metadata": {
    "id": "00e69a66"
   },
   "outputs": [
    {
     "data": {
      "text/plain": [
       "'\\nFácilmente vemos que más de 12,000 clientes hicieron 4 pedidos, seguido de 3 y 5 en segundo y tercer lugar respectivamente.'"
      ]
     },
     "execution_count": 68,
     "metadata": {},
     "output_type": "execute_result"
    }
   ],
   "source": [
    "'''\n",
    "Fácilmente vemos que más de 12,000 clientes hicieron 4 pedidos, seguido de 3 y 5 en segundo y tercer lugar respectivamente.'''"
   ]
  },
  {
   "cell_type": "markdown",
   "id": "54a0319c",
   "metadata": {
    "id": "54a0319c"
   },
   "source": [
    "### [B3] ¿Cuáles son los 20 productos más populares (muestra su ID y nombre)?"
   ]
  },
  {
   "cell_type": "code",
   "execution_count": 37,
   "id": "exterior-arizona",
   "metadata": {
    "id": "exterior-arizona",
    "scrolled": true
   },
   "outputs": [
    {
     "data": {
      "image/png": "[encoded data removed]",
      "text/plain": [
       "<Figure size 1200x600 with 1 Axes>"
      ]
     },
     "metadata": {},
     "output_type": "display_data"
    }
   ],
   "source": [
    "product_counts = order_products_df['product_id'].value_counts().reset_index()\n",
    "product_counts.columns = ['product_id', 'order_count']\n",
    "\n",
    "#Hacemos un merge para obtener el nombre del producto basado en su ID\n",
    "top_20_products = product_counts.merge(products_df, on='product_id').head(20)\n",
    "top_20_products = top_20_products.set_index('product_name') #Para poner el eje Y con el nombre de los productos\n",
    "\n",
    "ax = top_20_products['order_count'].plot(\n",
    "    kind='barh', \n",
    "    figsize=(12, 6),\n",
    "    color='skyblue',\n",
    "    edgecolor='black',\n",
    "    title='Top 20 Productos Más Populares',\n",
    "    xlabel='Nombre de producto'\n",
    ")\n",
    "\n",
    "plt.show()\n",
    "\n"
   ]
  },
  {
   "cell_type": "code",
   "execution_count": null,
   "id": "bbcdd20b",
   "metadata": {
    "id": "bbcdd20b"
   },
   "outputs": [],
   "source": []
  },
  {
   "cell_type": "markdown",
   "id": "7df00f47",
   "metadata": {
    "id": "7df00f47"
   },
   "source": [
    "Escribe aquí tus conclusiones"
   ]
  },
  {
   "cell_type": "code",
   "execution_count": 87,
   "id": "3a74cd5a",
   "metadata": {
    "id": "universal-facial"
   },
   "outputs": [
    {
     "data": {
      "text/plain": [
       "'\\nVemos que el producto más pedido es \"Banana\" con 66050 pedidos y ID 24852.\\nCuriosamente el segundo producto más pedido es la \"Bag of Organic Bananas\". Parece que son muy solicitadas.\\n'"
      ]
     },
     "execution_count": 87,
     "metadata": {},
     "output_type": "execute_result"
    }
   ],
   "source": [
    "'''\n",
    "Vemos que el producto más pedido es \"Banana\" con 66050 pedidos y ID 24852.\n",
    "Curiosamente el segundo producto más pedido es la \"Bag of Organic Bananas\". Parece que son muy solicitadas.\n",
    "'''"
   ]
  },
  {
   "cell_type": "markdown",
   "id": "9c4cf241",
   "metadata": {},
   "source": [
    "<div class=\"alert alert-block alert-warning\">\n",
    "<b>Comentario del revisor (1ra Iteracion)</b> <a class=“tocSkip”></a>\n",
    "\n",
    "Bien hecho el cálculo! Sin embargo, para mejorar la comparación de tus resultados es mejor mostrar una gráfica de barras\n",
    "</div>"
   ]
  },
  {
   "cell_type": "markdown",
   "id": "gross-theme",
   "metadata": {
    "id": "gross-theme"
   },
   "source": [
    "# [C] Difícil (deben completarse todos para aprobar)\n",
    "\n",
    "1. ¿Cuántos artículos suelen comprar las personas en un pedido? ¿Cómo es la distribución?\n",
    "2. ¿Cuáles son los 20 principales artículos que vuelven a pedirse con mayor frecuencia (muestra sus nombres e IDs de los productos)?\n",
    "3. Para cada producto, ¿cuál es la tasa de repetición del pedido (número de repeticiones de pedido/total de pedidos?\n",
    "4. Para cada cliente, ¿qué proporción de los productos que pidió ya los había pedido? Calcula la tasa de repetición de pedido para cada usuario en lugar de para cada producto.\n",
    "5. ¿Cuáles son los 20 principales artículos que la gente pone primero en sus carritos (muestra las IDs de los productos, sus nombres, y el número de veces en que fueron el primer artículo en añadirse al carrito)?"
   ]
  },
  {
   "cell_type": "markdown",
   "id": "romantic-deposit",
   "metadata": {
    "id": "romantic-deposit"
   },
   "source": [
    "### [C1] ¿Cuántos artículos compran normalmente las personas en un pedido? ¿Cómo es la distribución?"
   ]
  },
  {
   "cell_type": "code",
   "execution_count": 71,
   "id": "virtual-punch",
   "metadata": {
    "id": "virtual-punch"
   },
   "outputs": [
    {
     "data": {
      "image/png": "[encoded data removed]",
      "text/plain": [
       "<Figure size 1600x1000 with 1 Axes>"
      ]
     },
     "metadata": {},
     "output_type": "display_data"
    }
   ],
   "source": [
    "# Contar el número de artículos por pedido\n",
    "items_per_order = order_products_df.groupby('order_id').size()\n",
    "\n",
    "# Contar cuántos pedidos tienen una cantidad específica de artículos\n",
    "order_distribution = items_per_order.value_counts().sort_index()\n",
    "\n",
    "order_distribution.plot(\n",
    "    kind='bar',\n",
    "    figsize=(16, 10),\n",
    "    color='purple',\n",
    "    edgecolor='black',\n",
    "    xlabel='Número de artículos en un pedido',\n",
    "    ylabel='Cantidad de pedidos',\n",
    "    title='Distribución de artículos por pedido',\n",
    "    grid=True\n",
    ")\n",
    "\n",
    "plt.show()"
   ]
  },
  {
   "cell_type": "code",
   "execution_count": null,
   "id": "completed-frank",
   "metadata": {
    "id": "completed-frank"
   },
   "outputs": [],
   "source": []
  },
  {
   "cell_type": "markdown",
   "id": "designed-mortality",
   "metadata": {
    "id": "designed-mortality"
   },
   "source": [
    "Escribe aquí tus conclusiones"
   ]
  },
  {
   "cell_type": "code",
   "execution_count": 72,
   "id": "sensitive-breathing",
   "metadata": {
    "id": "sensitive-breathing"
   },
   "outputs": [
    {
     "data": {
      "text/plain": [
       "'\\nLa mayoría de los usuarios realizan pedidos de 5 productos, seguido de 6 pedidos en segundo lugar\\n\\n'"
      ]
     },
     "execution_count": 72,
     "metadata": {},
     "output_type": "execute_result"
    }
   ],
   "source": [
    "'''\n",
    "La mayoría de los usuarios realizan pedidos de 5 productos, seguido de 6 pedidos en segundo lugar\n",
    "\n",
    "'''"
   ]
  },
  {
   "cell_type": "markdown",
   "id": "5e6b5537",
   "metadata": {
    "id": "5e6b5537"
   },
   "source": [
    "### [C2] ¿Cuáles son los 20 principales artículos que vuelven a pedirse con mayor frecuencia (muestra sus nombres e IDs de los productos)?"
   ]
  },
  {
   "cell_type": "code",
   "execution_count": 51,
   "id": "9374e55a",
   "metadata": {
    "id": "9374e55a"
   },
   "outputs": [
    {
     "data": {
      "text/html": [
       "<div>\n",
       "<style scoped>\n",
       "    .dataframe tbody tr th:only-of-type {\n",
       "        vertical-align: middle;\n",
       "    }\n",
       "\n",
       "    .dataframe tbody tr th {\n",
       "        vertical-align: top;\n",
       "    }\n",
       "\n",
       "    .dataframe thead th {\n",
       "        text-align: right;\n",
       "    }\n",
       "</style>\n",
       "<table border=\"1\" class=\"dataframe\">\n",
       "  <thead>\n",
       "    <tr style=\"text-align: right;\">\n",
       "      <th></th>\n",
       "      <th>product_id</th>\n",
       "      <th>reorder_count</th>\n",
       "    </tr>\n",
       "  </thead>\n",
       "  <tbody>\n",
       "    <tr>\n",
       "      <th>0</th>\n",
       "      <td>24852</td>\n",
       "      <td>55763</td>\n",
       "    </tr>\n",
       "    <tr>\n",
       "      <th>1</th>\n",
       "      <td>13176</td>\n",
       "      <td>44450</td>\n",
       "    </tr>\n",
       "    <tr>\n",
       "      <th>2</th>\n",
       "      <td>21137</td>\n",
       "      <td>28639</td>\n",
       "    </tr>\n",
       "    <tr>\n",
       "      <th>3</th>\n",
       "      <td>21903</td>\n",
       "      <td>26233</td>\n",
       "    </tr>\n",
       "    <tr>\n",
       "      <th>4</th>\n",
       "      <td>47209</td>\n",
       "      <td>23629</td>\n",
       "    </tr>\n",
       "    <tr>\n",
       "      <th>5</th>\n",
       "      <td>47766</td>\n",
       "      <td>18743</td>\n",
       "    </tr>\n",
       "    <tr>\n",
       "      <th>6</th>\n",
       "      <td>27845</td>\n",
       "      <td>16251</td>\n",
       "    </tr>\n",
       "    <tr>\n",
       "      <th>7</th>\n",
       "      <td>47626</td>\n",
       "      <td>15044</td>\n",
       "    </tr>\n",
       "    <tr>\n",
       "      <th>8</th>\n",
       "      <td>27966</td>\n",
       "      <td>14748</td>\n",
       "    </tr>\n",
       "    <tr>\n",
       "      <th>9</th>\n",
       "      <td>16797</td>\n",
       "      <td>13945</td>\n",
       "    </tr>\n",
       "    <tr>\n",
       "      <th>10</th>\n",
       "      <td>26209</td>\n",
       "      <td>13327</td>\n",
       "    </tr>\n",
       "    <tr>\n",
       "      <th>11</th>\n",
       "      <td>22935</td>\n",
       "      <td>11145</td>\n",
       "    </tr>\n",
       "    <tr>\n",
       "      <th>12</th>\n",
       "      <td>24964</td>\n",
       "      <td>10411</td>\n",
       "    </tr>\n",
       "    <tr>\n",
       "      <th>13</th>\n",
       "      <td>45007</td>\n",
       "      <td>10076</td>\n",
       "    </tr>\n",
       "    <tr>\n",
       "      <th>14</th>\n",
       "      <td>49683</td>\n",
       "      <td>9538</td>\n",
       "    </tr>\n",
       "    <tr>\n",
       "      <th>15</th>\n",
       "      <td>28204</td>\n",
       "      <td>8989</td>\n",
       "    </tr>\n",
       "    <tr>\n",
       "      <th>16</th>\n",
       "      <td>8277</td>\n",
       "      <td>8836</td>\n",
       "    </tr>\n",
       "    <tr>\n",
       "      <th>17</th>\n",
       "      <td>39275</td>\n",
       "      <td>8799</td>\n",
       "    </tr>\n",
       "    <tr>\n",
       "      <th>18</th>\n",
       "      <td>5876</td>\n",
       "      <td>8412</td>\n",
       "    </tr>\n",
       "    <tr>\n",
       "      <th>19</th>\n",
       "      <td>49235</td>\n",
       "      <td>8389</td>\n",
       "    </tr>\n",
       "  </tbody>\n",
       "</table>\n",
       "</div>"
      ],
      "text/plain": [
       "    product_id  reorder_count\n",
       "0        24852          55763\n",
       "1        13176          44450\n",
       "2        21137          28639\n",
       "3        21903          26233\n",
       "4        47209          23629\n",
       "5        47766          18743\n",
       "6        27845          16251\n",
       "7        47626          15044\n",
       "8        27966          14748\n",
       "9        16797          13945\n",
       "10       26209          13327\n",
       "11       22935          11145\n",
       "12       24964          10411\n",
       "13       45007          10076\n",
       "14       49683           9538\n",
       "15       28204           8989\n",
       "16        8277           8836\n",
       "17       39275           8799\n",
       "18        5876           8412\n",
       "19       49235           8389"
      ]
     },
     "metadata": {},
     "output_type": "display_data"
    }
   ],
   "source": [
    "reordered_products = order_products_df[order_products_df['reordered'] == 1]\n",
    "\n",
    "reordered_counts = reordered_products['product_id'].value_counts().head(20)\n",
    "\n",
    "\n",
    "reordered_counts = reordered_counts.reset_index()\n",
    "reordered_counts.columns = ['product_id', 'reorder_count']\n",
    "display(reordered_counts)"
   ]
  },
  {
   "cell_type": "code",
   "execution_count": 58,
   "id": "possible-change",
   "metadata": {
    "id": "possible-change",
    "scrolled": true
   },
   "outputs": [
    {
     "data": {
      "image/png": "[encoded data removed]",
      "text/plain": [
       "<Figure size 1200x600 with 1 Axes>"
      ]
     },
     "metadata": {},
     "output_type": "display_data"
    }
   ],
   "source": [
    "#Muy parecido al anterior, tenemos que realizar un merge para poder obtener el nombre del producto\n",
    "top_20_reordered = reordered_counts.merge(products_df, on='product_id')\n",
    "\n",
    "top_20_reordered.plot(\n",
    "    x='product_name', \n",
    "    y='reorder_count', \n",
    "    kind='bar', \n",
    "    figsize=(12, 6), \n",
    "    color='skyblue',\n",
    "    title='Top 20 Productos Más Reordenados',\n",
    "    legend=False,\n",
    "    xlabel='Producto',\n",
    "    ylabel='No. de reordenes'\n",
    ")\n",
    "\n",
    "plt.show()\n"
   ]
  },
  {
   "cell_type": "markdown",
   "id": "66f028e4",
   "metadata": {},
   "source": [
    "<div class=\"alert alert-block alert-warning\">\n",
    "<b>Comentario del revisor (1ra Iteracion)</b> <a class=“tocSkip”></a>\n",
    "\n",
    "Aquí también sería bueno incluir una gráfica de barras para mostrar la diferencia entre productos\n",
    "</div>"
   ]
  },
  {
   "cell_type": "code",
   "execution_count": null,
   "id": "48dd3658",
   "metadata": {
    "id": "48dd3658"
   },
   "outputs": [],
   "source": []
  },
  {
   "cell_type": "markdown",
   "id": "80e70c74",
   "metadata": {
    "id": "80e70c74"
   },
   "source": [
    "Escribe aquí tus conclusiones"
   ]
  },
  {
   "cell_type": "code",
   "execution_count": 75,
   "id": "professional-surfing",
   "metadata": {
    "id": "professional-surfing",
    "scrolled": true
   },
   "outputs": [
    {
     "data": {
      "text/plain": [
       "'\\nDe igual manera, Banana y Bag of Organic Bananas son los productos más pedidos y los productos MÁS REORDENADOS. \\n\\n\\n'"
      ]
     },
     "execution_count": 75,
     "metadata": {},
     "output_type": "execute_result"
    }
   ],
   "source": [
    "'''\n",
    "De igual manera, Banana y Bag of Organic Bananas son los productos más pedidos y los productos MÁS REORDENADOS. \n",
    "\n",
    "\n",
    "'''"
   ]
  },
  {
   "cell_type": "markdown",
   "id": "9d312b14",
   "metadata": {
    "id": "9d312b14"
   },
   "source": [
    "### [C3] Para cada producto, ¿cuál es la proporción de las veces que se pide y que se vuelve a pedir?"
   ]
  },
  {
   "cell_type": "code",
   "execution_count": 76,
   "id": "8ae9f4b1",
   "metadata": {
    "id": "8ae9f4b1"
   },
   "outputs": [
    {
     "name": "stdout",
     "output_type": "stream",
     "text": [
      "       product_id  reorder_rate\n",
      "0               1      0.564286\n",
      "1               2           NaN\n",
      "2               3      0.738095\n",
      "3               4      0.510204\n",
      "4               7      0.500000\n",
      "...           ...           ...\n",
      "45568       49690      0.800000\n",
      "45569       49691      0.430556\n",
      "45570       49692      0.416667\n",
      "45571       49693      0.440000\n",
      "45572       49694      0.333333\n",
      "\n",
      "[45573 rows x 2 columns]\n"
     ]
    }
   ],
   "source": [
    "reorder_counts = order_products_df[order_products_df['reordered'] == 1].groupby('product_id').size()\n",
    "total_counts = order_products_df.groupby('product_id').size()\n",
    "\n",
    "# Para saber la proporción, dividimos el total de veces que fue reordenado entre el total de pedidos por producto.\n",
    "reorder_rate = (reorder_counts / total_counts).reset_index()\n",
    "reorder_rate.columns = ['product_id', 'reorder_rate']\n",
    "\n",
    "print(reorder_rate)"
   ]
  },
  {
   "cell_type": "code",
   "execution_count": 77,
   "id": "103e7fe1",
   "metadata": {
    "id": "103e7fe1"
   },
   "outputs": [
    {
     "name": "stdout",
     "output_type": "stream",
     "text": [
      "       product_id                                       product_name  \\\n",
      "10973       12038           for Women Maximum Absorbency L Underwear   \n",
      "1646         1809  Slow Kettle Style Santa Fe Chicken Enchilada S...   \n",
      "33130       36122                                  Spicy Chili Beans   \n",
      "2929         3205            Original Pure Chocolate Whippet Cookies   \n",
      "38398       41901   Moisturizing Lotionized Shave Gel with Vitamin E   \n",
      "...           ...                                                ...   \n",
      "45543       49663  Ultra Protein Power Crunch Peanut Butter N' Ho...   \n",
      "45550       49672                             Cafe Mocha K-Cup Packs   \n",
      "45562       49684          Vodka- Triple Distilled- Twist of Vanilla   \n",
      "45565       49687         Smartblend Healthy Metabolism Dry Cat Food   \n",
      "45567       49689               FLUFFLY VANILLA MARSHMALLOW FROSTING   \n",
      "\n",
      "       reorder_rate  \n",
      "10973           1.0  \n",
      "1646            1.0  \n",
      "33130           1.0  \n",
      "2929            1.0  \n",
      "38398           1.0  \n",
      "...             ...  \n",
      "45543           NaN  \n",
      "45550           NaN  \n",
      "45562           NaN  \n",
      "45565           NaN  \n",
      "45567           NaN  \n",
      "\n",
      "[45573 rows x 3 columns]\n"
     ]
    }
   ],
   "source": [
    "reorder_rate = reorder_rate.merge(products_df, on='product_id')\n",
    "reorder_rate = reorder_rate.sort_values('reorder_rate', ascending=False)\n",
    "\n",
    "\n",
    "print(reorder_rate[['product_id', 'product_name', 'reorder_rate']])"
   ]
  },
  {
   "cell_type": "code",
   "execution_count": 78,
   "id": "social-individual",
   "metadata": {
    "id": "social-individual"
   },
   "outputs": [
    {
     "name": "stdout",
     "output_type": "stream",
     "text": [
      "Promedio de tasa de repetición: 0.4864576580675399\n"
     ]
    },
    {
     "data": {
      "image/png": "[encoded data removed]",
      "text/plain": [
       "<Figure size 1000x600 with 1 Axes>"
      ]
     },
     "metadata": {},
     "output_type": "display_data"
    }
   ],
   "source": [
    "print(\"Promedio de tasa de repetición:\", reorder_rate['reorder_rate'].mean())\n",
    "\n",
    "reorder_rate['reorder_rate'].plot(\n",
    "    kind='hist',\n",
    "    bins=30,\n",
    "    figsize=(10, 6),\n",
    "    color='skyblue',\n",
    "    edgecolor='black',\n",
    "    title='Distribución de tasas de repetición por producto',\n",
    "    xlabel='Tasa de repetición',\n",
    "    ylabel='Frecuencia'\n",
    ")\n",
    "\n",
    "plt.show()"
   ]
  },
  {
   "cell_type": "markdown",
   "id": "I10dEIAyldcO",
   "metadata": {
    "id": "I10dEIAyldcO"
   },
   "source": [
    "Escribe aquí tus conclusiones"
   ]
  },
  {
   "cell_type": "code",
   "execution_count": 79,
   "id": "0fb888d7",
   "metadata": {},
   "outputs": [
    {
     "data": {
      "text/plain": [
       "'\\nVemos en la gráfica que la tasa de repetición más amplia fue 0.5. Lo cual concuerda con el mean() de este.\\n\\n'"
      ]
     },
     "execution_count": 79,
     "metadata": {},
     "output_type": "execute_result"
    }
   ],
   "source": [
    "'''\n",
    "Vemos en la gráfica que la tasa de repetición más amplia fue 0.5. Lo cual concuerda con el mean() de este.\n",
    "\n",
    "'''"
   ]
  },
  {
   "cell_type": "markdown",
   "id": "subject-boxing",
   "metadata": {
    "id": "subject-boxing"
   },
   "source": [
    "### [C4] Para cada cliente, ¿qué proporción de sus productos ya los había pedido?"
   ]
  },
  {
   "cell_type": "code",
   "execution_count": 80,
   "id": "medical-couple",
   "metadata": {
    "id": "medical-couple",
    "scrolled": true
   },
   "outputs": [
    {
     "name": "stdout",
     "output_type": "stream",
     "text": [
      "        user_id  reorder_rate\n",
      "55883     77195           1.0\n",
      "53896     74382           1.0\n",
      "47071     65083           1.0\n",
      "40714     56239           1.0\n",
      "147949   203877           1.0\n",
      "...         ...           ...\n",
      "149582   206156           NaN\n",
      "149592   206167           NaN\n",
      "149597   206175           NaN\n",
      "149605   206184           NaN\n",
      "149610   206190           NaN\n",
      "\n",
      "[149626 rows x 2 columns]\n"
     ]
    }
   ],
   "source": [
    "merged_df = pd.merge(order_products_df, instacart_df[['order_id', 'user_id']], on='order_id', how='left')\n",
    "#print(merged_df)\n",
    "\n",
    "reordered_counts = merged_df[merged_df['reordered'] == 1].groupby('user_id')['product_id'].count()\n",
    "#print(reordered_counts)\n",
    "\n",
    "total_counts = merged_df.groupby('user_id')['product_id'].count()\n",
    "#print(total_counts)\n",
    "\n",
    "reorder_rate_per_user = (reordered_counts / total_counts).reset_index()\n",
    "reorder_rate_per_user.columns = ['user_id', 'reorder_rate']\n",
    "\n",
    "print(reorder_rate_per_user.sort_values('reorder_rate', ascending=False))"
   ]
  },
  {
   "cell_type": "markdown",
   "id": "99929c47",
   "metadata": {},
   "source": [
    "<div class=\"alert alert-block alert-success\">\n",
    "<b>Comentario del revisor (1ra Iteracion)</b> <a class=“tocSkip”></a>\n",
    "\n",
    "Muy bien calculadas las proporciones! También podrías haber usado el groupby y aplicando `mean()` sobre la columna de reordered\n",
    "</div>"
   ]
  },
  {
   "cell_type": "code",
   "execution_count": 81,
   "id": "8892e4b4",
   "metadata": {
    "id": "8892e4b4"
   },
   "outputs": [
    {
     "data": {
      "image/png": "[encoded data removed]",
      "text/plain": [
       "<Figure size 1000x600 with 1 Axes>"
      ]
     },
     "metadata": {},
     "output_type": "display_data"
    }
   ],
   "source": [
    "reorder_rate_per_user['reorder_rate'].plot(\n",
    "    kind='hist',\n",
    "    bins=30,\n",
    "    figsize=(10, 6),\n",
    "    color='skyblue',\n",
    "    edgecolor='black',\n",
    "    title='Distribución de tasas de repetición por cliente',\n",
    "    xlabel='Tasa de repetición',\n",
    "    ylabel='Frecuencia'\n",
    ")\n",
    "\n",
    "plt.show()"
   ]
  },
  {
   "cell_type": "markdown",
   "id": "BgJSvXDsleXz",
   "metadata": {
    "id": "BgJSvXDsleXz"
   },
   "source": [
    "Escribe aquí tus conclusiones"
   ]
  },
  {
   "cell_type": "code",
   "execution_count": 82,
   "id": "84367781",
   "metadata": {},
   "outputs": [
    {
     "data": {
      "text/plain": [
       "'\\nVemos la diferencia con los productos aplicados a los clientes. De igual manera, los valores de NaN son por aquellos clientes \\nque no han realizado alguna reorden.\\n'"
      ]
     },
     "execution_count": 82,
     "metadata": {},
     "output_type": "execute_result"
    }
   ],
   "source": [
    "'''\n",
    "Vemos la diferencia con los productos aplicados a los clientes. De igual manera, los valores de NaN son por aquellos clientes \n",
    "que no han realizado alguna reorden.\n",
    "'''"
   ]
  },
  {
   "cell_type": "markdown",
   "id": "92d35137",
   "metadata": {
    "id": "92d35137"
   },
   "source": [
    "### [C5] ¿Cuáles son los 20 principales artículos que las personas ponen primero en sus carritos?"
   ]
  },
  {
   "cell_type": "code",
   "execution_count": 83,
   "id": "0ae57274",
   "metadata": {
    "id": "0ae57274",
    "scrolled": true
   },
   "outputs": [
    {
     "name": "stdout",
     "output_type": "stream",
     "text": [
      "       product_id                 product_name  count\n",
      "13414       24852                       Banana  15562\n",
      "7127        13176       Bag of Organic Bananas  11026\n",
      "15028       27845           Organic Whole Milk   4363\n",
      "11384       21137         Organic Strawberries   3946\n",
      "25439       47209         Organic Hass Avocado   3390\n",
      "11786       21903         Organic Baby Spinach   3336\n",
      "25732       47766              Organic Avocado   3044\n",
      "10622       19660                 Spring Water   2336\n",
      "9050        16797                 Strawberries   2308\n",
      "15102       27966          Organic Raspberries   2024\n",
      "24024       44632   Sparkling Water Grapefruit   1914\n",
      "26519       49235          Organic Half & Half   1797\n",
      "25658       47626                  Large Lemon   1737\n",
      "115           196                         Soda   1733\n",
      "20853       38689     Organic Reduced Fat Milk   1397\n",
      "14158       26209                        Limes   1370\n",
      "6660        12341                Hass Avocados   1340\n",
      "3153         5785  Organic Reduced Fat 2% Milk   1310\n",
      "14639       27086                  Half & Half   1309\n",
      "23335       43352                  Raspberries   1246\n"
     ]
    }
   ],
   "source": [
    "first_items = order_products_df[order_products_df['add_to_cart_order'] == 1]\n",
    "\n",
    "#Para saber cuántas veces se repite cada producto como primer artículo\n",
    "first_item_counts = first_items.groupby('product_id').size().reset_index(name='count')\n",
    "\n",
    "#También hacemos el merge para obtener el nombre del artículo\n",
    "first_item_counts = pd.merge(first_item_counts, products_df[['product_id', 'product_name']], on='product_id', how='left')\n",
    "\n",
    "#Obtenemos los 20 valores más frecuentes.\n",
    "top_20_first_items = first_item_counts.sort_values(by='count', ascending=False).head(20)\n",
    "\n",
    "print(top_20_first_items[['product_id', 'product_name', 'count']])"
   ]
  },
  {
   "cell_type": "code",
   "execution_count": 84,
   "id": "forty-netherlands",
   "metadata": {
    "id": "forty-netherlands",
    "scrolled": true
   },
   "outputs": [
    {
     "data": {
      "image/png": "[encoded data removed]",
      "text/plain": [
       "<Figure size 1500x1000 with 1 Axes>"
      ]
     },
     "metadata": {},
     "output_type": "display_data"
    }
   ],
   "source": [
    "top_20_first_items.plot(\n",
    "    kind='bar',\n",
    "    x='product_name',\n",
    "    y='count',\n",
    "    figsize=(15, 10),\n",
    "    color='green',\n",
    "    legend=False,\n",
    "    title='Top 20 productos que la gente pone primero en su carrito',\n",
    "    xlabel='Producto',\n",
    "    ylabel='Número de veces que fue el primer artículo'\n",
    ")\n",
    "\n",
    "plt.show()"
   ]
  },
  {
   "cell_type": "markdown",
   "id": "28ce9872",
   "metadata": {
    "id": "28ce9872"
   },
   "source": [
    "Escribe aquí tus conclusiones"
   ]
  },
  {
   "cell_type": "code",
   "execution_count": 85,
   "id": "08e41ec2",
   "metadata": {
    "id": "08e41ec2"
   },
   "outputs": [
    {
     "data": {
      "text/plain": [
       "'\\nParece que las bananas y la bolsa de bananas son los productos estrella. Los más pedidos, los más re-pedidos y los primeros\\nen ser agregados al carrito. \\n'"
      ]
     },
     "execution_count": 85,
     "metadata": {},
     "output_type": "execute_result"
    }
   ],
   "source": [
    "'''\n",
    "Parece que las bananas y la bolsa de bananas son los productos estrella. Los más pedidos, los más re-pedidos y los primeros\n",
    "en ser agregados al carrito. \n",
    "'''"
   ]
  },
  {
   "cell_type": "markdown",
   "id": "uITbFCEoDosC",
   "metadata": {
    "id": "uITbFCEoDosC"
   },
   "source": [
    "### Conclusion general del proyecto:"
   ]
  },
  {
   "cell_type": "markdown",
   "id": "42c5c5ff",
   "metadata": {
    "id": "Nk-4GS7mDwqY"
   },
   "source": [
    "# Conclusiones\n",
    "\n",
    "## Calidad de los datos:\n",
    "\n",
    "Se encontraron valores nulos en varios datasets, específicamente en columnas clave como **days_since_prior_order** y **product_name**.\n",
    "La presencia de valores nulos en productos del \"aisle 100\" y \"department 21\" (Missing) indica que hay datos incompletos o faltantes, posiblemente relacionados con productos no registrados correctamente.\n",
    "Se identificaron duplicados que fueron eliminados, específicamente en pedidos realizados el Miércoles a las 2:00 PM, lo que plantea la posibilidad de errores en el registro o un patrón recurrente en ese día y hora.\n",
    "Distribuciones de datos:\n",
    "\n",
    "La columna **days_since_prior_order** muestra que el tiempo entre pedidos varía entre 0 días (el cliente realiza un pedido el mismo día) y un máximo de 30 días. Esto indica que Instacart tiene una base diversa de clientes, algunos realizan compras muy frecuentes y otros más espaciadas.\n",
    "La mayoría de los clientes hacen entre 4 y 5 pedidos en total, lo que podría sugerir un comportamiento promedio de uso de la plataforma.\n",
    "\n",
    "## Patrones de compras:\n",
    "\n",
    "Los pedidos son más comunes entre las 9:00 a.m. y las 5:00 p.m., lo cual tiene sentido considerando que son horarios laborales o de actividad para la mayoría de las personas.\n",
    "Comparando días específicos, el Sábado muestra una mayor actividad de pedidos que el Miércoles, probablemente porque es un día más conveniente para realizar compras.\n",
    "\n",
    "## Productos más populares:\n",
    "\n",
    "Banana y Bag of Organic Bananas son los productos estrella:\n",
    "Son los más pedidos (con 66,050 y 49,600 pedidos respectivamente).\n",
    "También son los productos más reordenados, indicando que forman parte del hábito de compra recurrente de los clientes.\n",
    "Además, son los productos más frecuentes en el carrito como primera opción.\n",
    "Estos hallazgos sugieren que las bananas, tanto orgánicas como no orgánicas, son una categoría esencial en el mercado de Instacart.\n",
    "\n",
    "## Tasa de repetición de pedidos:\n",
    "\n",
    "A nivel de producto, la tasa de repetición promedio fue 0.5, lo que indica que aproximadamente la mitad de los productos pedidos ya habían sido pedidos anteriormente.\n",
    "\n",
    "**Básicamente, el análisis destaca la importancia de tener datos limpios y organizados para extraer información valiosa y tomar \n",
    "decisiones estratégicas. **\n"
   ]
  },
  {
   "cell_type": "markdown",
   "id": "7fd8a71b",
   "metadata": {},
   "source": [
    "<div class=\"alert alert-block alert-danger\">\n",
    "<b>Comentario final (1ra Revision)</b> <a class=“tocSkip”></a>\n",
    "    \n",
    "\n",
    "Hiciste un buen trabajo Alan! Haría falta algunas correcciones donde te he dejado mis comentarios y también tus conclusiones finales del proyecto ya que se debe redactar la interpretación de los resultados que estás mostrando, se nota tu conocimiento de las herramientas de manejo de datos cómo lo es pandas y la interpretación de los resultados. Las conclusiones generales deben ser redactadas en base a los cálculos y las gráficas obtenidas y además, deberías redactar tus comentarios en celdas tipo Markdown para mejorar la presentación de tus proyectos.\n",
    "    \n",
    "\n",
    "Te he ido dejando mis comentarios y recomendaciones sobre algunos puntos que espero te sirvan para tu siguiente iteracion y tus próximos proyectos.\n",
    "    \n",
    "Un saludo!\n",
    "</div>"
   ]
  }
 ],
 "metadata": {
  "ExecuteTimeLog": [
   {
    "duration": 2151,
    "start_time": "2024-11-20T01:42:40.331Z"
   },
   {
    "duration": 978,
    "start_time": "2024-11-20T01:42:42.496Z"
   },
   {
    "duration": 12,
    "start_time": "2024-11-20T01:42:45.051Z"
   },
   {
    "duration": 11,
    "start_time": "2024-11-20T01:43:25.349Z"
   },
   {
    "duration": 9,
    "start_time": "2024-11-20T01:43:48.266Z"
   },
   {
    "duration": 8,
    "start_time": "2024-11-20T01:44:02.051Z"
   },
   {
    "duration": 24,
    "start_time": "2024-11-20T01:44:32.875Z"
   },
   {
    "duration": 103,
    "start_time": "2024-11-20T01:58:07.130Z"
   },
   {
    "duration": 93,
    "start_time": "2024-11-20T01:58:20.837Z"
   },
   {
    "duration": 91,
    "start_time": "2024-11-20T01:58:25.843Z"
   },
   {
    "duration": 13,
    "start_time": "2024-11-20T02:00:26.597Z"
   },
   {
    "duration": 21,
    "start_time": "2024-11-20T02:00:39.323Z"
   },
   {
    "duration": 17,
    "start_time": "2024-11-20T02:00:47.240Z"
   },
   {
    "duration": 18,
    "start_time": "2024-11-20T02:04:47.052Z"
   },
   {
    "duration": 8,
    "start_time": "2024-11-20T02:05:13.216Z"
   },
   {
    "duration": 18,
    "start_time": "2024-11-20T02:05:37.290Z"
   },
   {
    "duration": 13,
    "start_time": "2024-11-20T02:05:48.887Z"
   },
   {
    "duration": 2,
    "start_time": "2024-11-20T02:06:26.500Z"
   },
   {
    "duration": 221,
    "start_time": "2024-11-20T02:07:43.688Z"
   },
   {
    "duration": 12,
    "start_time": "2024-11-20T02:08:08.300Z"
   },
   {
    "duration": 102,
    "start_time": "2024-11-20T02:08:27.817Z"
   },
   {
    "duration": 831,
    "start_time": "2024-11-20T02:11:42.409Z"
   },
   {
    "duration": 4,
    "start_time": "2024-11-20T02:11:50.016Z"
   },
   {
    "duration": 73,
    "start_time": "2024-11-20T02:12:10.842Z"
   },
   {
    "duration": 110,
    "start_time": "2024-11-20T02:12:20.235Z"
   },
   {
    "duration": 71,
    "start_time": "2024-11-20T02:12:39.947Z"
   },
   {
    "duration": 14,
    "start_time": "2024-11-20T02:13:44.453Z"
   },
   {
    "duration": 15,
    "start_time": "2024-11-20T02:13:49.239Z"
   },
   {
    "duration": 13,
    "start_time": "2024-11-20T02:14:18.446Z"
   },
   {
    "duration": 12,
    "start_time": "2024-11-20T02:14:35.990Z"
   },
   {
    "duration": 7,
    "start_time": "2024-11-20T02:15:48.463Z"
   },
   {
    "duration": 7,
    "start_time": "2024-11-20T02:18:23.361Z"
   },
   {
    "duration": 17,
    "start_time": "2024-11-20T02:20:08.666Z"
   },
   {
    "duration": 7,
    "start_time": "2024-11-20T02:20:33.596Z"
   },
   {
    "duration": 5,
    "start_time": "2024-11-20T02:21:02.137Z"
   },
   {
    "duration": 6,
    "start_time": "2024-11-20T02:21:51.399Z"
   },
   {
    "duration": 7,
    "start_time": "2024-11-20T02:22:52.366Z"
   },
   {
    "duration": 10,
    "start_time": "2024-11-20T02:24:31.436Z"
   },
   {
    "duration": 8,
    "start_time": "2024-11-20T02:26:40.116Z"
   },
   {
    "duration": 10,
    "start_time": "2024-11-20T02:27:31.164Z"
   },
   {
    "duration": 7,
    "start_time": "2024-11-20T02:28:17.469Z"
   },
   {
    "duration": 94,
    "start_time": "2024-11-20T02:30:16.444Z"
   },
   {
    "duration": 179,
    "start_time": "2024-11-20T02:30:29.120Z"
   },
   {
    "duration": 189,
    "start_time": "2024-11-20T02:30:40.573Z"
   },
   {
    "duration": 265,
    "start_time": "2024-11-20T02:31:35.382Z"
   },
   {
    "duration": 280,
    "start_time": "2024-11-20T02:33:13.148Z"
   },
   {
    "duration": 277,
    "start_time": "2024-11-20T02:36:05.348Z"
   },
   {
    "duration": 285,
    "start_time": "2024-11-20T02:36:16.391Z"
   },
   {
    "duration": 355,
    "start_time": "2024-11-20T02:39:48.079Z"
   },
   {
    "duration": 107,
    "start_time": "2024-11-20T02:42:02.426Z"
   },
   {
    "duration": 178,
    "start_time": "2024-11-20T02:42:14.723Z"
   },
   {
    "duration": 105,
    "start_time": "2024-11-20T02:42:43.904Z"
   },
   {
    "duration": 206,
    "start_time": "2024-11-20T02:42:47.195Z"
   },
   {
    "duration": 34,
    "start_time": "2024-11-20T02:45:40.761Z"
   },
   {
    "duration": 26,
    "start_time": "2024-11-20T02:45:48.814Z"
   },
   {
    "duration": 26,
    "start_time": "2024-11-20T02:49:59.668Z"
   },
   {
    "duration": 5,
    "start_time": "2024-11-20T02:51:25.957Z"
   },
   {
    "duration": 10,
    "start_time": "2024-11-20T02:54:46.384Z"
   },
   {
    "duration": 18,
    "start_time": "2024-11-20T02:55:10.197Z"
   },
   {
    "duration": 12,
    "start_time": "2024-11-20T02:56:45.676Z"
   },
   {
    "duration": 20,
    "start_time": "2024-11-20T02:57:53.680Z"
   },
   {
    "duration": 33,
    "start_time": "2024-11-20T02:58:13.430Z"
   },
   {
    "duration": 43,
    "start_time": "2024-11-20T02:59:16.849Z"
   },
   {
    "duration": 36,
    "start_time": "2024-11-20T02:59:57.839Z"
   },
   {
    "duration": 191,
    "start_time": "2024-11-20T03:02:52.048Z"
   },
   {
    "duration": 11,
    "start_time": "2024-11-20T03:03:01.728Z"
   },
   {
    "duration": 13,
    "start_time": "2024-11-20T03:04:27.646Z"
   },
   {
    "duration": 38,
    "start_time": "2024-11-20T03:05:18.322Z"
   },
   {
    "duration": 12,
    "start_time": "2024-11-20T03:06:21.881Z"
   },
   {
    "duration": 20,
    "start_time": "2024-11-20T03:07:01.964Z"
   },
   {
    "duration": 8,
    "start_time": "2024-11-20T03:07:56.119Z"
   },
   {
    "duration": 8,
    "start_time": "2024-11-20T03:08:19.776Z"
   },
   {
    "duration": 9,
    "start_time": "2024-11-20T03:08:56.864Z"
   },
   {
    "duration": 13,
    "start_time": "2024-11-20T03:09:50.106Z"
   },
   {
    "duration": 37,
    "start_time": "2024-11-20T03:10:40.226Z"
   },
   {
    "duration": 11,
    "start_time": "2024-11-20T03:13:42.428Z"
   },
   {
    "duration": 14,
    "start_time": "2024-11-20T03:13:52.520Z"
   },
   {
    "duration": 5,
    "start_time": "2024-11-20T03:19:35.498Z"
   },
   {
    "duration": 11,
    "start_time": "2024-11-20T03:19:51.507Z"
   },
   {
    "duration": 5,
    "start_time": "2024-11-20T03:20:20.108Z"
   },
   {
    "duration": 10,
    "start_time": "2024-11-20T03:21:14.858Z"
   },
   {
    "duration": 3,
    "start_time": "2024-11-20T03:21:52.639Z"
   },
   {
    "duration": 5,
    "start_time": "2024-11-20T03:22:45.983Z"
   },
   {
    "duration": 13,
    "start_time": "2024-11-20T03:23:16.027Z"
   },
   {
    "duration": 1659,
    "start_time": "2024-11-20T03:23:24.955Z"
   },
   {
    "duration": 1646,
    "start_time": "2024-11-20T03:23:49.231Z"
   },
   {
    "duration": 481,
    "start_time": "2024-11-20T03:25:20.723Z"
   },
   {
    "duration": 911,
    "start_time": "2024-11-20T03:25:22.783Z"
   },
   {
    "duration": 12,
    "start_time": "2024-11-20T03:25:25.083Z"
   },
   {
    "duration": 11,
    "start_time": "2024-11-20T03:25:27.327Z"
   },
   {
    "duration": 8,
    "start_time": "2024-11-20T03:25:29.595Z"
   },
   {
    "duration": 9,
    "start_time": "2024-11-20T03:25:31.410Z"
   },
   {
    "duration": 25,
    "start_time": "2024-11-20T03:25:32.382Z"
   },
   {
    "duration": 15,
    "start_time": "2024-11-20T03:25:40.739Z"
   },
   {
    "duration": 8,
    "start_time": "2024-11-20T03:25:51.545Z"
   },
   {
    "duration": 13,
    "start_time": "2024-11-20T03:25:56.545Z"
   },
   {
    "duration": 303,
    "start_time": "2024-11-20T03:26:20.459Z"
   },
   {
    "duration": 9,
    "start_time": "2024-11-20T03:26:26.475Z"
   },
   {
    "duration": 97,
    "start_time": "2024-11-20T03:26:31.940Z"
   },
   {
    "duration": 162,
    "start_time": "2024-11-20T03:26:33.547Z"
   },
   {
    "duration": 27,
    "start_time": "2024-11-20T03:26:35.763Z"
   },
   {
    "duration": 29,
    "start_time": "2024-11-20T03:26:39.943Z"
   },
   {
    "duration": 4,
    "start_time": "2024-11-20T03:26:45.396Z"
   },
   {
    "duration": 39,
    "start_time": "2024-11-20T03:26:49.224Z"
   },
   {
    "duration": 12,
    "start_time": "2024-11-20T03:27:02.399Z"
   },
   {
    "duration": 24,
    "start_time": "2024-11-20T03:28:08.543Z"
   },
   {
    "duration": 581,
    "start_time": "2024-11-20T03:28:43.071Z"
   },
   {
    "duration": 46,
    "start_time": "2024-11-20T03:28:56.892Z"
   },
   {
    "duration": 123,
    "start_time": "2024-11-20T03:35:08.845Z"
   },
   {
    "duration": 11,
    "start_time": "2024-11-20T03:35:47.936Z"
   },
   {
    "duration": 11,
    "start_time": "2024-11-20T03:36:09.364Z"
   },
   {
    "duration": 5,
    "start_time": "2024-11-20T03:36:11.628Z"
   },
   {
    "duration": 10,
    "start_time": "2024-11-20T03:36:14.998Z"
   },
   {
    "duration": 5,
    "start_time": "2024-11-20T03:36:17.134Z"
   },
   {
    "duration": 6,
    "start_time": "2024-11-20T03:36:49.769Z"
   },
   {
    "duration": 1579,
    "start_time": "2024-11-20T03:38:04.672Z"
   },
   {
    "duration": 194,
    "start_time": "2024-11-20T03:38:41.737Z"
   },
   {
    "duration": 1246,
    "start_time": "2024-11-20T03:39:26.972Z"
   },
   {
    "duration": 113,
    "start_time": "2024-11-20T03:41:55.792Z"
   },
   {
    "duration": 97,
    "start_time": "2024-11-20T03:42:13.578Z"
   },
   {
    "duration": 26,
    "start_time": "2024-11-20T03:42:53.863Z"
   },
   {
    "duration": 16,
    "start_time": "2024-11-20T03:43:00.690Z"
   },
   {
    "duration": 22,
    "start_time": "2024-11-20T03:43:45.789Z"
   },
   {
    "duration": 22,
    "start_time": "2024-11-20T03:44:17.156Z"
   },
   {
    "duration": 1244,
    "start_time": "2024-11-20T03:44:32.850Z"
   },
   {
    "duration": 157,
    "start_time": "2024-11-22T02:13:38.949Z"
   },
   {
    "duration": 12,
    "start_time": "2024-11-22T02:13:56.455Z"
   },
   {
    "duration": 2209,
    "start_time": "2024-11-22T02:14:22.143Z"
   },
   {
    "duration": 1043,
    "start_time": "2024-11-22T02:14:24.354Z"
   },
   {
    "duration": 11,
    "start_time": "2024-11-22T02:14:26.139Z"
   },
   {
    "duration": 10,
    "start_time": "2024-11-22T02:14:28.068Z"
   },
   {
    "duration": 9,
    "start_time": "2024-11-22T02:14:30.160Z"
   },
   {
    "duration": 8,
    "start_time": "2024-11-22T02:14:31.556Z"
   },
   {
    "duration": 24,
    "start_time": "2024-11-22T02:14:33.143Z"
   },
   {
    "duration": 127,
    "start_time": "2024-11-22T02:14:37.988Z"
   },
   {
    "duration": 26,
    "start_time": "2024-11-22T02:14:50.884Z"
   },
   {
    "duration": 29,
    "start_time": "2024-11-22T02:14:56.183Z"
   },
   {
    "duration": 285,
    "start_time": "2024-11-22T02:15:00.956Z"
   },
   {
    "duration": 13,
    "start_time": "2024-11-22T02:15:10.372Z"
   },
   {
    "duration": 78,
    "start_time": "2024-11-22T02:15:13.919Z"
   },
   {
    "duration": 153,
    "start_time": "2024-11-22T02:15:15.813Z"
   },
   {
    "duration": 24,
    "start_time": "2024-11-22T02:15:19.994Z"
   },
   {
    "duration": 25,
    "start_time": "2024-11-22T02:15:26.646Z"
   },
   {
    "duration": 5,
    "start_time": "2024-11-22T02:15:31.633Z"
   },
   {
    "duration": 36,
    "start_time": "2024-11-22T02:15:34.325Z"
   },
   {
    "duration": 11,
    "start_time": "2024-11-22T02:15:43.000Z"
   },
   {
    "duration": 10,
    "start_time": "2024-11-22T02:15:48.876Z"
   },
   {
    "duration": 3,
    "start_time": "2024-11-22T02:15:52.181Z"
   },
   {
    "duration": 10,
    "start_time": "2024-11-22T02:16:12.277Z"
   },
   {
    "duration": 5,
    "start_time": "2024-11-22T02:16:16.575Z"
   },
   {
    "duration": 1459,
    "start_time": "2024-11-22T02:16:20.137Z"
   },
   {
    "duration": 15,
    "start_time": "2024-11-22T02:17:46.562Z"
   },
   {
    "duration": 49,
    "start_time": "2024-11-22T02:22:24.700Z"
   },
   {
    "duration": 7,
    "start_time": "2024-11-22T02:23:06.120Z"
   },
   {
    "duration": 8,
    "start_time": "2024-11-22T02:23:49.042Z"
   },
   {
    "duration": 402,
    "start_time": "2024-11-22T02:25:09.680Z"
   },
   {
    "duration": 30,
    "start_time": "2024-11-22T02:26:33.959Z"
   },
   {
    "duration": 27,
    "start_time": "2024-11-22T02:26:56.373Z"
   },
   {
    "duration": 5,
    "start_time": "2024-11-22T02:27:05.590Z"
   },
   {
    "duration": 15,
    "start_time": "2024-11-22T02:27:31.903Z"
   },
   {
    "duration": 17,
    "start_time": "2024-11-22T02:27:50.757Z"
   },
   {
    "duration": 6,
    "start_time": "2024-11-22T02:27:54.249Z"
   },
   {
    "duration": 7,
    "start_time": "2024-11-22T02:28:15.413Z"
   },
   {
    "duration": 9,
    "start_time": "2024-11-22T02:31:06.646Z"
   },
   {
    "duration": 12,
    "start_time": "2024-11-22T02:32:25.908Z"
   },
   {
    "duration": 13,
    "start_time": "2024-11-22T02:33:03.452Z"
   },
   {
    "duration": 12,
    "start_time": "2024-11-22T02:35:57.614Z"
   },
   {
    "duration": 7,
    "start_time": "2024-11-22T02:36:19.513Z"
   },
   {
    "duration": 14,
    "start_time": "2024-11-22T02:37:10.847Z"
   },
   {
    "duration": 13,
    "start_time": "2024-11-22T02:37:23.523Z"
   },
   {
    "duration": 14,
    "start_time": "2024-11-22T02:37:28.430Z"
   },
   {
    "duration": 13,
    "start_time": "2024-11-22T02:37:42.491Z"
   },
   {
    "duration": 159,
    "start_time": "2024-11-22T02:37:54.400Z"
   },
   {
    "duration": 189,
    "start_time": "2024-11-22T02:39:45.487Z"
   },
   {
    "duration": 797,
    "start_time": "2024-11-22T02:40:06.814Z"
   },
   {
    "duration": 382,
    "start_time": "2024-11-22T02:40:15.887Z"
   },
   {
    "duration": 7,
    "start_time": "2024-11-22T02:43:03.664Z"
   },
   {
    "duration": 8,
    "start_time": "2024-11-22T02:43:27.712Z"
   },
   {
    "duration": 7,
    "start_time": "2024-11-22T02:44:44.071Z"
   },
   {
    "duration": 8,
    "start_time": "2024-11-22T02:49:52.698Z"
   },
   {
    "duration": 4,
    "start_time": "2024-11-22T02:50:27.230Z"
   },
   {
    "duration": 5,
    "start_time": "2024-11-22T02:51:55.214Z"
   },
   {
    "duration": 4,
    "start_time": "2024-11-22T02:52:14.351Z"
   },
   {
    "duration": 4,
    "start_time": "2024-11-22T02:52:38.039Z"
   },
   {
    "duration": 17,
    "start_time": "2024-11-22T02:54:32.320Z"
   },
   {
    "duration": 6,
    "start_time": "2024-11-22T02:54:38.272Z"
   },
   {
    "duration": 5,
    "start_time": "2024-11-22T02:57:26.498Z"
   },
   {
    "duration": 5,
    "start_time": "2024-11-22T02:57:50.998Z"
   },
   {
    "duration": 6,
    "start_time": "2024-11-22T02:58:21.688Z"
   },
   {
    "duration": 5,
    "start_time": "2024-11-22T02:58:39.623Z"
   },
   {
    "duration": 5,
    "start_time": "2024-11-22T02:58:47.726Z"
   },
   {
    "duration": 6,
    "start_time": "2024-11-22T02:59:23.843Z"
   },
   {
    "duration": 6,
    "start_time": "2024-11-22T03:00:50.746Z"
   },
   {
    "duration": 8,
    "start_time": "2024-11-22T03:02:02.018Z"
   },
   {
    "duration": 8,
    "start_time": "2024-11-22T03:02:49.644Z"
   },
   {
    "duration": 47,
    "start_time": "2024-11-22T03:05:32.460Z"
   },
   {
    "duration": 23,
    "start_time": "2024-11-22T03:05:37.829Z"
   },
   {
    "duration": 4,
    "start_time": "2024-11-22T03:08:34.837Z"
   },
   {
    "duration": 6,
    "start_time": "2024-11-22T03:08:43.152Z"
   },
   {
    "duration": 44,
    "start_time": "2024-11-22T03:10:11.715Z"
   },
   {
    "duration": 41,
    "start_time": "2024-11-22T03:10:38.842Z"
   },
   {
    "duration": 41,
    "start_time": "2024-11-22T03:11:14.618Z"
   },
   {
    "duration": 42,
    "start_time": "2024-11-22T03:11:34.327Z"
   },
   {
    "duration": 45,
    "start_time": "2024-11-22T03:11:59.079Z"
   },
   {
    "duration": 35,
    "start_time": "2024-11-22T03:12:19.960Z"
   },
   {
    "duration": 41,
    "start_time": "2024-11-22T03:12:59.528Z"
   },
   {
    "duration": 35,
    "start_time": "2024-11-22T03:13:01.209Z"
   },
   {
    "duration": 8,
    "start_time": "2024-11-22T03:15:52.329Z"
   },
   {
    "duration": 7,
    "start_time": "2024-11-22T03:19:22.623Z"
   },
   {
    "duration": 8,
    "start_time": "2024-11-22T03:20:46.986Z"
   },
   {
    "duration": 15,
    "start_time": "2024-11-22T03:22:40.128Z"
   },
   {
    "duration": 13,
    "start_time": "2024-11-22T03:25:25.492Z"
   },
   {
    "duration": 12,
    "start_time": "2024-11-22T03:25:42.816Z"
   },
   {
    "duration": 3,
    "start_time": "2024-11-22T03:25:56.896Z"
   },
   {
    "duration": 8,
    "start_time": "2024-11-22T03:27:17.568Z"
   },
   {
    "duration": 7,
    "start_time": "2024-11-22T03:28:04.557Z"
   },
   {
    "duration": 12,
    "start_time": "2024-11-22T03:28:21.514Z"
   },
   {
    "duration": 11,
    "start_time": "2024-11-22T03:28:25.821Z"
   },
   {
    "duration": 42,
    "start_time": "2024-11-22T03:28:31.557Z"
   },
   {
    "duration": 24,
    "start_time": "2024-11-22T03:28:43.045Z"
   },
   {
    "duration": 8,
    "start_time": "2024-11-22T03:28:59.642Z"
   },
   {
    "duration": 9,
    "start_time": "2024-11-22T03:29:07.714Z"
   },
   {
    "duration": 7,
    "start_time": "2024-11-22T03:29:23.995Z"
   },
   {
    "duration": 8,
    "start_time": "2024-11-22T03:30:21.990Z"
   },
   {
    "duration": 8,
    "start_time": "2024-11-22T03:31:01.009Z"
   },
   {
    "duration": 9,
    "start_time": "2024-11-22T03:31:17.781Z"
   },
   {
    "duration": 7,
    "start_time": "2024-11-22T03:31:26.477Z"
   },
   {
    "duration": 7,
    "start_time": "2024-11-22T03:31:51.782Z"
   },
   {
    "duration": 8,
    "start_time": "2024-11-22T03:32:00.058Z"
   },
   {
    "duration": 8,
    "start_time": "2024-11-22T03:32:06.930Z"
   },
   {
    "duration": 6,
    "start_time": "2024-11-22T03:32:42.413Z"
   },
   {
    "duration": 5,
    "start_time": "2024-11-22T03:32:46.565Z"
   },
   {
    "duration": 39,
    "start_time": "2024-11-22T03:33:35.342Z"
   },
   {
    "duration": 42,
    "start_time": "2024-11-22T03:33:44.303Z"
   },
   {
    "duration": 38,
    "start_time": "2024-11-22T03:34:34.949Z"
   },
   {
    "duration": 78,
    "start_time": "2024-11-22T03:35:03.679Z"
   },
   {
    "duration": 6,
    "start_time": "2024-11-22T03:40:50.430Z"
   },
   {
    "duration": 2331,
    "start_time": "2024-11-22T03:41:09.723Z"
   },
   {
    "duration": 1365,
    "start_time": "2024-11-22T03:42:06.434Z"
   },
   {
    "duration": 1384,
    "start_time": "2024-11-22T03:42:52.202Z"
   },
   {
    "duration": 1367,
    "start_time": "2024-11-22T03:42:57.567Z"
   },
   {
    "duration": 4,
    "start_time": "2024-11-22T03:43:49.687Z"
   },
   {
    "duration": 160,
    "start_time": "2024-11-22T03:45:58.867Z"
   },
   {
    "duration": 452,
    "start_time": "2024-11-22T03:46:09.698Z"
   },
   {
    "duration": 1025,
    "start_time": "2024-11-22T03:46:11.048Z"
   },
   {
    "duration": 10,
    "start_time": "2024-11-22T03:46:12.679Z"
   },
   {
    "duration": 10,
    "start_time": "2024-11-22T03:46:15.285Z"
   },
   {
    "duration": 9,
    "start_time": "2024-11-22T03:46:16.910Z"
   },
   {
    "duration": 9,
    "start_time": "2024-11-22T03:46:17.935Z"
   },
   {
    "duration": 23,
    "start_time": "2024-11-22T03:46:19.351Z"
   },
   {
    "duration": 126,
    "start_time": "2024-11-22T03:46:27.062Z"
   },
   {
    "duration": 27,
    "start_time": "2024-11-22T03:46:32.469Z"
   },
   {
    "duration": 30,
    "start_time": "2024-11-22T03:46:35.834Z"
   },
   {
    "duration": 301,
    "start_time": "2024-11-22T03:46:38.853Z"
   },
   {
    "duration": 12,
    "start_time": "2024-11-22T03:46:43.102Z"
   },
   {
    "duration": 86,
    "start_time": "2024-11-22T03:46:45.557Z"
   },
   {
    "duration": 140,
    "start_time": "2024-11-22T03:46:46.270Z"
   },
   {
    "duration": 22,
    "start_time": "2024-11-22T03:46:47.279Z"
   },
   {
    "duration": 24,
    "start_time": "2024-11-22T03:46:50.254Z"
   },
   {
    "duration": 4,
    "start_time": "2024-11-22T03:46:52.126Z"
   },
   {
    "duration": 40,
    "start_time": "2024-11-22T03:46:53.545Z"
   },
   {
    "duration": 10,
    "start_time": "2024-11-22T03:46:56.100Z"
   },
   {
    "duration": 10,
    "start_time": "2024-11-22T03:46:58.873Z"
   },
   {
    "duration": 4,
    "start_time": "2024-11-22T03:47:02.753Z"
   },
   {
    "duration": 13,
    "start_time": "2024-11-22T03:47:06.097Z"
   },
   {
    "duration": 5,
    "start_time": "2024-11-22T03:47:07.799Z"
   },
   {
    "duration": 1596,
    "start_time": "2024-11-22T03:47:09.471Z"
   },
   {
    "duration": 17,
    "start_time": "2024-11-22T03:47:12.233Z"
   },
   {
    "duration": 5,
    "start_time": "2024-11-22T03:47:14.667Z"
   },
   {
    "duration": 8,
    "start_time": "2024-11-22T03:47:19.223Z"
   },
   {
    "duration": 6,
    "start_time": "2024-11-22T03:47:24.510Z"
   },
   {
    "duration": 7,
    "start_time": "2024-11-22T03:47:27.077Z"
   },
   {
    "duration": 9,
    "start_time": "2024-11-22T03:47:32.009Z"
   },
   {
    "duration": 15,
    "start_time": "2024-11-22T03:47:36.981Z"
   },
   {
    "duration": 162,
    "start_time": "2024-11-22T03:47:39.590Z"
   },
   {
    "duration": 415,
    "start_time": "2024-11-22T03:47:42.353Z"
   },
   {
    "duration": 9,
    "start_time": "2024-11-22T03:47:44.555Z"
   },
   {
    "duration": 48,
    "start_time": "2024-11-22T03:47:46.698Z"
   },
   {
    "duration": 37,
    "start_time": "2024-11-22T03:47:52.319Z"
   },
   {
    "duration": 35,
    "start_time": "2024-11-22T03:47:53.829Z"
   },
   {
    "duration": 165,
    "start_time": "2024-11-22T03:50:34.590Z"
   },
   {
    "duration": 474,
    "start_time": "2024-11-22T03:50:52.031Z"
   },
   {
    "duration": 1030,
    "start_time": "2024-11-22T03:50:52.509Z"
   },
   {
    "duration": 11,
    "start_time": "2024-11-22T03:50:53.540Z"
   },
   {
    "duration": 9,
    "start_time": "2024-11-22T03:50:53.553Z"
   },
   {
    "duration": 7,
    "start_time": "2024-11-22T03:50:53.565Z"
   },
   {
    "duration": 33,
    "start_time": "2024-11-22T03:50:53.574Z"
   },
   {
    "duration": 26,
    "start_time": "2024-11-22T03:50:53.609Z"
   },
   {
    "duration": 5,
    "start_time": "2024-11-22T03:50:53.638Z"
   },
   {
    "duration": 4,
    "start_time": "2024-11-22T03:50:53.646Z"
   },
   {
    "duration": 152,
    "start_time": "2024-11-22T03:50:53.652Z"
   },
   {
    "duration": 29,
    "start_time": "2024-11-22T03:50:53.806Z"
   },
   {
    "duration": 31,
    "start_time": "2024-11-22T03:50:53.837Z"
   },
   {
    "duration": 310,
    "start_time": "2024-11-22T03:50:53.870Z"
   },
   {
    "duration": 4,
    "start_time": "2024-11-22T03:50:54.184Z"
   },
   {
    "duration": 20,
    "start_time": "2024-11-22T03:50:54.189Z"
   },
   {
    "duration": 94,
    "start_time": "2024-11-22T03:50:54.211Z"
   },
   {
    "duration": 151,
    "start_time": "2024-11-22T03:50:54.307Z"
   },
   {
    "duration": 21,
    "start_time": "2024-11-22T03:50:54.460Z"
   },
   {
    "duration": 3,
    "start_time": "2024-11-22T03:50:54.483Z"
   },
   {
    "duration": 24,
    "start_time": "2024-11-22T03:50:54.504Z"
   },
   {
    "duration": 4,
    "start_time": "2024-11-22T03:50:54.530Z"
   },
   {
    "duration": 38,
    "start_time": "2024-11-22T03:50:54.536Z"
   },
   {
    "duration": 30,
    "start_time": "2024-11-22T03:50:54.576Z"
   },
   {
    "duration": 4,
    "start_time": "2024-11-22T03:50:54.608Z"
   },
   {
    "duration": 9,
    "start_time": "2024-11-22T03:50:54.614Z"
   },
   {
    "duration": 4,
    "start_time": "2024-11-22T03:50:54.625Z"
   },
   {
    "duration": 5,
    "start_time": "2024-11-22T03:50:54.631Z"
   },
   {
    "duration": 10,
    "start_time": "2024-11-22T03:50:54.638Z"
   },
   {
    "duration": 5,
    "start_time": "2024-11-22T03:50:54.651Z"
   },
   {
    "duration": 47,
    "start_time": "2024-11-22T03:50:54.658Z"
   },
   {
    "duration": 1546,
    "start_time": "2024-11-22T03:50:54.707Z"
   },
   {
    "duration": 1289,
    "start_time": "2024-11-22T03:50:56.255Z"
   },
   {
    "duration": 14,
    "start_time": "2024-11-22T03:50:57.546Z"
   },
   {
    "duration": 4,
    "start_time": "2024-11-22T03:50:57.561Z"
   },
   {
    "duration": 7,
    "start_time": "2024-11-22T03:50:57.566Z"
   },
   {
    "duration": 31,
    "start_time": "2024-11-22T03:50:57.575Z"
   },
   {
    "duration": 8,
    "start_time": "2024-11-22T03:50:57.607Z"
   },
   {
    "duration": 4,
    "start_time": "2024-11-22T03:50:57.617Z"
   },
   {
    "duration": 6,
    "start_time": "2024-11-22T03:50:57.623Z"
   },
   {
    "duration": 4,
    "start_time": "2024-11-22T03:50:57.630Z"
   },
   {
    "duration": 9,
    "start_time": "2024-11-22T03:50:57.639Z"
   },
   {
    "duration": 3,
    "start_time": "2024-11-22T03:50:57.649Z"
   },
   {
    "duration": 51,
    "start_time": "2024-11-22T03:50:57.654Z"
   },
   {
    "duration": 6,
    "start_time": "2024-11-22T03:50:57.707Z"
   },
   {
    "duration": 153,
    "start_time": "2024-11-22T03:50:57.714Z"
   },
   {
    "duration": 388,
    "start_time": "2024-11-22T03:50:57.869Z"
   },
   {
    "duration": 4,
    "start_time": "2024-11-22T03:50:58.259Z"
   },
   {
    "duration": 8,
    "start_time": "2024-11-22T03:50:58.265Z"
   },
   {
    "duration": 5,
    "start_time": "2024-11-22T03:50:58.275Z"
   },
   {
    "duration": 3,
    "start_time": "2024-11-22T03:50:58.305Z"
   },
   {
    "duration": 46,
    "start_time": "2024-11-22T03:50:58.310Z"
   },
   {
    "duration": 3,
    "start_time": "2024-11-22T03:50:58.358Z"
   },
   {
    "duration": 3,
    "start_time": "2024-11-22T03:50:58.363Z"
   },
   {
    "duration": 61,
    "start_time": "2024-11-22T03:50:58.368Z"
   },
   {
    "duration": 34,
    "start_time": "2024-11-22T03:50:58.431Z"
   },
   {
    "duration": 3,
    "start_time": "2024-11-22T03:50:58.467Z"
   },
   {
    "duration": 94,
    "start_time": "2024-11-22T03:50:58.472Z"
   },
   {
    "duration": 3,
    "start_time": "2024-11-22T03:50:58.568Z"
   },
   {
    "duration": 7,
    "start_time": "2024-11-22T03:50:58.573Z"
   },
   {
    "duration": 3,
    "start_time": "2024-11-22T03:50:58.582Z"
   },
   {
    "duration": 80,
    "start_time": "2024-11-22T03:50:58.605Z"
   },
   {
    "duration": 271,
    "start_time": "2024-11-22T03:51:56.625Z"
   },
   {
    "duration": 306,
    "start_time": "2024-11-22T03:53:12.679Z"
   },
   {
    "duration": 69,
    "start_time": "2024-11-22T03:54:50.003Z"
   },
   {
    "duration": 264,
    "start_time": "2024-11-22T03:55:01.616Z"
   },
   {
    "duration": 258,
    "start_time": "2024-11-22T03:59:55.078Z"
   },
   {
    "duration": 193,
    "start_time": "2024-11-22T04:00:01.816Z"
   },
   {
    "duration": 199,
    "start_time": "2024-11-22T04:02:59.320Z"
   },
   {
    "duration": 197,
    "start_time": "2024-11-22T04:03:28.533Z"
   },
   {
    "duration": 258,
    "start_time": "2024-11-22T04:04:40.794Z"
   },
   {
    "duration": 192,
    "start_time": "2024-11-22T04:04:48.767Z"
   },
   {
    "duration": 193,
    "start_time": "2024-11-22T04:12:18.392Z"
   },
   {
    "duration": 49,
    "start_time": "2024-11-22T04:13:21.017Z"
   },
   {
    "duration": 199,
    "start_time": "2024-11-22T04:13:46.326Z"
   },
   {
    "duration": 538,
    "start_time": "2024-11-22T04:13:57.554Z"
   },
   {
    "duration": 203,
    "start_time": "2024-11-22T04:14:22.920Z"
   },
   {
    "duration": 262,
    "start_time": "2024-11-22T04:15:17.763Z"
   },
   {
    "duration": 240,
    "start_time": "2024-11-22T04:15:27.228Z"
   },
   {
    "duration": 284,
    "start_time": "2024-11-22T04:16:19.297Z"
   },
   {
    "duration": 392,
    "start_time": "2024-11-22T04:16:29.865Z"
   },
   {
    "duration": 1332,
    "start_time": "2024-11-22T04:17:45.304Z"
   },
   {
    "duration": 302,
    "start_time": "2024-11-22T04:17:54.337Z"
   },
   {
    "duration": 229,
    "start_time": "2024-11-22T04:18:06.079Z"
   },
   {
    "duration": 2409,
    "start_time": "2024-11-27T03:34:22.643Z"
   },
   {
    "duration": 1282,
    "start_time": "2024-11-27T03:34:25.054Z"
   },
   {
    "duration": 12,
    "start_time": "2024-11-27T03:34:26.338Z"
   },
   {
    "duration": 11,
    "start_time": "2024-11-27T03:34:26.353Z"
   },
   {
    "duration": 8,
    "start_time": "2024-11-27T03:34:26.366Z"
   },
   {
    "duration": 9,
    "start_time": "2024-11-27T03:34:26.376Z"
   },
   {
    "duration": 61,
    "start_time": "2024-11-27T03:34:26.387Z"
   },
   {
    "duration": 5,
    "start_time": "2024-11-27T03:34:26.450Z"
   },
   {
    "duration": 24,
    "start_time": "2024-11-27T03:34:26.457Z"
   },
   {
    "duration": 247,
    "start_time": "2024-11-27T03:34:26.484Z"
   },
   {
    "duration": 40,
    "start_time": "2024-11-27T03:34:26.733Z"
   },
   {
    "duration": 38,
    "start_time": "2024-11-27T03:34:26.776Z"
   },
   {
    "duration": 386,
    "start_time": "2024-11-27T03:34:26.816Z"
   },
   {
    "duration": 3,
    "start_time": "2024-11-27T03:34:27.204Z"
   },
   {
    "duration": 9,
    "start_time": "2024-11-27T03:34:27.209Z"
   },
   {
    "duration": 134,
    "start_time": "2024-11-27T03:34:27.220Z"
   },
   {
    "duration": 183,
    "start_time": "2024-11-27T03:34:27.355Z"
   },
   {
    "duration": 35,
    "start_time": "2024-11-27T03:34:27.543Z"
   },
   {
    "duration": 5,
    "start_time": "2024-11-27T03:34:27.580Z"
   },
   {
    "duration": 29,
    "start_time": "2024-11-27T03:34:27.587Z"
   },
   {
    "duration": 26,
    "start_time": "2024-11-27T03:34:27.618Z"
   },
   {
    "duration": 50,
    "start_time": "2024-11-27T03:34:27.647Z"
   },
   {
    "duration": 14,
    "start_time": "2024-11-27T03:34:27.702Z"
   },
   {
    "duration": 5,
    "start_time": "2024-11-27T03:34:27.718Z"
   },
   {
    "duration": 27,
    "start_time": "2024-11-27T03:34:27.725Z"
   },
   {
    "duration": 5,
    "start_time": "2024-11-27T03:34:27.754Z"
   },
   {
    "duration": 6,
    "start_time": "2024-11-27T03:34:27.761Z"
   },
   {
    "duration": 13,
    "start_time": "2024-11-27T03:34:27.774Z"
   },
   {
    "duration": 15,
    "start_time": "2024-11-27T03:34:27.789Z"
   },
   {
    "duration": 5,
    "start_time": "2024-11-27T03:34:27.806Z"
   },
   {
    "duration": 1835,
    "start_time": "2024-11-27T03:34:27.843Z"
   },
   {
    "duration": 1716,
    "start_time": "2024-11-27T03:34:29.680Z"
   },
   {
    "duration": 15,
    "start_time": "2024-11-27T03:34:31.398Z"
   },
   {
    "duration": 3,
    "start_time": "2024-11-27T03:34:31.415Z"
   },
   {
    "duration": 28,
    "start_time": "2024-11-27T03:34:31.420Z"
   },
   {
    "duration": 4,
    "start_time": "2024-11-27T03:34:31.451Z"
   },
   {
    "duration": 8,
    "start_time": "2024-11-27T03:34:31.457Z"
   },
   {
    "duration": 4,
    "start_time": "2024-11-27T03:34:31.466Z"
   },
   {
    "duration": 7,
    "start_time": "2024-11-27T03:34:31.471Z"
   },
   {
    "duration": 3,
    "start_time": "2024-11-27T03:34:31.480Z"
   },
   {
    "duration": 9,
    "start_time": "2024-11-27T03:34:31.485Z"
   },
   {
    "duration": 4,
    "start_time": "2024-11-27T03:34:31.495Z"
   },
   {
    "duration": 15,
    "start_time": "2024-11-27T03:34:31.543Z"
   },
   {
    "duration": 4,
    "start_time": "2024-11-27T03:34:31.559Z"
   },
   {
    "duration": 182,
    "start_time": "2024-11-27T03:34:31.565Z"
   },
   {
    "duration": 417,
    "start_time": "2024-11-27T03:34:31.749Z"
   },
   {
    "duration": 4,
    "start_time": "2024-11-27T03:34:32.168Z"
   },
   {
    "duration": 9,
    "start_time": "2024-11-27T03:34:32.174Z"
   },
   {
    "duration": 6,
    "start_time": "2024-11-27T03:34:32.185Z"
   },
   {
    "duration": 3,
    "start_time": "2024-11-27T03:34:32.193Z"
   },
   {
    "duration": 83,
    "start_time": "2024-11-27T03:34:32.199Z"
   },
   {
    "duration": 4,
    "start_time": "2024-11-27T03:34:32.284Z"
   },
   {
    "duration": 4,
    "start_time": "2024-11-27T03:34:32.289Z"
   },
   {
    "duration": 60,
    "start_time": "2024-11-27T03:34:32.295Z"
   },
   {
    "duration": 36,
    "start_time": "2024-11-27T03:34:32.357Z"
   },
   {
    "duration": 3,
    "start_time": "2024-11-27T03:34:32.395Z"
   },
   {
    "duration": 320,
    "start_time": "2024-11-27T03:34:32.400Z"
   },
   {
    "duration": 4,
    "start_time": "2024-11-27T03:34:32.723Z"
   },
   {
    "duration": 224,
    "start_time": "2024-11-27T03:34:32.729Z"
   },
   {
    "duration": 8,
    "start_time": "2024-11-27T03:34:32.955Z"
   },
   {
    "duration": 262,
    "start_time": "2024-11-27T03:34:32.965Z"
   },
   {
    "duration": 4,
    "start_time": "2024-11-27T03:34:33.229Z"
   },
   {
    "duration": 13,
    "start_time": "2024-11-27T03:39:17.877Z"
   },
   {
    "duration": 5,
    "start_time": "2024-11-27T03:39:54.375Z"
   },
   {
    "duration": 310,
    "start_time": "2024-11-27T03:44:16.516Z"
   },
   {
    "duration": 255,
    "start_time": "2024-11-27T03:44:42.051Z"
   },
   {
    "duration": 1048,
    "start_time": "2024-11-27T03:49:47.047Z"
   },
   {
    "duration": 1077,
    "start_time": "2024-11-27T03:50:14.665Z"
   },
   {
    "duration": 1191,
    "start_time": "2024-11-27T03:50:22.022Z"
   },
   {
    "duration": 186,
    "start_time": "2024-11-27T03:54:18.034Z"
   },
   {
    "duration": 407,
    "start_time": "2024-11-27T03:54:26.722Z"
   },
   {
    "duration": 8,
    "start_time": "2024-11-27T03:54:45.080Z"
   },
   {
    "duration": 18,
    "start_time": "2024-11-27T03:55:31.661Z"
   },
   {
    "duration": 19,
    "start_time": "2024-11-27T03:55:42.579Z"
   },
   {
    "duration": 18,
    "start_time": "2024-11-27T03:57:22.334Z"
   },
   {
    "duration": 421,
    "start_time": "2024-11-27T03:58:37.040Z"
   },
   {
    "duration": 20,
    "start_time": "2024-11-27T03:58:46.792Z"
   },
   {
    "duration": 20,
    "start_time": "2024-11-27T04:01:30.318Z"
   },
   {
    "duration": 27,
    "start_time": "2024-11-27T04:01:42.634Z"
   },
   {
    "duration": 18,
    "start_time": "2024-11-27T04:02:08.836Z"
   },
   {
    "duration": 7,
    "start_time": "2024-11-27T04:04:19.958Z"
   },
   {
    "duration": 10,
    "start_time": "2024-11-27T04:04:48.825Z"
   },
   {
    "duration": 5,
    "start_time": "2024-11-27T04:05:04.050Z"
   },
   {
    "duration": 6,
    "start_time": "2024-11-27T04:05:11.569Z"
   },
   {
    "duration": 16,
    "start_time": "2024-11-27T04:05:18.065Z"
   },
   {
    "duration": 13,
    "start_time": "2024-11-27T04:05:44.324Z"
   },
   {
    "duration": 11,
    "start_time": "2024-11-27T04:05:49.759Z"
   },
   {
    "duration": 106,
    "start_time": "2024-11-27T04:07:51.224Z"
   },
   {
    "duration": 101,
    "start_time": "2024-11-27T04:08:49.623Z"
   },
   {
    "duration": 102,
    "start_time": "2024-11-27T04:09:26.390Z"
   },
   {
    "duration": 1208,
    "start_time": "2024-11-27T04:13:33.562Z"
   },
   {
    "duration": 1247,
    "start_time": "2024-11-27T04:13:45.973Z"
   },
   {
    "duration": 1388,
    "start_time": "2024-11-27T04:15:10.970Z"
   },
   {
    "duration": 1077,
    "start_time": "2024-11-27T04:15:24.018Z"
   },
   {
    "duration": 108,
    "start_time": "2024-11-27T04:17:44.159Z"
   },
   {
    "duration": 13,
    "start_time": "2024-11-27T04:19:12.543Z"
   },
   {
    "duration": 12,
    "start_time": "2024-11-27T04:19:20.977Z"
   },
   {
    "duration": 185,
    "start_time": "2024-11-27T04:23:56.057Z"
   },
   {
    "duration": 25,
    "start_time": "2024-11-27T04:24:29.819Z"
   },
   {
    "duration": 141,
    "start_time": "2024-11-27T04:25:11.111Z"
   },
   {
    "duration": 136,
    "start_time": "2024-11-27T04:25:18.874Z"
   },
   {
    "duration": 152,
    "start_time": "2024-11-27T04:29:19.223Z"
   },
   {
    "duration": 222,
    "start_time": "2024-11-27T04:30:53.857Z"
   },
   {
    "duration": 939,
    "start_time": "2024-11-27T04:34:30.903Z"
   },
   {
    "duration": 165,
    "start_time": "2024-11-27T04:35:19.338Z"
   },
   {
    "duration": 899,
    "start_time": "2024-11-27T04:36:25.908Z"
   },
   {
    "duration": 928,
    "start_time": "2024-11-27T04:36:40.277Z"
   },
   {
    "duration": 977,
    "start_time": "2024-11-27T04:37:26.360Z"
   },
   {
    "duration": 158,
    "start_time": "2024-11-27T04:37:39.032Z"
   },
   {
    "duration": 65,
    "start_time": "2024-11-27T04:41:10.476Z"
   },
   {
    "duration": 358,
    "start_time": "2024-11-27T04:41:29.973Z"
   },
   {
    "duration": 268,
    "start_time": "2024-11-27T04:41:49.877Z"
   },
   {
    "duration": 278,
    "start_time": "2024-11-27T04:42:02.459Z"
   },
   {
    "duration": 550,
    "start_time": "2024-11-27T21:30:04.401Z"
   },
   {
    "duration": 898,
    "start_time": "2024-11-27T21:30:04.954Z"
   },
   {
    "duration": 11,
    "start_time": "2024-11-27T21:30:05.854Z"
   },
   {
    "duration": 9,
    "start_time": "2024-11-27T21:30:05.867Z"
   },
   {
    "duration": 30,
    "start_time": "2024-11-27T21:30:05.879Z"
   },
   {
    "duration": 7,
    "start_time": "2024-11-27T21:30:05.911Z"
   },
   {
    "duration": 23,
    "start_time": "2024-11-27T21:30:05.920Z"
   },
   {
    "duration": 5,
    "start_time": "2024-11-27T21:30:05.945Z"
   },
   {
    "duration": 4,
    "start_time": "2024-11-27T21:30:05.952Z"
   },
   {
    "duration": 144,
    "start_time": "2024-11-27T21:30:05.957Z"
   },
   {
    "duration": 39,
    "start_time": "2024-11-27T21:30:06.103Z"
   },
   {
    "duration": 30,
    "start_time": "2024-11-27T21:30:06.145Z"
   },
   {
    "duration": 307,
    "start_time": "2024-11-27T21:30:06.177Z"
   },
   {
    "duration": 3,
    "start_time": "2024-11-27T21:30:06.489Z"
   },
   {
    "duration": 8,
    "start_time": "2024-11-27T21:30:06.509Z"
   },
   {
    "duration": 96,
    "start_time": "2024-11-27T21:30:06.518Z"
   },
   {
    "duration": 171,
    "start_time": "2024-11-27T21:30:06.615Z"
   },
   {
    "duration": 35,
    "start_time": "2024-11-27T21:30:06.787Z"
   },
   {
    "duration": 3,
    "start_time": "2024-11-27T21:30:06.824Z"
   },
   {
    "duration": 24,
    "start_time": "2024-11-27T21:30:06.829Z"
   },
   {
    "duration": 4,
    "start_time": "2024-11-27T21:30:06.854Z"
   },
   {
    "duration": 58,
    "start_time": "2024-11-27T21:30:06.860Z"
   },
   {
    "duration": 8,
    "start_time": "2024-11-27T21:30:06.919Z"
   },
   {
    "duration": 4,
    "start_time": "2024-11-27T21:30:06.929Z"
   },
   {
    "duration": 9,
    "start_time": "2024-11-27T21:30:06.934Z"
   },
   {
    "duration": 4,
    "start_time": "2024-11-27T21:30:06.945Z"
   },
   {
    "duration": 4,
    "start_time": "2024-11-27T21:30:06.951Z"
   },
   {
    "duration": 8,
    "start_time": "2024-11-27T21:30:06.957Z"
   },
   {
    "duration": 44,
    "start_time": "2024-11-27T21:30:06.968Z"
   },
   {
    "duration": 5,
    "start_time": "2024-11-27T21:30:07.014Z"
   },
   {
    "duration": 1529,
    "start_time": "2024-11-27T21:30:07.021Z"
   },
   {
    "duration": 1262,
    "start_time": "2024-11-27T21:30:08.552Z"
   },
   {
    "duration": 15,
    "start_time": "2024-11-27T21:30:09.816Z"
   },
   {
    "duration": 3,
    "start_time": "2024-11-27T21:30:09.833Z"
   },
   {
    "duration": 7,
    "start_time": "2024-11-27T21:30:09.838Z"
   },
   {
    "duration": 3,
    "start_time": "2024-11-27T21:30:09.846Z"
   },
   {
    "duration": 6,
    "start_time": "2024-11-27T21:30:09.851Z"
   },
   {
    "duration": 3,
    "start_time": "2024-11-27T21:30:09.858Z"
   },
   {
    "duration": 50,
    "start_time": "2024-11-27T21:30:09.863Z"
   },
   {
    "duration": 4,
    "start_time": "2024-11-27T21:30:09.915Z"
   },
   {
    "duration": 7,
    "start_time": "2024-11-27T21:30:09.925Z"
   },
   {
    "duration": 4,
    "start_time": "2024-11-27T21:30:09.934Z"
   },
   {
    "duration": 12,
    "start_time": "2024-11-27T21:30:09.939Z"
   },
   {
    "duration": 3,
    "start_time": "2024-11-27T21:30:09.953Z"
   },
   {
    "duration": 140,
    "start_time": "2024-11-27T21:30:09.958Z"
   },
   {
    "duration": 409,
    "start_time": "2024-11-27T21:30:10.108Z"
   },
   {
    "duration": 4,
    "start_time": "2024-11-27T21:30:10.519Z"
   },
   {
    "duration": 8,
    "start_time": "2024-11-27T21:30:10.525Z"
   },
   {
    "duration": 5,
    "start_time": "2024-11-27T21:30:10.535Z"
   },
   {
    "duration": 3,
    "start_time": "2024-11-27T21:30:10.542Z"
   },
   {
    "duration": 76,
    "start_time": "2024-11-27T21:30:10.547Z"
   },
   {
    "duration": 4,
    "start_time": "2024-11-27T21:30:10.625Z"
   },
   {
    "duration": 4,
    "start_time": "2024-11-27T21:30:10.630Z"
   },
   {
    "duration": 39,
    "start_time": "2024-11-27T21:30:10.635Z"
   },
   {
    "duration": 58,
    "start_time": "2024-11-27T21:30:10.675Z"
   },
   {
    "duration": 5,
    "start_time": "2024-11-27T21:30:10.735Z"
   },
   {
    "duration": 292,
    "start_time": "2024-11-27T21:30:10.741Z"
   },
   {
    "duration": 4,
    "start_time": "2024-11-27T21:30:11.034Z"
   },
   {
    "duration": 207,
    "start_time": "2024-11-27T21:30:11.039Z"
   },
   {
    "duration": 5,
    "start_time": "2024-11-27T21:30:11.247Z"
   },
   {
    "duration": 220,
    "start_time": "2024-11-27T21:30:11.253Z"
   },
   {
    "duration": 4,
    "start_time": "2024-11-27T21:30:11.476Z"
   },
   {
    "duration": 14,
    "start_time": "2024-11-27T21:30:11.483Z"
   },
   {
    "duration": 5,
    "start_time": "2024-11-27T21:30:11.509Z"
   },
   {
    "duration": 255,
    "start_time": "2024-11-27T21:30:11.516Z"
   },
   {
    "duration": 4,
    "start_time": "2024-11-27T21:30:11.773Z"
   },
   {
    "duration": 1083,
    "start_time": "2024-11-27T21:30:11.779Z"
   },
   {
    "duration": 3,
    "start_time": "2024-11-27T21:30:12.864Z"
   },
   {
    "duration": 104,
    "start_time": "2024-11-27T21:30:12.869Z"
   },
   {
    "duration": 4,
    "start_time": "2024-11-27T21:30:12.975Z"
   },
   {
    "duration": 1253,
    "start_time": "2024-11-27T21:30:12.980Z"
   },
   {
    "duration": 4,
    "start_time": "2024-11-27T21:30:14.234Z"
   },
   {
    "duration": 111,
    "start_time": "2024-11-27T21:30:14.240Z"
   },
   {
    "duration": 11,
    "start_time": "2024-11-27T21:30:14.353Z"
   },
   {
    "duration": 4,
    "start_time": "2024-11-27T21:30:14.366Z"
   },
   {
    "duration": 226,
    "start_time": "2024-11-27T21:30:14.372Z"
   },
   {
    "duration": 26,
    "start_time": "2024-11-27T21:30:14.600Z"
   },
   {
    "duration": 152,
    "start_time": "2024-11-27T21:30:14.627Z"
   },
   {
    "duration": 9,
    "start_time": "2024-11-27T21:30:14.784Z"
   },
   {
    "duration": 1005,
    "start_time": "2024-11-27T21:30:14.795Z"
   },
   {
    "duration": 159,
    "start_time": "2024-11-27T21:30:15.802Z"
   },
   {
    "duration": 4,
    "start_time": "2024-11-27T21:30:15.962Z"
   },
   {
    "duration": 60,
    "start_time": "2024-11-27T21:30:15.967Z"
   },
   {
    "duration": 269,
    "start_time": "2024-11-27T21:30:16.029Z"
   },
   {
    "duration": 3,
    "start_time": "2024-11-27T21:30:16.300Z"
   },
   {
    "duration": 4,
    "start_time": "2024-11-27T21:30:16.309Z"
   },
   {
    "duration": 3,
    "start_time": "2024-11-27T21:31:22.321Z"
   },
   {
    "duration": 2161,
    "start_time": "2024-12-04T01:04:43.601Z"
   },
   {
    "duration": 1008,
    "start_time": "2024-12-04T01:04:45.764Z"
   },
   {
    "duration": 10,
    "start_time": "2024-12-04T01:04:49.046Z"
   },
   {
    "duration": 10,
    "start_time": "2024-12-04T01:04:49.993Z"
   },
   {
    "duration": 8,
    "start_time": "2024-12-04T01:04:52.786Z"
   },
   {
    "duration": 8,
    "start_time": "2024-12-04T01:04:53.537Z"
   },
   {
    "duration": 22,
    "start_time": "2024-12-04T01:04:54.845Z"
   },
   {
    "duration": 104,
    "start_time": "2024-12-04T01:05:02.191Z"
   },
   {
    "duration": 26,
    "start_time": "2024-12-04T01:05:06.161Z"
   },
   {
    "duration": 30,
    "start_time": "2024-12-04T01:05:09.519Z"
   },
   {
    "duration": 282,
    "start_time": "2024-12-04T01:05:12.308Z"
   },
   {
    "duration": 13,
    "start_time": "2024-12-04T01:05:17.420Z"
   },
   {
    "duration": 11,
    "start_time": "2024-12-04T01:05:24.398Z"
   },
   {
    "duration": 64,
    "start_time": "2024-12-04T01:07:08.263Z"
   },
   {
    "duration": 11,
    "start_time": "2024-12-04T01:07:22.562Z"
   },
   {
    "duration": 6,
    "start_time": "2024-12-04T01:07:36.868Z"
   },
   {
    "duration": 18,
    "start_time": "2024-12-04T01:07:44.814Z"
   },
   {
    "duration": 1255,
    "start_time": "2024-12-04T01:08:17.207Z"
   },
   {
    "duration": 17,
    "start_time": "2024-12-04T01:09:36.515Z"
   },
   {
    "duration": 11,
    "start_time": "2024-12-04T01:09:44.546Z"
   },
   {
    "duration": 9,
    "start_time": "2024-12-04T01:09:54.945Z"
   },
   {
    "duration": 10,
    "start_time": "2024-12-04T01:10:06.944Z"
   },
   {
    "duration": 12,
    "start_time": "2024-12-04T01:10:12.341Z"
   },
   {
    "duration": 16,
    "start_time": "2024-12-04T01:10:22.721Z"
   },
   {
    "duration": 123,
    "start_time": "2024-12-04T01:10:33.196Z"
   },
   {
    "duration": 11,
    "start_time": "2024-12-04T01:10:44.020Z"
   },
   {
    "duration": 214,
    "start_time": "2024-12-04T01:14:26.326Z"
   },
   {
    "duration": 7,
    "start_time": "2024-12-04T01:14:54.013Z"
   },
   {
    "duration": 9,
    "start_time": "2024-12-04T01:15:14.427Z"
   },
   {
    "duration": 7,
    "start_time": "2024-12-04T01:17:47.319Z"
   },
   {
    "duration": 259,
    "start_time": "2024-12-04T01:22:46.433Z"
   },
   {
    "duration": 614,
    "start_time": "2024-12-04T01:23:02.800Z"
   },
   {
    "duration": 310,
    "start_time": "2024-12-04T01:23:32.687Z"
   },
   {
    "duration": 283,
    "start_time": "2024-12-04T01:23:55.179Z"
   },
   {
    "duration": 287,
    "start_time": "2024-12-04T01:24:13.488Z"
   },
   {
    "duration": 287,
    "start_time": "2024-12-04T01:24:57.959Z"
   },
   {
    "duration": 290,
    "start_time": "2024-12-04T01:25:05.015Z"
   },
   {
    "duration": 261,
    "start_time": "2024-12-04T01:30:51.054Z"
   },
   {
    "duration": 14,
    "start_time": "2024-12-04T01:33:18.816Z"
   },
   {
    "duration": 14,
    "start_time": "2024-12-04T01:33:29.094Z"
   },
   {
    "duration": 14,
    "start_time": "2024-12-04T01:33:36.254Z"
   },
   {
    "duration": 20,
    "start_time": "2024-12-04T01:33:44.517Z"
   },
   {
    "duration": 7,
    "start_time": "2024-12-04T01:33:47.263Z"
   },
   {
    "duration": 8,
    "start_time": "2024-12-04T01:33:55.816Z"
   },
   {
    "duration": 5,
    "start_time": "2024-12-04T01:34:01.340Z"
   },
   {
    "duration": 20,
    "start_time": "2024-12-04T01:35:37.232Z"
   },
   {
    "duration": 15,
    "start_time": "2024-12-04T01:35:52.519Z"
   },
   {
    "duration": 107,
    "start_time": "2024-12-04T01:36:01.562Z"
   },
   {
    "duration": 267,
    "start_time": "2024-12-04T01:36:06.088Z"
   },
   {
    "duration": 10,
    "start_time": "2024-12-04T01:36:35.980Z"
   },
   {
    "duration": 92,
    "start_time": "2024-12-04T01:36:52.035Z"
   },
   {
    "duration": 239,
    "start_time": "2024-12-04T01:43:29.096Z"
   },
   {
    "duration": 7,
    "start_time": "2024-12-04T01:43:53.755Z"
   },
   {
    "duration": 220,
    "start_time": "2024-12-04T01:44:16.391Z"
   },
   {
    "duration": 5,
    "start_time": "2024-12-04T01:44:27.337Z"
   },
   {
    "duration": 228,
    "start_time": "2024-12-04T01:44:37.029Z"
   },
   {
    "duration": 225,
    "start_time": "2024-12-04T01:45:03.260Z"
   },
   {
    "duration": 215,
    "start_time": "2024-12-04T01:45:18.548Z"
   }
  ],
  "colab": {
   "provenance": []
  },
  "kernelspec": {
   "display_name": "Python 3 (ipykernel)",
   "language": "python",
   "name": "python3"
  },
  "language_info": {
   "codemirror_mode": {
    "name": "ipython",
    "version": 3
   },
   "file_extension": ".py",
   "mimetype": "text/x-python",
   "name": "python",
   "nbconvert_exporter": "python",
   "pygments_lexer": "ipython3",
   "version": "3.9.19"
  },
  "toc": {
   "base_numbering": 1,
   "nav_menu": {},
   "number_sections": true,
   "sideBar": true,
   "skip_h1_title": true,
   "title_cell": "Table of Contents",
   "title_sidebar": "Contents",
   "toc_cell": false,
   "toc_position": {},
   "toc_section_display": true,
   "toc_window_display": false
  },
  "vscode": {
   "interpreter": {
    "hash": "01a7be9ec63e704a62cefc5fe7a4756944464ee731be31632bdf42a4cb4688cf"
   }
  }
 },
 "nbformat": 4,
 "nbformat_minor": 5
}
